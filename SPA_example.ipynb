{
 "cells": [
  {
   "cell_type": "code",
   "execution_count": 1,
   "id": "c4234565",
   "metadata": {},
   "outputs": [],
   "source": [
    "import pymrio as mr\n",
    "import pandas as pd\n",
    "import numpy as np\n",
    "from scipy.linalg import block_diag\n",
    "import seaborn as sns\n",
    "import matplotlib\n",
    "import matplotlib.pyplot as plt\n",
    "import os\n",
    "%matplotlib inline\n",
    "import SPA"
   ]
  },
  {
   "cell_type": "code",
   "execution_count": 7,
   "id": "05796e32",
   "metadata": {},
   "outputs": [],
   "source": [
    "year = 2018\n",
    "system = 'ixi'\n",
    "EXIOBASE_PATH = '../EXIOBASE/'\n",
    "# EXIOBASE_PATH = '../exiobase/'"
   ]
  },
  {
   "cell_type": "code",
   "execution_count": 8,
   "id": "e93e77ae",
   "metadata": {},
   "outputs": [],
   "source": [
    "exio_meta = mr.download_exiobase3(\n",
    "    storage_folder=EXIOBASE_PATH,\n",
    "    system=system,\n",
    "    years=year,\n",
    "    doi=\"10.5281/zenodo.4588235\"\n",
    ")"
   ]
  },
  {
   "cell_type": "code",
   "execution_count": 9,
   "id": "4b3cbd43",
   "metadata": {},
   "outputs": [],
   "source": [
    "io = mr.parse_exiobase3(path=EXIOBASE_PATH + f'IOT_{year}_{system}.zip')"
   ]
  },
  {
   "cell_type": "code",
   "execution_count": 10,
   "id": "53cd90a9",
   "metadata": {},
   "outputs": [
    {
     "name": "stderr",
     "output_type": "stream",
     "text": [
      "C:\\Users\\Gibon\\.conda\\envs\\io\\lib\\site-packages\\pymrio\\core\\mriosystem.py:878: FutureWarning: Using the level keyword in DataFrame and Series aggregations is deprecated and will be removed in a future version. Use groupby instead. df.sum(level=1) should use df.groupby(level=1).sum().\n",
      "  Y_agg = Y.sum(level=\"region\", axis=1).reindex(\n",
      "C:\\Users\\Gibon\\.conda\\envs\\io\\lib\\site-packages\\pymrio\\core\\mriosystem.py:928: FutureWarning: Using the level keyword in DataFrame and Series aggregations is deprecated and will be removed in a future version. Use groupby instead. df.sum(level=1) should use df.groupby(level=1).sum().\n",
      "  F_Y_agg = self.F_Y.sum(level=\"region\", axis=1).reindex(\n",
      "C:\\Users\\Gibon\\.conda\\envs\\io\\lib\\site-packages\\pymrio\\core\\mriosystem.py:878: FutureWarning: Using the level keyword in DataFrame and Series aggregations is deprecated and will be removed in a future version. Use groupby instead. df.sum(level=1) should use df.groupby(level=1).sum().\n",
      "  Y_agg = Y.sum(level=\"region\", axis=1).reindex(\n"
     ]
    },
    {
     "data": {
      "text/plain": [
       "<pymrio.core.mriosystem.IOSystem at 0x1997f43c730>"
      ]
     },
     "execution_count": 10,
     "metadata": {},
     "output_type": "execute_result"
    }
   ],
   "source": [
    "io.calc_all()"
   ]
  },
  {
   "cell_type": "code",
   "execution_count": 51,
   "id": "abae814e",
   "metadata": {},
   "outputs": [],
   "source": [
    "y = io.Y.sum(1) * 0"
   ]
  },
  {
   "cell_type": "code",
   "execution_count": 52,
   "id": "6e158639",
   "metadata": {},
   "outputs": [],
   "source": [
    "y['FR','Other business activities (74)'] = 1"
   ]
  },
  {
   "cell_type": "code",
   "execution_count": 49,
   "id": "125bbf5a",
   "metadata": {},
   "outputs": [
    {
     "data": {
      "text/plain": [
       "['GHG emissions (GWP100) | Problem oriented approach: baseline (CML, 2001) | GWP100 (IPCC, 2007)',\n",
       " 'GHG emissions (GWP100) | Problem oriented approach: baseline (CML, 1999) | GWP100 (IPCC, 2007)',\n",
       " 'GHG emissions (GWP100min) | Problem oriented approach: non baseline (CML, 1999) | net GWP100 min(Houghton et al., 2001)',\n",
       " 'GHG emissions (GWP100max) | Problem oriented approach: non baseline (CML, 1999) | net GWP100 max(Houghton et al., 2001)',\n",
       " 'GHG emissions (GWP20) | Problem oriented approach: non baseline (CML, 1999) | GWP20 (IPCC, 2007)',\n",
       " 'GHG emissions (GWP500) | Problem oriented approach: non baseline (CML, 1999) | GWP500 (IPCC, 2007)',\n",
       " 'GHG emissions AR5 (GWP100) | GWP100 (IPCC, 2010)']"
      ]
     },
     "execution_count": 49,
     "metadata": {},
     "output_type": "execute_result"
    }
   ],
   "source": [
    "[i for i in io.impacts.M.index if 'GHG' in i]"
   ]
  },
  {
   "cell_type": "code",
   "execution_count": 43,
   "id": "db8a2410",
   "metadata": {},
   "outputs": [
    {
     "data": {
      "text/plain": [
       "region  sector                                             \n",
       "AT      Cultivation of paddy rice                              0.000000\n",
       "        Cultivation of wheat                                   0.003670\n",
       "        Cultivation of cereal grains nec                       0.008295\n",
       "        Cultivation of vegetables, fruit, nuts                 0.026010\n",
       "        Cultivation of oil seeds                               0.008622\n",
       "                                                                 ...   \n",
       "WM      Activities of membership organisation n.e.c. (91)      0.018278\n",
       "        Recreational, cultural and sporting activities (92)    0.019562\n",
       "        Other service activities (93)                          0.026868\n",
       "        Private households with employed persons (95)          0.014332\n",
       "        Extra-territorial organizations and bodies             0.000000\n",
       "Name: Water Consumption Blue - Agriculture, Length: 7987, dtype: float64"
      ]
     },
     "execution_count": 43,
     "metadata": {},
     "output_type": "execute_result"
    }
   ],
   "source": [
    "ind = ( 'Water Consumption Blue - Agriculture',)\n",
    "io.impacts.M.loc[ind]"
   ]
  },
  {
   "cell_type": "code",
   "execution_count": 50,
   "id": "7554a842",
   "metadata": {},
   "outputs": [
    {
     "data": {
      "text/plain": [
       "[('AT', 'Other business activities (74)'),\n",
       " ('BE', 'Other business activities (74)'),\n",
       " ('BG', 'Other business activities (74)'),\n",
       " ('CY', 'Other business activities (74)'),\n",
       " ('CZ', 'Other business activities (74)'),\n",
       " ('DE', 'Other business activities (74)'),\n",
       " ('DK', 'Other business activities (74)'),\n",
       " ('EE', 'Other business activities (74)'),\n",
       " ('ES', 'Other business activities (74)'),\n",
       " ('FI', 'Other business activities (74)'),\n",
       " ('FR', 'Other business activities (74)'),\n",
       " ('GR', 'Other business activities (74)'),\n",
       " ('HR', 'Other business activities (74)'),\n",
       " ('HU', 'Other business activities (74)'),\n",
       " ('IE', 'Other business activities (74)'),\n",
       " ('IT', 'Other business activities (74)'),\n",
       " ('LT', 'Other business activities (74)'),\n",
       " ('LU', 'Other business activities (74)'),\n",
       " ('LV', 'Other business activities (74)'),\n",
       " ('MT', 'Other business activities (74)'),\n",
       " ('NL', 'Other business activities (74)'),\n",
       " ('PL', 'Other business activities (74)'),\n",
       " ('PT', 'Other business activities (74)'),\n",
       " ('RO', 'Other business activities (74)'),\n",
       " ('SE', 'Other business activities (74)'),\n",
       " ('SI', 'Other business activities (74)'),\n",
       " ('SK', 'Other business activities (74)'),\n",
       " ('GB', 'Other business activities (74)'),\n",
       " ('US', 'Other business activities (74)'),\n",
       " ('JP', 'Other business activities (74)'),\n",
       " ('CN', 'Other business activities (74)'),\n",
       " ('CA', 'Other business activities (74)'),\n",
       " ('KR', 'Other business activities (74)'),\n",
       " ('BR', 'Other business activities (74)'),\n",
       " ('IN', 'Other business activities (74)'),\n",
       " ('MX', 'Other business activities (74)'),\n",
       " ('RU', 'Other business activities (74)'),\n",
       " ('AU', 'Other business activities (74)'),\n",
       " ('CH', 'Other business activities (74)'),\n",
       " ('TR', 'Other business activities (74)'),\n",
       " ('TW', 'Other business activities (74)'),\n",
       " ('NO', 'Other business activities (74)'),\n",
       " ('ID', 'Other business activities (74)'),\n",
       " ('ZA', 'Other business activities (74)'),\n",
       " ('WA', 'Other business activities (74)'),\n",
       " ('WL', 'Other business activities (74)'),\n",
       " ('WE', 'Other business activities (74)'),\n",
       " ('WF', 'Other business activities (74)'),\n",
       " ('WM', 'Other business activities (74)')]"
      ]
     },
     "execution_count": 50,
     "metadata": {},
     "output_type": "execute_result"
    }
   ],
   "source": [
    "[i for i in io.Y.index if \"usiness\" in i[1]]"
   ]
  },
  {
   "cell_type": "code",
   "execution_count": 53,
   "id": "d7e3e713",
   "metadata": {},
   "outputs": [],
   "source": [
    "# Settings to run the SPA\n",
    "region = 'FR'\n",
    "ind = ('GHG emissions (GWP100) | Problem oriented approach: baseline (CML, 2001) | GWP100 (IPCC, 2007)')\n",
    "\n",
    "scale = 1 # in Mtons\n",
    "\n",
    "paths = SPA.SPA(io.impacts.S.loc[ind]*scale,\n",
    "            io.A,\n",
    "            y=y,\n",
    "            Tmax=30,\n",
    "            threshold=.0001,\n",
    "            filename='output/test.csv',\n",
    "            M=io.impacts.M.loc[ind]*scale)"
   ]
  },
  {
   "cell_type": "code",
   "execution_count": 48,
   "id": "03f56edc",
   "metadata": {},
   "outputs": [
    {
     "data": {
      "text/html": [
       "<div>\n",
       "<style scoped>\n",
       "    .dataframe tbody tr th:only-of-type {\n",
       "        vertical-align: middle;\n",
       "    }\n",
       "\n",
       "    .dataframe tbody tr th {\n",
       "        vertical-align: top;\n",
       "    }\n",
       "\n",
       "    .dataframe thead th {\n",
       "        text-align: right;\n",
       "    }\n",
       "</style>\n",
       "<table border=\"1\" class=\"dataframe\">\n",
       "  <thead>\n",
       "    <tr style=\"text-align: right;\">\n",
       "      <th></th>\n",
       "      <th>sequence</th>\n",
       "      <th>value</th>\n",
       "      <th>contribution</th>\n",
       "      <th>path</th>\n",
       "    </tr>\n",
       "  </thead>\n",
       "  <tbody>\n",
       "    <tr>\n",
       "      <th>TOTAL</th>\n",
       "      <td>[]</td>\n",
       "      <td>0.005532</td>\n",
       "      <td>1.0</td>\n",
       "      <td>[]</td>\n",
       "    </tr>\n",
       "    <tr>\n",
       "      <th>REST</th>\n",
       "      <td>[]</td>\n",
       "      <td>0.002429</td>\n",
       "      <td>0.439062</td>\n",
       "      <td>[]</td>\n",
       "    </tr>\n",
       "    <tr>\n",
       "      <th>1071</th>\n",
       "      <td>[1676, 4936, 4891]</td>\n",
       "      <td>0.000404</td>\n",
       "      <td>0.073087</td>\n",
       "      <td>[(FR, Manufacture of textiles (17)), (CN, Manu...</td>\n",
       "    </tr>\n",
       "    <tr>\n",
       "      <th>1089</th>\n",
       "      <td>[1676, 4936, 4936, 4891]</td>\n",
       "      <td>0.000175</td>\n",
       "      <td>0.031713</td>\n",
       "      <td>[(FR, Manufacture of textiles (17)), (CN, Manu...</td>\n",
       "    </tr>\n",
       "    <tr>\n",
       "      <th>1099</th>\n",
       "      <td>[1676, 4936, 4936, 4936, 4891]</td>\n",
       "      <td>0.000076</td>\n",
       "      <td>0.013761</td>\n",
       "      <td>[(FR, Manufacture of textiles (17)), (CN, Manu...</td>\n",
       "    </tr>\n",
       "    <tr>\n",
       "      <th>...</th>\n",
       "      <td>...</td>\n",
       "      <td>...</td>\n",
       "      <td>...</td>\n",
       "      <td>...</td>\n",
       "    </tr>\n",
       "    <tr>\n",
       "      <th>951</th>\n",
       "      <td>[1676, 3486]</td>\n",
       "      <td>0.0</td>\n",
       "      <td>0.000001</td>\n",
       "      <td>[(FR, Manufacture of textiles (17)), (PL, Manu...</td>\n",
       "    </tr>\n",
       "    <tr>\n",
       "      <th>1889</th>\n",
       "      <td>[1676, 7707, 7671, 7671]</td>\n",
       "      <td>0.0</td>\n",
       "      <td>0.000001</td>\n",
       "      <td>[(FR, Manufacture of textiles (17)), (WF, Manu...</td>\n",
       "    </tr>\n",
       "    <tr>\n",
       "      <th>437</th>\n",
       "      <td>[1676, 1676, 209, 209]</td>\n",
       "      <td>0.0</td>\n",
       "      <td>0.000001</td>\n",
       "      <td>[(FR, Manufacture of textiles (17)), (FR, Manu...</td>\n",
       "    </tr>\n",
       "    <tr>\n",
       "      <th>2014</th>\n",
       "      <td>[1676, 7866]</td>\n",
       "      <td>0.0</td>\n",
       "      <td>0.000001</td>\n",
       "      <td>[(FR, Manufacture of textiles (17)), (WM, Proc...</td>\n",
       "    </tr>\n",
       "    <tr>\n",
       "      <th>10</th>\n",
       "      <td>[1676, 209, 209, 209]</td>\n",
       "      <td>0.0</td>\n",
       "      <td>0.000001</td>\n",
       "      <td>[(FR, Manufacture of textiles (17)), (BE, Manu...</td>\n",
       "    </tr>\n",
       "  </tbody>\n",
       "</table>\n",
       "<p>1076 rows × 4 columns</p>\n",
       "</div>"
      ],
      "text/plain": [
       "                             sequence     value contribution  \\\n",
       "TOTAL                              []  0.005532          1.0   \n",
       "REST                               []  0.002429     0.439062   \n",
       "1071               [1676, 4936, 4891]  0.000404     0.073087   \n",
       "1089         [1676, 4936, 4936, 4891]  0.000175     0.031713   \n",
       "1099   [1676, 4936, 4936, 4936, 4891]  0.000076     0.013761   \n",
       "...                               ...       ...          ...   \n",
       "951                      [1676, 3486]       0.0     0.000001   \n",
       "1889         [1676, 7707, 7671, 7671]       0.0     0.000001   \n",
       "437            [1676, 1676, 209, 209]       0.0     0.000001   \n",
       "2014                     [1676, 7866]       0.0     0.000001   \n",
       "10              [1676, 209, 209, 209]       0.0     0.000001   \n",
       "\n",
       "                                                    path  \n",
       "TOTAL                                                 []  \n",
       "REST                                                  []  \n",
       "1071   [(FR, Manufacture of textiles (17)), (CN, Manu...  \n",
       "1089   [(FR, Manufacture of textiles (17)), (CN, Manu...  \n",
       "1099   [(FR, Manufacture of textiles (17)), (CN, Manu...  \n",
       "...                                                  ...  \n",
       "951    [(FR, Manufacture of textiles (17)), (PL, Manu...  \n",
       "1889   [(FR, Manufacture of textiles (17)), (WF, Manu...  \n",
       "437    [(FR, Manufacture of textiles (17)), (FR, Manu...  \n",
       "2014   [(FR, Manufacture of textiles (17)), (WM, Proc...  \n",
       "10     [(FR, Manufacture of textiles (17)), (BE, Manu...  \n",
       "\n",
       "[1076 rows x 4 columns]"
      ]
     },
     "execution_count": 48,
     "metadata": {},
     "output_type": "execute_result"
    }
   ],
   "source": [
    "paths.loc[:10,:]"
   ]
  },
  {
   "cell_type": "code",
   "execution_count": null,
   "id": "aedd6965",
   "metadata": {},
   "outputs": [],
   "source": []
  }
 ],
 "metadata": {
  "kernelspec": {
   "display_name": "Python 3 (ipykernel)",
   "language": "python",
   "name": "python3"
  },
  "language_info": {
   "codemirror_mode": {
    "name": "ipython",
    "version": 3
   },
   "file_extension": ".py",
   "mimetype": "text/x-python",
   "name": "python",
   "nbconvert_exporter": "python",
   "pygments_lexer": "ipython3",
   "version": "3.9.7"
  }
 },
 "nbformat": 4,
 "nbformat_minor": 5
}
