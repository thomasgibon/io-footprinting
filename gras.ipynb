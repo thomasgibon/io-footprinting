{
 "cells": [
  {
   "cell_type": "code",
   "execution_count": 1,
   "id": "fed99ddf",
   "metadata": {},
   "outputs": [],
   "source": [
    "import numpy as np"
   ]
  },
  {
   "cell_type": "markdown",
   "id": "aaa0f266",
   "metadata": {},
   "source": [
    "# Generalized RAS implementation"
   ]
  },
  {
   "cell_type": "code",
   "execution_count": 6,
   "id": "4b3622e5",
   "metadata": {},
   "outputs": [],
   "source": [
    "def gras(A, u_target, v_target, max_iter=1000, tol=1e-6):\n",
    "    A = A.astype(float)\n",
    "    n, m = A.shape\n",
    "\n",
    "    # Decompose A into positive and negative parts\n",
    "    P = np.maximum(A, 0)\n",
    "    N = np.maximum(-A, 0)\n",
    "\n",
    "    # Initialize multipliers\n",
    "    u = np.ones(n)\n",
    "    v = np.ones(m)\n",
    "\n",
    "    for _ in range(max_iter):\n",
    "        # Compute intermediate matrix\n",
    "        X_pos = u[:, None] * P * v[None, :]\n",
    "        X_neg = u[:, None] * N * v[None, :]\n",
    "        X = X_pos - X_neg\n",
    "\n",
    "        row_sums = X.sum(axis=1)\n",
    "        col_sums = X.sum(axis=0)\n",
    "\n",
    "        # Check convergence\n",
    "        if np.allclose(row_sums, u_target, atol=tol) and np.allclose(col_sums, v_target, atol=tol):\n",
    "            break\n",
    "\n",
    "        # Update row multipliers u\n",
    "        denom_row = (P @ v - N @ v)\n",
    "        u = np.divide(u_target, denom_row, out=np.ones_like(u), where=denom_row != 0)\n",
    "\n",
    "        # Update column multipliers v\n",
    "        denom_col = (P.T @ u - N.T @ u)\n",
    "        v = np.divide(v_target, denom_col, out=np.ones_like(v), where=denom_col != 0)\n",
    "\n",
    "    else:\n",
    "        print(\"Warning: GRAS did not converge within the maximum number of iterations.\")\n",
    "\n",
    "    # Final matrix\n",
    "    X = (u[:, None] * P * v[None, :]) - (u[:, None] * N * v[None, :])\n",
    "    return X"
   ]
  },
  {
   "cell_type": "markdown",
   "id": "eb92d314",
   "metadata": {},
   "source": [
    "# MR-GRAS implementation\n",
    "from https://pure.rug.nl/ws/files/178379286/17421772.2020.pdf"
   ]
  },
  {
   "cell_type": "code",
   "execution_count": 23,
   "id": "772330bb",
   "metadata": {},
   "outputs": [],
   "source": [
    "# --- Helper functions ---\n",
    "def inv_diag(v):\n",
    "    \"\"\"Inverse of a diagonal vector as a matrix.\"\"\"\n",
    "    inv = np.divide(1.0,\n",
    "                    v,\n",
    "                    out=np.ones_like(v),\n",
    "                    where=(v != 0))\n",
    "    return np.diag(inv)\n",
    "\n",
    "def inv_elementwise(X):\n",
    "    \"\"\"Element-wise inverse with safeguard.\"\"\"\n",
    "    inv = np.divide(1.0,\n",
    "                    X,\n",
    "                    out=np.ones_like(X),\n",
    "                    where=(X != 0))\n",
    "    return inv\n",
    "\n",
    "# --- MR-GRAS implementation ---\n",
    "def mr_gras(X0, u, v, G, Q, W, eps=1e-6, max_iter=1000):\n",
    "\n",
    "    \"\"\"\n",
    "    X0: original matrix to balance\n",
    "    u: target of row totals\n",
    "    v: target of column totals\n",
    "    \n",
    "    \"\"\"\n",
    "\n",
    "    X0 = np.asarray(X0, dtype=float)\n",
    "    m, n = X0.shape\n",
    "    h, k = W.shape\n",
    "\n",
    "    # Decompose X0 into positive (P) and negative (N) parts\n",
    "    N = np.where(X0 < 0, -X0, 0)\n",
    "    P = X0 + N\n",
    "\n",
    "    # Initial multipliers\n",
    "    r = np.ones(m)\n",
    "    s = np.ones(n)\n",
    "    T = np.ones((h, k))\n",
    "\n",
    "    for iteration in range(max_iter):\n",
    "        # Expand T to matrix shape: Te = G' * T * Q'\n",
    "        Te = G.T @ T @ Q.T\n",
    "\n",
    "        # Compute column multipliers s\n",
    "        p_rt = (P * Te).T @ r\n",
    "        n_rt = (N * inv_elementwise(Te)).T @ inv_diag(r) @ np.ones(m)\n",
    "        s_new = np.divide(v + np.sqrt(v**2 + 4 * p_rt * n_rt), 2 * p_rt, out=-n_rt / v, where=(p_rt != 0))\n",
    "\n",
    "        # Compute row multipliers r\n",
    "        p_st = (P * Te) @ s_new\n",
    "        n_st = (N * inv_elementwise(Te)) @ inv_diag(s_new) @ np.ones(n)\n",
    "        r_new = np.divide(u + np.sqrt(u**2 + 4 * p_st * n_st), 2 * p_st, out=-n_st / u, where=(p_st != 0))\n",
    "\n",
    "        # Update aggregation multipliers T\n",
    "        P_rs = G @ (np.diag(r_new) @ P @ np.diag(s_new)) @ Q\n",
    "        N_rs = G @ (inv_diag(r_new) @ N @ inv_diag(s_new)) @ Q\n",
    "\n",
    "        T_new = np.divide(W + np.sqrt(W**2 + 4 * P_rs * N_rs), 2 * P_rs, out=-N_rs / W, where=(P_rs != 0))\n",
    "        T_new[W == 1010101] = 1  # Handle missing W constraints\n",
    "\n",
    "        # Check convergence\n",
    "        max_change = max(\n",
    "            np.max(np.abs(s_new - s)),\n",
    "            np.max(np.abs(r_new - r)),\n",
    "            np.max(np.abs(T_new - T))\n",
    "        )\n",
    "        if max_change < eps:\n",
    "            break\n",
    "\n",
    "        # Update variables\n",
    "        s, r, T = s_new, r_new, T_new\n",
    "\n",
    "    # Final matrix reconstruction\n",
    "    Te = G.T @ T @ Q.T\n",
    "    X = Te * (np.diag(r) @ P @ np.diag(s)) - inv_elementwise(Te) * (inv_diag(r) @ N @ inv_diag(s))\n",
    "    return X, r, s, T"
   ]
  },
  {
   "cell_type": "code",
   "execution_count": null,
   "id": "c7b42671",
   "metadata": {},
   "outputs": [],
   "source": [
    "# Example from the supplementary information\n",
    "X0 = np.array(\n",
    "    [\n",
    "        [63, 9, 14, 9, -18, 75],\n",
    "        [-14, 53, -10, 66, 69, 66],\n",
    "        [16, 56, -21, 9, 93, -25],\n",
    "        [53, 16, 74, 72, -1, 80],\n",
    "        [4, -48, 14, 64, 51, 99],\n",
    "        [61, -1, 84, 6, 16, 27]\n",
    "    ]\n",
    ")"
   ]
  },
  {
   "cell_type": "code",
   "execution_count": 45,
   "id": "6f8e2067",
   "metadata": {},
   "outputs": [
    {
     "name": "stdout",
     "output_type": "stream",
     "text": [
      "[[ 63   9  14   9 -18  75]\n",
      " [-14  53 -10  66  69  66]\n",
      " [ 16  56 -21   9  93 -25]\n",
      " [ 53  16  74  72  -1  80]\n",
      " [  4 -48  14  64  51  99]\n",
      " [ 61  -1  84   6  16  27]] [[1. 0. 0.]\n",
      " [0. 1. 0.]\n",
      " [0. 0. 1.]\n",
      " [1. 0. 0.]\n",
      " [0. 1. 0.]\n",
      " [0. 0. 1.]] [[1. 0. 0. 1. 0. 0.]\n",
      " [0. 1. 0. 0. 1. 0.]\n",
      " [0. 0. 1. 0. 0. 1.]]\n"
     ]
    }
   ],
   "source": [
    "G = np.kron([1, 1], np.eye(3))\n",
    "Q = G.T\n",
    "print(X0, Q, G)"
   ]
  },
  {
   "cell_type": "code",
   "execution_count": null,
   "id": "08068e87",
   "metadata": {},
   "outputs": [
    {
     "data": {
      "text/plain": [
       "array([[197.,   6., 243.],\n",
       "       [120., 125., 169.],\n",
       "       [ 92., 164.,  65.]])"
      ]
     },
     "execution_count": 48,
     "metadata": {},
     "output_type": "execute_result"
    }
   ],
   "source": [
    "# Initial totals for products/sectors\n",
    "# this is the aggregated, single-region format of the MRIO table\n",
    "W0 = G@X0@Q\n",
    "W0"
   ]
  },
  {
   "cell_type": "code",
   "execution_count": 50,
   "id": "48627265",
   "metadata": {},
   "outputs": [],
   "source": [
    "# Targets\n",
    "u = np.array(\n",
    "    [160, 194, 145, 320, 134, 151]\n",
    ")\n",
    "v = np.array(\n",
    "    [197, 71, 151, 242, 178, 265]\n",
    ")\n",
    "W = np.array([\n",
    "    [230, 0, 250],\n",
    "    [123, 75, 130],\n",
    "    [86, 174, 36]\n",
    "])"
   ]
  },
  {
   "cell_type": "code",
   "execution_count": 51,
   "id": "ae10ca4f",
   "metadata": {},
   "outputs": [
    {
     "name": "stderr",
     "output_type": "stream",
     "text": [
      "C:\\Users\\Gibon\\AppData\\Local\\Temp\\ipykernel_15248\\765451770.py:59: RuntimeWarning: divide by zero encountered in divide\n",
      "  T_new = np.divide(W + np.sqrt(W**2 + 4 * P_rs * N_rs), 2 * P_rs, out=-N_rs / W, where=(P_rs != 0))\n"
     ]
    }
   ],
   "source": [
    "X, r, s, t = mr_gras(X0, u, v, G, Q, W)"
   ]
  },
  {
   "cell_type": "code",
   "execution_count": 52,
   "id": "8ff1840f",
   "metadata": {},
   "outputs": [
    {
     "data": {
      "text/plain": [
       "array([[ 74.24551328,   8.24153086,  16.36994349,  10.55612892,\n",
       "        -21.51321699,  72.10009714],\n",
       "       [-13.42201347,  44.35933243, -10.39910992,  68.51518149,\n",
       "         52.76670684,  52.17989595],\n",
       "       [ 18.7776562 ,  64.75060578, -19.31882811,  10.51226793,\n",
       "         98.2518022 , -27.97345121],\n",
       "       [ 61.73297864,  14.48095022,  85.5189899 ,  83.46537917,\n",
       "         -1.20926408,  76.01096947],\n",
       "       [  4.01245475, -59.63377668,  12.94707482,  63.89437723,\n",
       "         37.5077374 ,  75.27213915],\n",
       "       [ 51.65353019,  -1.19865836,  65.88196969,   5.05654568,\n",
       "         12.19625039,  17.41030963]])"
      ]
     },
     "execution_count": 52,
     "metadata": {},
     "output_type": "execute_result"
    }
   ],
   "source": [
    "X"
   ]
  },
  {
   "cell_type": "code",
   "execution_count": 53,
   "id": "cac6e4ae",
   "metadata": {},
   "outputs": [
    {
     "data": {
      "text/plain": [
       "array([159.99999669, 193.99999333, 145.00005279, 320.00000331,\n",
       "       134.00000667, 150.99994721])"
      ]
     },
     "execution_count": 53,
     "metadata": {},
     "output_type": "execute_result"
    }
   ],
   "source": [
    "X.sum(1)"
   ]
  },
  {
   "cell_type": "code",
   "execution_count": null,
   "id": "ca615bac",
   "metadata": {},
   "outputs": [],
   "source": []
  }
 ],
 "metadata": {
  "kernelspec": {
   "display_name": "io",
   "language": "python",
   "name": "python3"
  },
  "language_info": {
   "codemirror_mode": {
    "name": "ipython",
    "version": 3
   },
   "file_extension": ".py",
   "mimetype": "text/x-python",
   "name": "python",
   "nbconvert_exporter": "python",
   "pygments_lexer": "ipython3",
   "version": "3.13.3"
  }
 },
 "nbformat": 4,
 "nbformat_minor": 5
}
