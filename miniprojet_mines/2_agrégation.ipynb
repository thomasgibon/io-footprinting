{
 "cells": [
  {
   "cell_type": "code",
   "execution_count": 1,
   "id": "38e1fce5",
   "metadata": {},
   "outputs": [],
   "source": [
    "import pymrio as mr\n",
    "import pandas as pd\n",
    "import numpy as np\n",
    "from scipy.linalg import block_diag\n",
    "import seaborn as sns\n",
    "import matplotlib\n",
    "import matplotlib.pyplot as plt\n",
    "import os\n",
    "%matplotlib inline"
   ]
  },
  {
   "cell_type": "markdown",
   "id": "f59ecc49",
   "metadata": {},
   "source": [
    "### Importer les données"
   ]
  },
  {
   "cell_type": "code",
   "execution_count": 66,
   "id": "b0286866",
   "metadata": {},
   "outputs": [],
   "source": [
    "EXIOBASE_PATH = '../EXIOBASE/' # ne pas hésiter à changer"
   ]
  },
  {
   "cell_type": "code",
   "execution_count": 67,
   "id": "9333ad5a",
   "metadata": {},
   "outputs": [],
   "source": [
    "year = 2019\n",
    "filename = EXIOBASE_PATH+'IOT_{}_ixi.zip'.format(year)"
   ]
  },
  {
   "cell_type": "code",
   "execution_count": 68,
   "id": "a0403f20",
   "metadata": {},
   "outputs": [],
   "source": [
    "io = mr.parse_exiobase3(path=filename)"
   ]
  },
  {
   "cell_type": "code",
   "execution_count": 69,
   "id": "a4cbc463",
   "metadata": {},
   "outputs": [],
   "source": [
    "population = pd.read_csv(EXIOBASE_PATH+'exiobase_population.txt',sep='\\t',index_col=0)\n",
    "io.population=pd.DataFrame(columns=['population'], data=population.loc[year].values, index=population.columns).T"
   ]
  },
  {
   "cell_type": "code",
   "execution_count": 70,
   "id": "1a611e8d",
   "metadata": {},
   "outputs": [
    {
     "name": "stderr",
     "output_type": "stream",
     "text": [
      "C:\\Users\\Gibon\\.conda\\envs\\io\\lib\\site-packages\\pymrio\\core\\mriosystem.py:878: FutureWarning: Using the level keyword in DataFrame and Series aggregations is deprecated and will be removed in a future version. Use groupby instead. df.sum(level=1) should use df.groupby(level=1).sum().\n",
      "  Y_agg = Y.sum(level=\"region\", axis=1).reindex(\n",
      "C:\\Users\\Gibon\\.conda\\envs\\io\\lib\\site-packages\\pymrio\\core\\mriosystem.py:928: FutureWarning: Using the level keyword in DataFrame and Series aggregations is deprecated and will be removed in a future version. Use groupby instead. df.sum(level=1) should use df.groupby(level=1).sum().\n",
      "  F_Y_agg = self.F_Y.sum(level=\"region\", axis=1).reindex(\n"
     ]
    },
    {
     "data": {
      "text/plain": [
       "<pymrio.core.mriosystem.IOSystem at 0x23b0a1dfdc0>"
      ]
     },
     "execution_count": 70,
     "metadata": {},
     "output_type": "execute_result"
    }
   ],
   "source": [
    "io.calc_all()"
   ]
  },
  {
   "cell_type": "markdown",
   "id": "2c648376",
   "metadata": {},
   "source": [
    "### Agrégation des régions"
   ]
  },
  {
   "cell_type": "markdown",
   "id": "da34d049",
   "metadata": {},
   "source": [
    "Cette section consiste à agréger les régions entre elles. La fonctionnalité existe dans `pymrio`, il suffit d'assigner chaque région de la nomenclature existante à une nouvelle région pour préparer l'agrégation. La fonction `aggregate` s'occupe du reste."
   ]
  },
  {
   "cell_type": "code",
   "execution_count": 71,
   "id": "d7d58f20",
   "metadata": {},
   "outputs": [
    {
     "data": {
      "text/plain": [
       "Index(['AT', 'BE', 'BG', 'CY', 'CZ', 'DE', 'DK', 'EE', 'ES', 'FI', 'FR', 'GR',\n",
       "       'HR', 'HU', 'IE', 'IT', 'LT', 'LU', 'LV', 'MT', 'NL', 'PL', 'PT', 'RO',\n",
       "       'SE', 'SI', 'SK', 'GB', 'US', 'JP', 'CN', 'CA', 'KR', 'BR', 'IN', 'MX',\n",
       "       'RU', 'AU', 'CH', 'TR', 'TW', 'NO', 'ID', 'ZA', 'WA', 'WL', 'WE', 'WF',\n",
       "       'WM'],\n",
       "      dtype='object', name='region')"
      ]
     },
     "execution_count": 71,
     "metadata": {},
     "output_type": "execute_result"
    }
   ],
   "source": [
    "io.get_regions()"
   ]
  },
  {
   "cell_type": "code",
   "execution_count": 72,
   "id": "b9f1d9ed",
   "metadata": {},
   "outputs": [],
   "source": [
    "new_regions = ['EUR'] * 28 + ['NAM'] + ['APAC'] + ['CN'] + ['NAM'] + ['APAC'] + ['LAM'] + ['IN'] + ['NAM'] + ['RU'] + ['APAC'] + ['EUR'] + ['EUR'] + ['APAC'] + ['EUR'] + ['APAC'] + ['AFR'] + ['APAC'] + ['LAM'] + ['EUR'] + ['AFR'] + ['MEA']"
   ]
  },
  {
   "cell_type": "code",
   "execution_count": 73,
   "id": "45161fc3",
   "metadata": {},
   "outputs": [
    {
     "name": "stderr",
     "output_type": "stream",
     "text": [
      "C:\\Users\\Gibon\\.conda\\envs\\io\\lib\\site-packages\\pymrio\\core\\mriosystem.py:878: FutureWarning: Using the level keyword in DataFrame and Series aggregations is deprecated and will be removed in a future version. Use groupby instead. df.sum(level=1) should use df.groupby(level=1).sum().\n",
      "  Y_agg = Y.sum(level=\"region\", axis=1).reindex(\n",
      "C:\\Users\\Gibon\\.conda\\envs\\io\\lib\\site-packages\\pymrio\\core\\mriosystem.py:960: FutureWarning: Using the level keyword in DataFrame and Series aggregations is deprecated and will be removed in a future version. Use groupby instead. df.sum(level=1) should use df.groupby(level=1).sum().\n",
      "  self.D_cba.sum(level=\"region\", axis=1).reindex(\n",
      "C:\\Users\\Gibon\\.conda\\envs\\io\\lib\\site-packages\\pymrio\\core\\mriosystem.py:972: FutureWarning: Using the level keyword in DataFrame and Series aggregations is deprecated and will be removed in a future version. Use groupby instead. df.sum(level=1) should use df.groupby(level=1).sum().\n",
      "  self.D_pba.sum(level=\"region\", axis=1).reindex(\n",
      "C:\\Users\\Gibon\\.conda\\envs\\io\\lib\\site-packages\\pymrio\\core\\mriosystem.py:983: FutureWarning: Using the level keyword in DataFrame and Series aggregations is deprecated and will be removed in a future version. Use groupby instead. df.sum(level=1) should use df.groupby(level=1).sum().\n",
      "  self.D_imp_reg = self.D_imp.sum(level=\"region\", axis=1).reindex(\n",
      "C:\\Users\\Gibon\\.conda\\envs\\io\\lib\\site-packages\\pymrio\\core\\mriosystem.py:991: FutureWarning: Using the level keyword in DataFrame and Series aggregations is deprecated and will be removed in a future version. Use groupby instead. df.sum(level=1) should use df.groupby(level=1).sum().\n",
      "  self.D_exp_reg = self.D_exp.sum(level=\"region\", axis=1).reindex(\n",
      "C:\\Users\\Gibon\\.conda\\envs\\io\\lib\\site-packages\\pymrio\\core\\mriosystem.py:878: FutureWarning: Using the level keyword in DataFrame and Series aggregations is deprecated and will be removed in a future version. Use groupby instead. df.sum(level=1) should use df.groupby(level=1).sum().\n",
      "  Y_agg = Y.sum(level=\"region\", axis=1).reindex(\n",
      "C:\\Users\\Gibon\\.conda\\envs\\io\\lib\\site-packages\\pymrio\\core\\mriosystem.py:928: FutureWarning: Using the level keyword in DataFrame and Series aggregations is deprecated and will be removed in a future version. Use groupby instead. df.sum(level=1) should use df.groupby(level=1).sum().\n",
      "  F_Y_agg = self.F_Y.sum(level=\"region\", axis=1).reindex(\n",
      "C:\\Users\\Gibon\\.conda\\envs\\io\\lib\\site-packages\\pymrio\\core\\mriosystem.py:960: FutureWarning: Using the level keyword in DataFrame and Series aggregations is deprecated and will be removed in a future version. Use groupby instead. df.sum(level=1) should use df.groupby(level=1).sum().\n",
      "  self.D_cba.sum(level=\"region\", axis=1).reindex(\n",
      "C:\\Users\\Gibon\\.conda\\envs\\io\\lib\\site-packages\\pymrio\\core\\mriosystem.py:972: FutureWarning: Using the level keyword in DataFrame and Series aggregations is deprecated and will be removed in a future version. Use groupby instead. df.sum(level=1) should use df.groupby(level=1).sum().\n",
      "  self.D_pba.sum(level=\"region\", axis=1).reindex(\n",
      "C:\\Users\\Gibon\\.conda\\envs\\io\\lib\\site-packages\\pymrio\\core\\mriosystem.py:983: FutureWarning: Using the level keyword in DataFrame and Series aggregations is deprecated and will be removed in a future version. Use groupby instead. df.sum(level=1) should use df.groupby(level=1).sum().\n",
      "  self.D_imp_reg = self.D_imp.sum(level=\"region\", axis=1).reindex(\n",
      "C:\\Users\\Gibon\\.conda\\envs\\io\\lib\\site-packages\\pymrio\\core\\mriosystem.py:991: FutureWarning: Using the level keyword in DataFrame and Series aggregations is deprecated and will be removed in a future version. Use groupby instead. df.sum(level=1) should use df.groupby(level=1).sum().\n",
      "  self.D_exp_reg = self.D_exp.sum(level=\"region\", axis=1).reindex(\n"
     ]
    }
   ],
   "source": [
    "io_agg = io.aggregate(region_agg=new_regions, inplace=False)"
   ]
  },
  {
   "cell_type": "code",
   "execution_count": 75,
   "id": "a5a81b2f",
   "metadata": {},
   "outputs": [
    {
     "data": {
      "text/plain": [
       "Index(['EUR', 'NAM', 'APAC', 'CN', 'LAM', 'IN', 'RU', 'AFR', 'MEA'], dtype='object', name='region')"
      ]
     },
     "execution_count": 75,
     "metadata": {},
     "output_type": "execute_result"
    }
   ],
   "source": [
    "io_agg.get_regions()"
   ]
  },
  {
   "cell_type": "code",
   "execution_count": 76,
   "id": "540a49a6",
   "metadata": {},
   "outputs": [
    {
     "name": "stderr",
     "output_type": "stream",
     "text": [
      "C:\\Users\\Gibon\\.conda\\envs\\io\\lib\\site-packages\\pymrio\\core\\mriosystem.py:878: FutureWarning: Using the level keyword in DataFrame and Series aggregations is deprecated and will be removed in a future version. Use groupby instead. df.sum(level=1) should use df.groupby(level=1).sum().\n",
      "  Y_agg = Y.sum(level=\"region\", axis=1).reindex(\n",
      "C:\\Users\\Gibon\\.conda\\envs\\io\\lib\\site-packages\\pymrio\\core\\mriosystem.py:928: FutureWarning: Using the level keyword in DataFrame and Series aggregations is deprecated and will be removed in a future version. Use groupby instead. df.sum(level=1) should use df.groupby(level=1).sum().\n",
      "  F_Y_agg = self.F_Y.sum(level=\"region\", axis=1).reindex(\n"
     ]
    },
    {
     "data": {
      "text/plain": [
       "<pymrio.core.mriosystem.IOSystem at 0x23b0904af10>"
      ]
     },
     "execution_count": 76,
     "metadata": {},
     "output_type": "execute_result"
    }
   ],
   "source": [
    "io_agg.calc_all()"
   ]
  },
  {
   "cell_type": "markdown",
   "id": "99426f58",
   "metadata": {},
   "source": [
    "### Zoom sur un indicateur"
   ]
  },
  {
   "cell_type": "markdown",
   "id": "3f5abc3b",
   "metadata": {},
   "source": [
    "La dernière version d'EXIOBASE contient les facteurs de caractérisation des gaz à effet de serre. Ces facteurs représentent le forçage radiatif cumulé généré par chaque gaz, sur 100 ans, comparé à celui du dioxyde de carbone. C'est le pouvoir de réchauffement global à 100 ans, en anglais GWP100.\n",
    "\n",
    "La fonction `diag_stressor` permet de détailler l'origine des émissions pour un \"stressor\" (dans ce cas une catégorie d'impact) donné.\n",
    "\n",
    "Celui qui nous intéresse est `GHG emissions (GWP100) | Problem oriented approach: baseline (CML, 2001) | GWP100 (IPCC, 2007)`."
   ]
  },
  {
   "cell_type": "code",
   "execution_count": 77,
   "id": "cc471f6f",
   "metadata": {},
   "outputs": [],
   "source": [
    "# Créons l'extension correspondante\n",
    "GHG = io_agg.impacts.diag_stressor('GHG emissions (GWP100) | Problem oriented approach: baseline (CML, 2001) | GWP100 (IPCC, 2007)',\n",
    "                             name = 'GHG')"
   ]
  },
  {
   "cell_type": "code",
   "execution_count": 78,
   "id": "86ed7033",
   "metadata": {},
   "outputs": [],
   "source": [
    "# Connecter l'extension au système existant\n",
    "io_agg.GHG = GHG"
   ]
  },
  {
   "cell_type": "code",
   "execution_count": 79,
   "id": "413cedc2",
   "metadata": {},
   "outputs": [
    {
     "name": "stderr",
     "output_type": "stream",
     "text": [
      "C:\\Users\\Gibon\\.conda\\envs\\io\\lib\\site-packages\\pymrio\\core\\mriosystem.py:960: FutureWarning: Using the level keyword in DataFrame and Series aggregations is deprecated and will be removed in a future version. Use groupby instead. df.sum(level=1) should use df.groupby(level=1).sum().\n",
      "  self.D_cba.sum(level=\"region\", axis=1).reindex(\n",
      "C:\\Users\\Gibon\\.conda\\envs\\io\\lib\\site-packages\\pymrio\\core\\mriosystem.py:972: FutureWarning: Using the level keyword in DataFrame and Series aggregations is deprecated and will be removed in a future version. Use groupby instead. df.sum(level=1) should use df.groupby(level=1).sum().\n",
      "  self.D_pba.sum(level=\"region\", axis=1).reindex(\n",
      "C:\\Users\\Gibon\\.conda\\envs\\io\\lib\\site-packages\\pymrio\\core\\mriosystem.py:983: FutureWarning: Using the level keyword in DataFrame and Series aggregations is deprecated and will be removed in a future version. Use groupby instead. df.sum(level=1) should use df.groupby(level=1).sum().\n",
      "  self.D_imp_reg = self.D_imp.sum(level=\"region\", axis=1).reindex(\n",
      "C:\\Users\\Gibon\\.conda\\envs\\io\\lib\\site-packages\\pymrio\\core\\mriosystem.py:991: FutureWarning: Using the level keyword in DataFrame and Series aggregations is deprecated and will be removed in a future version. Use groupby instead. df.sum(level=1) should use df.groupby(level=1).sum().\n",
      "  self.D_exp_reg = self.D_exp.sum(level=\"region\", axis=1).reindex(\n"
     ]
    },
    {
     "data": {
      "text/plain": [
       "<pymrio.core.mriosystem.IOSystem at 0x23b0904af10>"
      ]
     },
     "execution_count": 79,
     "metadata": {},
     "output_type": "execute_result"
    }
   ],
   "source": [
    "# Recalcul des impacts\n",
    "io_agg.calc_all()"
   ]
  },
  {
   "cell_type": "code",
   "execution_count": 80,
   "id": "45ea22f7",
   "metadata": {},
   "outputs": [
    {
     "data": {
      "text/plain": [
       "Description: Data for 2019\n",
       "MRIO Name: exio381_ntnu_copy\n",
       "System: ixi\n",
       "Version: v3.81\n",
       "File: None\n",
       "History:\n",
       "20211013 17:45:40 - MODIFICATION -  Calculating accounts for extension GHG\n",
       "20211013 17:45:40 - MODIFICATION -  Calculating accounts for extension satellite\n",
       "20211013 17:45:40 - MODIFICATION -  Calculating accounts for extension impacts\n",
       "20211013 17:45:19 - MODIFICATION -  Calculating accounts for extension satellite\n",
       "20211013 17:45:19 - MODIFICATION -  Calculating accounts for extension impacts\n",
       "20211013 17:45:19 - MODIFICATION -  Leontief matrix L calculated\n",
       "20211013 17:45:19 - MODIFICATION -  Coefficient matrix A calculated\n",
       "20211013 17:44:10 - MODIFICATION -  Calculating accounts for extension satellite\n",
       "20211013 17:44:10 - MODIFICATION -  Calculating accounts for extension impacts\n",
       "20211013 17:44:07 - MODIFICATION -  Aggregate extensions...\n",
       " ... (more lines in history)"
      ]
     },
     "execution_count": 80,
     "metadata": {},
     "output_type": "execute_result"
    }
   ],
   "source": [
    "# Vérifier que les calculs se sont bien déroulés\n",
    "io_agg.meta"
   ]
  },
  {
   "cell_type": "code",
   "execution_count": 98,
   "id": "6ba41759",
   "metadata": {},
   "outputs": [],
   "source": [
    "# Récupérer les flux de GES liés à la consommation finale\n",
    "GHG_flows = io_agg.GHG.D_cba.groupby('region', axis=1).sum().groupby('region').sum()*1e-9"
   ]
  },
  {
   "cell_type": "code",
   "execution_count": 122,
   "id": "302af4a4",
   "metadata": {
    "scrolled": true
   },
   "outputs": [
    {
     "data": {
      "image/png": "[encoded data removed]",
      "text/plain": [
       "<Figure size 1080x720 with 5 Axes>"
      ]
     },
     "metadata": {
      "needs_background": "light"
     },
     "output_type": "display_data"
    }
   ],
   "source": [
    "cmap  = 'viridis'\n",
    "\n",
    "fig, ax = plt.subplots(ncols=2,\n",
    "                       nrows=2,\n",
    "                       figsize=(15, 10),\n",
    "                       subplot_kw={'facecolor':'w'},\n",
    "                       gridspec_kw={'width_ratios': [8, 1],\n",
    "                                    'height_ratios': [8, 1],\n",
    "                                    'wspace': 2/3*0.15,\n",
    "                                    'hspace': 0.15,\n",
    "                                    'bottom': 0})\n",
    "\n",
    "sns.heatmap(GHG_flows, annot=True,\n",
    "            norm=matplotlib.colors.LogNorm(vmin=.05,\n",
    "                                           vmax=GHG_flows.max().max()),\n",
    "            cbar=False,\n",
    "            cmap=cmap,\n",
    "           fmt='.0f',\n",
    "           ax=ax[0,0])\n",
    "sns.heatmap(pd.DataFrame(GHG_flows.sum(axis=1)), annot=True,\n",
    "            norm=matplotlib.colors.LogNorm(vmin=.05,\n",
    "                                           vmax=GHG_flows.max().max()),\n",
    "            \n",
    "            cmap=cmap,\n",
    "           fmt='.0f',\n",
    "           ax=ax[0,1])\n",
    "sns.heatmap(pd.DataFrame(GHG_flows.sum()).T, annot=True,\n",
    "#             annot_kws={'rotation': 90},\n",
    "            norm=matplotlib.colors.LogNorm(vmin=.05,\n",
    "                                           vmax=GHG_flows.max().max()),\n",
    "            cbar=False,\n",
    "            cmap=cmap,\n",
    "           fmt='.0f',\n",
    "           ax=ax[1,0])\n",
    "sns.heatmap([[GHG_flows.sum().sum()]], annot=True,\n",
    "            norm=matplotlib.colors.LogNorm(vmin=.05,\n",
    "                                           vmax=GHG_flows.max().max()),\n",
    "            cbar=False,\n",
    "            cmap=cmap,\n",
    "            yticklabels=[],\n",
    "            xticklabels=['GLOBAL EMISSIONS'],\n",
    "           fmt='.0f',\n",
    "           ax=ax[1,1])\n",
    "\n",
    "ax[0,0].set_xlabel('')\n",
    "ax[1,1].set_xlabel('')\n",
    "ax[1,0].set_xlabel('EMBODIED IN CONSUMPTION')\n",
    "ax[1,0].set_ylabel('')\n",
    "ax[1,0].set_yticklabels([])\n",
    "\n",
    "# resize the corner box\n",
    "ax01pos = ax[0,1].get_position().bounds\n",
    "ax11pos = list(ax[1,1].get_position().bounds)\n",
    "ax11pos[2] = ax01pos[2]\n",
    "ax[1,1].set_position(ax11pos)\n",
    "\n",
    "# fig.savefig('GHG_in_trade_{}.png'.format(year),\n",
    "#             facecolor='white',\n",
    "#             edgecolor='none')"
   ]
  },
  {
   "cell_type": "code",
   "execution_count": null,
   "id": "a6025ce3",
   "metadata": {},
   "outputs": [],
   "source": []
  }
 ],
 "metadata": {
  "kernelspec": {
   "display_name": "Python 3 (ipykernel)",
   "language": "python",
   "name": "python3"
  },
  "language_info": {
   "codemirror_mode": {
    "name": "ipython",
    "version": 3
   },
   "file_extension": ".py",
   "mimetype": "text/x-python",
   "name": "python",
   "nbconvert_exporter": "python",
   "pygments_lexer": "ipython3",
   "version": "3.9.7"
  }
 },
 "nbformat": 4,
 "nbformat_minor": 5
}
