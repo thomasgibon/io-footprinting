{
 "cells": [
  {
   "cell_type": "markdown",
   "metadata": {},
   "source": [
    "# Mini-projets UE14 Mines ParisTech 2021 S18 et S19\n",
    "Ce notebook contient les informations et les données nécessaires aux calculs proposés dans les sujets 18 et 19 des mini-projets de l'UE14 2021.\n",
    "\n",
    "Liens vers les descriptions:\n",
    "- Sujet 17 \"Comment l’empreinte carbone des pays est-elle calculée ?\" https://docs.google.com/document/d/1GijTxGaNKpwpeuGNfZtfMtOGAOAMh2EOAmpkwYa-2fw/edit\n",
    "- Sujet 18 \"Réconcilier les méthodes de calcul d’empreinte carbone\" https://docs.google.com/document/d/19Fh1tyZqaGFunaKeC_HXfsHgXBtz8TAHyeoS2fcGRxE/edit\n",
    "\n",
    "Pour toute question: <thomas.gibon@list.lu>"
   ]
  },
  {
   "cell_type": "markdown",
   "metadata": {},
   "source": [
    "Ce dont vous aurez besoin pour ce mini-projet:\n",
    "\n",
    "1. l'installation de la distribution Anaconda (ou Miniconda), qui contient déjà tous les modules Python de base pour les calculs (numpy, pandas, ...), les instructions d'installation sont disponibles [ici](https://docs.anaconda.com/anaconda/install/index.html).\n",
    "\n",
    "2. un environnement `conda` dédié au projet (pas nécessaire, mais recommandé) en procédant ainsi:\n",
    "    - ouvrir un terminal (`cmd` sous Windows),\n",
    "    - créer l'environnement en ligne de commande `conda create -n io`,\n",
    "    - activer l'environnement `activate io`\n",
    "    \n",
    "3. installer `pymrio` à partir de https://anaconda.org/conda-forge/pymrio\n",
    "    - en ligne de commande, s'assurer que l'environnement `io` est activé\n",
    "    - installer le package `conda install -c conda-forge pymrio`"
   ]
  },
  {
   "cell_type": "code",
   "execution_count": 1,
   "metadata": {},
   "outputs": [],
   "source": [
    "import pymrio as mr\n",
    "import pandas as pd\n",
    "import numpy as np\n",
    "from scipy.linalg import block_diag\n",
    "import seaborn as sns\n",
    "import matplotlib\n",
    "import matplotlib.pyplot as plt\n",
    "import os\n",
    "%matplotlib inline"
   ]
  },
  {
   "cell_type": "markdown",
   "metadata": {},
   "source": [
    "## Télécharger la base de données EXIOBASE\n",
    "La première chose à faire est de récupérer la ou les tables input-output EXIOBASE, à partir du dernier dépôt Zenodo.\n",
    "Une fois les données télécharger, les importer, et vous êtes prêts à les utiliser."
   ]
  },
  {
   "cell_type": "code",
   "execution_count": 2,
   "metadata": {},
   "outputs": [],
   "source": [
    "doi = '10.5281/zenodo.4588235'"
   ]
  },
  {
   "cell_type": "markdown",
   "metadata": {},
   "source": [
    "Choisir le répertoire d'installation."
   ]
  },
  {
   "cell_type": "code",
   "execution_count": 3,
   "metadata": {},
   "outputs": [],
   "source": [
    "EXIOBASE_PATH = '../EXIOBASE/' # ne pas hésiter à changer"
   ]
  },
  {
   "cell_type": "code",
   "execution_count": 4,
   "metadata": {},
   "outputs": [],
   "source": [
    "year = 2019\n",
    "filename = EXIOBASE_PATH+'IOT_{}_ixi.zip'.format(year)"
   ]
  },
  {
   "cell_type": "markdown",
   "metadata": {},
   "source": [
    "Lancer le téléchargement avec la commande dédiée.\n",
    "\n",
    "Attention, les données sont volumineuses, si vous avez déjà téléchargé une fois, il est inutile de recommencer. Préférer le réseau de l'école si possible (sauf si vous avez la fibre...)."
   ]
  },
  {
   "cell_type": "code",
   "execution_count": 5,
   "metadata": {},
   "outputs": [],
   "source": [
    "if not os.path.isfile(filename):\n",
    "    exio_meta = mr.download_exiobase3(\n",
    "        storage_folder=EXIOBASE_PATH, # chemin d'installation\n",
    "        system='ixi',                 # choisir table produit-par-produit (pxp) ou industrie-par-industrie (ixi)\n",
    "        years=2019,     # quelles années télécharger\n",
    "        doi=doi                       # adresse du dépôt\n",
    "    )"
   ]
  },
  {
   "cell_type": "markdown",
   "metadata": {},
   "source": [
    "Une fois les fichiers téléchargés, il reste à importer la base de données `pymrio`. Choisir une année en particulier (2019 est recommandé)."
   ]
  },
  {
   "cell_type": "code",
   "execution_count": 6,
   "metadata": {},
   "outputs": [],
   "source": [
    "io = mr.parse_exiobase3(path=filename)"
   ]
  },
  {
   "cell_type": "markdown",
   "metadata": {},
   "source": [
    "Importer le fichier de population (intéressant pour calculer les empreintes par personne)"
   ]
  },
  {
   "cell_type": "code",
   "execution_count": 7,
   "metadata": {},
   "outputs": [],
   "source": [
    "population = pd.read_csv(EXIOBASE_PATH+'exiobase_population.txt',sep='\\t',index_col=0)\n",
    "io.population=pd.DataFrame(columns=['population'], data=population.loc[year].values, index=population.columns).T"
   ]
  },
  {
   "cell_type": "markdown",
   "metadata": {},
   "source": [
    "Enfin, le système doit être \"calculé\", pour déterminer, entre autres, les résultats d'empreinte environnementale. "
   ]
  },
  {
   "cell_type": "code",
   "execution_count": 8,
   "metadata": {},
   "outputs": [
    {
     "data": {
      "text/plain": [
       "<pymrio.core.mriosystem.IOSystem at 0x26077df3850>"
      ]
     },
     "execution_count": 8,
     "metadata": {},
     "output_type": "execute_result"
    }
   ],
   "source": [
    "io.calc_all()"
   ]
  },
  {
   "cell_type": "markdown",
   "metadata": {},
   "source": [
    "## Familiarisation avec la structure\n",
    "L'objet créé `io` contient toute la structure de la table input-output multirégionale, c'est-à-dire la table complète des coefficients/transactions monétaires entre secteurs et pays. Ce sont ces coefficients qui vont nous permettre de retracer les émissions de GES entre production et consommation.\n",
    "\n",
    "Un coefficient $a_{ij}$ représente toujours une transaction du secteur i vers le secteur j. Tout vecteur colonne représente donc l'ensemble des intrants pour un secteur donné (comme une recette de cuisine donne les ingrédients).\n",
    "\n",
    "**Toutes les matrices monétaires sont organisées de la même façon, avec un index (pays, secteur) pour les lignes et les colonnes, en M€ ou M€/M€. Les matrices contenant les émissions ont simplement une liste d'émissions en ligne, et (pays, secteur) en colonne.**"
   ]
  },
  {
   "cell_type": "markdown",
   "metadata": {},
   "source": [
    "### Pays et régions\n",
    "EXIOBASE contient les données de 49 zones géographiques, dont l'UE 27+1 en début de liste et 5 zones \"reste\" (`W...`) en fin de liste (Asie, Amérique Latine, Europe, Afrique, monde)."
   ]
  },
  {
   "cell_type": "code",
   "execution_count": 9,
   "metadata": {},
   "outputs": [
    {
     "data": {
      "text/plain": [
       "Index(['AT', 'BE', 'BG', 'CY', 'CZ', 'DE', 'DK', 'EE', 'ES', 'FI', 'FR', 'GR',\n",
       "       'HR', 'HU', 'IE', 'IT', 'LT', 'LU', 'LV', 'MT', 'NL', 'PL', 'PT', 'RO',\n",
       "       'SE', 'SI', 'SK', 'GB', 'US', 'JP', 'CN', 'CA', 'KR', 'BR', 'IN', 'MX',\n",
       "       'RU', 'AU', 'CH', 'TR', 'TW', 'NO', 'ID', 'ZA', 'WA', 'WL', 'WE', 'WF',\n",
       "       'WM'],\n",
       "      dtype='object', name='region')"
      ]
     },
     "execution_count": 9,
     "metadata": {},
     "output_type": "execute_result"
    }
   ],
   "source": [
    "io.get_regions()"
   ]
  },
  {
   "cell_type": "markdown",
   "metadata": {},
   "source": [
    "### Secteurs\n",
    "163 secteurs industriels sont disponibles. Les tableaux entrées-sorties ont donc une taille de $(49 × 163) × (49 × 163) = 7987 × 7987$."
   ]
  },
  {
   "cell_type": "code",
   "execution_count": 10,
   "metadata": {},
   "outputs": [
    {
     "data": {
      "text/plain": [
       "['Cultivation of paddy rice',\n",
       " 'Cultivation of wheat',\n",
       " 'Cultivation of cereal grains nec',\n",
       " 'Cultivation of vegetables, fruit, nuts',\n",
       " 'Cultivation of oil seeds',\n",
       " 'Cultivation of sugar cane, sugar beet',\n",
       " 'Cultivation of plant-based fibers',\n",
       " 'Cultivation of crops nec',\n",
       " 'Cattle farming',\n",
       " 'Pigs farming',\n",
       " 'Poultry farming',\n",
       " 'Meat animals nec',\n",
       " 'Animal products nec',\n",
       " 'Raw milk',\n",
       " 'Wool, silk-worm cocoons',\n",
       " 'Manure treatment (conventional), storage and land application',\n",
       " 'Manure treatment (biogas), storage and land application',\n",
       " 'Forestry, logging and related service activities (02)',\n",
       " 'Fishing, operating of fish hatcheries and fish farms; service activities incidental to fishing (05)',\n",
       " 'Mining of coal and lignite; extraction of peat (10)',\n",
       " 'Extraction of crude petroleum and services related to crude oil extraction, excluding surveying',\n",
       " 'Extraction of natural gas and services related to natural gas extraction, excluding surveying',\n",
       " 'Extraction, liquefaction, and regasification of other petroleum and gaseous materials',\n",
       " 'Mining of uranium and thorium ores (12)',\n",
       " 'Mining of iron ores',\n",
       " 'Mining of copper ores and concentrates',\n",
       " 'Mining of nickel ores and concentrates',\n",
       " 'Mining of aluminium ores and concentrates',\n",
       " 'Mining of precious metal ores and concentrates',\n",
       " 'Mining of lead, zinc and tin ores and concentrates',\n",
       " 'Mining of other non-ferrous metal ores and concentrates',\n",
       " 'Quarrying of stone',\n",
       " 'Quarrying of sand and clay',\n",
       " 'Mining of chemical and fertilizer minerals, production of salt, other mining and quarrying n.e.c.',\n",
       " 'Processing of meat cattle',\n",
       " 'Processing of meat pigs',\n",
       " 'Processing of meat poultry',\n",
       " 'Production of meat products nec',\n",
       " 'Processing vegetable oils and fats',\n",
       " 'Processing of dairy products',\n",
       " 'Processed rice',\n",
       " 'Sugar refining',\n",
       " 'Processing of Food products nec',\n",
       " 'Manufacture of beverages',\n",
       " 'Manufacture of fish products',\n",
       " 'Manufacture of tobacco products (16)',\n",
       " 'Manufacture of textiles (17)',\n",
       " 'Manufacture of wearing apparel; dressing and dyeing of fur (18)',\n",
       " 'Tanning and dressing of leather; manufacture of luggage, handbags, saddlery, harness and footwear (19)',\n",
       " 'Manufacture of wood and of products of wood and cork, except furniture; manufacture of articles of straw and plaiting materials (20)',\n",
       " 'Re-processing of secondary wood material into new wood material',\n",
       " 'Pulp',\n",
       " 'Re-processing of secondary paper into new pulp',\n",
       " 'Paper',\n",
       " 'Publishing, printing and reproduction of recorded media (22)',\n",
       " 'Manufacture of coke oven products',\n",
       " 'Petroleum Refinery',\n",
       " 'Processing of nuclear fuel',\n",
       " 'Plastics, basic',\n",
       " 'Re-processing of secondary plastic into new plastic',\n",
       " 'N-fertiliser',\n",
       " 'P- and other fertiliser',\n",
       " 'Chemicals nec',\n",
       " 'Manufacture of rubber and plastic products (25)',\n",
       " 'Manufacture of glass and glass products',\n",
       " 'Re-processing of secondary glass into new glass',\n",
       " 'Manufacture of ceramic goods',\n",
       " 'Manufacture of bricks, tiles and construction products, in baked clay',\n",
       " 'Manufacture of cement, lime and plaster',\n",
       " 'Re-processing of ash into clinker',\n",
       " 'Manufacture of other non-metallic mineral products n.e.c.',\n",
       " 'Manufacture of basic iron and steel and of ferro-alloys and first products thereof',\n",
       " 'Re-processing of secondary steel into new steel',\n",
       " 'Precious metals production',\n",
       " 'Re-processing of secondary preciuos metals into new preciuos metals',\n",
       " 'Aluminium production',\n",
       " 'Re-processing of secondary aluminium into new aluminium',\n",
       " 'Lead, zinc and tin production',\n",
       " 'Re-processing of secondary lead into new lead, zinc and tin',\n",
       " 'Copper production',\n",
       " 'Re-processing of secondary copper into new copper',\n",
       " 'Other non-ferrous metal production',\n",
       " 'Re-processing of secondary other non-ferrous metals into new other non-ferrous metals',\n",
       " 'Casting of metals',\n",
       " 'Manufacture of fabricated metal products, except machinery and equipment (28)',\n",
       " 'Manufacture of machinery and equipment n.e.c. (29)',\n",
       " 'Manufacture of office machinery and computers (30)',\n",
       " 'Manufacture of electrical machinery and apparatus n.e.c. (31)',\n",
       " 'Manufacture of radio, television and communication equipment and apparatus (32)',\n",
       " 'Manufacture of medical, precision and optical instruments, watches and clocks (33)',\n",
       " 'Manufacture of motor vehicles, trailers and semi-trailers (34)',\n",
       " 'Manufacture of other transport equipment (35)',\n",
       " 'Manufacture of furniture; manufacturing n.e.c. (36)',\n",
       " 'Recycling of waste and scrap',\n",
       " 'Recycling of bottles by direct reuse',\n",
       " 'Production of electricity by coal',\n",
       " 'Production of electricity by gas',\n",
       " 'Production of electricity by nuclear',\n",
       " 'Production of electricity by hydro',\n",
       " 'Production of electricity by wind',\n",
       " 'Production of electricity by petroleum and other oil derivatives',\n",
       " 'Production of electricity by biomass and waste',\n",
       " 'Production of electricity by solar photovoltaic',\n",
       " 'Production of electricity by solar thermal',\n",
       " 'Production of electricity by tide, wave, ocean',\n",
       " 'Production of electricity by Geothermal',\n",
       " 'Production of electricity nec',\n",
       " 'Transmission of electricity',\n",
       " 'Distribution and trade of electricity',\n",
       " 'Manufacture of gas; distribution of gaseous fuels through mains',\n",
       " 'Steam and hot water supply',\n",
       " 'Collection, purification and distribution of water (41)',\n",
       " 'Construction (45)',\n",
       " 'Re-processing of secondary construction material into aggregates',\n",
       " 'Sale, maintenance, repair of motor vehicles, motor vehicles parts, motorcycles, motor cycles parts and accessoiries',\n",
       " 'Retail sale of automotive fuel',\n",
       " 'Wholesale trade and commission trade, except of motor vehicles and motorcycles (51)',\n",
       " 'Retail trade, except of motor vehicles and motorcycles; repair of personal and household goods (52)',\n",
       " 'Hotels and restaurants (55)',\n",
       " 'Transport via railways',\n",
       " 'Other land transport',\n",
       " 'Transport via pipelines',\n",
       " 'Sea and coastal water transport',\n",
       " 'Inland water transport',\n",
       " 'Air transport (62)',\n",
       " 'Supporting and auxiliary transport activities; activities of travel agencies (63)',\n",
       " 'Post and telecommunications (64)',\n",
       " 'Financial intermediation, except insurance and pension funding (65)',\n",
       " 'Insurance and pension funding, except compulsory social security (66)',\n",
       " 'Activities auxiliary to financial intermediation (67)',\n",
       " 'Real estate activities (70)',\n",
       " 'Renting of machinery and equipment without operator and of personal and household goods (71)',\n",
       " 'Computer and related activities (72)',\n",
       " 'Research and development (73)',\n",
       " 'Other business activities (74)',\n",
       " 'Public administration and defence; compulsory social security (75)',\n",
       " 'Education (80)',\n",
       " 'Health and social work (85)',\n",
       " 'Incineration of waste: Food',\n",
       " 'Incineration of waste: Paper',\n",
       " 'Incineration of waste: Plastic',\n",
       " 'Incineration of waste: Metals and Inert materials',\n",
       " 'Incineration of waste: Textiles',\n",
       " 'Incineration of waste: Wood',\n",
       " 'Incineration of waste: Oil/Hazardous waste',\n",
       " 'Biogasification of food waste, incl. land application',\n",
       " 'Biogasification of paper, incl. land application',\n",
       " 'Biogasification of sewage slugde, incl. land application',\n",
       " 'Composting of food waste, incl. land application',\n",
       " 'Composting of paper and wood, incl. land application',\n",
       " 'Waste water treatment, food',\n",
       " 'Waste water treatment, other',\n",
       " 'Landfill of waste: Food',\n",
       " 'Landfill of waste: Paper',\n",
       " 'Landfill of waste: Plastic',\n",
       " 'Landfill of waste: Inert/metal/hazardous',\n",
       " 'Landfill of waste: Textiles',\n",
       " 'Landfill of waste: Wood',\n",
       " 'Activities of membership organisation n.e.c. (91)',\n",
       " 'Recreational, cultural and sporting activities (92)',\n",
       " 'Other service activities (93)',\n",
       " 'Private households with employed persons (95)',\n",
       " 'Extra-territorial organizations and bodies']"
      ]
     },
     "execution_count": 10,
     "metadata": {},
     "output_type": "execute_result"
    }
   ],
   "source": [
    "list(io.get_sectors())"
   ]
  },
  {
   "cell_type": "code",
   "execution_count": 11,
   "metadata": {},
   "outputs": [
    {
     "data": {
      "text/plain": [
       "(7987, 7987)"
      ]
     },
     "execution_count": 11,
     "metadata": {},
     "output_type": "execute_result"
    }
   ],
   "source": [
    "io.Z.shape"
   ]
  },
  {
   "cell_type": "markdown",
   "metadata": {},
   "source": [
    "### Z: consommation intermédiaire\n",
    "Cette matrice présente la consommation intermédiaire complète entre secteurs, en M€.\n",
    "\n",
    "Par exemple: le secteur de l'élevage bovin français a dépensé 1214 M€ en produits cultivés (non-blé, non-riz) en 2019, ainsi que 710 M€ en produits de gros, 580 M€ en produits de l'industrie agro-alimentaire, etc. À noter, 258 M€ de produits cultivés ont été importés de la région \"reste de l'Afrique\" (`WF`)."
   ]
  },
  {
   "cell_type": "code",
   "execution_count": 12,
   "metadata": {},
   "outputs": [
    {
     "data": {
      "text/plain": [
       "region  sector                                                                                             \n",
       "FR      Cultivation of crops nec                                                                               1213.973491\n",
       "        Wholesale trade and commission trade, except of motor vehicles and motorcycles (51)                     709.813893\n",
       "        Processing of Food products nec                                                                         581.217679\n",
       "        Retail trade, except of motor vehicles and motorcycles; repair of personal and household goods (52)     501.188476\n",
       "        Cultivation of cereal grains nec                                                                        384.730878\n",
       "        Manufacture of beverages                                                                                277.375923\n",
       "WF      Cultivation of crops nec                                                                                257.778025\n",
       "FR      Cultivation of wheat                                                                                    214.519508\n",
       "Name: (FR, Cattle farming), dtype: float64"
      ]
     },
     "execution_count": 12,
     "metadata": {},
     "output_type": "execute_result"
    }
   ],
   "source": [
    "io.Z['FR','Cattle farming'].sort_values(ascending=False).head(8)"
   ]
  },
  {
   "cell_type": "markdown",
   "metadata": {},
   "source": [
    "### A: coefficients de consommation intermédiaire\n",
    "La matrice `A` contient les coefficients de consommation intermédiaire, en €/€.\n",
    "\n",
    "Par exemple, quels sont les trois secteurs principaux composant les dépenses du secteur de l'électricité au gaz en France en 2019?"
   ]
  },
  {
   "cell_type": "code",
   "execution_count": 13,
   "metadata": {},
   "outputs": [
    {
     "data": {
      "text/plain": [
       "region  sector                                                                                       \n",
       "FR      Manufacture of gas; distribution of gaseous fuels through mains                                  0.525974\n",
       "NO      Extraction of natural gas and services related to natural gas extraction, excluding surveying    0.186255\n",
       "DE      Extraction of natural gas and services related to natural gas extraction, excluding surveying    0.139489\n",
       "Name: (FR, Production of electricity by gas), dtype: float64"
      ]
     },
     "execution_count": 13,
     "metadata": {},
     "output_type": "execute_result"
    }
   ],
   "source": [
    "io.A['FR','Production of electricity by gas'].sort_values(ascending=False).head(3)"
   ]
  },
  {
   "cell_type": "markdown",
   "metadata": {},
   "source": [
    "Interprétation : pour fournir 1€ d'électricité au gaz à l'économie, les coûts sont de :\n",
    "- 0.53€ en raffinage, transmission et distribution, en France,\n",
    "- 0.19€ de gaz importé de Norvège,\n",
    "- 0.14€ de gaz importé d'Allemagne."
   ]
  },
  {
   "cell_type": "markdown",
   "metadata": {},
   "source": [
    "De la même façon, on peut déterminer quels secteurs ont l'électricité au gaz française parmi leurs intrants principaux. Sans surprise, cela devrait être la transmission et la distribution d'électricité."
   ]
  },
  {
   "cell_type": "code",
   "execution_count": 14,
   "metadata": {},
   "outputs": [
    {
     "data": {
      "text/plain": [
       "region  sector                                             \n",
       "FR      Distribution and trade of electricity                  0.075094\n",
       "        Transmission of electricity                            0.073398\n",
       "        Recreational, cultural and sporting activities (92)    0.006013\n",
       "Name: (FR, Production of electricity by gas), dtype: float64"
      ]
     },
     "execution_count": 14,
     "metadata": {},
     "output_type": "execute_result"
    }
   ],
   "source": [
    "io.A.loc['FR','Production of electricity by gas'].sort_values(ascending=False).head(3)"
   ]
  },
  {
   "cell_type": "markdown",
   "metadata": {},
   "source": [
    "### Y: demande finale\n",
    "La demande finale contient les informations de consommation finale des ménages, des ONGs, et du gouvernement, ainsi que les changements d'inventaire ou la consommation de capital.\n",
    "\n",
    "Par exemple, quels sont les secteurs de dépense principaux des ménages allemands ?"
   ]
  },
  {
   "cell_type": "code",
   "execution_count": 15,
   "metadata": {},
   "outputs": [
    {
     "data": {
      "text/plain": [
       "region  sector                                                             \n",
       "DE      Real estate activities (70)                                            343369.173295\n",
       "        Hotels and restaurants (55)                                            108577.573264\n",
       "        Post and telecommunications (64)                                        89473.932576\n",
       "        Financial intermediation, except insurance and pension funding (65)     65978.802344\n",
       "        Health and social work (85)                                             65977.997346\n",
       "Name: (DE, Final consumption expenditure by households), dtype: float64"
      ]
     },
     "execution_count": 15,
     "metadata": {},
     "output_type": "execute_result"
    }
   ],
   "source": [
    "io.Y['DE','Final consumption expenditure by households'].sort_values(ascending=False).head()"
   ]
  },
  {
   "cell_type": "markdown",
   "metadata": {},
   "source": [
    "Interprétation : en 2019 les ménages allemands ont dépensé 343 milliards d'euros dans le marché de l'immobilier, 109 G€ en hotels et restaurants, 89 G€ en frais de télécommunication divers, etc."
   ]
  },
  {
   "cell_type": "markdown",
   "metadata": {},
   "source": [
    "### L: coefficients directs et indirects (inverse de Leontief)\n",
    "Cette matrice est la clé de voûte de tout le système entrée-sortie. Son développeur, Wassily Leontief, s'est vu [décerner le \"prix Nobel\" d'économie en 1973](https://www.economie.gouv.fr/facileco/wassily-leontief).\n",
    "\n",
    "La principale propriété de cette matrice, c'est qu'elle donne non seulement les coefficients d'\"input\" directs pour une industrie, par exemple le béton pour la construction, mais aussi la somme de la demande en béton nécessaire aux autres inputs de la construction, et celle des inputs des inputs, etc. couvrant ainsi la totalité de la demande en béton directe et indirecte pour satisfaire la demande de construction.\n",
    "\n",
    "Illustrons cet exemple par le calcul:"
   ]
  },
  {
   "cell_type": "code",
   "execution_count": 16,
   "metadata": {},
   "outputs": [],
   "source": [
    "index=((slice(None),'Manufacture of cement, lime and plaster'),\n",
    "         ('FR','Construction (45)'))"
   ]
  },
  {
   "cell_type": "code",
   "execution_count": 17,
   "metadata": {},
   "outputs": [],
   "source": [
    "# facteurs directs\n",
    "direct = io.A.loc[index].sort_values(ascending=False).head()"
   ]
  },
  {
   "cell_type": "code",
   "execution_count": 18,
   "metadata": {},
   "outputs": [],
   "source": [
    "# facteurs directs ET indirects\n",
    "direct_indirect = io.L.loc[index].sort_values(ascending=False).head()"
   ]
  },
  {
   "cell_type": "code",
   "execution_count": 19,
   "metadata": {},
   "outputs": [],
   "source": [
    "# calculons la différence\n",
    "indirect = (direct_indirect - direct)"
   ]
  },
  {
   "cell_type": "code",
   "execution_count": 20,
   "metadata": {},
   "outputs": [
    {
     "data": {
      "text/plain": [
       "<AxesSubplot:xlabel='region'>"
      ]
     },
     "execution_count": 20,
     "metadata": {},
     "output_type": "execute_result"
    },
    {
     "data": {
      "image/png": "[encoded data removed]",
      "text/plain": [
       "<Figure size 288x216 with 1 Axes>"
      ]
     },
     "metadata": {
      "needs_background": "light"
     },
     "output_type": "display_data"
    }
   ],
   "source": [
    "pd.concat([direct,indirect],axis=1,keys=('direct','indirect')).sort_values(by='direct',ascending=False).head().droplevel(1).plot(kind='bar',stacked=True,figsize=(4,3))"
   ]
  },
  {
   "cell_type": "markdown",
   "metadata": {},
   "source": [
    "Interprétation : le secteur de la construction en France requiert un peu plus de 0.03€ de ciment (FR) par € fourni à l'économie, mais plus de 0.04€ en incluant le ciment nécessaire à tous les autres secteurs requis pour la construction."
   ]
  },
  {
   "cell_type": "markdown",
   "metadata": {},
   "source": [
    "### Matrices \"satellites\"\n",
    "Les matrices satellites sont les homologues de Z et A, mais en termes de facteurs de production, de valeur ajoutée, et d'émissions de substances."
   ]
  },
  {
   "cell_type": "markdown",
   "metadata": {},
   "source": [
    "#### F: facteurs de production\n",
    "Les facteurs de production sont simplement les \"ressources primaires\" (capital, emploi, ressources naturelles, émissions de substances). Cette matrice constitue l'interface entre l'économie et le reste de l'environnement."
   ]
  },
  {
   "cell_type": "markdown",
   "metadata": {},
   "source": [
    "On peut y trouver les informations sur les salaires, par exemple la masse salariale du secteur de la santé au Royaume-Uni se composait de 4.6/59/89 milliards d'euros en emplois non-qualifiés/intermédiaires/qualifiés en 2019. Ce secteur a par ailleurs émis 2.2 millions de tonnes de CO2 (en émissions directes dues à la combustion de carburants fossiles)."
   ]
  },
  {
   "cell_type": "code",
   "execution_count": 21,
   "metadata": {},
   "outputs": [
    {
     "data": {
      "text/plain": [
       "stressor\n",
       "Taxes less subsidies on products purchased: Total                                                 6359.466983\n",
       "Other net taxes on production                                                                      373.229764\n",
       "Compensation of employees; wages, salaries, & employers' social contributions: Low-skilled        4589.108985\n",
       "Compensation of employees; wages, salaries, & employers' social contributions: Medium-skilled    59381.604405\n",
       "Compensation of employees; wages, salaries, & employers' social contributions: High-skilled      89403.465875\n",
       "Name: (GB, Health and social work (85)), dtype: float64"
      ]
     },
     "execution_count": 21,
     "metadata": {},
     "output_type": "execute_result"
    }
   ],
   "source": [
    "io.satellite.F['GB','Health and social work (85)'].head()"
   ]
  },
  {
   "cell_type": "code",
   "execution_count": 22,
   "metadata": {},
   "outputs": [
    {
     "data": {
      "text/plain": [
       "2227922410.73"
      ]
     },
     "execution_count": 22,
     "metadata": {},
     "output_type": "execute_result"
    }
   ],
   "source": [
    "io.satellite.F.loc['CO2 - combustion - air',('GB','Health and social work (85)')]"
   ]
  },
  {
   "cell_type": "markdown",
   "metadata": {},
   "source": [
    "#### S: coefficients\n",
    "Les coefficients satellites sont l'équivalent de la matrice A pour les facteurs de production. Par exemple, combien de CO2 a été émis pour fournir 1€ de services de santé au Royaume-Uni ?"
   ]
  },
  {
   "cell_type": "code",
   "execution_count": 23,
   "metadata": {
    "scrolled": true
   },
   "outputs": [
    {
     "data": {
      "text/plain": [
       "6620.92541171"
      ]
     },
     "execution_count": 23,
     "metadata": {},
     "output_type": "execute_result"
    }
   ],
   "source": [
    "io.satellite.S.loc['CO2 - combustion - air',('GB','Health and social work (85)')]"
   ]
  },
  {
   "cell_type": "markdown",
   "metadata": {},
   "source": [
    "## Calculs d'impact\n",
    "Les matrices satellite D sont celles qui nous intéressent pour ce projet.\n",
    "\n",
    "- D_pba: inventaire national (production-based accounts),\n",
    "- D_cba: empreinte (consumption-based accounts).\n",
    "\n",
    "Elles se déclinent en\n",
    "- ..._reg: résultats agrégés au niveau de la région\n",
    "- ..._cap: résultats par personne"
   ]
  },
  {
   "cell_type": "markdown",
   "metadata": {},
   "source": [
    "### Émissions territoriales"
   ]
  },
  {
   "cell_type": "code",
   "execution_count": 24,
   "metadata": {},
   "outputs": [
    {
     "data": {
      "text/plain": [
       "region  sector                                             \n",
       "AT      Cultivation of paddy rice                              0.000000e+00\n",
       "        Cultivation of wheat                                   2.621157e+08\n",
       "        Cultivation of cereal grains nec                       2.353410e+08\n",
       "        Cultivation of vegetables, fruit, nuts                 1.043426e+08\n",
       "        Cultivation of oil seeds                               4.583117e+07\n",
       "                                                                   ...     \n",
       "WM      Activities of membership organisation n.e.c. (91)      2.484401e+08\n",
       "        Recreational, cultural and sporting activities (92)    4.717884e+08\n",
       "        Other service activities (93)                          3.388487e+08\n",
       "        Private households with employed persons (95)          7.695058e+07\n",
       "        Extra-territorial organizations and bodies             0.000000e+00\n",
       "Name: CO2 - combustion - air, Length: 7987, dtype: float64"
      ]
     },
     "execution_count": 24,
     "metadata": {},
     "output_type": "execute_result"
    }
   ],
   "source": [
    "# D_pba: production-based account\n",
    "# Cette matrice nous donne tout simplement les facteurs de production, c'est l'équivalent de F\n",
    "\n",
    "# Émissions directes de CO2 par secteur\n",
    "io.satellite.D_pba.loc['CO2 - combustion - air']"
   ]
  },
  {
   "cell_type": "markdown",
   "metadata": {},
   "source": [
    "Affichons les inventaires de CO2 pour tous les pays de la base de données."
   ]
  },
  {
   "cell_type": "code",
   "execution_count": 25,
   "metadata": {},
   "outputs": [
    {
     "data": {
      "text/plain": [
       "<AxesSubplot:ylabel='Émissions de CO2, 2019, Mt'>"
      ]
     },
     "execution_count": 25,
     "metadata": {},
     "output_type": "execute_result"
    },
    {
     "data": {
      "image/png": "[encoded data removed]",
      "text/plain": [
       "<Figure size 1440x360 with 1 Axes>"
      ]
     },
     "metadata": {
      "needs_background": "light"
     },
     "output_type": "display_data"
    }
   ],
   "source": [
    "emissions_CO2_inventaire = io.satellite.D_pba_reg.loc['CO2 - combustion - air']*1e-9\n",
    "emissions_CO2_inventaire.sort_values(ascending=False).plot(kind='bar', figsize=(20,5), ylabel='Émissions de CO2, 2019, Mt')"
   ]
  },
  {
   "cell_type": "code",
   "execution_count": 26,
   "metadata": {},
   "outputs": [
    {
     "data": {
      "text/plain": [
       "229.88587851000003"
      ]
     },
     "execution_count": 26,
     "metadata": {},
     "output_type": "execute_result"
    }
   ],
   "source": [
    "emissions_CO2_inventaire['FR']"
   ]
  },
  {
   "cell_type": "markdown",
   "metadata": {},
   "source": [
    "La valeur pour la France semble faible si on est déjà familier avec [les chiffres (305 Mt en 2019)](https://www.statistiques.developpement-durable.gouv.fr/sites/default/files/2020-12/datalab_81_chiffres_cles_du_climat_edition_2021.pdf?page=44), pourquoi ?"
   ]
  },
  {
   "cell_type": "markdown",
   "metadata": {},
   "source": [
    "D'abord il faut considérer les gaz à effet de serre principaux."
   ]
  },
  {
   "cell_type": "code",
   "execution_count": 27,
   "metadata": {},
   "outputs": [
    {
     "data": {
      "text/plain": [
       "CO2 - combustion - air      1.0\n",
       "CH4 - combustion - air     36.0\n",
       "N2O - combustion - air    298.0\n",
       "Name: Climate change, short term (kg CO2 eq (short)), dtype: float64"
      ]
     },
     "execution_count": 27,
     "metadata": {},
     "output_type": "execute_result"
    }
   ],
   "source": [
    "GWP_factors_all = pd.read_excel(EXIOBASE_PATH + 'GWP100_EXIOBASE_factors.xlsx',index_col=0,squeeze=True)\n",
    "GWP_factors = GWP_factors_all[['CO2 - combustion - air','CH4 - combustion - air','N2O - combustion - air']]\n",
    "GWP_factors"
   ]
  },
  {
   "cell_type": "code",
   "execution_count": 28,
   "metadata": {},
   "outputs": [],
   "source": [
    "GWP_factors_all = GWP_factors_all.reindex(io.satellite.D_pba_reg.index, fill_value=0)\n",
    "GWP_factors = GWP_factors.reindex(io.satellite.D_pba_reg.index, fill_value=0)\n",
    "emissions_GES_inventaire = GWP_factors.dot(io.satellite.D_pba_reg)*1e-9"
   ]
  },
  {
   "cell_type": "code",
   "execution_count": 29,
   "metadata": {
    "scrolled": true
   },
   "outputs": [
    {
     "data": {
      "text/plain": [
       "233.74170233575614"
      ]
     },
     "execution_count": 29,
     "metadata": {},
     "output_type": "execute_result"
    }
   ],
   "source": [
    "emissions_GES_inventaire['FR']"
   ]
  },
  {
   "cell_type": "markdown",
   "metadata": {},
   "source": [
    "Un peu mieux. Ensuite il faut y ajouter les émissions directes de la consommation finale (ce que les ménages ou l'administration émettent via l'utilisation de voitures, chauffage, ...). Ces valeurs sont contenues dans `F_Y`."
   ]
  },
  {
   "cell_type": "code",
   "execution_count": 30,
   "metadata": {},
   "outputs": [],
   "source": [
    "emissions_GES_finales = GWP_factors.dot(io.satellite.F_Y).groupby('region').sum()*1e-9"
   ]
  },
  {
   "cell_type": "code",
   "execution_count": 31,
   "metadata": {},
   "outputs": [
    {
     "data": {
      "text/plain": [
       "312.0015119720357"
      ]
     },
     "execution_count": 31,
     "metadata": {},
     "output_type": "execute_result"
    }
   ],
   "source": [
    "(emissions_GES_inventaire + emissions_GES_finales)['FR']"
   ]
  },
  {
   "cell_type": "markdown",
   "metadata": {},
   "source": [
    "Voilà qui est plus en accord avec les estimations du SDES."
   ]
  },
  {
   "cell_type": "markdown",
   "metadata": {},
   "source": [
    "### Empreinte carbone\n",
    "On appelle l'empreinte carbone la somme des émissions liées à la consommation finale, en gaz à effet de serre (\"carbone\" étant un abus de langage). C'est `D_cba` qui nous donne les valeurs.\n",
    "\n",
    "Ce calcul s'appuie sur l'inverse de Leontief, qui permet de remonter les chaînes de valeur jusqu'à la production primaire pour chaque secteur, y compris via les échanges entre pays.\n",
    "\n",
    "Formellement, le calcul est \n",
    "\n",
    "$$D_{cba} = S L \\hat{y}$$\n",
    "\n",
    "Même principe qu'au-dessus pour le calcul en GES."
   ]
  },
  {
   "cell_type": "code",
   "execution_count": 32,
   "metadata": {},
   "outputs": [
    {
     "data": {
      "text/plain": [
       "<AxesSubplot:ylabel='Émissions de GES, 2019, Mt CO2 eq.'>"
      ]
     },
     "execution_count": 32,
     "metadata": {},
     "output_type": "execute_result"
    },
    {
     "data": {
      "image/png": "[encoded data removed]",
      "text/plain": [
       "<Figure size 1440x360 with 1 Axes>"
      ]
     },
     "metadata": {
      "needs_background": "light"
     },
     "output_type": "display_data"
    }
   ],
   "source": [
    "emissions_GES_empreinte = GWP_factors_all.dot(io.satellite.D_cba_reg)*1e-9\n",
    "emissions_GES_empreinte.sort_values(ascending=False).plot(kind='bar', figsize=(20,5), ylabel='Émissions de GES, 2019, Mt CO2 eq.')"
   ]
  },
  {
   "cell_type": "markdown",
   "metadata": {},
   "source": [
    "Empreinte carbone de la France en 2019, en Mt CO2 eq."
   ]
  },
  {
   "cell_type": "code",
   "execution_count": 33,
   "metadata": {},
   "outputs": [
    {
     "data": {
      "text/plain": [
       "686.0664270402981"
      ]
     },
     "execution_count": 33,
     "metadata": {},
     "output_type": "execute_result"
    }
   ],
   "source": [
    "(emissions_GES_empreinte + emissions_GES_finales)['FR']"
   ]
  },
  {
   "cell_type": "markdown",
   "metadata": {},
   "source": [
    "### Comparaison émissions territoriale/empreinte"
   ]
  },
  {
   "cell_type": "code",
   "execution_count": 45,
   "metadata": {},
   "outputs": [],
   "source": [
    "comp = pd.concat([(emissions_GES_inventaire + emissions_GES_finales),\n",
    "           (emissions_GES_empreinte + emissions_GES_finales)],\n",
    "          keys=('Inventaire national','Empreinte'),\n",
    "          axis=1).sort_values(by='Empreinte')"
   ]
  },
  {
   "cell_type": "code",
   "execution_count": 54,
   "metadata": {},
   "outputs": [
    {
     "data": {
      "image/png": "[encoded data removed]",
      "text/plain": [
       "<Figure size 720x1440 with 1 Axes>"
      ]
     },
     "metadata": {
      "needs_background": "light"
     },
     "output_type": "display_data"
    }
   ],
   "source": [
    "ax = comp.plot(kind='barh', figsize=(10,20), title='Émissions de GES, 2019, Mt CO2 eq.', width=0.7)\n",
    "\n",
    "for p in ax.patches:\n",
    "    ax.annotate(f'{p.get_width():.0f}', (p.get_width()+200, p.get_y()), fontsize=8)"
   ]
  },
  {
   "cell_type": "markdown",
   "metadata": {},
   "source": [
    "### Idées d'exercice.\n",
    "\n",
    "Groupe S18: Questions données\n",
    "- Depuis quels principaux pays la France importe-t-elle son empreinte carbone ?\n",
    "- Quels secteurs de l'économie importent le plus ? le moins ?\n",
    "- Quels sont les p\n",
    "\n",
    "Groupe S19\n",
    "- D'autres sources d'empreinte existent, notamment: \n",
    "    - Eora database https://worldmrio.com/\n",
    "    - Global Carbon Project https://doi.org/10.5194/essd-12-3269-2020\n",
    "    - Calculs du SDES https://www.statistiques.developpement-durable.gouv.fr/sites/default/files/2020-12/datalab_81_chiffres_cles_du_climat_edition_2021.pdf?page=44\n",
    "    ...en quoi ces sources diffèrent-elles ?\n",
    "- Quels sont les intérêts"
   ]
  }
 ],
 "metadata": {
  "kernelspec": {
   "display_name": "Python 3",
   "language": "python",
   "name": "python3"
  },
  "language_info": {
   "codemirror_mode": {
    "name": "ipython",
    "version": 3
   },
   "file_extension": ".py",
   "mimetype": "text/x-python",
   "name": "python",
   "nbconvert_exporter": "python",
   "pygments_lexer": "ipython3",
   "version": "3.8.5"
  }
 },
 "nbformat": 4,
 "nbformat_minor": 4
}
