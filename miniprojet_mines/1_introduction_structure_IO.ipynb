{
 "cells": [
  {
   "cell_type": "markdown",
   "metadata": {},
   "source": [
    "# Mini-projets UE14 Mines ParisTech 2023 S25 et S26\n",
    "Ce notebook contient les informations et les données nécessaires aux calculs proposés dans les sujets 18 et 19 des mini-projets de l'UE14 2021, 7 et 8 de 2022, 25 et 26 de 2023.\n",
    "\n",
    "Liens vers les descriptions:\n",
    "- 2021\n",
    "    - Sujet 17 \"Comment l’empreinte carbone des pays est-elle calculée ?\" https://docs.google.com/document/d/1GijTxGaNKpwpeuGNfZtfMtOGAOAMh2EOAmpkwYa-2fw/edit\n",
    "    - Sujet 18 \"Réconcilier les méthodes de calcul d’empreinte carbone\" https://docs.google.com/document/d/19Fh1tyZqaGFunaKeC_HXfsHgXBtz8TAHyeoS2fcGRxE/edit\n",
    "- 2022\n",
    "    - Sujet 7 https://docs.google.com/document/d/1GijTxGaNKpwpeuGNfZtfMtOGAOAMh2EOAmpkwYa-2fw/edit\n",
    "    - Sujet 8 https://docs.google.com/document/d/19Fh1tyZqaGFunaKeC_HXfsHgXBtz8TAHyeoS2fcGRxE/edit\n",
    "- 2023\n",
    "    - Sujet 25 https://docs.google.com/document/d/1BEu4DROKIqwM4sSG9NrSDB6v-UEzvp_FuDm7g1pUgvs/edit\n",
    "    - Sujet 26 https://docs.google.com/document/d/11u6_HJ36JE7G-8tbXz3EvFLguWQ_QpQ-uFiBww56FDU/edit\n",
    "\n",
    "Pour toute question: <thomas.gibon@list.lu>"
   ]
  },
  {
   "cell_type": "markdown",
   "metadata": {},
   "source": [
    "Ce dont vous aurez besoin pour ce mini-projet:\n",
    "\n",
    "1. l'installation de la distribution Anaconda (ou Miniconda), qui contient déjà tous les modules Python de base pour les calculs (numpy, pandas, ...), les instructions d'installation sont disponibles [ici](https://docs.anaconda.com/anaconda/install/index.html).\n",
    "\n",
    "\n",
    "2. un environnement `conda` dédié au projet (pas nécessaire, mais recommandé) en procédant ainsi:\n",
    "    - ouvrir un terminal (`cmd` sous Windows),\n",
    "    - créer l'environnement en ligne de commande `conda create -n io`,\n",
    "    - activer l'environnement `activate io` ou `conda activate io`\n",
    "\n",
    "\n",
    "   \n",
    "3. installer `pymrio` à partir de https://anaconda.org/conda-forge/pymrio\n",
    "    - en ligne de commande, s'assurer que l'environnement `io` est activé\n",
    "    - installer le package `conda install -c conda-forge pymrio`"
   ]
  },
  {
   "cell_type": "code",
   "execution_count": 2,
   "metadata": {},
   "outputs": [],
   "source": [
    "import pymrio as mr\n",
    "import pandas as pd\n",
    "import numpy as np\n",
    "from scipy.linalg import block_diag\n",
    "import seaborn as sns\n",
    "import matplotlib\n",
    "import matplotlib.pyplot as plt\n",
    "import os\n",
    "%matplotlib inline"
   ]
  },
  {
   "cell_type": "code",
   "execution_count": 3,
   "metadata": {},
   "outputs": [],
   "source": [
    "# Si vous voulez enregistrer/charger rapidement\n",
    "import pickle"
   ]
  },
  {
   "cell_type": "markdown",
   "metadata": {},
   "source": [
    "## Télécharger la base de données EXIOBASE\n",
    "La première chose à faire est de récupérer la ou les tables input-output EXIOBASE, à partir du dernier dépôt Zenodo.\n",
    "Une fois les données téléchargées, les importer, et vous êtes prêts à les utiliser."
   ]
  },
  {
   "cell_type": "code",
   "execution_count": 4,
   "metadata": {},
   "outputs": [],
   "source": [
    "# Adresse de la base de données\n",
    "doi = '10.5281/zenodo.5589597'"
   ]
  },
  {
   "cell_type": "markdown",
   "metadata": {},
   "source": [
    "Choisir le répertoire d'installation."
   ]
  },
  {
   "cell_type": "code",
   "execution_count": 5,
   "metadata": {},
   "outputs": [],
   "source": [
    "EXIOBASE_PATH = '../EXIOBASE/' # ne pas hésiter à changer"
   ]
  },
  {
   "cell_type": "code",
   "execution_count": 6,
   "metadata": {},
   "outputs": [],
   "source": [
    "# La dernière année relativement fiable est 2019\n",
    "year = 2019\n",
    "filename = EXIOBASE_PATH+'IOT_{}_ixi.zip'.format(year)"
   ]
  },
  {
   "cell_type": "markdown",
   "metadata": {},
   "source": [
    "Lancer le téléchargement avec la commande dédiée.\n",
    "\n",
    "Attention, les données sont volumineuses, si vous avez déjà téléchargé une fois, il est inutile de recommencer. Préférer le réseau de l'école si possible (sauf si vous avez la fibre...)."
   ]
  },
  {
   "cell_type": "code",
   "execution_count": 7,
   "metadata": {
    "tags": []
   },
   "outputs": [],
   "source": [
    "if not os.path.isfile(filename):\n",
    "    exio_meta = mr.download_exiobase3(\n",
    "        storage_folder=EXIOBASE_PATH, # chemin d'installation\n",
    "        system='ixi',                 # choisir table produit-par-produit (pxp) ou industrie-par-industrie (ixi)\n",
    "        years=year,                   # quelles années télécharger\n",
    "        doi=doi                       # adresse du dépôt\n",
    "    )"
   ]
  },
  {
   "cell_type": "markdown",
   "metadata": {},
   "source": [
    "Une fois les fichiers téléchargés, il reste à importer la base de données `pymrio`. Choisir une année en particulier (2019 est recommandé)."
   ]
  },
  {
   "cell_type": "code",
   "execution_count": 8,
   "metadata": {},
   "outputs": [],
   "source": [
    "io = mr.parse_exiobase3(path=filename)"
   ]
  },
  {
   "cell_type": "markdown",
   "metadata": {},
   "source": [
    "Importer le fichier de population (intéressant pour calculer les empreintes par personne)"
   ]
  },
  {
   "cell_type": "code",
   "execution_count": 9,
   "metadata": {},
   "outputs": [],
   "source": [
    "population = pd.read_csv(EXIOBASE_PATH+'exiobase_population.txt',sep='\\t',index_col=0)\n",
    "io.population=pd.DataFrame(columns=['population'], data=population.loc[year].values, index=population.columns).T"
   ]
  },
  {
   "cell_type": "markdown",
   "metadata": {},
   "source": [
    "Enfin, le système doit être \"calculé\", pour déterminer, entre autres, les résultats d'empreinte environnementale.\n",
    "\n",
    "En effet, les données primaires du système sont la consommation intermédiaire et la demande finale, ainsi que les impacts environnementaux par secteur. Pour calculer une empreinte il nous faut des coefficients, ce que calcule `calc_all()`. Tout ça est expliqué dans la section suivante."
   ]
  },
  {
   "cell_type": "code",
   "execution_count": 10,
   "metadata": {},
   "outputs": [
    {
     "data": {
      "text/plain": [
       "<pymrio.core.mriosystem.IOSystem at 0x1c67d884390>"
      ]
     },
     "execution_count": 10,
     "metadata": {},
     "output_type": "execute_result"
    }
   ],
   "source": [
    "io.calc_all()"
   ]
  },
  {
   "cell_type": "markdown",
   "metadata": {},
   "source": [
    "La cellule suivante permet d'aller plus rapidement si vous avez besoin de recharger la table."
   ]
  },
  {
   "cell_type": "code",
   "execution_count": 11,
   "metadata": {},
   "outputs": [],
   "source": [
    "# Enregistrer\n",
    "with open(EXIOBASE_PATH + f'IOT_{year}_ixi.pickle', 'wb') as handle:\n",
    "    pickle.dump(io, handle, protocol=pickle.HIGHEST_PROTOCOL)\n",
    "\n",
    "# Charger\n",
    "with open(EXIOBASE_PATH + f'IOT_{year}_ixi.pickle', 'rb') as handle:\n",
    "    io = pickle.load(handle)\n"
   ]
  },
  {
   "cell_type": "markdown",
   "metadata": {},
   "source": [
    "## Familiarisation avec la structure\n",
    "L'objet créé `io` contient toute la structure de la table input-output multirégionale, c'est-à-dire la table complète des coefficients/transactions monétaires entre secteurs et pays. Ce sont ces coefficients qui vont nous permettre de retracer les émissions de GES entre production et consommation.\n",
    "\n",
    "Un coefficient $a_{ij}$ représente toujours une transaction du secteur i vers le secteur j. Tout vecteur colonne représente donc l'ensemble des intrants pour un secteur donné (comme une recette de cuisine donne les ingrédients).\n",
    "\n",
    "**Toutes les matrices monétaires sont organisées de la même façon, avec un index (pays, secteur) pour les lignes et les colonnes, en M€ ou M€/M€. Les matrices contenant les émissions ont simplement une liste d'émissions en ligne, et (pays, secteur) en colonne.**"
   ]
  },
  {
   "cell_type": "markdown",
   "metadata": {},
   "source": [
    "### Pays et régions\n",
    "EXIOBASE contient les données de 49 zones géographiques, dont l'UE 27+1 en début de liste et 5 zones \"reste\" (`W...`) en fin de liste (Asie, Amérique Latine, Europe, Afrique, monde)."
   ]
  },
  {
   "cell_type": "code",
   "execution_count": 12,
   "metadata": {},
   "outputs": [
    {
     "data": {
      "text/plain": [
       "Index(['AT', 'BE', 'BG', 'CY', 'CZ', 'DE', 'DK', 'EE', 'ES', 'FI', 'FR', 'GR',\n",
       "       'HR', 'HU', 'IE', 'IT', 'LT', 'LU', 'LV', 'MT', 'NL', 'PL', 'PT', 'RO',\n",
       "       'SE', 'SI', 'SK', 'GB', 'US', 'JP', 'CN', 'CA', 'KR', 'BR', 'IN', 'MX',\n",
       "       'RU', 'AU', 'CH', 'TR', 'TW', 'NO', 'ID', 'ZA', 'WA', 'WL', 'WE', 'WF',\n",
       "       'WM'],\n",
       "      dtype='object', name='region')"
      ]
     },
     "execution_count": 12,
     "metadata": {},
     "output_type": "execute_result"
    }
   ],
   "source": [
    "io.get_regions()"
   ]
  },
  {
   "cell_type": "markdown",
   "metadata": {},
   "source": [
    "### Secteurs\n",
    "163 secteurs industriels sont disponibles. Les tableaux entrées-sorties ont donc une taille de $(49 × 163) × (49 × 163) = 7987 × 7987$. Chaque élément de la table nous donne la valeur des transactions annuelles entre un secteur d'un pays, et un autre secteur, d'un autre pays."
   ]
  },
  {
   "cell_type": "code",
   "execution_count": 13,
   "metadata": {
    "scrolled": true,
    "tags": []
   },
   "outputs": [
    {
     "data": {
      "text/plain": [
       "['Cultivation of paddy rice',\n",
       " 'Cultivation of wheat',\n",
       " 'Cultivation of cereal grains nec',\n",
       " 'Cultivation of vegetables, fruit, nuts',\n",
       " 'Cultivation of oil seeds',\n",
       " 'Cultivation of sugar cane, sugar beet',\n",
       " 'Cultivation of plant-based fibers',\n",
       " 'Cultivation of crops nec',\n",
       " 'Cattle farming',\n",
       " 'Pigs farming',\n",
       " 'Poultry farming',\n",
       " 'Meat animals nec',\n",
       " 'Animal products nec',\n",
       " 'Raw milk',\n",
       " 'Wool, silk-worm cocoons',\n",
       " 'Manure treatment (conventional), storage and land application',\n",
       " 'Manure treatment (biogas), storage and land application',\n",
       " 'Forestry, logging and related service activities (02)',\n",
       " 'Fishing, operating of fish hatcheries and fish farms; service activities incidental to fishing (05)',\n",
       " 'Mining of coal and lignite; extraction of peat (10)',\n",
       " 'Extraction of crude petroleum and services related to crude oil extraction, excluding surveying',\n",
       " 'Extraction of natural gas and services related to natural gas extraction, excluding surveying',\n",
       " 'Extraction, liquefaction, and regasification of other petroleum and gaseous materials',\n",
       " 'Mining of uranium and thorium ores (12)',\n",
       " 'Mining of iron ores',\n",
       " 'Mining of copper ores and concentrates',\n",
       " 'Mining of nickel ores and concentrates',\n",
       " 'Mining of aluminium ores and concentrates',\n",
       " 'Mining of precious metal ores and concentrates',\n",
       " 'Mining of lead, zinc and tin ores and concentrates',\n",
       " 'Mining of other non-ferrous metal ores and concentrates',\n",
       " 'Quarrying of stone',\n",
       " 'Quarrying of sand and clay',\n",
       " 'Mining of chemical and fertilizer minerals, production of salt, other mining and quarrying n.e.c.',\n",
       " 'Processing of meat cattle',\n",
       " 'Processing of meat pigs',\n",
       " 'Processing of meat poultry',\n",
       " 'Production of meat products nec',\n",
       " 'Processing vegetable oils and fats',\n",
       " 'Processing of dairy products',\n",
       " 'Processed rice',\n",
       " 'Sugar refining',\n",
       " 'Processing of Food products nec',\n",
       " 'Manufacture of beverages',\n",
       " 'Manufacture of fish products',\n",
       " 'Manufacture of tobacco products (16)',\n",
       " 'Manufacture of textiles (17)',\n",
       " 'Manufacture of wearing apparel; dressing and dyeing of fur (18)',\n",
       " 'Tanning and dressing of leather; manufacture of luggage, handbags, saddlery, harness and footwear (19)',\n",
       " 'Manufacture of wood and of products of wood and cork, except furniture; manufacture of articles of straw and plaiting materials (20)',\n",
       " 'Re-processing of secondary wood material into new wood material',\n",
       " 'Pulp',\n",
       " 'Re-processing of secondary paper into new pulp',\n",
       " 'Paper',\n",
       " 'Publishing, printing and reproduction of recorded media (22)',\n",
       " 'Manufacture of coke oven products',\n",
       " 'Petroleum Refinery',\n",
       " 'Processing of nuclear fuel',\n",
       " 'Plastics, basic',\n",
       " 'Re-processing of secondary plastic into new plastic',\n",
       " 'N-fertiliser',\n",
       " 'P- and other fertiliser',\n",
       " 'Chemicals nec',\n",
       " 'Manufacture of rubber and plastic products (25)',\n",
       " 'Manufacture of glass and glass products',\n",
       " 'Re-processing of secondary glass into new glass',\n",
       " 'Manufacture of ceramic goods',\n",
       " 'Manufacture of bricks, tiles and construction products, in baked clay',\n",
       " 'Manufacture of cement, lime and plaster',\n",
       " 'Re-processing of ash into clinker',\n",
       " 'Manufacture of other non-metallic mineral products n.e.c.',\n",
       " 'Manufacture of basic iron and steel and of ferro-alloys and first products thereof',\n",
       " 'Re-processing of secondary steel into new steel',\n",
       " 'Precious metals production',\n",
       " 'Re-processing of secondary preciuos metals into new preciuos metals',\n",
       " 'Aluminium production',\n",
       " 'Re-processing of secondary aluminium into new aluminium',\n",
       " 'Lead, zinc and tin production',\n",
       " 'Re-processing of secondary lead into new lead, zinc and tin',\n",
       " 'Copper production',\n",
       " 'Re-processing of secondary copper into new copper',\n",
       " 'Other non-ferrous metal production',\n",
       " 'Re-processing of secondary other non-ferrous metals into new other non-ferrous metals',\n",
       " 'Casting of metals',\n",
       " 'Manufacture of fabricated metal products, except machinery and equipment (28)',\n",
       " 'Manufacture of machinery and equipment n.e.c. (29)',\n",
       " 'Manufacture of office machinery and computers (30)',\n",
       " 'Manufacture of electrical machinery and apparatus n.e.c. (31)',\n",
       " 'Manufacture of radio, television and communication equipment and apparatus (32)',\n",
       " 'Manufacture of medical, precision and optical instruments, watches and clocks (33)',\n",
       " 'Manufacture of motor vehicles, trailers and semi-trailers (34)',\n",
       " 'Manufacture of other transport equipment (35)',\n",
       " 'Manufacture of furniture; manufacturing n.e.c. (36)',\n",
       " 'Recycling of waste and scrap',\n",
       " 'Recycling of bottles by direct reuse',\n",
       " 'Production of electricity by coal',\n",
       " 'Production of electricity by gas',\n",
       " 'Production of electricity by nuclear',\n",
       " 'Production of electricity by hydro',\n",
       " 'Production of electricity by wind',\n",
       " 'Production of electricity by petroleum and other oil derivatives',\n",
       " 'Production of electricity by biomass and waste',\n",
       " 'Production of electricity by solar photovoltaic',\n",
       " 'Production of electricity by solar thermal',\n",
       " 'Production of electricity by tide, wave, ocean',\n",
       " 'Production of electricity by Geothermal',\n",
       " 'Production of electricity nec',\n",
       " 'Transmission of electricity',\n",
       " 'Distribution and trade of electricity',\n",
       " 'Manufacture of gas; distribution of gaseous fuels through mains',\n",
       " 'Steam and hot water supply',\n",
       " 'Collection, purification and distribution of water (41)',\n",
       " 'Construction (45)',\n",
       " 'Re-processing of secondary construction material into aggregates',\n",
       " 'Sale, maintenance, repair of motor vehicles, motor vehicles parts, motorcycles, motor cycles parts and accessoiries',\n",
       " 'Retail sale of automotive fuel',\n",
       " 'Wholesale trade and commission trade, except of motor vehicles and motorcycles (51)',\n",
       " 'Retail trade, except of motor vehicles and motorcycles; repair of personal and household goods (52)',\n",
       " 'Hotels and restaurants (55)',\n",
       " 'Transport via railways',\n",
       " 'Other land transport',\n",
       " 'Transport via pipelines',\n",
       " 'Sea and coastal water transport',\n",
       " 'Inland water transport',\n",
       " 'Air transport (62)',\n",
       " 'Supporting and auxiliary transport activities; activities of travel agencies (63)',\n",
       " 'Post and telecommunications (64)',\n",
       " 'Financial intermediation, except insurance and pension funding (65)',\n",
       " 'Insurance and pension funding, except compulsory social security (66)',\n",
       " 'Activities auxiliary to financial intermediation (67)',\n",
       " 'Real estate activities (70)',\n",
       " 'Renting of machinery and equipment without operator and of personal and household goods (71)',\n",
       " 'Computer and related activities (72)',\n",
       " 'Research and development (73)',\n",
       " 'Other business activities (74)',\n",
       " 'Public administration and defence; compulsory social security (75)',\n",
       " 'Education (80)',\n",
       " 'Health and social work (85)',\n",
       " 'Incineration of waste: Food',\n",
       " 'Incineration of waste: Paper',\n",
       " 'Incineration of waste: Plastic',\n",
       " 'Incineration of waste: Metals and Inert materials',\n",
       " 'Incineration of waste: Textiles',\n",
       " 'Incineration of waste: Wood',\n",
       " 'Incineration of waste: Oil/Hazardous waste',\n",
       " 'Biogasification of food waste, incl. land application',\n",
       " 'Biogasification of paper, incl. land application',\n",
       " 'Biogasification of sewage slugde, incl. land application',\n",
       " 'Composting of food waste, incl. land application',\n",
       " 'Composting of paper and wood, incl. land application',\n",
       " 'Waste water treatment, food',\n",
       " 'Waste water treatment, other',\n",
       " 'Landfill of waste: Food',\n",
       " 'Landfill of waste: Paper',\n",
       " 'Landfill of waste: Plastic',\n",
       " 'Landfill of waste: Inert/metal/hazardous',\n",
       " 'Landfill of waste: Textiles',\n",
       " 'Landfill of waste: Wood',\n",
       " 'Activities of membership organisation n.e.c. (91)',\n",
       " 'Recreational, cultural and sporting activities (92)',\n",
       " 'Other service activities (93)',\n",
       " 'Private households with employed persons (95)',\n",
       " 'Extra-territorial organizations and bodies']"
      ]
     },
     "execution_count": 13,
     "metadata": {},
     "output_type": "execute_result"
    }
   ],
   "source": [
    "# Il faut utiliser \"list\" pour avoir la liste complète\n",
    "list(io.get_sectors())"
   ]
  },
  {
   "cell_type": "code",
   "execution_count": 14,
   "metadata": {},
   "outputs": [
    {
     "data": {
      "text/plain": [
       "(7987, 7987)"
      ]
     },
     "execution_count": 14,
     "metadata": {},
     "output_type": "execute_result"
    }
   ],
   "source": [
    "io.Z.shape"
   ]
  },
  {
   "cell_type": "markdown",
   "metadata": {},
   "source": [
    "### Z: consommation intermédiaire\n",
    "Cette matrice présente la consommation intermédiaire complète entre secteurs, en M€."
   ]
  },
  {
   "cell_type": "code",
   "execution_count": 15,
   "metadata": {},
   "outputs": [
    {
     "data": {
      "text/html": [
       "<div>\n",
       "<style scoped>\n",
       "    .dataframe tbody tr th:only-of-type {\n",
       "        vertical-align: middle;\n",
       "    }\n",
       "\n",
       "    .dataframe tbody tr th {\n",
       "        vertical-align: top;\n",
       "    }\n",
       "\n",
       "    .dataframe thead tr th {\n",
       "        text-align: left;\n",
       "    }\n",
       "\n",
       "    .dataframe thead tr:last-of-type th {\n",
       "        text-align: right;\n",
       "    }\n",
       "</style>\n",
       "<table border=\"1\" class=\"dataframe\">\n",
       "  <thead>\n",
       "    <tr>\n",
       "      <th></th>\n",
       "      <th>region</th>\n",
       "      <th colspan=\"10\" halign=\"left\">AT</th>\n",
       "      <th>...</th>\n",
       "      <th colspan=\"10\" halign=\"left\">WM</th>\n",
       "    </tr>\n",
       "    <tr>\n",
       "      <th></th>\n",
       "      <th>sector</th>\n",
       "      <th>Cultivation of paddy rice</th>\n",
       "      <th>Cultivation of wheat</th>\n",
       "      <th>Cultivation of cereal grains nec</th>\n",
       "      <th>Cultivation of vegetables, fruit, nuts</th>\n",
       "      <th>Cultivation of oil seeds</th>\n",
       "      <th>Cultivation of sugar cane, sugar beet</th>\n",
       "      <th>Cultivation of plant-based fibers</th>\n",
       "      <th>Cultivation of crops nec</th>\n",
       "      <th>Cattle farming</th>\n",
       "      <th>Pigs farming</th>\n",
       "      <th>...</th>\n",
       "      <th>Landfill of waste: Paper</th>\n",
       "      <th>Landfill of waste: Plastic</th>\n",
       "      <th>Landfill of waste: Inert/metal/hazardous</th>\n",
       "      <th>Landfill of waste: Textiles</th>\n",
       "      <th>Landfill of waste: Wood</th>\n",
       "      <th>Activities of membership organisation n.e.c. (91)</th>\n",
       "      <th>Recreational, cultural and sporting activities (92)</th>\n",
       "      <th>Other service activities (93)</th>\n",
       "      <th>Private households with employed persons (95)</th>\n",
       "      <th>Extra-territorial organizations and bodies</th>\n",
       "    </tr>\n",
       "    <tr>\n",
       "      <th>region</th>\n",
       "      <th>sector</th>\n",
       "      <th></th>\n",
       "      <th></th>\n",
       "      <th></th>\n",
       "      <th></th>\n",
       "      <th></th>\n",
       "      <th></th>\n",
       "      <th></th>\n",
       "      <th></th>\n",
       "      <th></th>\n",
       "      <th></th>\n",
       "      <th></th>\n",
       "      <th></th>\n",
       "      <th></th>\n",
       "      <th></th>\n",
       "      <th></th>\n",
       "      <th></th>\n",
       "      <th></th>\n",
       "      <th></th>\n",
       "      <th></th>\n",
       "      <th></th>\n",
       "      <th></th>\n",
       "    </tr>\n",
       "  </thead>\n",
       "  <tbody>\n",
       "    <tr>\n",
       "      <th rowspan=\"5\" valign=\"top\">AT</th>\n",
       "      <th>Cultivation of paddy rice</th>\n",
       "      <td>0</td>\n",
       "      <td>0.000000</td>\n",
       "      <td>0.000000</td>\n",
       "      <td>0.000000</td>\n",
       "      <td>0.000000</td>\n",
       "      <td>0.0</td>\n",
       "      <td>0.0</td>\n",
       "      <td>0.000000</td>\n",
       "      <td>0.000000</td>\n",
       "      <td>0.000000</td>\n",
       "      <td>...</td>\n",
       "      <td>0.000000</td>\n",
       "      <td>0.000000</td>\n",
       "      <td>0.000000</td>\n",
       "      <td>0.000000</td>\n",
       "      <td>0.000000</td>\n",
       "      <td>0.000000</td>\n",
       "      <td>0.000000</td>\n",
       "      <td>0.000000</td>\n",
       "      <td>0.000000</td>\n",
       "      <td>0</td>\n",
       "    </tr>\n",
       "    <tr>\n",
       "      <th>Cultivation of wheat</th>\n",
       "      <td>0</td>\n",
       "      <td>12.533904</td>\n",
       "      <td>0.000000</td>\n",
       "      <td>0.000000</td>\n",
       "      <td>0.000000</td>\n",
       "      <td>0.0</td>\n",
       "      <td>0.0</td>\n",
       "      <td>0.189338</td>\n",
       "      <td>5.496777</td>\n",
       "      <td>4.169330</td>\n",
       "      <td>...</td>\n",
       "      <td>0.000207</td>\n",
       "      <td>0.000159</td>\n",
       "      <td>0.000207</td>\n",
       "      <td>0.000055</td>\n",
       "      <td>0.000076</td>\n",
       "      <td>0.000203</td>\n",
       "      <td>0.001515</td>\n",
       "      <td>0.001557</td>\n",
       "      <td>0.000115</td>\n",
       "      <td>0</td>\n",
       "    </tr>\n",
       "    <tr>\n",
       "      <th>Cultivation of cereal grains nec</th>\n",
       "      <td>0</td>\n",
       "      <td>0.000000</td>\n",
       "      <td>12.825861</td>\n",
       "      <td>0.000000</td>\n",
       "      <td>0.000000</td>\n",
       "      <td>0.0</td>\n",
       "      <td>0.0</td>\n",
       "      <td>0.302101</td>\n",
       "      <td>20.444740</td>\n",
       "      <td>27.044415</td>\n",
       "      <td>...</td>\n",
       "      <td>0.000719</td>\n",
       "      <td>0.000570</td>\n",
       "      <td>0.000716</td>\n",
       "      <td>0.000185</td>\n",
       "      <td>0.000264</td>\n",
       "      <td>0.004668</td>\n",
       "      <td>0.001640</td>\n",
       "      <td>0.006206</td>\n",
       "      <td>0.000395</td>\n",
       "      <td>0</td>\n",
       "    </tr>\n",
       "    <tr>\n",
       "      <th>Cultivation of vegetables, fruit, nuts</th>\n",
       "      <td>0</td>\n",
       "      <td>0.000000</td>\n",
       "      <td>0.000000</td>\n",
       "      <td>113.553421</td>\n",
       "      <td>0.000000</td>\n",
       "      <td>0.0</td>\n",
       "      <td>0.0</td>\n",
       "      <td>0.000000</td>\n",
       "      <td>0.096916</td>\n",
       "      <td>0.497149</td>\n",
       "      <td>...</td>\n",
       "      <td>0.002391</td>\n",
       "      <td>0.001694</td>\n",
       "      <td>0.002427</td>\n",
       "      <td>0.000236</td>\n",
       "      <td>0.000583</td>\n",
       "      <td>0.002196</td>\n",
       "      <td>0.025987</td>\n",
       "      <td>0.028897</td>\n",
       "      <td>0.000636</td>\n",
       "      <td>0</td>\n",
       "    </tr>\n",
       "    <tr>\n",
       "      <th>Cultivation of oil seeds</th>\n",
       "      <td>0</td>\n",
       "      <td>0.000000</td>\n",
       "      <td>0.000000</td>\n",
       "      <td>0.000000</td>\n",
       "      <td>0.532914</td>\n",
       "      <td>0.0</td>\n",
       "      <td>0.0</td>\n",
       "      <td>0.000000</td>\n",
       "      <td>0.000000</td>\n",
       "      <td>0.000000</td>\n",
       "      <td>...</td>\n",
       "      <td>0.000024</td>\n",
       "      <td>0.000014</td>\n",
       "      <td>0.000024</td>\n",
       "      <td>0.000000</td>\n",
       "      <td>0.000001</td>\n",
       "      <td>0.000025</td>\n",
       "      <td>0.000327</td>\n",
       "      <td>0.000382</td>\n",
       "      <td>0.000009</td>\n",
       "      <td>0</td>\n",
       "    </tr>\n",
       "  </tbody>\n",
       "</table>\n",
       "<p>5 rows × 7987 columns</p>\n",
       "</div>"
      ],
      "text/plain": [
       "region                                                               AT  \\\n",
       "sector                                        Cultivation of paddy rice   \n",
       "region sector                                                             \n",
       "AT     Cultivation of paddy rice                                      0   \n",
       "       Cultivation of wheat                                           0   \n",
       "       Cultivation of cereal grains nec                               0   \n",
       "       Cultivation of vegetables, fruit, nuts                         0   \n",
       "       Cultivation of oil seeds                                       0   \n",
       "\n",
       "region                                                              \\\n",
       "sector                                        Cultivation of wheat   \n",
       "region sector                                                        \n",
       "AT     Cultivation of paddy rice                          0.000000   \n",
       "       Cultivation of wheat                              12.533904   \n",
       "       Cultivation of cereal grains nec                   0.000000   \n",
       "       Cultivation of vegetables, fruit, nuts             0.000000   \n",
       "       Cultivation of oil seeds                           0.000000   \n",
       "\n",
       "region                                                                          \\\n",
       "sector                                        Cultivation of cereal grains nec   \n",
       "region sector                                                                    \n",
       "AT     Cultivation of paddy rice                                      0.000000   \n",
       "       Cultivation of wheat                                           0.000000   \n",
       "       Cultivation of cereal grains nec                              12.825861   \n",
       "       Cultivation of vegetables, fruit, nuts                         0.000000   \n",
       "       Cultivation of oil seeds                                       0.000000   \n",
       "\n",
       "region                                                                                \\\n",
       "sector                                        Cultivation of vegetables, fruit, nuts   \n",
       "region sector                                                                          \n",
       "AT     Cultivation of paddy rice                                            0.000000   \n",
       "       Cultivation of wheat                                                 0.000000   \n",
       "       Cultivation of cereal grains nec                                     0.000000   \n",
       "       Cultivation of vegetables, fruit, nuts                             113.553421   \n",
       "       Cultivation of oil seeds                                             0.000000   \n",
       "\n",
       "region                                                                  \\\n",
       "sector                                        Cultivation of oil seeds   \n",
       "region sector                                                            \n",
       "AT     Cultivation of paddy rice                              0.000000   \n",
       "       Cultivation of wheat                                   0.000000   \n",
       "       Cultivation of cereal grains nec                       0.000000   \n",
       "       Cultivation of vegetables, fruit, nuts                 0.000000   \n",
       "       Cultivation of oil seeds                               0.532914   \n",
       "\n",
       "region                                                                               \\\n",
       "sector                                        Cultivation of sugar cane, sugar beet   \n",
       "region sector                                                                         \n",
       "AT     Cultivation of paddy rice                                                0.0   \n",
       "       Cultivation of wheat                                                     0.0   \n",
       "       Cultivation of cereal grains nec                                         0.0   \n",
       "       Cultivation of vegetables, fruit, nuts                                   0.0   \n",
       "       Cultivation of oil seeds                                                 0.0   \n",
       "\n",
       "region                                                                           \\\n",
       "sector                                        Cultivation of plant-based fibers   \n",
       "region sector                                                                     \n",
       "AT     Cultivation of paddy rice                                            0.0   \n",
       "       Cultivation of wheat                                                 0.0   \n",
       "       Cultivation of cereal grains nec                                     0.0   \n",
       "       Cultivation of vegetables, fruit, nuts                               0.0   \n",
       "       Cultivation of oil seeds                                             0.0   \n",
       "\n",
       "region                                                                  \\\n",
       "sector                                        Cultivation of crops nec   \n",
       "region sector                                                            \n",
       "AT     Cultivation of paddy rice                              0.000000   \n",
       "       Cultivation of wheat                                   0.189338   \n",
       "       Cultivation of cereal grains nec                       0.302101   \n",
       "       Cultivation of vegetables, fruit, nuts                 0.000000   \n",
       "       Cultivation of oil seeds                               0.000000   \n",
       "\n",
       "region                                                                     \\\n",
       "sector                                        Cattle farming Pigs farming   \n",
       "region sector                                                               \n",
       "AT     Cultivation of paddy rice                    0.000000     0.000000   \n",
       "       Cultivation of wheat                         5.496777     4.169330   \n",
       "       Cultivation of cereal grains nec            20.444740    27.044415   \n",
       "       Cultivation of vegetables, fruit, nuts       0.096916     0.497149   \n",
       "       Cultivation of oil seeds                     0.000000     0.000000   \n",
       "\n",
       "region                                         ...                       WM  \\\n",
       "sector                                         ... Landfill of waste: Paper   \n",
       "region sector                                  ...                            \n",
       "AT     Cultivation of paddy rice               ...                 0.000000   \n",
       "       Cultivation of wheat                    ...                 0.000207   \n",
       "       Cultivation of cereal grains nec        ...                 0.000719   \n",
       "       Cultivation of vegetables, fruit, nuts  ...                 0.002391   \n",
       "       Cultivation of oil seeds                ...                 0.000024   \n",
       "\n",
       "region                                                                    \\\n",
       "sector                                        Landfill of waste: Plastic   \n",
       "region sector                                                              \n",
       "AT     Cultivation of paddy rice                                0.000000   \n",
       "       Cultivation of wheat                                     0.000159   \n",
       "       Cultivation of cereal grains nec                         0.000570   \n",
       "       Cultivation of vegetables, fruit, nuts                   0.001694   \n",
       "       Cultivation of oil seeds                                 0.000014   \n",
       "\n",
       "region                                                                                  \\\n",
       "sector                                        Landfill of waste: Inert/metal/hazardous   \n",
       "region sector                                                                            \n",
       "AT     Cultivation of paddy rice                                              0.000000   \n",
       "       Cultivation of wheat                                                   0.000207   \n",
       "       Cultivation of cereal grains nec                                       0.000716   \n",
       "       Cultivation of vegetables, fruit, nuts                                 0.002427   \n",
       "       Cultivation of oil seeds                                               0.000024   \n",
       "\n",
       "region                                                                     \\\n",
       "sector                                        Landfill of waste: Textiles   \n",
       "region sector                                                               \n",
       "AT     Cultivation of paddy rice                                 0.000000   \n",
       "       Cultivation of wheat                                      0.000055   \n",
       "       Cultivation of cereal grains nec                          0.000185   \n",
       "       Cultivation of vegetables, fruit, nuts                    0.000236   \n",
       "       Cultivation of oil seeds                                  0.000000   \n",
       "\n",
       "region                                                                 \\\n",
       "sector                                        Landfill of waste: Wood   \n",
       "region sector                                                           \n",
       "AT     Cultivation of paddy rice                             0.000000   \n",
       "       Cultivation of wheat                                  0.000076   \n",
       "       Cultivation of cereal grains nec                      0.000264   \n",
       "       Cultivation of vegetables, fruit, nuts                0.000583   \n",
       "       Cultivation of oil seeds                              0.000001   \n",
       "\n",
       "region                                                                                           \\\n",
       "sector                                        Activities of membership organisation n.e.c. (91)   \n",
       "region sector                                                                                     \n",
       "AT     Cultivation of paddy rice                                                       0.000000   \n",
       "       Cultivation of wheat                                                            0.000203   \n",
       "       Cultivation of cereal grains nec                                                0.004668   \n",
       "       Cultivation of vegetables, fruit, nuts                                          0.002196   \n",
       "       Cultivation of oil seeds                                                        0.000025   \n",
       "\n",
       "region                                                                                             \\\n",
       "sector                                        Recreational, cultural and sporting activities (92)   \n",
       "region sector                                                                                       \n",
       "AT     Cultivation of paddy rice                                                        0.000000    \n",
       "       Cultivation of wheat                                                             0.001515    \n",
       "       Cultivation of cereal grains nec                                                 0.001640    \n",
       "       Cultivation of vegetables, fruit, nuts                                           0.025987    \n",
       "       Cultivation of oil seeds                                                         0.000327    \n",
       "\n",
       "region                                                                       \\\n",
       "sector                                        Other service activities (93)   \n",
       "region sector                                                                 \n",
       "AT     Cultivation of paddy rice                                   0.000000   \n",
       "       Cultivation of wheat                                        0.001557   \n",
       "       Cultivation of cereal grains nec                            0.006206   \n",
       "       Cultivation of vegetables, fruit, nuts                      0.028897   \n",
       "       Cultivation of oil seeds                                    0.000382   \n",
       "\n",
       "region                                                                                       \\\n",
       "sector                                        Private households with employed persons (95)   \n",
       "region sector                                                                                 \n",
       "AT     Cultivation of paddy rice                                                   0.000000   \n",
       "       Cultivation of wheat                                                        0.000115   \n",
       "       Cultivation of cereal grains nec                                            0.000395   \n",
       "       Cultivation of vegetables, fruit, nuts                                      0.000636   \n",
       "       Cultivation of oil seeds                                                    0.000009   \n",
       "\n",
       "region                                                                                    \n",
       "sector                                        Extra-territorial organizations and bodies  \n",
       "region sector                                                                             \n",
       "AT     Cultivation of paddy rice                                                       0  \n",
       "       Cultivation of wheat                                                            0  \n",
       "       Cultivation of cereal grains nec                                                0  \n",
       "       Cultivation of vegetables, fruit, nuts                                          0  \n",
       "       Cultivation of oil seeds                                                        0  \n",
       "\n",
       "[5 rows x 7987 columns]"
      ]
     },
     "execution_count": 15,
     "metadata": {},
     "output_type": "execute_result"
    }
   ],
   "source": [
    "io.Z.head()"
   ]
  },
  {
   "cell_type": "markdown",
   "metadata": {},
   "source": [
    "Quelle est la production totale du secteur de l'élevage bovin en France en 2019?"
   ]
  },
  {
   "cell_type": "code",
   "execution_count": 16,
   "metadata": {},
   "outputs": [
    {
     "data": {
      "text/plain": [
       "indout    7535.532131\n",
       "Name: (FR, Cattle farming), dtype: float64"
      ]
     },
     "execution_count": 16,
     "metadata": {},
     "output_type": "execute_result"
    }
   ],
   "source": [
    "# x.loc[pays, secteur] nous renvoie la valeur du vecteur x juste pour la ligne (pays, secteur)\n",
    "# x est la production totale de chaque secteur, en M€\n",
    "io.x.loc['FR','Cattle farming']"
   ]
  },
  {
   "cell_type": "markdown",
   "metadata": {},
   "source": [
    "7.5 milliards d'euros ont été produit par cette industrie en 2019. Le secteur a également dépensé 1214 M€ en produits cultivés (non-blé, non-riz) en 2019, ainsi que 710 M€ en produits de gros, 580 M€ en produits de l'industrie agro-alimentaire, etc. À noter, 258 M€ de produits cultivés ont été importés de la région \"reste de l'Afrique\" (`WF`)."
   ]
  },
  {
   "cell_type": "code",
   "execution_count": 17,
   "metadata": {},
   "outputs": [
    {
     "data": {
      "text/plain": [
       "region  sector                                                                                             \n",
       "FR      Cultivation of crops nec                                                                               1213.973491\n",
       "        Wholesale trade and commission trade, except of motor vehicles and motorcycles (51)                     709.813893\n",
       "        Processing of Food products nec                                                                         581.217679\n",
       "        Retail trade, except of motor vehicles and motorcycles; repair of personal and household goods (52)     501.188476\n",
       "        Cultivation of cereal grains nec                                                                        384.730878\n",
       "        Manufacture of beverages                                                                                277.375923\n",
       "WF      Cultivation of crops nec                                                                                257.778025\n",
       "FR      Cultivation of wheat                                                                                    214.519508\n",
       "Name: (FR, Cattle farming), dtype: float64"
      ]
     },
     "execution_count": 17,
     "metadata": {},
     "output_type": "execute_result"
    }
   ],
   "source": [
    "# Z est la consommation intermédiaire, cette matrice contient tous les échanges entre secteurs, en M€\n",
    "io.Z['FR','Cattle farming'].sort_values(ascending=False).head(8)"
   ]
  },
  {
   "cell_type": "code",
   "execution_count": 18,
   "metadata": {},
   "outputs": [
    {
     "data": {
      "text/plain": [
       "7106.218076307196"
      ]
     },
     "execution_count": 18,
     "metadata": {},
     "output_type": "execute_result"
    }
   ],
   "source": [
    "# Somme de toute la colonne\n",
    "io.Z['FR','Cattle farming'].sum()"
   ]
  },
  {
   "cell_type": "markdown",
   "metadata": {},
   "source": [
    "Au total, ce secteur aura dépensé 7.1 milliards d'euros, en France et à l'étranger, pour produire 7.5 milliards d'euros de biens. La différence se répartit en valeur ajoutée, salaires, taxes, profits..."
   ]
  },
  {
   "cell_type": "markdown",
   "metadata": {},
   "source": [
    "### A: coefficients de consommation intermédiaire\n",
    "La matrice `A` contient les coefficients de consommation intermédiaire, en €/€.\n",
    "\n",
    "Par exemple, quels sont les trois secteurs principaux composant les dépenses du secteur de l'électricité au gaz en France en 2019?"
   ]
  },
  {
   "cell_type": "code",
   "execution_count": 19,
   "metadata": {},
   "outputs": [
    {
     "data": {
      "text/plain": [
       "region  sector                                                                                       \n",
       "FR      Manufacture of gas; distribution of gaseous fuels through mains                                  0.525974\n",
       "NO      Extraction of natural gas and services related to natural gas extraction, excluding surveying    0.186255\n",
       "DE      Extraction of natural gas and services related to natural gas extraction, excluding surveying    0.139489\n",
       "Name: (FR, Production of electricity by gas), dtype: float64"
      ]
     },
     "execution_count": 19,
     "metadata": {},
     "output_type": "execute_result"
    }
   ],
   "source": [
    "io.A['FR','Production of electricity by gas'].sort_values(ascending=False).head(3)"
   ]
  },
  {
   "cell_type": "markdown",
   "metadata": {},
   "source": [
    "Interprétation : pour fournir 1€ d'électricité au gaz à l'économie, les coûts sont de :\n",
    "- 0.53€ en raffinage, transmission et distribution, en France,\n",
    "- 0.19€ de gaz importé de Norvège,\n",
    "- 0.14€ de gaz importé d'Allemagne."
   ]
  },
  {
   "cell_type": "markdown",
   "metadata": {},
   "source": [
    "De la même façon, on peut déterminer quels secteurs ont l'électricité au gaz française parmi leurs intrants principaux. Sans surprise, cela devrait être la transmission et la distribution d'électricité."
   ]
  },
  {
   "cell_type": "code",
   "execution_count": 20,
   "metadata": {},
   "outputs": [
    {
     "data": {
      "text/plain": [
       "region  sector                                             \n",
       "FR      Distribution and trade of electricity                  0.075094\n",
       "        Transmission of electricity                            0.073398\n",
       "        Recreational, cultural and sporting activities (92)    0.006013\n",
       "Name: (FR, Production of electricity by gas), dtype: float64"
      ]
     },
     "execution_count": 20,
     "metadata": {},
     "output_type": "execute_result"
    }
   ],
   "source": [
    "io.A.loc['FR','Production of electricity by gas'].sort_values(ascending=False).head(3)"
   ]
  },
  {
   "cell_type": "markdown",
   "metadata": {},
   "source": [
    "Pour chaque € d'électricité distribuée en France, il y a un coût de 7.5 centimes d'électricité au gaz.\n",
    "\n",
    "On peut trouver la composition du prix de l'électricité en France en récupérant les coefficients de la colonne `Distribution and trade of electricity`. Pour chaque € distribué, il y a 18.8 centimes d'électricité nucléaire, 16.0 centimes de réseau, 11.5 de chaleur, etc."
   ]
  },
  {
   "cell_type": "code",
   "execution_count": 21,
   "metadata": {},
   "outputs": [
    {
     "data": {
      "text/plain": [
       "region  sector                                                                             \n",
       "FR      Production of electricity by nuclear                                                   0.187816\n",
       "        Distribution and trade of electricity                                                  0.160134\n",
       "        Steam and hot water supply                                                             0.114642\n",
       "        Manufacture of gas; distribution of gaseous fuels through mains                        0.087125\n",
       "        Production of electricity by gas                                                       0.075094\n",
       "        Transmission of electricity                                                            0.041189\n",
       "        Production of electricity by hydro                                                     0.022805\n",
       "        Production of electricity by coal                                                      0.020048\n",
       "        Wholesale trade and commission trade, except of motor vehicles and motorcycles (51)    0.016188\n",
       "        Production of electricity by petroleum and other oil derivatives                       0.015569\n",
       "Name: (FR, Distribution and trade of electricity), dtype: float64"
      ]
     },
     "execution_count": 21,
     "metadata": {},
     "output_type": "execute_result"
    }
   ],
   "source": [
    "io.A['FR','Distribution and trade of electricity'].nlargest(10)"
   ]
  },
  {
   "cell_type": "markdown",
   "metadata": {},
   "source": [
    "### Y: demande finale\n",
    "La demande finale contient les informations de consommation finale des ménages, des ONGs, et du gouvernement, ainsi que les changements d'inventaire ou la consommation de capital."
   ]
  },
  {
   "cell_type": "code",
   "execution_count": 22,
   "metadata": {},
   "outputs": [
    {
     "data": {
      "text/plain": [
       "Index(['Final consumption expenditure by households',\n",
       "       'Final consumption expenditure by non-profit organisations serving households (NPISH)',\n",
       "       'Final consumption expenditure by government',\n",
       "       'Gross fixed capital formation', 'Changes in inventories',\n",
       "       'Changes in valuables', 'Exports: Total (fob)'],\n",
       "      dtype='object', name='category')"
      ]
     },
     "execution_count": 22,
     "metadata": {},
     "output_type": "execute_result"
    }
   ],
   "source": [
    "io.Y['DE'].columns"
   ]
  },
  {
   "cell_type": "markdown",
   "metadata": {},
   "source": [
    "Par exemple, quels sont les secteurs de dépense principaux des ménages allemands ?"
   ]
  },
  {
   "cell_type": "code",
   "execution_count": 23,
   "metadata": {},
   "outputs": [
    {
     "data": {
      "text/plain": [
       "region  sector                                                             \n",
       "DE      Real estate activities (70)                                            343369.173295\n",
       "        Hotels and restaurants (55)                                            108577.573264\n",
       "        Post and telecommunications (64)                                        89473.932576\n",
       "        Financial intermediation, except insurance and pension funding (65)     65978.802344\n",
       "        Health and social work (85)                                             65977.997346\n",
       "Name: (DE, Final consumption expenditure by households), dtype: float64"
      ]
     },
     "execution_count": 23,
     "metadata": {},
     "output_type": "execute_result"
    }
   ],
   "source": [
    "io.Y['DE','Final consumption expenditure by households'].sort_values(ascending=False).head()"
   ]
  },
  {
   "cell_type": "markdown",
   "metadata": {},
   "source": [
    "Interprétation : en 2019 les ménages allemands ont dépensé 343 milliards d'euros dans le marché de l'immobilier, 109 G€ en hotels et restaurants, 89 G€ en frais de télécommunication divers, etc."
   ]
  },
  {
   "cell_type": "code",
   "execution_count": 24,
   "metadata": {},
   "outputs": [
    {
     "data": {
      "text/plain": [
       "region  sector                                                             \n",
       "DE      Construction (45)                                                      27154.163819\n",
       "        Other business activities (74)                                         21791.224626\n",
       "        Financial intermediation, except insurance and pension funding (65)    21378.019177\n",
       "        Real estate activities (70)                                            18585.367612\n",
       "        Distribution and trade of electricity                                   1089.769773\n",
       "Name: (DE, Real estate activities (70)), dtype: float64"
      ]
     },
     "execution_count": 24,
     "metadata": {},
     "output_type": "execute_result"
    }
   ],
   "source": [
    "io.Z['DE','Real estate activities (70)'].sort_values(ascending=False).head()"
   ]
  },
  {
   "cell_type": "markdown",
   "metadata": {},
   "source": [
    "### L: coefficients directs et indirects (inverse de Leontief)\n",
    "Cette matrice est la clé de voûte de tout le système entrée-sortie. Son développeur, Wassily Leontief, s'est vu [décerner le \"prix Nobel\" d'économie en 1973](https://www.economie.gouv.fr/facileco/wassily-leontief).\n",
    "\n",
    "La principale propriété de cette matrice, c'est qu'elle donne non seulement les coefficients d'\"input\" directs pour une industrie, par exemple le ciment pour la construction, mais aussi la somme de la demande en béton nécessaire aux autres inputs de la construction, et celle des inputs des inputs, etc. couvrant ainsi la totalité de la demande en ciment directe et indirecte pour satisfaire la demande de construction.\n",
    "\n",
    "Illustrons cet exemple par le calcul:"
   ]
  },
  {
   "cell_type": "code",
   "execution_count": 25,
   "metadata": {},
   "outputs": [],
   "source": [
    "index=((slice(None),'Manufacture of cement, lime and plaster'),\n",
    "         ('FR','Construction (45)'))"
   ]
  },
  {
   "cell_type": "code",
   "execution_count": 26,
   "metadata": {},
   "outputs": [],
   "source": [
    "# facteurs directs, coefficients issus de A\n",
    "direct          = io.A.loc[index].sort_values(ascending=False).head()"
   ]
  },
  {
   "cell_type": "code",
   "execution_count": 27,
   "metadata": {},
   "outputs": [],
   "source": [
    "# facteurs directs ET indirects, coefficients issus de L\n",
    "direct_indirect = io.L.loc[index].sort_values(ascending=False).head()"
   ]
  },
  {
   "cell_type": "code",
   "execution_count": 28,
   "metadata": {},
   "outputs": [],
   "source": [
    "# calculons la différence\n",
    "indirect = (direct_indirect - direct)"
   ]
  },
  {
   "cell_type": "code",
   "execution_count": 29,
   "metadata": {},
   "outputs": [
    {
     "data": {
      "text/plain": [
       "<Axes: xlabel='region'>"
      ]
     },
     "execution_count": 29,
     "metadata": {},
     "output_type": "execute_result"
    },
    {
     "data": {
      "image/png": "[encoded data removed]",
      "text/plain": [
       "<Figure size 400x300 with 1 Axes>"
      ]
     },
     "metadata": {},
     "output_type": "display_data"
    }
   ],
   "source": [
    "pd.concat([direct,indirect],axis=1,keys=('direct','indirect')).sort_values(by='direct',ascending=False).head().droplevel(1).plot(kind='bar',stacked=True,figsize=(4,3))"
   ]
  },
  {
   "cell_type": "markdown",
   "metadata": {},
   "source": [
    "Interprétation : le secteur de la construction en France requiert un peu plus de 0.03€ de ciment (FR) par € fourni à l'économie, mais plus de 0.04€ en incluant le ciment nécessaire à tous les autres secteurs qui approvisionnent celui de la construction. Ce ciment est utilisé en France, mais aussi à l'étranger (Belgique, Espagne, Allemagne, Italie...)."
   ]
  },
  {
   "cell_type": "code",
   "execution_count": 30,
   "metadata": {},
   "outputs": [
    {
     "data": {
      "text/plain": [
       "region  sector                                 \n",
       "FR      Manufacture of cement, lime and plaster    0.033443\n",
       "BE      Manufacture of cement, lime and plaster    0.000543\n",
       "ES      Manufacture of cement, lime and plaster    0.000441\n",
       "DE      Manufacture of cement, lime and plaster    0.000396\n",
       "IT      Manufacture of cement, lime and plaster    0.000247\n",
       "Name: (FR, Construction (45)), dtype: float64"
      ]
     },
     "execution_count": 30,
     "metadata": {},
     "output_type": "execute_result"
    }
   ],
   "source": [
    "io.A.loc[index].sort_values(ascending=False).head()"
   ]
  },
  {
   "cell_type": "code",
   "execution_count": 31,
   "metadata": {},
   "outputs": [
    {
     "data": {
      "text/plain": [
       "region  sector                                 \n",
       "FR      Manufacture of cement, lime and plaster    0.008526\n",
       "ES      Manufacture of cement, lime and plaster    0.000300\n",
       "BE      Manufacture of cement, lime and plaster    0.000220\n",
       "DE      Manufacture of cement, lime and plaster    0.000174\n",
       "IT      Manufacture of cement, lime and plaster    0.000131\n",
       "Name: (FR, Construction (45)), dtype: float64"
      ]
     },
     "execution_count": 31,
     "metadata": {},
     "output_type": "execute_result"
    }
   ],
   "source": [
    "io.A.dot(io.A).loc[index].sort_values(ascending=False).head()"
   ]
  },
  {
   "cell_type": "code",
   "execution_count": 32,
   "metadata": {},
   "outputs": [
    {
     "data": {
      "text/plain": [
       "region  sector                                 \n",
       "FR      Manufacture of cement, lime and plaster    0.001710\n",
       "ES      Manufacture of cement, lime and plaster    0.000149\n",
       "BE      Manufacture of cement, lime and plaster    0.000066\n",
       "IT      Manufacture of cement, lime and plaster    0.000055\n",
       "DE      Manufacture of cement, lime and plaster    0.000054\n",
       "Name: (FR, Construction (45)), dtype: float64"
      ]
     },
     "execution_count": 32,
     "metadata": {},
     "output_type": "execute_result"
    }
   ],
   "source": [
    "io.A.dot(io.A).dot(io.A).loc[index].sort_values(ascending=False).head()"
   ]
  },
  {
   "cell_type": "markdown",
   "metadata": {},
   "source": [
    "### Matrices \"satellites\"\n",
    "Les matrices satellites sont les homologues de Z et A, mais en termes de facteurs de production, de valeur ajoutée, et d'émissions de substances."
   ]
  },
  {
   "cell_type": "markdown",
   "metadata": {},
   "source": [
    "#### F: facteurs de production\n",
    "Les facteurs de production sont simplement les \"ressources primaires\" (capital, emploi, ressources naturelles, émissions de substances). Cette matrice constitue l'interface entre l'économie et le reste de l'environnement."
   ]
  },
  {
   "cell_type": "markdown",
   "metadata": {},
   "source": [
    "On peut y trouver les informations sur les salaires, par exemple la masse salariale du secteur de la santé au Royaume-Uni se composait de 4.6/59/89 milliards d'euros en emplois non-qualifiés/intermédiaires/qualifiés en 2019. Ce secteur a par ailleurs émis 2.2 millions de tonnes de CO2 (en émissions directes dues à la combustion de carburants fossiles)."
   ]
  },
  {
   "cell_type": "code",
   "execution_count": 33,
   "metadata": {
    "tags": []
   },
   "outputs": [
    {
     "data": {
      "text/plain": [
       "region\n",
       "MT    1.207331e+09\n",
       "LU    8.250381e+09\n",
       "LV    8.605472e+09\n",
       "LT    9.551975e+09\n",
       "SI    9.856558e+09\n",
       "CY    1.095568e+10\n",
       "HR    1.349593e+10\n",
       "EE    1.393466e+10\n",
       "SK    2.558822e+10\n",
       "CH    2.658047e+10\n",
       "SE    3.154632e+10\n",
       "BG    3.486672e+10\n",
       "HU    3.532047e+10\n",
       "PT    3.579517e+10\n",
       "IE    4.016454e+10\n",
       "DK    4.021851e+10\n",
       "FI    4.071389e+10\n",
       "AT    4.825848e+10\n",
       "RO    5.192008e+10\n",
       "NO    5.916715e+10\n",
       "BE    7.194727e+10\n",
       "CZ    8.939389e+10\n",
       "GR    1.238039e+11\n",
       "NL    1.318076e+11\n",
       "ES    1.980550e+11\n",
       "FR    2.342779e+11\n",
       "PL    2.535255e+11\n",
       "IT    2.575262e+11\n",
       "TW    2.623552e+11\n",
       "GB    2.914426e+11\n",
       "WE    3.103166e+11\n",
       "TR    3.245065e+11\n",
       "BR    3.499321e+11\n",
       "ZA    3.691133e+11\n",
       "AU    3.861611e+11\n",
       "MX    4.106937e+11\n",
       "WF    4.187772e+11\n",
       "CA    4.457083e+11\n",
       "ID    4.877427e+11\n",
       "KR    5.727136e+11\n",
       "WL    6.204731e+11\n",
       "DE    6.257379e+11\n",
       "JP    9.738695e+11\n",
       "RU    1.308765e+12\n",
       "WA    1.702520e+12\n",
       "WM    1.885727e+12\n",
       "IN    2.170665e+12\n",
       "US    3.622165e+12\n",
       "CN    9.185446e+12\n",
       "Name: CO2 - combustion - air, dtype: float64"
      ]
     },
     "execution_count": 33,
     "metadata": {},
     "output_type": "execute_result"
    }
   ],
   "source": [
    "io.satellite.F.loc['CO2 - combustion - air'].groupby('region').sum().sort_values()"
   ]
  },
  {
   "cell_type": "code",
   "execution_count": 34,
   "metadata": {},
   "outputs": [
    {
     "data": {
      "text/plain": [
       "stressor\n",
       "Taxes less subsidies on products purchased: Total                                                 6359.466983\n",
       "Other net taxes on production                                                                      373.229764\n",
       "Compensation of employees; wages, salaries, & employers' social contributions: Low-skilled        4589.108985\n",
       "Compensation of employees; wages, salaries, & employers' social contributions: Medium-skilled    59381.604405\n",
       "Compensation of employees; wages, salaries, & employers' social contributions: High-skilled      89403.465875\n",
       "Name: (GB, Health and social work (85)), dtype: float64"
      ]
     },
     "execution_count": 34,
     "metadata": {},
     "output_type": "execute_result"
    }
   ],
   "source": [
    "io.satellite.F['GB','Health and social work (85)'].head()"
   ]
  },
  {
   "cell_type": "code",
   "execution_count": 35,
   "metadata": {
    "scrolled": true,
    "tags": []
   },
   "outputs": [
    {
     "data": {
      "text/plain": [
       "['Taxes less subsidies on products purchased: Total',\n",
       " 'Other net taxes on production',\n",
       " \"Compensation of employees; wages, salaries, & employers' social contributions: Low-skilled\",\n",
       " \"Compensation of employees; wages, salaries, & employers' social contributions: Medium-skilled\",\n",
       " \"Compensation of employees; wages, salaries, & employers' social contributions: High-skilled\",\n",
       " 'Operating surplus: Consumption of fixed capital',\n",
       " 'Operating surplus: Rents on land',\n",
       " 'Operating surplus: Royalties on resources',\n",
       " 'Operating surplus: Remaining net operating surplus',\n",
       " 'Employment: Low-skilled male',\n",
       " 'Employment: Low-skilled female',\n",
       " 'Employment: Medium-skilled male',\n",
       " 'Employment: Medium-skilled female',\n",
       " 'Employment: High-skilled male',\n",
       " 'Employment: High-skilled female',\n",
       " 'Employment hours: Low-skilled male',\n",
       " 'Employment hours: Low-skilled female',\n",
       " 'Employment hours: Medium-skilled male',\n",
       " 'Employment hours: Medium-skilled female',\n",
       " 'Employment hours: High-skilled male',\n",
       " 'Employment hours: High-skilled female',\n",
       " 'Employment: Vulnerable employment',\n",
       " 'Employment hours: Vulnerable employment',\n",
       " 'CO2 - combustion - air',\n",
       " 'CH4 - combustion - air',\n",
       " 'N2O - combustion - air',\n",
       " 'SOx - combustion - air',\n",
       " 'NOx - combustion - air',\n",
       " 'NH3 - combustion - air',\n",
       " 'CO - combustion - air',\n",
       " 'Benzo(a)pyrene - combustion - air',\n",
       " 'Benzo(b)fluoranthene - combustion - air',\n",
       " 'Benzo(k)fluoranthene - combustion - air',\n",
       " 'Indeno(1,2,3-cd)pyrene - combustion - air',\n",
       " 'PCBs - combustion - air',\n",
       " 'PCDD_F - combustion - air',\n",
       " 'HCB - combustion - air',\n",
       " 'NMVOC - combustion - air',\n",
       " 'PM10 - combustion - air',\n",
       " 'PM2.5 - combustion - air',\n",
       " 'TSP - combustion - air',\n",
       " 'As - combustion - air',\n",
       " 'Cd - combustion - air',\n",
       " 'Cr - combustion - air',\n",
       " 'Cu - combustion - air',\n",
       " 'Hg - combustion - air',\n",
       " 'Ni - combustion - air',\n",
       " 'Pb - combustion - air',\n",
       " 'Se - combustion - air',\n",
       " 'Zn - combustion - air',\n",
       " 'As - non combustion - Agglomeration plant - pellets - air',\n",
       " 'As - non combustion - Agglomeration plant - sinter - air',\n",
       " 'As - non combustion - Glass production - air',\n",
       " 'As - non combustion - Production of coke oven coke - air',\n",
       " 'As - non combustion - Production of gascoke - air',\n",
       " 'As - non combustion - Steel production: basic oxygen furnace - air',\n",
       " 'As - non combustion - Steel production: electric arc furnace - air',\n",
       " 'As - non combustion - Steel production: open hearth furnace - air',\n",
       " 'B(a)P - non combustion - Primary aluminium production - air',\n",
       " 'B(a)P - non combustion - Production of coke oven coke - air',\n",
       " 'B(a)P - non combustion - Production of gascoke - air',\n",
       " 'B(b)F - non combustion - Primary aluminium production - air',\n",
       " 'B(b)F - non combustion - Production of coke oven coke - air',\n",
       " 'B(b)F - non combustion - Production of gascoke - air',\n",
       " 'B(k)F - non combustion - Primary aluminium production - air',\n",
       " 'B(k)F - non combustion - Production of coke oven coke - air',\n",
       " 'B(k)F - non combustion - Production of gascoke - air',\n",
       " 'CH4 - non combustion - Extraction/production of (natural) gas - air',\n",
       " 'CH4 - non combustion - Extraction/production of crude oil - air',\n",
       " 'CH4 - non combustion - Mining of antracite - air',\n",
       " 'CH4 - non combustion - Mining of bituminous coal - air',\n",
       " 'CH4 - non combustion - Mining of coking coal - air',\n",
       " 'CH4 - non combustion - Mining of lignite (brown coal) - air',\n",
       " 'CH4 - non combustion - Mining of sub-bituminous coal - air',\n",
       " 'CH4 - non combustion - Oil refinery - air',\n",
       " 'CO - non combustion - Agglomeration plant - sinter - air',\n",
       " 'CO - non combustion - Bricks production - air',\n",
       " 'CO - non combustion - Carbon black production - air',\n",
       " 'CO - non combustion - Cement production - air',\n",
       " 'CO - non combustion - Chemical wood pulp, dissolving grades - air',\n",
       " 'CO - non combustion - Chemical wood pulp, soda and sulphate, other than dissolving grades - air',\n",
       " 'CO - non combustion - Chemical wood pulp, sulphite, other than dissolving grades - air',\n",
       " 'CO - non combustion - Glass production - air',\n",
       " 'CO - non combustion - Lime production - air',\n",
       " 'CO - non combustion - Oil refinery - air',\n",
       " 'CO - non combustion - Pig iron production, blast furnace - air',\n",
       " 'CO - non combustion - Primary aluminium production - air',\n",
       " 'CO - non combustion - Production of coke oven coke - air',\n",
       " 'CO - non combustion - Production of gascoke - air',\n",
       " 'CO - non combustion - Semi-chemical wood pulp, pulp of fibers other than wood - air',\n",
       " 'CO - non combustion - Steel production: basic oxygen furnace - air',\n",
       " 'CO - non combustion - Steel production: electric arc furnace - air',\n",
       " 'CO2 - non combustion - Cement production - air',\n",
       " 'CO2 - non combustion - Lime production - air',\n",
       " 'Cd - non combustion - Agglomeration plant - pellets - air',\n",
       " 'Cd - non combustion - Agglomeration plant - sinter - air',\n",
       " 'Cd - non combustion - Glass production - air',\n",
       " 'Cd - non combustion - Nickel, unwrought - air',\n",
       " 'Cd - non combustion - Production of coke oven coke - air',\n",
       " 'Cd - non combustion - Production of gascoke - air',\n",
       " 'Cd - non combustion - Refined copper; unwrought, not alloyed - air',\n",
       " 'Cd - non combustion - Refined lead, unwrought - air',\n",
       " 'Cd - non combustion - Steel production: basic oxygen furnace - air',\n",
       " 'Cd - non combustion - Steel production: electric arc furnace - air',\n",
       " 'Cd - non combustion - Steel production: open hearth furnace - air',\n",
       " 'Cd - non combustion - Unrefined copper; copper anodes for electrolytic refining - air',\n",
       " 'Cd - non combustion - Zinc, unwrought, not alloyed - air',\n",
       " 'Cr - non combustion - Agglomeration plant - pellets - air',\n",
       " 'Cr - non combustion - Agglomeration plant - sinter - air',\n",
       " 'Cr - non combustion - Glass production - air',\n",
       " 'Cr - non combustion - Pig iron production, blast furnace - air',\n",
       " 'Cr - non combustion - Steel production: basic oxygen furnace - air',\n",
       " 'Cr - non combustion - Steel production: electric arc furnace - air',\n",
       " 'Cr - non combustion - Steel production: open hearth furnace - air',\n",
       " 'Cu - non combustion - Agglomeration plant - pellets - air',\n",
       " 'Cu - non combustion - Agglomeration plant - sinter - air',\n",
       " 'Cu - non combustion - Glass production - air',\n",
       " 'Cu - non combustion - Pig iron production, blast furnace - air',\n",
       " 'Cu - non combustion - Steel production: basic oxygen furnace - air',\n",
       " 'Cu - non combustion - Steel production: electric arc furnace - air',\n",
       " 'Cu - non combustion - Steel production: open hearth furnace - air',\n",
       " 'HCB - non combustion - Agglomeration plant - pellets - air',\n",
       " 'HCB - non combustion - Agglomeration plant - sinter - air',\n",
       " 'Hg - non combustion - Agglomeration plant - pellets - air',\n",
       " 'Hg - non combustion - Agglomeration plant - sinter - air',\n",
       " 'Hg - non combustion - Glass production - air',\n",
       " 'Hg - non combustion - Nickel, unwrought - air',\n",
       " 'Hg - non combustion - Pig iron production, blast furnace - air',\n",
       " 'Hg - non combustion - Production of coke oven coke - air',\n",
       " 'Hg - non combustion - Production of gascoke - air',\n",
       " 'Hg - non combustion - Refined copper; unwrought, not alloyed - air',\n",
       " 'Hg - non combustion - Refined lead, unwrought - air',\n",
       " 'HCB - non combustion - Secondary aluminium production - air',\n",
       " 'Hg - non combustion - Steel production: basic oxygen furnace - air',\n",
       " 'Hg - non combustion - Steel production: electric arc furnace - air',\n",
       " 'Hg - non combustion - Unrefined copper; copper anodes for electrolytic refining - air',\n",
       " 'Hg - non combustion - Zinc, unwrought, not alloyed - air',\n",
       " 'Indeno - non combustion - Primary aluminium production - air',\n",
       " 'Indeno - non combustion - Production of coke oven coke - air',\n",
       " 'Indeno - non combustion - Production of gascoke - air',\n",
       " 'NH3 - non combustion - N- fertilizer production - air',\n",
       " 'NMVOC - non combustion - Beef and veal - air',\n",
       " 'NMVOC - non combustion - Coil coating (coating of aluminum and steel) - air',\n",
       " 'NMVOC - non combustion - Decorative paint applicatoin - air',\n",
       " 'NMVOC - non combustion - Degreasing - air',\n",
       " 'NMVOC - non combustion - Diesel distribution - transport and depots (used in mobile sources) - air',\n",
       " 'NMVOC - non combustion - Diesel distribution - transport and depots (used in stationary sources) - air',\n",
       " 'NMVOC - non combustion - Dry cleaning - air',\n",
       " 'NMVOC - non combustion - Extraction, proc. and distribution of gaseous fuels - air',\n",
       " 'NMVOC - non combustion - Extraction, proc. and distribution of liquid fuels - air',\n",
       " 'NMVOC - non combustion - Extraction/production of (natural) gas - air',\n",
       " 'NMVOC - non combustion - Extraction/production of crude oil - air',\n",
       " 'NMVOC - non combustion - Fat, edible and non-edible oil extraction - air',\n",
       " 'NMVOC - non combustion - Fish, dried, salted or in brine; smoked fish; edible fish meal - air',\n",
       " 'NMVOC - non combustion - Fish, fish fillets, other fish meat and fish livers and roes, frozen - air',\n",
       " 'NMVOC - non combustion - Fish, otherwise prepared or preserved; caviar - air',\n",
       " 'NMVOC - non combustion - Flexography and rotogravure in packaging - air',\n",
       " 'NMVOC - non combustion - Gasoline distribution - service stations - air',\n",
       " 'NMVOC - non combustion - Gasoline distribution - transport and depots (used in mobile sources) - air',\n",
       " 'NMVOC - non combustion - Gasoline distribution - transport and depots (used in stationary sources) - air',\n",
       " 'NMVOC - non combustion - Industrial application of adhesives (use of high performance solvent based adhesives) - air',\n",
       " 'NMVOC - non combustion - Industrial application of adhesives (use of traditional solvent based adhesives) - air',\n",
       " 'NMVOC - non combustion - Industrial paint application, general industry (continuous processes) - air',\n",
       " 'NMVOC - non combustion - Industrial paint application, general industry (plastic parts) - air',\n",
       " 'NMVOC - non combustion - Industrial paint application, general industry - air',\n",
       " 'NMVOC - non combustion - Inorganic chemical industry, fertilizers and other - air',\n",
       " 'NMVOC - non combustion - Leather coating - air',\n",
       " 'NMVOC - non combustion - Manufacture of automobiles - air',\n",
       " 'NMVOC - non combustion - Mutton and lamb - air',\n",
       " 'NMVOC - non combustion - Oil refinery - air',\n",
       " 'NMVOC - non combustion - Organic chemical industry - downstream units - air',\n",
       " 'NMVOC - non combustion - Organic chemical industry, storage - air',\n",
       " 'NMVOC - non combustion - Other industrial use of solvents - air',\n",
       " 'NMVOC - non combustion - Pharmaceutical industry - air',\n",
       " 'NMVOC - non combustion - Polystyrene processing - air',\n",
       " 'NMVOC - non combustion - Polyvinylchloride produceduction by suspension process - air',\n",
       " 'NMVOC - non combustion - Pork - air',\n",
       " 'NMVOC - non combustion - Poultry, dressed - air',\n",
       " 'NMVOC - non combustion - Printing, offset - air',\n",
       " 'NMVOC - non combustion - Products incorporating solvents - air',\n",
       " 'NMVOC - non combustion - Raw sugar - air',\n",
       " 'NMVOC - non combustion - Rotogravure in publication - air',\n",
       " 'NMVOC - non combustion - Screen printing - air',\n",
       " 'NMVOC - non combustion - Steam cracking (ethylene and propylene production) - air',\n",
       " 'NMVOC - non combustion - Synthetic rubber - air',\n",
       " 'NMVOC - non combustion - Tyre production - air',\n",
       " 'NMVOC - non combustion - Vehicle refinishing - air',\n",
       " 'NMVOC - non combustion - Wire coating - air',\n",
       " 'NOx - non combustion - Agglomeration plant - pellets - air',\n",
       " 'NOx - non combustion - Agglomeration plant - sinter - air',\n",
       " 'NOx - non combustion - Bricks production - air',\n",
       " 'NOx - non combustion - Cement production - air',\n",
       " 'NOx - non combustion - Chemical wood pulp, dissolving grades - air',\n",
       " 'NOx - non combustion - Chemical wood pulp, soda and sulphate, other than dissolving grades - air',\n",
       " 'NOx - non combustion - Chemical wood pulp, sulphite, other than dissolving grades - air',\n",
       " 'NOx - non combustion - Glass production - air',\n",
       " 'NOx - non combustion - Lime production - air',\n",
       " 'NOx - non combustion - Nickel, unwrought - air',\n",
       " 'NOx - non combustion - Oil refinery - air',\n",
       " 'NOx - non combustion - Pig iron production, blast furnace - air',\n",
       " 'NOx - non combustion - Production of coke oven coke - air',\n",
       " 'NOx - non combustion - Production of gascoke - air',\n",
       " 'NOx - non combustion - Refined copper; unwrought, not alloyed - air',\n",
       " 'NOx - non combustion - Refined lead, unwrought - air',\n",
       " 'NOx - non combustion - Semi-chemical wood pulp, pulp of fibers other than wood - air',\n",
       " 'NOx - non combustion - Steel production: basic oxygen furnace - air',\n",
       " 'NOx - non combustion - Steel production: electric arc furnace - air',\n",
       " 'NOx - non combustion - Sulphuric acid production - air',\n",
       " 'NOx - non combustion - Unrefined copper; copper anodes for electrolytic refining - air',\n",
       " 'NOx - non combustion - Zinc, unwrought, not alloyed - air',\n",
       " 'Ni - non combustion - Agglomeration plant - pellets - air',\n",
       " 'Ni - non combustion - Agglomeration plant - sinter - air',\n",
       " 'Ni - non combustion - Glass production - air',\n",
       " 'Ni - non combustion - Production of coke oven coke - air',\n",
       " 'Ni - non combustion - Production of gascoke - air',\n",
       " 'Ni - non combustion - Steel production: basic oxygen furnace - air',\n",
       " 'Ni - non combustion - Steel production: electric arc furnace - air',\n",
       " 'Ni - non combustion - Steel production: open hearth furnace - air',\n",
       " 'PAH - non combustion - Agglomeration plant - pellets - air',\n",
       " 'PAH - non combustion - Agglomeration plant - sinter - air',\n",
       " 'PAH - non combustion - Pig iron production, blast furnace - air',\n",
       " 'PAH - non combustion - Production of coke oven coke - air',\n",
       " 'PAH - non combustion - Production of gascoke - air',\n",
       " 'PAH - non combustion - Steel production: basic oxygen furnace - air',\n",
       " 'PAH - non combustion - Steel production: electric arc furnace - air',\n",
       " 'PCB - non combustion - Agglomeration plant - pellets - air',\n",
       " 'PCB - non combustion - Agglomeration plant - sinter - air',\n",
       " 'PCB - non combustion - Pig iron production, blast furnace - air',\n",
       " 'PCB - non combustion - Steel production: basic oxygen furnace - air',\n",
       " 'PCB - non combustion - Steel production: electric arc furnace - air',\n",
       " 'PCDD/F - non combustion - Agglomeration plant - pellets - air',\n",
       " 'PCDD/F - non combustion - Agglomeration plant - sinter - air',\n",
       " 'PCDD/F - non combustion - Pig iron production, blast furnace - air',\n",
       " 'PCDD/F - non combustion - Secondary aluminium production - air',\n",
       " 'PCDD/F - non combustion - Steel production: basic oxygen furnace - air',\n",
       " 'PCDD/F - non combustion - Steel production: electric arc furnace - air',\n",
       " 'PM10 - non combustion - Agglomeration plant - pellets - air',\n",
       " 'PM10 - non combustion - Agglomeration plant - sinter - air',\n",
       " 'PM10 - non combustion - Aluminium ores and concentrates (Bauxite) - air',\n",
       " 'PM10 - non combustion - Bricks production - air',\n",
       " 'PM10 - non combustion - Briquettes production - air',\n",
       " 'PM10 - non combustion - Carbon black production - air',\n",
       " 'PM10 - non combustion - Cast iron production (grey iron foundries) - air',\n",
       " 'PM10 - non combustion - Cement production - air',\n",
       " 'PM10 - non combustion - Chemical wood pulp, dissolving grades - air',\n",
       " 'PM10 - non combustion - Chemical wood pulp, soda and sulphate, other than dissolving grades - air',\n",
       " 'PM10 - non combustion - Chemical wood pulp, sulphite, other than dissolving grades - air',\n",
       " 'PM10 - non combustion - Chromium ores and concentrates - air',\n",
       " 'PM10 - non combustion - Copper ores and concentrates - air',\n",
       " 'PM10 - non combustion - Fertilizer production (N-fertilizer) - air',\n",
       " 'PM10 - non combustion - Glass production - air',\n",
       " 'PM10 - non combustion - Gold ores and concentrates - air',\n",
       " 'PM10 - non combustion - Iron ores and concentrates - air',\n",
       " 'PM10 - non combustion - Lead ores and concentrates - air',\n",
       " 'PM10 - non combustion - Lime production - air',\n",
       " 'PM10 - non combustion - Mining of antracite - air',\n",
       " 'PM10 - non combustion - Mining of bituminous coal - air',\n",
       " 'PM10 - non combustion - Mining of coking coal - air',\n",
       " 'PM10 - non combustion - Mining of lignite (brown coal) - air',\n",
       " 'PM10 - non combustion - Mining of sub-bituminous coal - air',\n",
       " 'PM10 - non combustion - Molybdenum ores and concentrates - air',\n",
       " 'PM10 - non combustion - N- fertilizer production - air',\n",
       " 'PM10 - non combustion - Nickel ores and concentrates - air',\n",
       " 'PM10 - non combustion - Nickel, unwrought - air',\n",
       " 'PM10 - non combustion - Oil refinery - air',\n",
       " 'PM10 - non combustion - Pig iron production, blast furnace - air',\n",
       " 'PM10 - non combustion - Platinum ores and concentrates - air',\n",
       " 'PM10 - non combustion - Primary aluminium production - air',\n",
       " 'PM10 - non combustion - Production of coke oven coke - air',\n",
       " 'PM10 - non combustion - Production of gascoke - air',\n",
       " 'PM10 - non combustion - Refined copper; unwrought, not alloyed - air',\n",
       " 'PM10 - non combustion - Refined lead, unwrought - air',\n",
       " 'PM10 - non combustion - Secondary aluminium production - air',\n",
       " 'PM10 - non combustion - Semi-chemical wood pulp, pulp of fibers other than wood - air',\n",
       " 'PM10 - non combustion - Silver ores and concentrates - air',\n",
       " 'PM10 - non combustion - Steel production: basic oxygen furnace - air',\n",
       " 'PM10 - non combustion - Steel production: electric arc furnace - air',\n",
       " 'PM10 - non combustion - Steel production: open hearth furnace - air',\n",
       " 'PM10 - non combustion - Tin ores and concentrates - air',\n",
       " 'PM10 - non combustion - Unrefined copper; copper anodes for electrolytic refining - air',\n",
       " 'PM10 - non combustion - Zinc ores and concentrates - air',\n",
       " 'PM10 - non combustion - Zinc, unwrought, not alloyed - air',\n",
       " 'PM2.5 - non combustion - Agglomeration plant - pellets - air',\n",
       " 'PM2.5 - non combustion - Agglomeration plant - sinter - air',\n",
       " 'PM2.5 - non combustion - Aluminium ores and concentrates (Bauxite) - air',\n",
       " 'PM2.5 - non combustion - Bricks production - air',\n",
       " 'PM2.5 - non combustion - Briquettes production - air',\n",
       " 'PM2.5 - non combustion - Carbon black production - air',\n",
       " 'PM2.5 - non combustion - Cast iron production (grey iron foundries) - air',\n",
       " 'PM2.5 - non combustion - Cement production - air',\n",
       " 'PM2.5 - non combustion - Chemical wood pulp, dissolving grades - air',\n",
       " 'PM2.5 - non combustion - Chemical wood pulp, soda and sulphate, other than dissolving grades - air',\n",
       " 'PM2.5 - non combustion - Chemical wood pulp, sulphite, other than dissolving grades - air',\n",
       " 'PM2.5 - non combustion - Chromium ores and concentrates - air',\n",
       " 'PM2.5 - non combustion - Copper ores and concentrates - air',\n",
       " 'PM2.5 - non combustion - Fertilizer production (N-fertilizer) - air',\n",
       " 'PM2.5 - non combustion - Glass production - air',\n",
       " 'PM2.5 - non combustion - Gold ores and concentrates - air',\n",
       " 'PM2.5 - non combustion - Iron ores and concentrates - air',\n",
       " 'PM2.5 - non combustion - Lead ores and concentrates - air',\n",
       " 'PM2.5 - non combustion - Lime production - air',\n",
       " 'PM2.5 - non combustion - Mining of antracite - air',\n",
       " 'PM2.5 - non combustion - Mining of bituminous coal - air',\n",
       " 'PM2.5 - non combustion - Mining of coking coal - air',\n",
       " 'PM2.5 - non combustion - Mining of lignite (brown coal) - air',\n",
       " 'PM2.5 - non combustion - Mining of sub-bituminous coal - air',\n",
       " 'PM2.5 - non combustion - Molybdenum ores and concentrates - air',\n",
       " 'PM2.5 - non combustion - N- fertilizer production - air',\n",
       " 'PM2.5 - non combustion - Nickel ores and concentrates - air',\n",
       " 'PM2.5 - non combustion - Nickel, unwrought - air',\n",
       " 'PM2.5 - non combustion - Oil refinery - air',\n",
       " 'PM2.5 - non combustion - Pig iron production, blast furnace - air',\n",
       " 'PM2.5 - non combustion - Platinum ores and concentrates - air',\n",
       " 'PM2.5 - non combustion - Primary aluminium production - air',\n",
       " 'PM2.5 - non combustion - Production of coke oven coke - air',\n",
       " 'PM2.5 - non combustion - Production of gascoke - air',\n",
       " 'PM2.5 - non combustion - Refined copper; unwrought, not alloyed - air',\n",
       " 'PM2.5 - non combustion - Refined lead, unwrought - air',\n",
       " 'PM2.5 - non combustion - Secondary aluminium production - air',\n",
       " 'PM2.5 - non combustion - Semi-chemical wood pulp, pulp of fibers other than wood - air',\n",
       " 'PM2.5 - non combustion - Silver ores and concentrates - air',\n",
       " 'PM2.5 - non combustion - Steel production: basic oxygen furnace - air',\n",
       " 'PM2.5 - non combustion - Steel production: electric arc furnace - air',\n",
       " 'PM2.5 - non combustion - Steel production: open hearth furnace - air',\n",
       " 'PM2.5 - non combustion - Tin ores and concentrates - air',\n",
       " 'PM2.5 - non combustion - Unrefined copper; copper anodes for electrolytic refining - air',\n",
       " 'PM2.5 - non combustion - Zinc ores and concentrates - air',\n",
       " 'PM2.5 - non combustion - Zinc, unwrought, not alloyed - air',\n",
       " 'Pb - non combustion - Agglomeration plant - pellets - air',\n",
       " 'Pb - non combustion - Agglomeration plant - sinter - air',\n",
       " 'Pb - non combustion - Glass production - air',\n",
       " 'Pb - non combustion - Nickel, unwrought - air',\n",
       " 'Pb - non combustion - Pig iron production, blast furnace - air',\n",
       " 'Pb - non combustion - Production of coke oven coke - air',\n",
       " 'Pb - non combustion - Production of gascoke - air',\n",
       " 'Pb - non combustion - Refined copper; unwrought, not alloyed - air',\n",
       " 'Pb - non combustion - Refined lead, unwrought - air',\n",
       " 'Pb - non combustion - Steel production: basic oxygen furnace - air',\n",
       " 'Pb - non combustion - Steel production: electric arc furnace - air',\n",
       " 'Pb - non combustion - Steel production: open hearth furnace - air',\n",
       " 'Pb - non combustion - Unrefined copper; copper anodes for electrolytic refining - air',\n",
       " 'Pb - non combustion - Zinc, unwrought, not alloyed - air',\n",
       " 'SOx - non combustion - Agglomeration plant - sinter - air',\n",
       " 'SOx - non combustion - Bricks production - air',\n",
       " 'SOx - non combustion - Cement production - air',\n",
       " 'SOx - non combustion - Chemical wood pulp, dissolving grades - air',\n",
       " 'SOx - non combustion - Chemical wood pulp, soda and sulphate, other than dissolving grades - air',\n",
       " 'SOx - non combustion - Chemical wood pulp, sulphite, other than dissolving grades - air',\n",
       " 'SOx - non combustion - Glass production - air',\n",
       " 'SOx - non combustion - Lime production - air',\n",
       " 'SOx - non combustion - Nickel, unwrought - air',\n",
       " 'SOx - non combustion - Oil refinery - air',\n",
       " 'SOx - non combustion - Pig iron production, blast furnace - air',\n",
       " 'SOx - non combustion - Production of coke oven coke - air',\n",
       " 'SOx - non combustion - Production of gascoke - air',\n",
       " 'SOx - non combustion - Refined copper; unwrought, not alloyed - air',\n",
       " 'SOx - non combustion - Refined lead, unwrought - air',\n",
       " 'SOx - non combustion - Semi-chemical wood pulp, pulp of fibers other than wood - air',\n",
       " 'SOx - non combustion - Sulphuric acid production - air',\n",
       " 'SOx - non combustion - Unrefined copper; copper anodes for electrolytic refining - air',\n",
       " 'SOx - non combustion - Zinc, unwrought, not alloyed - air',\n",
       " 'Se - non combustion - Agglomeration plant - pellets - air',\n",
       " 'Se - non combustion - Agglomeration plant - sinter - air',\n",
       " 'Se - non combustion - Glass production - air',\n",
       " 'Se - non combustion - Steel production: basic oxygen furnace - air',\n",
       " 'TSP - non combustion - Agglomeration plant - pellets - air',\n",
       " 'TSP - non combustion - Agglomeration plant - sinter - air',\n",
       " 'TSP - non combustion - Aluminium ores and concentrates (Bauxite) - air',\n",
       " 'TSP - non combustion - Bricks production - air',\n",
       " 'TSP - non combustion - Briquettes production - air',\n",
       " 'TSP - non combustion - Carbon black production - air',\n",
       " 'TSP - non combustion - Cast iron production (grey iron foundries) - air',\n",
       " 'TSP - non combustion - Cement production - air',\n",
       " 'TSP - non combustion - Chemical wood pulp, dissolving grades - air',\n",
       " 'TSP - non combustion - Chemical wood pulp, soda and sulphate, other than dissolving grades - air',\n",
       " 'TSP - non combustion - Chemical wood pulp, sulphite, other than dissolving grades - air',\n",
       " 'TSP - non combustion - Chromium ores and concentrates - air',\n",
       " 'TSP - non combustion - Copper ores and concentrates - air',\n",
       " 'TSP - non combustion - Fertilizer production (N-fertilizer) - air',\n",
       " 'TSP - non combustion - Glass production - air',\n",
       " 'TSP - non combustion - Gold ores and concentrates - air',\n",
       " 'TSP - non combustion - Iron ores and concentrates - air',\n",
       " 'TSP - non combustion - Lead ores and concentrates - air',\n",
       " 'TSP - non combustion - Lime production - air',\n",
       " 'TSP - non combustion - Mining of antracite - air',\n",
       " 'TSP - non combustion - Mining of bituminous coal - air',\n",
       " 'TSP - non combustion - Mining of coking coal - air',\n",
       " 'TSP - non combustion - Mining of lignite (brown coal) - air',\n",
       " 'TSP - non combustion - Mining of sub-bituminous coal - air',\n",
       " 'TSP - non combustion - Molybdenum ores and concentrates - air',\n",
       " 'TSP - non combustion - N- fertilizer production - air',\n",
       " 'TSP - non combustion - Nickel ores and concentrates - air',\n",
       " 'TSP - non combustion - Nickel, unwrought - air',\n",
       " 'TSP - non combustion - Oil refinery - air',\n",
       " 'TSP - non combustion - Pig iron production, blast furnace - air',\n",
       " 'TSP - non combustion - Platinum ores and concentrates - air',\n",
       " 'TSP - non combustion - Primary aluminium production - air',\n",
       " 'TSP - non combustion - Production of coke oven coke - air',\n",
       " 'TSP - non combustion - Production of gascoke - air',\n",
       " 'TSP - non combustion - Refined copper; unwrought, not alloyed - air',\n",
       " 'TSP - non combustion - Refined lead, unwrought - air',\n",
       " 'TSP - non combustion - Secondary aluminium production - air',\n",
       " 'TSP - non combustion - Semi-chemical wood pulp, pulp of fibers other than wood - air',\n",
       " 'TSP - non combustion - Silver ores and concentrates - air',\n",
       " 'TSP - non combustion - Steel production: basic oxygen furnace - air',\n",
       " 'TSP - non combustion - Steel production: electric arc furnace - air',\n",
       " 'TSP - non combustion - Steel production: open hearth furnace - air',\n",
       " 'TSP - non combustion - Tin ores and concentrates - air',\n",
       " 'TSP - non combustion - Unrefined copper; copper anodes for electrolytic refining - air',\n",
       " 'TSP - non combustion - Zinc ores and concentrates - air',\n",
       " 'TSP - non combustion - Zinc, unwrought, not alloyed - air',\n",
       " 'Zn - non combustion - Agglomeration plant - pellets - air',\n",
       " 'Zn - non combustion - Agglomeration plant - sinter - air',\n",
       " 'Zn - non combustion - Glass production - air',\n",
       " 'Zn - non combustion - Nickel, unwrought - air',\n",
       " 'Zn - non combustion - Pig iron production, blast furnace - air',\n",
       " 'Zn - non combustion - Refined copper; unwrought, not alloyed - air',\n",
       " 'Zn - non combustion - Refined lead, unwrought - air',\n",
       " 'Zn - non combustion - Steel production: basic oxygen furnace - air',\n",
       " 'Zn - non combustion - Steel production: electric arc furnace - air',\n",
       " 'Zn - non combustion - Steel production: open hearth furnace - air',\n",
       " 'Zn - non combustion - Unrefined copper; copper anodes for electrolytic refining - air',\n",
       " 'Zn - non combustion - Zinc, unwrought, not alloyed - air',\n",
       " 'SF6 - air',\n",
       " 'HFC - air',\n",
       " 'PFC - air',\n",
       " 'CH4 - agriculture - air',\n",
       " 'CO2 - agriculture - peat decay - air',\n",
       " 'N - agriculture - water',\n",
       " 'N2O - agriculture - air',\n",
       " 'NH3 - agriculture - air',\n",
       " 'NOX - agriculture - air',\n",
       " 'P - agriculture - soil',\n",
       " 'P - agriculture - water',\n",
       " 'Pxx - agriculture - soil',\n",
       " 'CH4 - waste - air',\n",
       " 'CO - waste - air',\n",
       " 'CO2 - waste - biogenic - air',\n",
       " 'CO2 - waste - fossil - air',\n",
       " 'Emissions nec - waste - undef',\n",
       " 'N - waste - water',\n",
       " 'NH3 - waste - air',\n",
       " 'NOX - waste - air',\n",
       " 'P - waste - water',\n",
       " 'PM2.5 - waste - air',\n",
       " 'SOx - waste - air',\n",
       " 'Cropland - Cereal grains nec',\n",
       " 'Cropland - Crops nec',\n",
       " 'Cropland - Fodder crops-Cattle',\n",
       " 'Cropland - Fodder crops-Meat animals nec',\n",
       " 'Cropland - Fodder crops-Pigs',\n",
       " 'Cropland - Fodder crops-Poultry',\n",
       " 'Cropland - Fodder crops-Raw milk',\n",
       " 'Cropland - Oil seeds',\n",
       " 'Cropland - Paddy rice',\n",
       " 'Cropland - Plant-based fibers',\n",
       " 'Cropland - Sugar cane, sugar beet',\n",
       " 'Cropland - Vegetables, fruit, nuts',\n",
       " 'Cropland - Wheat',\n",
       " 'Forest area - Forestry',\n",
       " 'Other land Use: Total',\n",
       " 'Permanent pastures - Grazing-Cattle',\n",
       " 'Permanent pastures - Grazing-Meat animals nec',\n",
       " 'Permanent pastures - Grazing-Raw milk',\n",
       " 'Infrastructure land',\n",
       " 'Forest area - Marginal use',\n",
       " 'Energy Inputs from Nature: Total',\n",
       " 'Emission Relevant Energy Carrier: Total',\n",
       " 'Energy Carrier Supply: Total',\n",
       " 'Energy Carrier Use: Total',\n",
       " 'Domestic Extraction Used - Crop residues - Feed',\n",
       " 'Domestic Extraction Used - Crop residues - Straw',\n",
       " 'Domestic Extraction Used - Fishery - Aquatic plants',\n",
       " 'Domestic Extraction Used - Fishery - Inland waters fish catch',\n",
       " 'Domestic Extraction Used - Fishery - Marine fish catch',\n",
       " 'Domestic Extraction Used - Fishery - Other (e.g. Aquatic mammals)',\n",
       " 'Domestic Extraction Used - Fodder crops - Alfalfa for Forage and Silage',\n",
       " 'Domestic Extraction Used - Fodder crops - Beets for Fodder',\n",
       " 'Domestic Extraction Used - Fodder crops - Cabbage for Fodder',\n",
       " 'Domestic Extraction Used - Fodder crops - Carrots for Fodder',\n",
       " 'Domestic Extraction Used - Fodder crops - Clover for Forage and Silage',\n",
       " 'Domestic Extraction Used - Fodder crops - Forage Products nec',\n",
       " 'Domestic Extraction Used - Fodder crops - Grasses nec for Forage and Silage',\n",
       " 'Domestic Extraction Used - Fodder crops - Green Oilseeds for Fodder',\n",
       " 'Domestic Extraction Used - Fodder crops - Leguminous nec for forage and Silage',\n",
       " 'Domestic Extraction Used - Fodder crops - Maize for Forage and Silage',\n",
       " 'Domestic Extraction Used - Fodder crops - Other grasses',\n",
       " 'Domestic Extraction Used - Fodder crops - Rye Grass, Forage and Silage',\n",
       " 'Domestic Extraction Used - Fodder crops - Sorghum for Forage and Silage',\n",
       " 'Domestic Extraction Used - Fodder crops - Swedes for Fodder',\n",
       " 'Domestic Extraction Used - Fodder crops - Turnips for Fodder',\n",
       " 'Domestic Extraction Used - Fodder crops - Vegetables and Roots, Fodder',\n",
       " 'Domestic Extraction Used - Forestry - Coniferous wood - Industrial roundwood',\n",
       " 'Domestic Extraction Used - Forestry - Coniferous wood - Wood fuel',\n",
       " 'Domestic Extraction Used - Forestry - Kapok Fruit',\n",
       " 'Domestic Extraction Used - Forestry - Natural Gums',\n",
       " 'Domestic Extraction Used - Forestry - Non-coniferous wood - Industrial roundwood',\n",
       " 'Domestic Extraction Used - Forestry - Non-coniferous wood - Wood fuel',\n",
       " 'Domestic Extraction Used - Forestry - Raw materials other than wood',\n",
       " 'Domestic Extraction Used - Fossil Fuel: Total',\n",
       " 'Domestic Extraction Used - Grazing',\n",
       " 'Domestic Extraction Used - Metal Ores - Bauxite and aluminium ores',\n",
       " 'Domestic Extraction Used - Metal Ores - Copper ores',\n",
       " 'Domestic Extraction Used - Metal Ores - Gold ores',\n",
       " 'Domestic Extraction Used - Metal Ores - Iron ores',\n",
       " 'Domestic Extraction Used - Metal Ores - Lead ores',\n",
       " 'Domestic Extraction Used - Metal Ores - Nickel ores',\n",
       " 'Domestic Extraction Used - Metal Ores - Other non-ferrous metal ores',\n",
       " 'Domestic Extraction Used - Metal Ores - PGM ores',\n",
       " 'Domestic Extraction Used - Metal Ores - Silver ores',\n",
       " 'Domestic Extraction Used - Metal Ores - Tin ores',\n",
       " 'Domestic Extraction Used - Metal Ores - Uranium and thorium ores',\n",
       " 'Domestic Extraction Used - Metal Ores - Zinc ores',\n",
       " 'Domestic Extraction Used - Non-Metallic Minerals - Building stones',\n",
       " 'Domestic Extraction Used - Non-Metallic Minerals - Chemical and fertilizer minerals',\n",
       " 'Domestic Extraction Used - Non-Metallic Minerals - Clays and kaolin',\n",
       " 'Domestic Extraction Used - Non-Metallic Minerals - Gravel and sand',\n",
       " 'Domestic Extraction Used - Non-Metallic Minerals - Limestone, gypsum, chalk, dolomite',\n",
       " 'Domestic Extraction Used - Non-Metallic Minerals - Other minerals',\n",
       " 'Domestic Extraction Used - Non-Metallic Minerals - Salt',\n",
       " 'Domestic Extraction Used - Non-Metallic Minerals - Slate',\n",
       " 'Domestic Extraction Used - Primary Crops - Kapokseed in Shell',\n",
       " 'Domestic Extraction Used - Primary Crops - Honey',\n",
       " 'Domestic Extraction Used - Primary Crops - Beeswax',\n",
       " 'Domestic Extraction Used - Primary Crops - Abaca',\n",
       " 'Domestic Extraction Used - Primary Crops - Agave Fibres nes',\n",
       " 'Domestic Extraction Used - Primary Crops - Almonds',\n",
       " 'Domestic Extraction Used - Primary Crops - Anise, Badian, Fennel',\n",
       " 'Domestic Extraction Used - Primary Crops - Apples',\n",
       " 'Domestic Extraction Used - Primary Crops - Apricots',\n",
       " 'Domestic Extraction Used - Primary Crops - Arecanuts',\n",
       " 'Domestic Extraction Used - Primary Crops - Artichokes',\n",
       " 'Domestic Extraction Used - Primary Crops - Asparagus',\n",
       " 'Domestic Extraction Used - Primary Crops - Avocados',\n",
       " 'Domestic Extraction Used - Primary Crops - Bambara beans',\n",
       " 'Domestic Extraction Used - Primary Crops - Bananas',\n",
       " 'Domestic Extraction Used - Primary Crops - Barley',\n",
       " 'Domestic Extraction Used - Primary Crops - Beans, dry',\n",
       " 'Domestic Extraction Used - Primary Crops - Beans, green',\n",
       " 'Domestic Extraction Used - Primary Crops - Berries nec',\n",
       " 'Domestic Extraction Used - Primary Crops - Blueberries',\n",
       " 'Domestic Extraction Used - Primary Crops - Brazil nuts, with shell',\n",
       " 'Domestic Extraction Used - Primary Crops - Broad beans, horse beans, dry',\n",
       " 'Domestic Extraction Used - Primary Crops - Buckwheat',\n",
       " 'Domestic Extraction Used - Primary Crops - Cabbages',\n",
       " 'Domestic Extraction Used - Primary Crops - Canary Seed',\n",
       " 'Domestic Extraction Used - Primary Crops - Carobs',\n",
       " 'Domestic Extraction Used - Primary Crops - Carrots',\n",
       " 'Domestic Extraction Used - Primary Crops - Cashew nuts, with shell',\n",
       " 'Domestic Extraction Used - Primary Crops - Cashewapple',\n",
       " 'Domestic Extraction Used - Primary Crops - Cassava',\n",
       " 'Domestic Extraction Used - Primary Crops - Cassava leaves',\n",
       " 'Domestic Extraction Used - Primary Crops - Castor oil seed',\n",
       " 'Domestic Extraction Used - Primary Crops - Cauliflower',\n",
       " 'Domestic Extraction Used - Primary Crops - Cereals nec',\n",
       " 'Domestic Extraction Used - Primary Crops - Cherries',\n",
       " 'Domestic Extraction Used - Primary Crops - Chestnuts',\n",
       " 'Domestic Extraction Used - Primary Crops - Chick peas',\n",
       " 'Domestic Extraction Used - Primary Crops - Chicory Roots',\n",
       " 'Domestic Extraction Used - Primary Crops - Chillies and peppers, dry',\n",
       " 'Domestic Extraction Used - Primary Crops - Chillies and peppers, green',\n",
       " 'Domestic Extraction Used - Primary Crops - Cinnamon',\n",
       " 'Domestic Extraction Used - Primary Crops - Citrus Fruit nec',\n",
       " 'Domestic Extraction Used - Primary Crops - Cloves',\n",
       " 'Domestic Extraction Used - Primary Crops - Cocoa Beans',\n",
       " 'Domestic Extraction Used - Primary Crops - Coconuts',\n",
       " 'Domestic Extraction Used - Primary Crops - Coffee, Green',\n",
       " 'Domestic Extraction Used - Primary Crops - Coir',\n",
       " 'Domestic Extraction Used - Primary Crops - Cotton Lint',\n",
       " 'Domestic Extraction Used - Primary Crops - Cottonseed',\n",
       " 'Domestic Extraction Used - Primary Crops - Cow peas, dry',\n",
       " 'Domestic Extraction Used - Primary Crops - Cranberries',\n",
       " 'Domestic Extraction Used - Primary Crops - Cucumbers and Gherkins',\n",
       " 'Domestic Extraction Used - Primary Crops - Currants',\n",
       " 'Domestic Extraction Used - Primary Crops - Dates',\n",
       " 'Domestic Extraction Used - Primary Crops - Eggplants',\n",
       " 'Domestic Extraction Used - Primary Crops - Fibre Crops nes',\n",
       " 'Domestic Extraction Used - Primary Crops - Figs',\n",
       " 'Domestic Extraction Used - Primary Crops - Flax Fibre and Tow',\n",
       " 'Domestic Extraction Used - Primary Crops - Fonio',\n",
       " 'Domestic Extraction Used - Primary Crops - Fruit Fresh Nes',\n",
       " 'Domestic Extraction Used - Primary Crops - Fruit, tropical fresh nes',\n",
       " 'Domestic Extraction Used - Primary Crops - Garlic',\n",
       " 'Domestic Extraction Used - Primary Crops - Ginger',\n",
       " 'Domestic Extraction Used - Primary Crops - Gooseberries',\n",
       " 'Domestic Extraction Used - Primary Crops - Grapefruit and Pomelos',\n",
       " 'Domestic Extraction Used - Primary Crops - Grapes',\n",
       " 'Domestic Extraction Used - Primary Crops - Groundnuts in Shell',\n",
       " 'Domestic Extraction Used - Primary Crops - Hazelnuts',\n",
       " 'Domestic Extraction Used - Primary Crops - Hemp Fibre and Tow',\n",
       " 'Domestic Extraction Used - Primary Crops - Hempseed',\n",
       " 'Domestic Extraction Used - Primary Crops - Hops',\n",
       " 'Domestic Extraction Used - Primary Crops - Jojoba Seeds',\n",
       " 'Domestic Extraction Used - Primary Crops - Jute and Jute-like Fibres',\n",
       " 'Domestic Extraction Used - Primary Crops - Kapok Fibre',\n",
       " 'Domestic Extraction Used - Primary Crops - Karite Nuts',\n",
       " 'Domestic Extraction Used - Primary Crops - Kiwi Fruit',\n",
       " 'Domestic Extraction Used - Primary Crops - Kolanuts',\n",
       " 'Domestic Extraction Used - Primary Crops - Leeks and other Alliac. Veg.',\n",
       " 'Domestic Extraction Used - Primary Crops - Leguminous vegetables, nes',\n",
       " 'Domestic Extraction Used - Primary Crops - Lemons and Limes',\n",
       " 'Domestic Extraction Used - Primary Crops - Lentils',\n",
       " 'Domestic Extraction Used - Primary Crops - Lettuce',\n",
       " 'Domestic Extraction Used - Primary Crops - Linseed',\n",
       " 'Domestic Extraction Used - Primary Crops - Lupins',\n",
       " 'Domestic Extraction Used - Primary Crops - Maize',\n",
       " 'Domestic Extraction Used - Primary Crops - Maize, green',\n",
       " 'Domestic Extraction Used - Primary Crops - Mangoes, mangosteens, guavas',\n",
       " 'Domestic Extraction Used - Primary Crops - Mate',\n",
       " 'Domestic Extraction Used - Primary Crops - Melonseed',\n",
       " 'Domestic Extraction Used - Primary Crops - Millet',\n",
       " 'Domestic Extraction Used - Primary Crops - Mixed Grain',\n",
       " 'Domestic Extraction Used - Primary Crops - Mushrooms',\n",
       " 'Domestic Extraction Used - Primary Crops - Mustard Seed',\n",
       " 'Domestic Extraction Used - Primary Crops - Natural Rubber',\n",
       " 'Domestic Extraction Used - Primary Crops - Nutmeg, mace and cardamoms',\n",
       " 'Domestic Extraction Used - Primary Crops - Nuts, nes',\n",
       " 'Domestic Extraction Used - Primary Crops - Oats',\n",
       " 'Domestic Extraction Used - Primary Crops - Oil Palm Fruit',\n",
       " 'Domestic Extraction Used - Primary Crops - Oilseeds nec',\n",
       " 'Domestic Extraction Used - Primary Crops - Okra',\n",
       " 'Domestic Extraction Used - Primary Crops - Olives',\n",
       " 'Domestic Extraction Used - Primary Crops - Onions',\n",
       " 'Domestic Extraction Used - Primary Crops - Onions, dry',\n",
       " 'Domestic Extraction Used - Primary Crops - Oranges',\n",
       " 'Domestic Extraction Used - Primary Crops - Other Bastfibres',\n",
       " 'Domestic Extraction Used - Primary Crops - Other melons',\n",
       " 'Domestic Extraction Used - Primary Crops - Papayas',\n",
       " 'Domestic Extraction Used - Primary Crops - Peaches and Nectarines',\n",
       " 'Domestic Extraction Used - Primary Crops - Pears',\n",
       " 'Domestic Extraction Used - Primary Crops - Peas, Green',\n",
       " 'Domestic Extraction Used - Primary Crops - Peas, dry',\n",
       " 'Domestic Extraction Used - Primary Crops - Pepper',\n",
       " 'Domestic Extraction Used - Primary Crops - Peppermint',\n",
       " 'Domestic Extraction Used - Primary Crops - Persimmons',\n",
       " 'Domestic Extraction Used - Primary Crops - Pigeon peas',\n",
       " 'Domestic Extraction Used - Primary Crops - Pineapples',\n",
       " 'Domestic Extraction Used - Primary Crops - Pistachios',\n",
       " 'Domestic Extraction Used - Primary Crops - Plantains',\n",
       " 'Domestic Extraction Used - Primary Crops - Plums',\n",
       " 'Domestic Extraction Used - Primary Crops - Pome fruit, nes',\n",
       " 'Domestic Extraction Used - Primary Crops - Poppy Seed',\n",
       " 'Domestic Extraction Used - Primary Crops - Potatoes',\n",
       " 'Domestic Extraction Used - Primary Crops - Pulses nec',\n",
       " 'Domestic Extraction Used - Primary Crops - Pumpkins, Squash, Gourds',\n",
       " 'Domestic Extraction Used - Primary Crops - Pyrethrum, Dried Flowers',\n",
       " 'Domestic Extraction Used - Primary Crops - Quinces',\n",
       " 'Domestic Extraction Used - Primary Crops - Quinoa',\n",
       " 'Domestic Extraction Used - Primary Crops - Ramie',\n",
       " 'Domestic Extraction Used - Primary Crops - Rapeseed',\n",
       " 'Domestic Extraction Used - Primary Crops - Raspberries',\n",
       " 'Domestic Extraction Used - Primary Crops - Rice',\n",
       " 'Domestic Extraction Used - Primary Crops - Roots and Tubers, nes',\n",
       " 'Domestic Extraction Used - Primary Crops - Rye',\n",
       " 'Domestic Extraction Used - Primary Crops - Safflower Seed',\n",
       " 'Domestic Extraction Used - Primary Crops - Sesame Seed',\n",
       " 'Domestic Extraction Used - Primary Crops - Sisal',\n",
       " 'Domestic Extraction Used - Primary Crops - Sorghum',\n",
       " 'Domestic Extraction Used - Primary Crops - Sour Cherries',\n",
       " 'Domestic Extraction Used - Primary Crops - Soybeans',\n",
       " 'Domestic Extraction Used - Primary Crops - Spices nec',\n",
       " 'Domestic Extraction Used - Primary Crops - Spinach',\n",
       " 'Domestic Extraction Used - Primary Crops - Stone Fruit nec,',\n",
       " 'Domestic Extraction Used - Primary Crops - Strawberries',\n",
       " 'Domestic Extraction Used - Primary Crops - String beans',\n",
       " 'Domestic Extraction Used - Primary Crops - Sugar Beets',\n",
       " 'Domestic Extraction Used - Primary Crops - Sugar Cane',\n",
       " 'Domestic Extraction Used - Primary Crops - Sugar Crops nes',\n",
       " 'Domestic Extraction Used - Primary Crops - Sunflower Seed',\n",
       " 'Domestic Extraction Used - Primary Crops - Sweet Potatoes',\n",
       " 'Domestic Extraction Used - Primary Crops - Tallowtree Seeds',\n",
       " 'Domestic Extraction Used - Primary Crops - Tang. Mand Clement. Satsma',\n",
       " 'Domestic Extraction Used - Primary Crops - Taro',\n",
       " 'Domestic Extraction Used - Primary Crops - Tea',\n",
       " 'Domestic Extraction Used - Primary Crops - Tea nes',\n",
       " 'Domestic Extraction Used - Primary Crops - Tobacco Leaves',\n",
       " 'Domestic Extraction Used - Primary Crops - Tomatoes',\n",
       " 'Domestic Extraction Used - Primary Crops - Triticale',\n",
       " 'Domestic Extraction Used - Primary Crops - Tung Nuts',\n",
       " 'Domestic Extraction Used - Primary Crops - Vanilla',\n",
       " 'Domestic Extraction Used - Primary Crops - Vegetables Fresh nec',\n",
       " 'Domestic Extraction Used - Primary Crops - Vetches',\n",
       " 'Domestic Extraction Used - Primary Crops - Walnuts',\n",
       " 'Domestic Extraction Used - Primary Crops - Watermelons',\n",
       " 'Domestic Extraction Used - Primary Crops - Wheat',\n",
       " 'Domestic Extraction Used - Primary Crops - Yams',\n",
       " 'Domestic Extraction Used - Primary Crops - Yautia',\n",
       " 'Unused Domestic Extraction - Primary Crops - Rice',\n",
       " 'Unused Domestic Extraction - Primary Crops - Wheat',\n",
       " 'Unused Domestic Extraction - Primary Crops - Barley',\n",
       " 'Unused Domestic Extraction - Primary Crops - Buckwheat',\n",
       " 'Unused Domestic Extraction - Primary Crops - Canary Seed',\n",
       " 'Unused Domestic Extraction - Primary Crops - Maize',\n",
       " 'Unused Domestic Extraction - Primary Crops - Millet',\n",
       " 'Unused Domestic Extraction - Primary Crops - Mixed Grain',\n",
       " 'Unused Domestic Extraction - Primary Crops - Oats',\n",
       " 'Unused Domestic Extraction - Primary Crops - Rye',\n",
       " 'Unused Domestic Extraction - Primary Crops - Sorghum',\n",
       " 'Unused Domestic Extraction - Primary Crops - Triticale',\n",
       " 'Unused Domestic Extraction - Primary Crops - Cereals nec',\n",
       " 'Unused Domestic Extraction - Primary Crops - Fonio',\n",
       " 'Unused Domestic Extraction - Primary Crops - Quinoa',\n",
       " 'Unused Domestic Extraction - Primary Crops - Potatoes',\n",
       " 'Unused Domestic Extraction - Primary Crops - Sweet Potatoes',\n",
       " 'Unused Domestic Extraction - Primary Crops - Yams',\n",
       " 'Unused Domestic Extraction - Primary Crops - Lentils',\n",
       " 'Unused Domestic Extraction - Primary Crops - Lupins',\n",
       " 'Unused Domestic Extraction - Primary Crops - Vetches',\n",
       " 'Unused Domestic Extraction - Primary Crops - Pulses nec',\n",
       " 'Unused Domestic Extraction - Primary Crops - Olives',\n",
       " 'Unused Domestic Extraction - Primary Crops - Artichokes',\n",
       " 'Unused Domestic Extraction - Primary Crops - Asparagus',\n",
       " 'Unused Domestic Extraction - Primary Crops - Cabbages',\n",
       " 'Unused Domestic Extraction - Primary Crops - Carrots',\n",
       " 'Unused Domestic Extraction - Primary Crops - Cauliflower',\n",
       " 'Unused Domestic Extraction - Primary Crops - Chillies and peppers, green',\n",
       " 'Unused Domestic Extraction - Primary Crops - Cucumbers and Gherkins',\n",
       " 'Unused Domestic Extraction - Primary Crops - Eggplants',\n",
       " 'Unused Domestic Extraction - Primary Crops - Garlic',\n",
       " 'Unused Domestic Extraction - Primary Crops - Leeks and other Alliac. Veg.',\n",
       " 'Unused Domestic Extraction - Primary Crops - Lettuce',\n",
       " 'Unused Domestic Extraction - Primary Crops - Mushrooms',\n",
       " 'Unused Domestic Extraction - Primary Crops - Peas, Green',\n",
       " 'Unused Domestic Extraction - Primary Crops - Pumpkins, Squash, Gourds',\n",
       " 'Unused Domestic Extraction - Primary Crops - Spinach',\n",
       " 'Unused Domestic Extraction - Primary Crops - Tomatoes',\n",
       " 'Unused Domestic Extraction - Primary Crops - Vegetables Fresh nec',\n",
       " 'Unused Domestic Extraction - Primary Crops - Apples',\n",
       " 'Unused Domestic Extraction - Primary Crops - Apricots',\n",
       " 'Unused Domestic Extraction - Primary Crops - Avocados',\n",
       " 'Unused Domestic Extraction - Primary Crops - Blueberries',\n",
       " 'Unused Domestic Extraction - Primary Crops - Carobs',\n",
       " 'Unused Domestic Extraction - Primary Crops - Cherries',\n",
       " 'Unused Domestic Extraction - Primary Crops - Currants',\n",
       " 'Unused Domestic Extraction - Primary Crops - Dates',\n",
       " 'Unused Domestic Extraction - Primary Crops - Figs',\n",
       " 'Unused Domestic Extraction - Primary Crops - Gooseberries',\n",
       " 'Unused Domestic Extraction - Primary Crops - Grapefruit and Pomelos',\n",
       " 'Unused Domestic Extraction - Primary Crops - Grapes',\n",
       " 'Unused Domestic Extraction - Primary Crops - Kiwi Fruit',\n",
       " 'Unused Domestic Extraction - Primary Crops - Lemons and Limes',\n",
       " 'Unused Domestic Extraction - Primary Crops - Oranges',\n",
       " 'Unused Domestic Extraction - Primary Crops - Peaches and Nectarines',\n",
       " 'Unused Domestic Extraction - Primary Crops - Pears',\n",
       " 'Unused Domestic Extraction - Primary Crops - Persimmons',\n",
       " 'Unused Domestic Extraction - Primary Crops - Pineapples',\n",
       " 'Unused Domestic Extraction - Primary Crops - Plums',\n",
       " 'Unused Domestic Extraction - Primary Crops - Quinces',\n",
       " 'Unused Domestic Extraction - Primary Crops - Raspberries',\n",
       " 'Unused Domestic Extraction - Primary Crops - Sour Cherries',\n",
       " 'Unused Domestic Extraction - Primary Crops - Strawberries',\n",
       " 'Unused Domestic Extraction - Primary Crops - Tang. Mand Clement. Satsma',\n",
       " 'Unused Domestic Extraction - Primary Crops - Berries nec',\n",
       " 'Unused Domestic Extraction - Primary Crops - Citrus Fruit nec',\n",
       " 'Unused Domestic Extraction - Primary Crops - Stone Fruit nec,',\n",
       " 'Unused Domestic Extraction - Primary Crops - Almonds',\n",
       " 'Unused Domestic Extraction - Primary Crops - Chestnuts',\n",
       " 'Unused Domestic Extraction - Primary Crops - Hazelnuts',\n",
       " 'Unused Domestic Extraction - Primary Crops - Pistachios',\n",
       " 'Unused Domestic Extraction - Primary Crops - Walnuts',\n",
       " 'Unused Domestic Extraction - Primary Crops - Cassava',\n",
       " 'Unused Domestic Extraction - Primary Crops - Roots and Tubers, nes',\n",
       " 'Unused Domestic Extraction - Primary Crops - Taro',\n",
       " 'Unused Domestic Extraction - Primary Crops - Yautia',\n",
       " 'Unused Domestic Extraction - Primary Crops - Bambara beans',\n",
       " 'Unused Domestic Extraction - Primary Crops - Beans, dry',\n",
       " 'Unused Domestic Extraction - Primary Crops - Beans, green',\n",
       " 'Unused Domestic Extraction - Primary Crops - Broad beans, horse beans, dry',\n",
       " 'Unused Domestic Extraction - Primary Crops - Chick peas',\n",
       " 'Unused Domestic Extraction - Primary Crops - Cow peas, dry',\n",
       " 'Unused Domestic Extraction - Primary Crops - Peas, dry',\n",
       " 'Unused Domestic Extraction - Primary Crops - Pigeon peas',\n",
       " 'Unused Domestic Extraction - Primary Crops - String beans',\n",
       " 'Unused Domestic Extraction - Primary Crops - Coconuts',\n",
       " 'Unused Domestic Extraction - Primary Crops - Okra',\n",
       " 'Unused Domestic Extraction - Primary Crops - Onions',\n",
       " 'Unused Domestic Extraction - Primary Crops - Onions, dry',\n",
       " 'Unused Domestic Extraction - Primary Crops - Other melons',\n",
       " 'Unused Domestic Extraction - Primary Crops - Watermelons',\n",
       " 'Unused Domestic Extraction - Primary Crops - Bananas',\n",
       " 'Unused Domestic Extraction - Primary Crops - Cashewapple',\n",
       " 'Unused Domestic Extraction - Primary Crops - Cranberries',\n",
       " 'Unused Domestic Extraction - Primary Crops - Fruit Fresh Nes',\n",
       " 'Unused Domestic Extraction - Primary Crops - Fruit, tropical fresh nes',\n",
       " 'Unused Domestic Extraction - Primary Crops - Mangoes, mangosteens, guavas',\n",
       " 'Unused Domestic Extraction - Primary Crops - Papayas',\n",
       " 'Unused Domestic Extraction - Primary Crops - Plantains',\n",
       " 'Unused Domestic Extraction - Primary Crops - Arecanuts',\n",
       " 'Unused Domestic Extraction - Primary Crops - Brazil nuts, with shell',\n",
       " 'Unused Domestic Extraction - Primary Crops - Cashew nuts, with shell',\n",
       " 'Unused Domestic Extraction - Primary Crops - Kolanuts',\n",
       " 'Unused Domestic Extraction - Primary Crops - Nuts, nes',\n",
       " 'Unused Domestic Extraction - Primary Crops - Leguminous vegetables, nes',\n",
       " 'Unused Domestic Extraction - Primary Crops - Maize, green',\n",
       " 'Unused Domestic Extraction - Primary Crops - Pome fruit, nes',\n",
       " 'Unused Domestic Extraction - Primary Crops - Cassava leaves',\n",
       " 'Unused Domestic Extraction - Primary Crops - Groundnuts in Shell',\n",
       " 'Unused Domestic Extraction - Primary Crops - Hempseed',\n",
       " 'Unused Domestic Extraction - Primary Crops - Linseed',\n",
       " 'Unused Domestic Extraction - Primary Crops - Melonseed',\n",
       " 'Unused Domestic Extraction - Primary Crops - Mustard Seed',\n",
       " 'Unused Domestic Extraction - Primary Crops - Poppy Seed',\n",
       " 'Unused Domestic Extraction - Primary Crops - Rapeseed',\n",
       " 'Unused Domestic Extraction - Primary Crops - Safflower Seed',\n",
       " 'Unused Domestic Extraction - Primary Crops - Sesame Seed',\n",
       " 'Unused Domestic Extraction - Primary Crops - Soybeans',\n",
       " 'Unused Domestic Extraction - Primary Crops - Sunflower Seed',\n",
       " 'Unused Domestic Extraction - Primary Crops - Oilseeds nec',\n",
       " 'Unused Domestic Extraction - Primary Crops - Oil Palm Fruit',\n",
       " 'Unused Domestic Extraction - Primary Crops - Castor oil seed',\n",
       " 'Unused Domestic Extraction - Primary Crops - Karite Nuts',\n",
       " 'Unused Domestic Extraction - Primary Crops - Tung Nuts',\n",
       " 'Unused Domestic Extraction - Primary Crops - Jojoba Seeds',\n",
       " 'Unused Domestic Extraction - Primary Crops - Tallowtree Seeds',\n",
       " 'Unused Domestic Extraction - Primary Crops - Cottonseed',\n",
       " 'Unused Domestic Extraction - Primary Crops - Sugar Beets',\n",
       " 'Unused Domestic Extraction - Primary Crops - Sugar Cane',\n",
       " 'Unused Domestic Extraction - Primary Crops - Sugar Crops nes',\n",
       " 'Unused Domestic Extraction - Primary Crops - Cotton Lint',\n",
       " 'Unused Domestic Extraction - Primary Crops - Flax Fibre and Tow',\n",
       " 'Unused Domestic Extraction - Primary Crops - Hemp Fibre and Tow',\n",
       " 'Unused Domestic Extraction - Primary Crops - Abaca',\n",
       " 'Unused Domestic Extraction - Primary Crops - Agave Fibres nes',\n",
       " 'Unused Domestic Extraction - Primary Crops - Coir',\n",
       " 'Unused Domestic Extraction - Primary Crops - Fibre Crops nes',\n",
       " 'Unused Domestic Extraction - Primary Crops - Ramie',\n",
       " 'Unused Domestic Extraction - Primary Crops - Sisal',\n",
       " 'Unused Domestic Extraction - Primary Crops - Kapok Fibre',\n",
       " 'Unused Domestic Extraction - Primary Crops - Jute and Jute-like Fibres',\n",
       " 'Unused Domestic Extraction - Primary Crops - Other Bastfibres',\n",
       " 'Unused Domestic Extraction - Primary Crops - Anise, Badian, Fennel',\n",
       " 'Unused Domestic Extraction - Primary Crops - Chicory Roots',\n",
       " 'Unused Domestic Extraction - Primary Crops - Coffee, Green',\n",
       " 'Unused Domestic Extraction - Primary Crops - Hops',\n",
       " 'Unused Domestic Extraction - Primary Crops - Peppermint',\n",
       " 'Unused Domestic Extraction - Primary Crops - Pyrethrum, Dried Flowers',\n",
       " 'Unused Domestic Extraction - Primary Crops - Tea',\n",
       " 'Unused Domestic Extraction - Primary Crops - Spices nec',\n",
       " 'Unused Domestic Extraction - Primary Crops - Cocoa Beans',\n",
       " 'Unused Domestic Extraction - Primary Crops - Mate',\n",
       " 'Unused Domestic Extraction - Primary Crops - Tobacco Leaves',\n",
       " 'Unused Domestic Extraction - Primary Crops - Natural Rubber',\n",
       " 'Unused Domestic Extraction - Primary Crops - Cinnamon',\n",
       " 'Unused Domestic Extraction - Primary Crops - Cloves',\n",
       " 'Unused Domestic Extraction - Primary Crops - Ginger',\n",
       " 'Unused Domestic Extraction - Primary Crops - Nutmeg, mace and cardamoms',\n",
       " 'Unused Domestic Extraction - Primary Crops - Vanilla',\n",
       " 'Unused Domestic Extraction - Primary Crops - Pepper',\n",
       " 'Unused Domestic Extraction - Primary Crops - Chillies and peppers, dry',\n",
       " 'Unused Domestic Extraction - Primary Crops - Tea nes',\n",
       " 'Unused Domestic Extraction - Crop residues - Feed',\n",
       " 'Unused Domestic Extraction - Crop residues - Straw',\n",
       " 'Unused Domestic Extraction - Fishery - Aquatic plants',\n",
       " 'Unused Domestic Extraction - Fishery - Inland waters fish catch',\n",
       " 'Unused Domestic Extraction - Fishery - Marine fish catch',\n",
       " 'Unused Domestic Extraction - Fishery - Other (e.g. Aquatic mammals)',\n",
       " 'Unused Domestic Extraction - Fodder crops - Alfalfa for Forage and Silage',\n",
       " 'Unused Domestic Extraction - Fodder crops - Beets for Fodder',\n",
       " 'Unused Domestic Extraction - Fodder crops - Cabbage for Fodder',\n",
       " 'Unused Domestic Extraction - Fodder crops - Carrots for Fodder',\n",
       " 'Unused Domestic Extraction - Fodder crops - Clover for Forage and Silage',\n",
       " 'Unused Domestic Extraction - Fodder crops - Forage Products nec',\n",
       " 'Unused Domestic Extraction - Fodder crops - Grasses nec for Forage and Silage',\n",
       " 'Unused Domestic Extraction - Fodder crops - Green Oilseeds for Fodder',\n",
       " 'Unused Domestic Extraction - Fodder crops - Leguminous nec for forage and Silage',\n",
       " 'Unused Domestic Extraction - Fodder crops - Maize for Forage and Silage',\n",
       " 'Unused Domestic Extraction - Fodder crops - Other grasses',\n",
       " 'Unused Domestic Extraction - Fodder crops - Rye Grass, Forage and Silage',\n",
       " 'Unused Domestic Extraction - Fodder crops - Sorghum for Forage and Silage',\n",
       " 'Unused Domestic Extraction - Fodder crops - Swedes for Fodder',\n",
       " 'Unused Domestic Extraction - Fodder crops - Turnips for Fodder',\n",
       " 'Unused Domestic Extraction - Fodder crops - Vegetables and Roots, Fodder',\n",
       " 'Unused Domestic Extraction - Forestry - Coniferous wood - Industrial roundwood',\n",
       " 'Unused Domestic Extraction - Forestry - Coniferous wood - Wood fuel',\n",
       " 'Unused Domestic Extraction - Forestry - Kapok Fruit',\n",
       " 'Unused Domestic Extraction - Forestry - Natural Gums',\n",
       " 'Unused Domestic Extraction - Forestry - Non-coniferous wood - Industrial roundwood',\n",
       " 'Unused Domestic Extraction - Forestry - Non-coniferous wood - Wood fuel',\n",
       " 'Unused Domestic Extraction - Forestry - Raw materials other than wood',\n",
       " 'Unused Domestic Extraction - Fossil Fuels - Anthracite',\n",
       " 'Unused Domestic Extraction - Fossil Fuels - Coking coal',\n",
       " 'Unused Domestic Extraction - Fossil Fuels - Crude oil',\n",
       " 'Unused Domestic Extraction - Fossil Fuels - Lignite/brown coal',\n",
       " 'Unused Domestic Extraction - Fossil Fuels - Natural gas',\n",
       " 'Unused Domestic Extraction - Fossil Fuels - Natural gas liquids',\n",
       " 'Unused Domestic Extraction - Fossil Fuels - Other bituminous coal',\n",
       " 'Unused Domestic Extraction - Fossil Fuels - Peat',\n",
       " 'Unused Domestic Extraction - Fossil Fuels - Sub-bituminous coal',\n",
       " 'Unused Domestic Extraction - Grazing',\n",
       " 'Unused Domestic Extraction - Metal Ores - Bauxite and aluminium ores',\n",
       " 'Unused Domestic Extraction - Metal Ores - Copper ores',\n",
       " 'Unused Domestic Extraction - Metal Ores - Gold ores',\n",
       " 'Unused Domestic Extraction - Metal Ores - Iron ores',\n",
       " 'Unused Domestic Extraction - Metal Ores - Lead ores',\n",
       " 'Unused Domestic Extraction - Metal Ores - Nickel ores',\n",
       " 'Unused Domestic Extraction - Metal Ores - Other non-ferrous metal ores',\n",
       " 'Unused Domestic Extraction - Metal Ores - PGM ores',\n",
       " 'Unused Domestic Extraction - Metal Ores - Silver ores',\n",
       " 'Unused Domestic Extraction - Metal Ores - Tin ores',\n",
       " 'Unused Domestic Extraction - Metal Ores - Uranium and thorium ores',\n",
       " 'Unused Domestic Extraction - Metal Ores - Zinc ores',\n",
       " 'Unused Domestic Extraction - Non-Metallic Minerals - Building stones',\n",
       " 'Unused Domestic Extraction - Non-Metallic Minerals - Chemical and fertilizer minerals',\n",
       " 'Unused Domestic Extraction - Non-Metallic Minerals - Clays and kaolin',\n",
       " 'Unused Domestic Extraction - Non-Metallic Minerals - Gravel and sand',\n",
       " 'Unused Domestic Extraction - Non-Metallic Minerals - Limestone, gypsum, chalk, dolomite',\n",
       " 'Unused Domestic Extraction - Non-Metallic Minerals - Other minerals',\n",
       " 'Unused Domestic Extraction - Non-Metallic Minerals - Salt',\n",
       " 'Unused Domestic Extraction - Non-Metallic Minerals - Slate',\n",
       " 'Unused Domestic Extraction - Primary Crops - Kapokseed in Shell',\n",
       " 'Water Consumption Green - Agriculture - rice',\n",
       " 'Water Consumption Green - Agriculture - wheat',\n",
       " 'Water Consumption Green - Agriculture - other cereals',\n",
       " 'Water Consumption Green - Agriculture - roots and tubers',\n",
       " 'Water Consumption Green - Agriculture - sugar crops',\n",
       " 'Water Consumption Green - Agriculture - pulses',\n",
       " 'Water Consumption Green - Agriculture - nuts',\n",
       " 'Water Consumption Green - Agriculture - oil crops',\n",
       " 'Water Consumption Green - Agriculture - vegetables',\n",
       " 'Water Consumption Green - Agriculture - fruits',\n",
       " 'Water Consumption Green - Agriculture - fibres',\n",
       " 'Water Consumption Green - Agriculture - other crops',\n",
       " 'Water Consumption Green - Agriculture - fodder crops',\n",
       " 'Water Consumption Blue - Agriculture - rice',\n",
       " 'Water Consumption Blue - Agriculture - wheat',\n",
       " 'Water Consumption Blue - Agriculture - other cereals',\n",
       " 'Water Consumption Blue - Agriculture - roots and tubers',\n",
       " 'Water Consumption Blue - Agriculture - sugar crops',\n",
       " 'Water Consumption Blue - Agriculture - pulses',\n",
       " 'Water Consumption Blue - Agriculture - nuts',\n",
       " 'Water Consumption Blue - Agriculture - oil crops',\n",
       " 'Water Consumption Blue - Agriculture - vegetables',\n",
       " 'Water Consumption Blue - Agriculture - fruits',\n",
       " 'Water Consumption Blue - Agriculture - fibres',\n",
       " 'Water Consumption Blue - Agriculture - other crops',\n",
       " 'Water Consumption Blue - Agriculture - fodder crops',\n",
       " 'Water Consumption Blue - Livestock - dairy cattle',\n",
       " 'Water Consumption Blue - Livestock - nondairy cattle',\n",
       " 'Water Consumption Blue - Livestock - pigs',\n",
       " 'Water Consumption Blue - Livestock - sheep',\n",
       " 'Water Consumption Blue - Livestock - goats',\n",
       " 'Water Consumption Blue - Livestock - buffaloes',\n",
       " 'Water Consumption Blue - Livestock - camels',\n",
       " 'Water Consumption Blue - Livestock - horses',\n",
       " 'Water Consumption Blue - Livestock - chicken',\n",
       " 'Water Consumption Blue - Livestock - turkeys',\n",
       " 'Water Consumption Blue - Livestock - ducks',\n",
       " 'Water Consumption Blue - Livestock - geese',\n",
       " 'Water Consumption Blue - Manufacturing - Products of meat cattle',\n",
       " 'Water Consumption Blue - Manufacturing - Products of meat pigs',\n",
       " 'Water Consumption Blue - Manufacturing - Products of meat poultry',\n",
       " 'Water Consumption Blue - Manufacturing - Meat products nec',\n",
       " 'Water Consumption Blue - Manufacturing - products of Vegetable oils and fats',\n",
       " 'Water Consumption Blue - Manufacturing - Dairy products',\n",
       " 'Water Consumption Blue - Manufacturing - Processed rice',\n",
       " 'Water Consumption Blue - Manufacturing - Sugar',\n",
       " 'Water Consumption Blue - Manufacturing - Food products nec',\n",
       " 'Water Consumption Blue - Manufacturing - Beverages',\n",
       " 'Water Consumption Blue - Manufacturing - Fish products',\n",
       " 'Water Consumption Blue - Manufacturing - Tobacco products (16)',\n",
       " 'Water Consumption Blue - Manufacturing - Textiles (17)',\n",
       " 'Water Consumption Blue - Manufacturing - Wearing apparel; furs (18)',\n",
       " 'Water Consumption Blue - Manufacturing - Leather and leather products (19)',\n",
       " 'Water Consumption Blue - Manufacturing - Pulp',\n",
       " 'Water Consumption Blue - Manufacturing - Secondary paper for treatment, Re-processing of secondary paper into new pulp',\n",
       " 'Water Consumption Blue - Manufacturing - Paper and paper products',\n",
       " 'Water Consumption Blue - Manufacturing - Printed matter and recorded media (22)',\n",
       " 'Water Consumption Blue - Manufacturing - Plastics, basic',\n",
       " 'Water Consumption Blue - Manufacturing - Secondary plastic for treatment, Re-processing of secondary plastic into new plastic',\n",
       " 'Water Consumption Blue - Manufacturing - N-fertiliser',\n",
       " 'Water Consumption Blue - Manufacturing - P- and other fertiliser',\n",
       " 'Water Consumption Blue - Manufacturing - Chemicals nec',\n",
       " 'Water Consumption Blue - Manufacturing - Rubber and plastic products (25)',\n",
       " 'Water Consumption Blue - Manufacturing - Glass and glass products',\n",
       " 'Water Consumption Blue - Manufacturing - Secondary glass for treatment, Re-processing of secondary glass into new glass',\n",
       " 'Water Consumption Blue - Manufacturing - Ceramic goods',\n",
       " 'Water Consumption Blue - Manufacturing - Bricks, tiles and construction products, in baked clay',\n",
       " 'Water Consumption Blue - Manufacturing - Cement, lime and plaster',\n",
       " 'Water Consumption Blue - Manufacturing - Ash for treatment, Re-processing of ash into clinker',\n",
       " 'Water Consumption Blue - Manufacturing - Other non-metallic mineral products',\n",
       " 'Water Consumption Blue - Manufacturing - Basic iron and steel and of ferro-alloys and first products thereof',\n",
       " 'Water Consumption Blue - Manufacturing - Secondary steel for treatment, Re-processing of secondary steel into new steel',\n",
       " 'Water Consumption Blue - Manufacturing - Precious metals',\n",
       " 'Water Consumption Blue - Manufacturing - Secondary preciuos metals for treatment, Re-processing of secondary preciuos metals into new preciuos metals',\n",
       " 'Water Consumption Blue - Manufacturing - Aluminium and aluminium products',\n",
       " 'Water Consumption Blue - Manufacturing - Secondary aluminium for treatment, Re-processing of secondary aluminium into new aluminium',\n",
       " 'Water Consumption Blue - Manufacturing - Lead, zinc and tin and products thereof',\n",
       " 'Water Consumption Blue - Manufacturing - Secondary lead for treatment, Re-processing of secondary lead into new lead',\n",
       " 'Water Consumption Blue - Manufacturing - Copper products',\n",
       " 'Water Consumption Blue - Manufacturing - Secondary copper for treatment, Re-processing of secondary copper into new copper',\n",
       " 'Water Consumption Blue - Manufacturing - Other non-ferrous metal products',\n",
       " 'Water Consumption Blue - Manufacturing - Secondary other non-ferrous metals for treatment, Re-processing of secondary other non-ferrous metals into new other non-ferrous metals',\n",
       " 'Water Consumption Blue - Manufacturing - Fabricated metal products, except machinery and equipment (28)',\n",
       " 'Water Consumption Blue - Manufacturing - Machinery and equipment n.e.c. (29)',\n",
       " 'Water Consumption Blue - Manufacturing - Office machinery and computers (30)',\n",
       " 'Water Consumption Blue - Manufacturing - Electrical machinery and apparatus n.e.c. (31)',\n",
       " 'Water Consumption Blue - Manufacturing - Radio, television and communication equipment and apparatus (32)',\n",
       " 'Water Consumption Blue - Manufacturing - Medical, precision and optical instruments, watches and clocks (33)',\n",
       " 'Water Consumption Blue - Manufacturing - Motor vehicles, trailers and semi-trailers (34)',\n",
       " 'Water Consumption Blue - Manufacturing - Other transport equipment (35)',\n",
       " ...]"
      ]
     },
     "execution_count": 35,
     "metadata": {},
     "output_type": "execute_result"
    }
   ],
   "source": [
    "list(io.satellite.F.index)"
   ]
  },
  {
   "cell_type": "code",
   "execution_count": 36,
   "metadata": {},
   "outputs": [
    {
     "data": {
      "text/plain": [
       "2330174931.5"
      ]
     },
     "execution_count": 36,
     "metadata": {},
     "output_type": "execute_result"
    }
   ],
   "source": [
    "io.satellite.F.loc['CO2 - combustion - air',('GB','Health and social work (85)')]"
   ]
  },
  {
   "cell_type": "markdown",
   "metadata": {},
   "source": [
    "#### S: coefficients\n",
    "Les coefficients satellites sont l'équivalent de la matrice A pour les facteurs de production. Par exemple, combien de CO2 a été émis pour fournir 1€ de services de santé au Royaume-Uni ?"
   ]
  },
  {
   "cell_type": "code",
   "execution_count": 37,
   "metadata": {
    "scrolled": true
   },
   "outputs": [
    {
     "data": {
      "text/plain": [
       "6924.79879166"
      ]
     },
     "execution_count": 37,
     "metadata": {},
     "output_type": "execute_result"
    }
   ],
   "source": [
    "io.satellite.S.loc['CO2 - combustion - air',('GB','Health and social work (85)')]"
   ]
  },
  {
   "cell_type": "code",
   "execution_count": 38,
   "metadata": {
    "tags": []
   },
   "outputs": [
    {
     "data": {
      "text/plain": [
       "6878273.33718"
      ]
     },
     "execution_count": 38,
     "metadata": {},
     "output_type": "execute_result"
    }
   ],
   "source": [
    "io.satellite.S.loc['CO2 - combustion - air',('GB','Production of electricity by coal')]"
   ]
  },
  {
   "cell_type": "markdown",
   "metadata": {},
   "source": [
    "## Calculs d'impact\n",
    "Les matrices satellite D sont celles qui nous intéressent pour ce projet.\n",
    "\n",
    "- D_pba: inventaire national (production-based accounts),\n",
    "- D_cba: empreinte (consumption-based accounts),\n",
    "- D_imp\n",
    "- D_exp\n",
    "\n",
    "Elles se déclinent en\n",
    "- ..._reg: résultats agrégés au niveau de la région\n",
    "- ..._cap: résultats par personne"
   ]
  },
  {
   "cell_type": "markdown",
   "metadata": {},
   "source": [
    "### Émissions territoriales"
   ]
  },
  {
   "cell_type": "code",
   "execution_count": 39,
   "metadata": {
    "scrolled": true,
    "tags": []
   },
   "outputs": [
    {
     "data": {
      "text/plain": [
       "region  sector                                             \n",
       "AT      Cultivation of paddy rice                              0.000000e+00\n",
       "        Cultivation of wheat                                   2.389919e+08\n",
       "        Cultivation of cereal grains nec                       2.334131e+08\n",
       "        Cultivation of vegetables, fruit, nuts                 1.054479e+08\n",
       "        Cultivation of oil seeds                               4.922765e+07\n",
       "                                                                   ...     \n",
       "WM      Activities of membership organisation n.e.c. (91)      2.785854e+08\n",
       "        Recreational, cultural and sporting activities (92)    5.254490e+08\n",
       "        Other service activities (93)                          3.912441e+08\n",
       "        Private households with employed persons (95)          7.076345e+07\n",
       "        Extra-territorial organizations and bodies             0.000000e+00\n",
       "Name: CO2 - combustion - air, Length: 7987, dtype: float64"
      ]
     },
     "execution_count": 39,
     "metadata": {},
     "output_type": "execute_result"
    }
   ],
   "source": [
    "# D_pba: production-based account\n",
    "# Cette matrice nous donne tout simplement les facteurs de production, c'est l'équivalent de F\n",
    "\n",
    "# Émissions directes de CO2 par secteur\n",
    "io.satellite.D_pba.loc['CO2 - combustion - air']"
   ]
  },
  {
   "cell_type": "code",
   "execution_count": 40,
   "metadata": {
    "tags": []
   },
   "outputs": [
    {
     "data": {
      "text/plain": [
       "AT     7068.463549\n",
       "BE     8623.783290\n",
       "BG     5473.324881\n",
       "CY    10469.912919\n",
       "CZ     9324.485728\n",
       "DE     9300.733222\n",
       "DK     8490.577271\n",
       "EE    11084.197487\n",
       "ES     5412.337741\n",
       "FI     8179.814420\n",
       "FR     4681.082489\n",
       "GR    12753.087315\n",
       "HR     3995.144548\n",
       "HU     5472.912234\n",
       "IE     9472.959640\n",
       "IT     5319.171582\n",
       "LT     5853.606165\n",
       "LU    15279.980105\n",
       "LV     5436.656335\n",
       "MT     2865.627178\n",
       "NL     9808.990488\n",
       "PL     8069.433849\n",
       "PT     4646.834286\n",
       "RO     3598.795645\n",
       "SE     3961.039782\n",
       "SI     6112.274165\n",
       "SK     5400.829584\n",
       "GB     5986.250869\n",
       "US    15118.079667\n",
       "JP     9103.350735\n",
       "CN     6925.981137\n",
       "CA    15137.177652\n",
       "KR    12504.633738\n",
       "BR     2063.955778\n",
       "IN     1734.637448\n",
       "MX     3461.616628\n",
       "RU    10638.394767\n",
       "AU    16756.702680\n",
       "CH     5017.344455\n",
       "TR     4564.078189\n",
       "TW    12270.507579\n",
       "NO    12000.425710\n",
       "ID     2144.282713\n",
       "ZA     6984.645566\n",
       "WA     1934.125242\n",
       "WL     2406.614869\n",
       "WE     4791.159160\n",
       "WF      570.155976\n",
       "WM    11799.083042\n",
       "Name: CO2 - combustion - air, dtype: float64"
      ]
     },
     "execution_count": 40,
     "metadata": {},
     "output_type": "execute_result"
    }
   ],
   "source": [
    "io.satellite.D_pba_cap.loc['CO2 - combustion - air']"
   ]
  },
  {
   "cell_type": "code",
   "execution_count": 41,
   "metadata": {},
   "outputs": [
    {
     "data": {
      "text/plain": [
       "region  sector                                             \n",
       "AT      Cultivation of paddy rice                              0.000000e+00\n",
       "        Cultivation of wheat                                   2.389919e+08\n",
       "        Cultivation of cereal grains nec                       2.334131e+08\n",
       "        Cultivation of vegetables, fruit, nuts                 1.054479e+08\n",
       "        Cultivation of oil seeds                               4.922765e+07\n",
       "                                                                   ...     \n",
       "WM      Activities of membership organisation n.e.c. (91)      2.785854e+08\n",
       "        Recreational, cultural and sporting activities (92)    5.254490e+08\n",
       "        Other service activities (93)                          3.912441e+08\n",
       "        Private households with employed persons (95)          7.076345e+07\n",
       "        Extra-territorial organizations and bodies             0.000000e+00\n",
       "Name: CO2 - combustion - air, Length: 7987, dtype: float64"
      ]
     },
     "execution_count": 41,
     "metadata": {},
     "output_type": "execute_result"
    }
   ],
   "source": [
    "io.satellite.F.loc['CO2 - combustion - air']"
   ]
  },
  {
   "cell_type": "markdown",
   "metadata": {},
   "source": [
    "Affichons les inventaires de CO2 pour tous les pays de la base de données."
   ]
  },
  {
   "cell_type": "code",
   "execution_count": 42,
   "metadata": {},
   "outputs": [
    {
     "data": {
      "text/plain": [
       "<Axes: ylabel='Émissions de CO2, 2019, Mt'>"
      ]
     },
     "execution_count": 42,
     "metadata": {},
     "output_type": "execute_result"
    },
    {
     "data": {
      "image/png": "[encoded data removed]",
      "text/plain": [
       "<Figure size 2000x500 with 1 Axes>"
      ]
     },
     "metadata": {},
     "output_type": "display_data"
    }
   ],
   "source": [
    "emissions_CO2_inventaire = io.satellite.D_pba_reg.loc['CO2 - combustion - air']*1e-9\n",
    "emissions_CO2_inventaire.sort_values(ascending=False).plot(kind='bar', figsize=(20,5), ylabel='Émissions de CO2, 2019, Mt')"
   ]
  },
  {
   "cell_type": "code",
   "execution_count": 43,
   "metadata": {},
   "outputs": [
    {
     "data": {
      "text/plain": [
       "304.87890253300003"
      ]
     },
     "execution_count": 43,
     "metadata": {},
     "output_type": "execute_result"
    }
   ],
   "source": [
    "emissions_CO2_inventaire['FR']"
   ]
  },
  {
   "cell_type": "markdown",
   "metadata": {},
   "source": [
    "La valeur pour la France semble correcte si on est déjà familier avec [les chiffres (305 Mt en 2019)](https://www.statistiques.developpement-durable.gouv.fr/sites/default/files/2020-12/datalab_81_chiffres_cles_du_climat_edition_2021.pdf?page=44)."
   ]
  },
  {
   "cell_type": "markdown",
   "metadata": {},
   "source": [
    "D'abord il faut considérer les gaz à effet de serre principaux. EXIOBASE a sa propre méthode de comptabilité de GES, donc attention au périmètre et à la valeur des facteurs."
   ]
  },
  {
   "cell_type": "code",
   "execution_count": 44,
   "metadata": {},
   "outputs": [],
   "source": [
    "GWP_factors = pd.Series(\n",
    "    {'CO2 - combustion - air': 1.0,\n",
    "     'CH4 - combustion - air': 36.0,\n",
    "     'CO2 - non combustion - Cement production - air': 1.0,\n",
    "     'CH4 - agriculture - air': 36.0,\n",
    "     'N2O - agriculture - air': 298.0},\n",
    "name='stressor')"
   ]
  },
  {
   "cell_type": "code",
   "execution_count": 45,
   "metadata": {},
   "outputs": [],
   "source": [
    "GWP_factors = GWP_factors.reindex(io.satellite.D_pba_reg.index, fill_value=0)"
   ]
  },
  {
   "cell_type": "code",
   "execution_count": 46,
   "metadata": {},
   "outputs": [],
   "source": [
    "GWP_to_use = GWP_factors"
   ]
  },
  {
   "cell_type": "code",
   "execution_count": 47,
   "metadata": {
    "scrolled": true
   },
   "outputs": [
    {
     "data": {
      "text/plain": [
       "406.4050514208081"
      ]
     },
     "execution_count": 47,
     "metadata": {},
     "output_type": "execute_result"
    }
   ],
   "source": [
    "emissions_GES_inventaire = GWP_to_use.dot(io.satellite.D_pba_reg)*1e-9\n",
    "emissions_GES_inventaire['FR']"
   ]
  },
  {
   "cell_type": "markdown",
   "metadata": {},
   "source": [
    "On peut faire un premier bilan des émissions de GES de tous les pays du monde."
   ]
  },
  {
   "cell_type": "code",
   "execution_count": 48,
   "metadata": {},
   "outputs": [
    {
     "data": {
      "text/plain": [
       "<Axes: ylabel='Émissions de GES, 2019, Mt CO2 eq.'>"
      ]
     },
     "execution_count": 48,
     "metadata": {},
     "output_type": "execute_result"
    },
    {
     "data": {
      "image/png": "[encoded data removed]",
      "text/plain": [
       "<Figure size 2000x500 with 1 Axes>"
      ]
     },
     "metadata": {},
     "output_type": "display_data"
    }
   ],
   "source": [
    "emissions_GES_inventaire.sort_values(ascending=False).plot(kind='bar', figsize=(20,5), ylabel='Émissions de GES, 2019, Mt CO2 eq.')"
   ]
  },
  {
   "cell_type": "markdown",
   "metadata": {},
   "source": [
    "Un peu mieux. Ensuite il faut y ajouter les émissions directes de la consommation finale (ce que les ménages ou l'administration émettent via l'utilisation de voitures, chauffage, ...). Ces valeurs sont contenues dans `F_Y`."
   ]
  },
  {
   "cell_type": "code",
   "execution_count": 49,
   "metadata": {},
   "outputs": [],
   "source": [
    "emissions_GES_finales = GWP_to_use.dot(io.satellite.F_Y).groupby('region').sum()*1e-9"
   ]
  },
  {
   "cell_type": "code",
   "execution_count": 50,
   "metadata": {},
   "outputs": [
    {
     "data": {
      "text/plain": [
       "72.90662235386897"
      ]
     },
     "execution_count": 50,
     "metadata": {},
     "output_type": "execute_result"
    }
   ],
   "source": [
    "emissions_GES_finales['FR']"
   ]
  },
  {
   "cell_type": "code",
   "execution_count": 51,
   "metadata": {},
   "outputs": [
    {
     "data": {
      "text/plain": [
       "479.31167377467705"
      ]
     },
     "execution_count": 51,
     "metadata": {},
     "output_type": "execute_result"
    }
   ],
   "source": [
    "(emissions_GES_inventaire + emissions_GES_finales)['FR']"
   ]
  },
  {
   "cell_type": "markdown",
   "metadata": {},
   "source": [
    "Voilà qui est plus en accord avec les estimations du SDES."
   ]
  },
  {
   "cell_type": "markdown",
   "metadata": {},
   "source": [
    "#### Selon EXIOBASE"
   ]
  },
  {
   "cell_type": "markdown",
   "metadata": {
    "tags": []
   },
   "source": [
    "EXIOBASE calcule aussi les émissions de GES (en kg éq. CO2) avec ses propres facteurs. Nous pouvons comparer à ce que nous avons calculé ci-dessus."
   ]
  },
  {
   "cell_type": "code",
   "execution_count": 52,
   "metadata": {
    "collapsed": true,
    "jupyter": {
     "outputs_hidden": true
    },
    "tags": []
   },
   "outputs": [
    {
     "data": {
      "text/plain": [
       "['Taxes less subsidies on products purchased: Total',\n",
       " 'Other net taxes on production',\n",
       " \"Compensation of employees; wages, salaries, & employers' social contributions: Low-skilled\",\n",
       " \"Compensation of employees; wages, salaries, & employers' social contributions: Medium-skilled\",\n",
       " \"Compensation of employees; wages, salaries, & employers' social contributions: High-skilled\",\n",
       " 'Operating surplus: Consumption of fixed capital',\n",
       " 'Operating surplus: Rents on land',\n",
       " 'Operating surplus: Royalties on resources',\n",
       " 'Operating surplus: Remaining net operating surplus',\n",
       " 'Employment: Low-skilled male',\n",
       " 'Employment: Low-skilled female',\n",
       " 'Employment: Medium-skilled male',\n",
       " 'Employment: Medium-skilled female',\n",
       " 'Employment: High-skilled male',\n",
       " 'Employment: High-skilled female',\n",
       " 'Employment hours: Low-skilled male',\n",
       " 'Employment hours: Low-skilled female',\n",
       " 'Employment hours: Medium-skilled male',\n",
       " 'Employment hours: Medium-skilled female',\n",
       " 'Employment hours: High-skilled male',\n",
       " 'Employment hours: High-skilled female',\n",
       " 'Employment: Vulnerable employment',\n",
       " 'Employment hours: Vulnerable employment',\n",
       " 'CO2 - combustion - air',\n",
       " 'CH4 - combustion - air',\n",
       " 'N2O - combustion - air',\n",
       " 'SOx - combustion - air',\n",
       " 'NOx - combustion - air',\n",
       " 'NH3 - combustion - air',\n",
       " 'CO - combustion - air',\n",
       " 'Benzo(a)pyrene - combustion - air',\n",
       " 'Benzo(b)fluoranthene - combustion - air',\n",
       " 'Benzo(k)fluoranthene - combustion - air',\n",
       " 'Indeno(1,2,3-cd)pyrene - combustion - air',\n",
       " 'PCBs - combustion - air',\n",
       " 'PCDD_F - combustion - air',\n",
       " 'HCB - combustion - air',\n",
       " 'NMVOC - combustion - air',\n",
       " 'PM10 - combustion - air',\n",
       " 'PM2.5 - combustion - air',\n",
       " 'TSP - combustion - air',\n",
       " 'As - combustion - air',\n",
       " 'Cd - combustion - air',\n",
       " 'Cr - combustion - air',\n",
       " 'Cu - combustion - air',\n",
       " 'Hg - combustion - air',\n",
       " 'Ni - combustion - air',\n",
       " 'Pb - combustion - air',\n",
       " 'Se - combustion - air',\n",
       " 'Zn - combustion - air',\n",
       " 'As - non combustion - Agglomeration plant - pellets - air',\n",
       " 'As - non combustion - Agglomeration plant - sinter - air',\n",
       " 'As - non combustion - Glass production - air',\n",
       " 'As - non combustion - Production of coke oven coke - air',\n",
       " 'As - non combustion - Production of gascoke - air',\n",
       " 'As - non combustion - Steel production: basic oxygen furnace - air',\n",
       " 'As - non combustion - Steel production: electric arc furnace - air',\n",
       " 'As - non combustion - Steel production: open hearth furnace - air',\n",
       " 'B(a)P - non combustion - Primary aluminium production - air',\n",
       " 'B(a)P - non combustion - Production of coke oven coke - air',\n",
       " 'B(a)P - non combustion - Production of gascoke - air',\n",
       " 'B(b)F - non combustion - Primary aluminium production - air',\n",
       " 'B(b)F - non combustion - Production of coke oven coke - air',\n",
       " 'B(b)F - non combustion - Production of gascoke - air',\n",
       " 'B(k)F - non combustion - Primary aluminium production - air',\n",
       " 'B(k)F - non combustion - Production of coke oven coke - air',\n",
       " 'B(k)F - non combustion - Production of gascoke - air',\n",
       " 'CH4 - non combustion - Extraction/production of (natural) gas - air',\n",
       " 'CH4 - non combustion - Extraction/production of crude oil - air',\n",
       " 'CH4 - non combustion - Mining of antracite - air',\n",
       " 'CH4 - non combustion - Mining of bituminous coal - air',\n",
       " 'CH4 - non combustion - Mining of coking coal - air',\n",
       " 'CH4 - non combustion - Mining of lignite (brown coal) - air',\n",
       " 'CH4 - non combustion - Mining of sub-bituminous coal - air',\n",
       " 'CH4 - non combustion - Oil refinery - air',\n",
       " 'CO - non combustion - Agglomeration plant - sinter - air',\n",
       " 'CO - non combustion - Bricks production - air',\n",
       " 'CO - non combustion - Carbon black production - air',\n",
       " 'CO - non combustion - Cement production - air',\n",
       " 'CO - non combustion - Chemical wood pulp, dissolving grades - air',\n",
       " 'CO - non combustion - Chemical wood pulp, soda and sulphate, other than dissolving grades - air',\n",
       " 'CO - non combustion - Chemical wood pulp, sulphite, other than dissolving grades - air',\n",
       " 'CO - non combustion - Glass production - air',\n",
       " 'CO - non combustion - Lime production - air',\n",
       " 'CO - non combustion - Oil refinery - air',\n",
       " 'CO - non combustion - Pig iron production, blast furnace - air',\n",
       " 'CO - non combustion - Primary aluminium production - air',\n",
       " 'CO - non combustion - Production of coke oven coke - air',\n",
       " 'CO - non combustion - Production of gascoke - air',\n",
       " 'CO - non combustion - Semi-chemical wood pulp, pulp of fibers other than wood - air',\n",
       " 'CO - non combustion - Steel production: basic oxygen furnace - air',\n",
       " 'CO - non combustion - Steel production: electric arc furnace - air',\n",
       " 'CO2 - non combustion - Cement production - air',\n",
       " 'CO2 - non combustion - Lime production - air',\n",
       " 'Cd - non combustion - Agglomeration plant - pellets - air',\n",
       " 'Cd - non combustion - Agglomeration plant - sinter - air',\n",
       " 'Cd - non combustion - Glass production - air',\n",
       " 'Cd - non combustion - Nickel, unwrought - air',\n",
       " 'Cd - non combustion - Production of coke oven coke - air',\n",
       " 'Cd - non combustion - Production of gascoke - air',\n",
       " 'Cd - non combustion - Refined copper; unwrought, not alloyed - air',\n",
       " 'Cd - non combustion - Refined lead, unwrought - air',\n",
       " 'Cd - non combustion - Steel production: basic oxygen furnace - air',\n",
       " 'Cd - non combustion - Steel production: electric arc furnace - air',\n",
       " 'Cd - non combustion - Steel production: open hearth furnace - air',\n",
       " 'Cd - non combustion - Unrefined copper; copper anodes for electrolytic refining - air',\n",
       " 'Cd - non combustion - Zinc, unwrought, not alloyed - air',\n",
       " 'Cr - non combustion - Agglomeration plant - pellets - air',\n",
       " 'Cr - non combustion - Agglomeration plant - sinter - air',\n",
       " 'Cr - non combustion - Glass production - air',\n",
       " 'Cr - non combustion - Pig iron production, blast furnace - air',\n",
       " 'Cr - non combustion - Steel production: basic oxygen furnace - air',\n",
       " 'Cr - non combustion - Steel production: electric arc furnace - air',\n",
       " 'Cr - non combustion - Steel production: open hearth furnace - air',\n",
       " 'Cu - non combustion - Agglomeration plant - pellets - air',\n",
       " 'Cu - non combustion - Agglomeration plant - sinter - air',\n",
       " 'Cu - non combustion - Glass production - air',\n",
       " 'Cu - non combustion - Pig iron production, blast furnace - air',\n",
       " 'Cu - non combustion - Steel production: basic oxygen furnace - air',\n",
       " 'Cu - non combustion - Steel production: electric arc furnace - air',\n",
       " 'Cu - non combustion - Steel production: open hearth furnace - air',\n",
       " 'HCB - non combustion - Agglomeration plant - pellets - air',\n",
       " 'HCB - non combustion - Agglomeration plant - sinter - air',\n",
       " 'Hg - non combustion - Agglomeration plant - pellets - air',\n",
       " 'Hg - non combustion - Agglomeration plant - sinter - air',\n",
       " 'Hg - non combustion - Glass production - air',\n",
       " 'Hg - non combustion - Nickel, unwrought - air',\n",
       " 'Hg - non combustion - Pig iron production, blast furnace - air',\n",
       " 'Hg - non combustion - Production of coke oven coke - air',\n",
       " 'Hg - non combustion - Production of gascoke - air',\n",
       " 'Hg - non combustion - Refined copper; unwrought, not alloyed - air',\n",
       " 'Hg - non combustion - Refined lead, unwrought - air',\n",
       " 'HCB - non combustion - Secondary aluminium production - air',\n",
       " 'Hg - non combustion - Steel production: basic oxygen furnace - air',\n",
       " 'Hg - non combustion - Steel production: electric arc furnace - air',\n",
       " 'Hg - non combustion - Unrefined copper; copper anodes for electrolytic refining - air',\n",
       " 'Hg - non combustion - Zinc, unwrought, not alloyed - air',\n",
       " 'Indeno - non combustion - Primary aluminium production - air',\n",
       " 'Indeno - non combustion - Production of coke oven coke - air',\n",
       " 'Indeno - non combustion - Production of gascoke - air',\n",
       " 'NH3 - non combustion - N- fertilizer production - air',\n",
       " 'NMVOC - non combustion - Beef and veal - air',\n",
       " 'NMVOC - non combustion - Coil coating (coating of aluminum and steel) - air',\n",
       " 'NMVOC - non combustion - Decorative paint applicatoin - air',\n",
       " 'NMVOC - non combustion - Degreasing - air',\n",
       " 'NMVOC - non combustion - Diesel distribution - transport and depots (used in mobile sources) - air',\n",
       " 'NMVOC - non combustion - Diesel distribution - transport and depots (used in stationary sources) - air',\n",
       " 'NMVOC - non combustion - Dry cleaning - air',\n",
       " 'NMVOC - non combustion - Extraction, proc. and distribution of gaseous fuels - air',\n",
       " 'NMVOC - non combustion - Extraction, proc. and distribution of liquid fuels - air',\n",
       " 'NMVOC - non combustion - Extraction/production of (natural) gas - air',\n",
       " 'NMVOC - non combustion - Extraction/production of crude oil - air',\n",
       " 'NMVOC - non combustion - Fat, edible and non-edible oil extraction - air',\n",
       " 'NMVOC - non combustion - Fish, dried, salted or in brine; smoked fish; edible fish meal - air',\n",
       " 'NMVOC - non combustion - Fish, fish fillets, other fish meat and fish livers and roes, frozen - air',\n",
       " 'NMVOC - non combustion - Fish, otherwise prepared or preserved; caviar - air',\n",
       " 'NMVOC - non combustion - Flexography and rotogravure in packaging - air',\n",
       " 'NMVOC - non combustion - Gasoline distribution - service stations - air',\n",
       " 'NMVOC - non combustion - Gasoline distribution - transport and depots (used in mobile sources) - air',\n",
       " 'NMVOC - non combustion - Gasoline distribution - transport and depots (used in stationary sources) - air',\n",
       " 'NMVOC - non combustion - Industrial application of adhesives (use of high performance solvent based adhesives) - air',\n",
       " 'NMVOC - non combustion - Industrial application of adhesives (use of traditional solvent based adhesives) - air',\n",
       " 'NMVOC - non combustion - Industrial paint application, general industry (continuous processes) - air',\n",
       " 'NMVOC - non combustion - Industrial paint application, general industry (plastic parts) - air',\n",
       " 'NMVOC - non combustion - Industrial paint application, general industry - air',\n",
       " 'NMVOC - non combustion - Inorganic chemical industry, fertilizers and other - air',\n",
       " 'NMVOC - non combustion - Leather coating - air',\n",
       " 'NMVOC - non combustion - Manufacture of automobiles - air',\n",
       " 'NMVOC - non combustion - Mutton and lamb - air',\n",
       " 'NMVOC - non combustion - Oil refinery - air',\n",
       " 'NMVOC - non combustion - Organic chemical industry - downstream units - air',\n",
       " 'NMVOC - non combustion - Organic chemical industry, storage - air',\n",
       " 'NMVOC - non combustion - Other industrial use of solvents - air',\n",
       " 'NMVOC - non combustion - Pharmaceutical industry - air',\n",
       " 'NMVOC - non combustion - Polystyrene processing - air',\n",
       " 'NMVOC - non combustion - Polyvinylchloride produceduction by suspension process - air',\n",
       " 'NMVOC - non combustion - Pork - air',\n",
       " 'NMVOC - non combustion - Poultry, dressed - air',\n",
       " 'NMVOC - non combustion - Printing, offset - air',\n",
       " 'NMVOC - non combustion - Products incorporating solvents - air',\n",
       " 'NMVOC - non combustion - Raw sugar - air',\n",
       " 'NMVOC - non combustion - Rotogravure in publication - air',\n",
       " 'NMVOC - non combustion - Screen printing - air',\n",
       " 'NMVOC - non combustion - Steam cracking (ethylene and propylene production) - air',\n",
       " 'NMVOC - non combustion - Synthetic rubber - air',\n",
       " 'NMVOC - non combustion - Tyre production - air',\n",
       " 'NMVOC - non combustion - Vehicle refinishing - air',\n",
       " 'NMVOC - non combustion - Wire coating - air',\n",
       " 'NOx - non combustion - Agglomeration plant - pellets - air',\n",
       " 'NOx - non combustion - Agglomeration plant - sinter - air',\n",
       " 'NOx - non combustion - Bricks production - air',\n",
       " 'NOx - non combustion - Cement production - air',\n",
       " 'NOx - non combustion - Chemical wood pulp, dissolving grades - air',\n",
       " 'NOx - non combustion - Chemical wood pulp, soda and sulphate, other than dissolving grades - air',\n",
       " 'NOx - non combustion - Chemical wood pulp, sulphite, other than dissolving grades - air',\n",
       " 'NOx - non combustion - Glass production - air',\n",
       " 'NOx - non combustion - Lime production - air',\n",
       " 'NOx - non combustion - Nickel, unwrought - air',\n",
       " 'NOx - non combustion - Oil refinery - air',\n",
       " 'NOx - non combustion - Pig iron production, blast furnace - air',\n",
       " 'NOx - non combustion - Production of coke oven coke - air',\n",
       " 'NOx - non combustion - Production of gascoke - air',\n",
       " 'NOx - non combustion - Refined copper; unwrought, not alloyed - air',\n",
       " 'NOx - non combustion - Refined lead, unwrought - air',\n",
       " 'NOx - non combustion - Semi-chemical wood pulp, pulp of fibers other than wood - air',\n",
       " 'NOx - non combustion - Steel production: basic oxygen furnace - air',\n",
       " 'NOx - non combustion - Steel production: electric arc furnace - air',\n",
       " 'NOx - non combustion - Sulphuric acid production - air',\n",
       " 'NOx - non combustion - Unrefined copper; copper anodes for electrolytic refining - air',\n",
       " 'NOx - non combustion - Zinc, unwrought, not alloyed - air',\n",
       " 'Ni - non combustion - Agglomeration plant - pellets - air',\n",
       " 'Ni - non combustion - Agglomeration plant - sinter - air',\n",
       " 'Ni - non combustion - Glass production - air',\n",
       " 'Ni - non combustion - Production of coke oven coke - air',\n",
       " 'Ni - non combustion - Production of gascoke - air',\n",
       " 'Ni - non combustion - Steel production: basic oxygen furnace - air',\n",
       " 'Ni - non combustion - Steel production: electric arc furnace - air',\n",
       " 'Ni - non combustion - Steel production: open hearth furnace - air',\n",
       " 'PAH - non combustion - Agglomeration plant - pellets - air',\n",
       " 'PAH - non combustion - Agglomeration plant - sinter - air',\n",
       " 'PAH - non combustion - Pig iron production, blast furnace - air',\n",
       " 'PAH - non combustion - Production of coke oven coke - air',\n",
       " 'PAH - non combustion - Production of gascoke - air',\n",
       " 'PAH - non combustion - Steel production: basic oxygen furnace - air',\n",
       " 'PAH - non combustion - Steel production: electric arc furnace - air',\n",
       " 'PCB - non combustion - Agglomeration plant - pellets - air',\n",
       " 'PCB - non combustion - Agglomeration plant - sinter - air',\n",
       " 'PCB - non combustion - Pig iron production, blast furnace - air',\n",
       " 'PCB - non combustion - Steel production: basic oxygen furnace - air',\n",
       " 'PCB - non combustion - Steel production: electric arc furnace - air',\n",
       " 'PCDD/F - non combustion - Agglomeration plant - pellets - air',\n",
       " 'PCDD/F - non combustion - Agglomeration plant - sinter - air',\n",
       " 'PCDD/F - non combustion - Pig iron production, blast furnace - air',\n",
       " 'PCDD/F - non combustion - Secondary aluminium production - air',\n",
       " 'PCDD/F - non combustion - Steel production: basic oxygen furnace - air',\n",
       " 'PCDD/F - non combustion - Steel production: electric arc furnace - air',\n",
       " 'PM10 - non combustion - Agglomeration plant - pellets - air',\n",
       " 'PM10 - non combustion - Agglomeration plant - sinter - air',\n",
       " 'PM10 - non combustion - Aluminium ores and concentrates (Bauxite) - air',\n",
       " 'PM10 - non combustion - Bricks production - air',\n",
       " 'PM10 - non combustion - Briquettes production - air',\n",
       " 'PM10 - non combustion - Carbon black production - air',\n",
       " 'PM10 - non combustion - Cast iron production (grey iron foundries) - air',\n",
       " 'PM10 - non combustion - Cement production - air',\n",
       " 'PM10 - non combustion - Chemical wood pulp, dissolving grades - air',\n",
       " 'PM10 - non combustion - Chemical wood pulp, soda and sulphate, other than dissolving grades - air',\n",
       " 'PM10 - non combustion - Chemical wood pulp, sulphite, other than dissolving grades - air',\n",
       " 'PM10 - non combustion - Chromium ores and concentrates - air',\n",
       " 'PM10 - non combustion - Copper ores and concentrates - air',\n",
       " 'PM10 - non combustion - Fertilizer production (N-fertilizer) - air',\n",
       " 'PM10 - non combustion - Glass production - air',\n",
       " 'PM10 - non combustion - Gold ores and concentrates - air',\n",
       " 'PM10 - non combustion - Iron ores and concentrates - air',\n",
       " 'PM10 - non combustion - Lead ores and concentrates - air',\n",
       " 'PM10 - non combustion - Lime production - air',\n",
       " 'PM10 - non combustion - Mining of antracite - air',\n",
       " 'PM10 - non combustion - Mining of bituminous coal - air',\n",
       " 'PM10 - non combustion - Mining of coking coal - air',\n",
       " 'PM10 - non combustion - Mining of lignite (brown coal) - air',\n",
       " 'PM10 - non combustion - Mining of sub-bituminous coal - air',\n",
       " 'PM10 - non combustion - Molybdenum ores and concentrates - air',\n",
       " 'PM10 - non combustion - N- fertilizer production - air',\n",
       " 'PM10 - non combustion - Nickel ores and concentrates - air',\n",
       " 'PM10 - non combustion - Nickel, unwrought - air',\n",
       " 'PM10 - non combustion - Oil refinery - air',\n",
       " 'PM10 - non combustion - Pig iron production, blast furnace - air',\n",
       " 'PM10 - non combustion - Platinum ores and concentrates - air',\n",
       " 'PM10 - non combustion - Primary aluminium production - air',\n",
       " 'PM10 - non combustion - Production of coke oven coke - air',\n",
       " 'PM10 - non combustion - Production of gascoke - air',\n",
       " 'PM10 - non combustion - Refined copper; unwrought, not alloyed - air',\n",
       " 'PM10 - non combustion - Refined lead, unwrought - air',\n",
       " 'PM10 - non combustion - Secondary aluminium production - air',\n",
       " 'PM10 - non combustion - Semi-chemical wood pulp, pulp of fibers other than wood - air',\n",
       " 'PM10 - non combustion - Silver ores and concentrates - air',\n",
       " 'PM10 - non combustion - Steel production: basic oxygen furnace - air',\n",
       " 'PM10 - non combustion - Steel production: electric arc furnace - air',\n",
       " 'PM10 - non combustion - Steel production: open hearth furnace - air',\n",
       " 'PM10 - non combustion - Tin ores and concentrates - air',\n",
       " 'PM10 - non combustion - Unrefined copper; copper anodes for electrolytic refining - air',\n",
       " 'PM10 - non combustion - Zinc ores and concentrates - air',\n",
       " 'PM10 - non combustion - Zinc, unwrought, not alloyed - air',\n",
       " 'PM2.5 - non combustion - Agglomeration plant - pellets - air',\n",
       " 'PM2.5 - non combustion - Agglomeration plant - sinter - air',\n",
       " 'PM2.5 - non combustion - Aluminium ores and concentrates (Bauxite) - air',\n",
       " 'PM2.5 - non combustion - Bricks production - air',\n",
       " 'PM2.5 - non combustion - Briquettes production - air',\n",
       " 'PM2.5 - non combustion - Carbon black production - air',\n",
       " 'PM2.5 - non combustion - Cast iron production (grey iron foundries) - air',\n",
       " 'PM2.5 - non combustion - Cement production - air',\n",
       " 'PM2.5 - non combustion - Chemical wood pulp, dissolving grades - air',\n",
       " 'PM2.5 - non combustion - Chemical wood pulp, soda and sulphate, other than dissolving grades - air',\n",
       " 'PM2.5 - non combustion - Chemical wood pulp, sulphite, other than dissolving grades - air',\n",
       " 'PM2.5 - non combustion - Chromium ores and concentrates - air',\n",
       " 'PM2.5 - non combustion - Copper ores and concentrates - air',\n",
       " 'PM2.5 - non combustion - Fertilizer production (N-fertilizer) - air',\n",
       " 'PM2.5 - non combustion - Glass production - air',\n",
       " 'PM2.5 - non combustion - Gold ores and concentrates - air',\n",
       " 'PM2.5 - non combustion - Iron ores and concentrates - air',\n",
       " 'PM2.5 - non combustion - Lead ores and concentrates - air',\n",
       " 'PM2.5 - non combustion - Lime production - air',\n",
       " 'PM2.5 - non combustion - Mining of antracite - air',\n",
       " 'PM2.5 - non combustion - Mining of bituminous coal - air',\n",
       " 'PM2.5 - non combustion - Mining of coking coal - air',\n",
       " 'PM2.5 - non combustion - Mining of lignite (brown coal) - air',\n",
       " 'PM2.5 - non combustion - Mining of sub-bituminous coal - air',\n",
       " 'PM2.5 - non combustion - Molybdenum ores and concentrates - air',\n",
       " 'PM2.5 - non combustion - N- fertilizer production - air',\n",
       " 'PM2.5 - non combustion - Nickel ores and concentrates - air',\n",
       " 'PM2.5 - non combustion - Nickel, unwrought - air',\n",
       " 'PM2.5 - non combustion - Oil refinery - air',\n",
       " 'PM2.5 - non combustion - Pig iron production, blast furnace - air',\n",
       " 'PM2.5 - non combustion - Platinum ores and concentrates - air',\n",
       " 'PM2.5 - non combustion - Primary aluminium production - air',\n",
       " 'PM2.5 - non combustion - Production of coke oven coke - air',\n",
       " 'PM2.5 - non combustion - Production of gascoke - air',\n",
       " 'PM2.5 - non combustion - Refined copper; unwrought, not alloyed - air',\n",
       " 'PM2.5 - non combustion - Refined lead, unwrought - air',\n",
       " 'PM2.5 - non combustion - Secondary aluminium production - air',\n",
       " 'PM2.5 - non combustion - Semi-chemical wood pulp, pulp of fibers other than wood - air',\n",
       " 'PM2.5 - non combustion - Silver ores and concentrates - air',\n",
       " 'PM2.5 - non combustion - Steel production: basic oxygen furnace - air',\n",
       " 'PM2.5 - non combustion - Steel production: electric arc furnace - air',\n",
       " 'PM2.5 - non combustion - Steel production: open hearth furnace - air',\n",
       " 'PM2.5 - non combustion - Tin ores and concentrates - air',\n",
       " 'PM2.5 - non combustion - Unrefined copper; copper anodes for electrolytic refining - air',\n",
       " 'PM2.5 - non combustion - Zinc ores and concentrates - air',\n",
       " 'PM2.5 - non combustion - Zinc, unwrought, not alloyed - air',\n",
       " 'Pb - non combustion - Agglomeration plant - pellets - air',\n",
       " 'Pb - non combustion - Agglomeration plant - sinter - air',\n",
       " 'Pb - non combustion - Glass production - air',\n",
       " 'Pb - non combustion - Nickel, unwrought - air',\n",
       " 'Pb - non combustion - Pig iron production, blast furnace - air',\n",
       " 'Pb - non combustion - Production of coke oven coke - air',\n",
       " 'Pb - non combustion - Production of gascoke - air',\n",
       " 'Pb - non combustion - Refined copper; unwrought, not alloyed - air',\n",
       " 'Pb - non combustion - Refined lead, unwrought - air',\n",
       " 'Pb - non combustion - Steel production: basic oxygen furnace - air',\n",
       " 'Pb - non combustion - Steel production: electric arc furnace - air',\n",
       " 'Pb - non combustion - Steel production: open hearth furnace - air',\n",
       " 'Pb - non combustion - Unrefined copper; copper anodes for electrolytic refining - air',\n",
       " 'Pb - non combustion - Zinc, unwrought, not alloyed - air',\n",
       " 'SOx - non combustion - Agglomeration plant - sinter - air',\n",
       " 'SOx - non combustion - Bricks production - air',\n",
       " 'SOx - non combustion - Cement production - air',\n",
       " 'SOx - non combustion - Chemical wood pulp, dissolving grades - air',\n",
       " 'SOx - non combustion - Chemical wood pulp, soda and sulphate, other than dissolving grades - air',\n",
       " 'SOx - non combustion - Chemical wood pulp, sulphite, other than dissolving grades - air',\n",
       " 'SOx - non combustion - Glass production - air',\n",
       " 'SOx - non combustion - Lime production - air',\n",
       " 'SOx - non combustion - Nickel, unwrought - air',\n",
       " 'SOx - non combustion - Oil refinery - air',\n",
       " 'SOx - non combustion - Pig iron production, blast furnace - air',\n",
       " 'SOx - non combustion - Production of coke oven coke - air',\n",
       " 'SOx - non combustion - Production of gascoke - air',\n",
       " 'SOx - non combustion - Refined copper; unwrought, not alloyed - air',\n",
       " 'SOx - non combustion - Refined lead, unwrought - air',\n",
       " 'SOx - non combustion - Semi-chemical wood pulp, pulp of fibers other than wood - air',\n",
       " 'SOx - non combustion - Sulphuric acid production - air',\n",
       " 'SOx - non combustion - Unrefined copper; copper anodes for electrolytic refining - air',\n",
       " 'SOx - non combustion - Zinc, unwrought, not alloyed - air',\n",
       " 'Se - non combustion - Agglomeration plant - pellets - air',\n",
       " 'Se - non combustion - Agglomeration plant - sinter - air',\n",
       " 'Se - non combustion - Glass production - air',\n",
       " 'Se - non combustion - Steel production: basic oxygen furnace - air',\n",
       " 'TSP - non combustion - Agglomeration plant - pellets - air',\n",
       " 'TSP - non combustion - Agglomeration plant - sinter - air',\n",
       " 'TSP - non combustion - Aluminium ores and concentrates (Bauxite) - air',\n",
       " 'TSP - non combustion - Bricks production - air',\n",
       " 'TSP - non combustion - Briquettes production - air',\n",
       " 'TSP - non combustion - Carbon black production - air',\n",
       " 'TSP - non combustion - Cast iron production (grey iron foundries) - air',\n",
       " 'TSP - non combustion - Cement production - air',\n",
       " 'TSP - non combustion - Chemical wood pulp, dissolving grades - air',\n",
       " 'TSP - non combustion - Chemical wood pulp, soda and sulphate, other than dissolving grades - air',\n",
       " 'TSP - non combustion - Chemical wood pulp, sulphite, other than dissolving grades - air',\n",
       " 'TSP - non combustion - Chromium ores and concentrates - air',\n",
       " 'TSP - non combustion - Copper ores and concentrates - air',\n",
       " 'TSP - non combustion - Fertilizer production (N-fertilizer) - air',\n",
       " 'TSP - non combustion - Glass production - air',\n",
       " 'TSP - non combustion - Gold ores and concentrates - air',\n",
       " 'TSP - non combustion - Iron ores and concentrates - air',\n",
       " 'TSP - non combustion - Lead ores and concentrates - air',\n",
       " 'TSP - non combustion - Lime production - air',\n",
       " 'TSP - non combustion - Mining of antracite - air',\n",
       " 'TSP - non combustion - Mining of bituminous coal - air',\n",
       " 'TSP - non combustion - Mining of coking coal - air',\n",
       " 'TSP - non combustion - Mining of lignite (brown coal) - air',\n",
       " 'TSP - non combustion - Mining of sub-bituminous coal - air',\n",
       " 'TSP - non combustion - Molybdenum ores and concentrates - air',\n",
       " 'TSP - non combustion - N- fertilizer production - air',\n",
       " 'TSP - non combustion - Nickel ores and concentrates - air',\n",
       " 'TSP - non combustion - Nickel, unwrought - air',\n",
       " 'TSP - non combustion - Oil refinery - air',\n",
       " 'TSP - non combustion - Pig iron production, blast furnace - air',\n",
       " 'TSP - non combustion - Platinum ores and concentrates - air',\n",
       " 'TSP - non combustion - Primary aluminium production - air',\n",
       " 'TSP - non combustion - Production of coke oven coke - air',\n",
       " 'TSP - non combustion - Production of gascoke - air',\n",
       " 'TSP - non combustion - Refined copper; unwrought, not alloyed - air',\n",
       " 'TSP - non combustion - Refined lead, unwrought - air',\n",
       " 'TSP - non combustion - Secondary aluminium production - air',\n",
       " 'TSP - non combustion - Semi-chemical wood pulp, pulp of fibers other than wood - air',\n",
       " 'TSP - non combustion - Silver ores and concentrates - air',\n",
       " 'TSP - non combustion - Steel production: basic oxygen furnace - air',\n",
       " 'TSP - non combustion - Steel production: electric arc furnace - air',\n",
       " 'TSP - non combustion - Steel production: open hearth furnace - air',\n",
       " 'TSP - non combustion - Tin ores and concentrates - air',\n",
       " 'TSP - non combustion - Unrefined copper; copper anodes for electrolytic refining - air',\n",
       " 'TSP - non combustion - Zinc ores and concentrates - air',\n",
       " 'TSP - non combustion - Zinc, unwrought, not alloyed - air',\n",
       " 'Zn - non combustion - Agglomeration plant - pellets - air',\n",
       " 'Zn - non combustion - Agglomeration plant - sinter - air',\n",
       " 'Zn - non combustion - Glass production - air',\n",
       " 'Zn - non combustion - Nickel, unwrought - air',\n",
       " 'Zn - non combustion - Pig iron production, blast furnace - air',\n",
       " 'Zn - non combustion - Refined copper; unwrought, not alloyed - air',\n",
       " 'Zn - non combustion - Refined lead, unwrought - air',\n",
       " 'Zn - non combustion - Steel production: basic oxygen furnace - air',\n",
       " 'Zn - non combustion - Steel production: electric arc furnace - air',\n",
       " 'Zn - non combustion - Steel production: open hearth furnace - air',\n",
       " 'Zn - non combustion - Unrefined copper; copper anodes for electrolytic refining - air',\n",
       " 'Zn - non combustion - Zinc, unwrought, not alloyed - air',\n",
       " 'SF6 - air',\n",
       " 'HFC - air',\n",
       " 'PFC - air',\n",
       " 'CH4 - agriculture - air',\n",
       " 'CO2 - agriculture - peat decay - air',\n",
       " 'N - agriculture - water',\n",
       " 'N2O - agriculture - air',\n",
       " 'NH3 - agriculture - air',\n",
       " 'NOX - agriculture - air',\n",
       " 'P - agriculture - soil',\n",
       " 'P - agriculture - water',\n",
       " 'Pxx - agriculture - soil',\n",
       " 'CH4 - waste - air',\n",
       " 'CO - waste - air',\n",
       " 'CO2 - waste - biogenic - air',\n",
       " 'CO2 - waste - fossil - air',\n",
       " 'Emissions nec - waste - undef',\n",
       " 'N - waste - water',\n",
       " 'NH3 - waste - air',\n",
       " 'NOX - waste - air',\n",
       " 'P - waste - water',\n",
       " 'PM2.5 - waste - air',\n",
       " 'SOx - waste - air',\n",
       " 'Cropland - Cereal grains nec',\n",
       " 'Cropland - Crops nec',\n",
       " 'Cropland - Fodder crops-Cattle',\n",
       " 'Cropland - Fodder crops-Meat animals nec',\n",
       " 'Cropland - Fodder crops-Pigs',\n",
       " 'Cropland - Fodder crops-Poultry',\n",
       " 'Cropland - Fodder crops-Raw milk',\n",
       " 'Cropland - Oil seeds',\n",
       " 'Cropland - Paddy rice',\n",
       " 'Cropland - Plant-based fibers',\n",
       " 'Cropland - Sugar cane, sugar beet',\n",
       " 'Cropland - Vegetables, fruit, nuts',\n",
       " 'Cropland - Wheat',\n",
       " 'Forest area - Forestry',\n",
       " 'Other land Use: Total',\n",
       " 'Permanent pastures - Grazing-Cattle',\n",
       " 'Permanent pastures - Grazing-Meat animals nec',\n",
       " 'Permanent pastures - Grazing-Raw milk',\n",
       " 'Infrastructure land',\n",
       " 'Forest area - Marginal use',\n",
       " 'Energy Inputs from Nature: Total',\n",
       " 'Emission Relevant Energy Carrier: Total',\n",
       " 'Energy Carrier Supply: Total',\n",
       " 'Energy Carrier Use: Total',\n",
       " 'Domestic Extraction Used - Crop residues - Feed',\n",
       " 'Domestic Extraction Used - Crop residues - Straw',\n",
       " 'Domestic Extraction Used - Fishery - Aquatic plants',\n",
       " 'Domestic Extraction Used - Fishery - Inland waters fish catch',\n",
       " 'Domestic Extraction Used - Fishery - Marine fish catch',\n",
       " 'Domestic Extraction Used - Fishery - Other (e.g. Aquatic mammals)',\n",
       " 'Domestic Extraction Used - Fodder crops - Alfalfa for Forage and Silage',\n",
       " 'Domestic Extraction Used - Fodder crops - Beets for Fodder',\n",
       " 'Domestic Extraction Used - Fodder crops - Cabbage for Fodder',\n",
       " 'Domestic Extraction Used - Fodder crops - Carrots for Fodder',\n",
       " 'Domestic Extraction Used - Fodder crops - Clover for Forage and Silage',\n",
       " 'Domestic Extraction Used - Fodder crops - Forage Products nec',\n",
       " 'Domestic Extraction Used - Fodder crops - Grasses nec for Forage and Silage',\n",
       " 'Domestic Extraction Used - Fodder crops - Green Oilseeds for Fodder',\n",
       " 'Domestic Extraction Used - Fodder crops - Leguminous nec for forage and Silage',\n",
       " 'Domestic Extraction Used - Fodder crops - Maize for Forage and Silage',\n",
       " 'Domestic Extraction Used - Fodder crops - Other grasses',\n",
       " 'Domestic Extraction Used - Fodder crops - Rye Grass, Forage and Silage',\n",
       " 'Domestic Extraction Used - Fodder crops - Sorghum for Forage and Silage',\n",
       " 'Domestic Extraction Used - Fodder crops - Swedes for Fodder',\n",
       " 'Domestic Extraction Used - Fodder crops - Turnips for Fodder',\n",
       " 'Domestic Extraction Used - Fodder crops - Vegetables and Roots, Fodder',\n",
       " 'Domestic Extraction Used - Forestry - Coniferous wood - Industrial roundwood',\n",
       " 'Domestic Extraction Used - Forestry - Coniferous wood - Wood fuel',\n",
       " 'Domestic Extraction Used - Forestry - Kapok Fruit',\n",
       " 'Domestic Extraction Used - Forestry - Natural Gums',\n",
       " 'Domestic Extraction Used - Forestry - Non-coniferous wood - Industrial roundwood',\n",
       " 'Domestic Extraction Used - Forestry - Non-coniferous wood - Wood fuel',\n",
       " 'Domestic Extraction Used - Forestry - Raw materials other than wood',\n",
       " 'Domestic Extraction Used - Fossil Fuel: Total',\n",
       " 'Domestic Extraction Used - Grazing',\n",
       " 'Domestic Extraction Used - Metal Ores - Bauxite and aluminium ores',\n",
       " 'Domestic Extraction Used - Metal Ores - Copper ores',\n",
       " 'Domestic Extraction Used - Metal Ores - Gold ores',\n",
       " 'Domestic Extraction Used - Metal Ores - Iron ores',\n",
       " 'Domestic Extraction Used - Metal Ores - Lead ores',\n",
       " 'Domestic Extraction Used - Metal Ores - Nickel ores',\n",
       " 'Domestic Extraction Used - Metal Ores - Other non-ferrous metal ores',\n",
       " 'Domestic Extraction Used - Metal Ores - PGM ores',\n",
       " 'Domestic Extraction Used - Metal Ores - Silver ores',\n",
       " 'Domestic Extraction Used - Metal Ores - Tin ores',\n",
       " 'Domestic Extraction Used - Metal Ores - Uranium and thorium ores',\n",
       " 'Domestic Extraction Used - Metal Ores - Zinc ores',\n",
       " 'Domestic Extraction Used - Non-Metallic Minerals - Building stones',\n",
       " 'Domestic Extraction Used - Non-Metallic Minerals - Chemical and fertilizer minerals',\n",
       " 'Domestic Extraction Used - Non-Metallic Minerals - Clays and kaolin',\n",
       " 'Domestic Extraction Used - Non-Metallic Minerals - Gravel and sand',\n",
       " 'Domestic Extraction Used - Non-Metallic Minerals - Limestone, gypsum, chalk, dolomite',\n",
       " 'Domestic Extraction Used - Non-Metallic Minerals - Other minerals',\n",
       " 'Domestic Extraction Used - Non-Metallic Minerals - Salt',\n",
       " 'Domestic Extraction Used - Non-Metallic Minerals - Slate',\n",
       " 'Domestic Extraction Used - Primary Crops - Kapokseed in Shell',\n",
       " 'Domestic Extraction Used - Primary Crops - Honey',\n",
       " 'Domestic Extraction Used - Primary Crops - Beeswax',\n",
       " 'Domestic Extraction Used - Primary Crops - Abaca',\n",
       " 'Domestic Extraction Used - Primary Crops - Agave Fibres nes',\n",
       " 'Domestic Extraction Used - Primary Crops - Almonds',\n",
       " 'Domestic Extraction Used - Primary Crops - Anise, Badian, Fennel',\n",
       " 'Domestic Extraction Used - Primary Crops - Apples',\n",
       " 'Domestic Extraction Used - Primary Crops - Apricots',\n",
       " 'Domestic Extraction Used - Primary Crops - Arecanuts',\n",
       " 'Domestic Extraction Used - Primary Crops - Artichokes',\n",
       " 'Domestic Extraction Used - Primary Crops - Asparagus',\n",
       " 'Domestic Extraction Used - Primary Crops - Avocados',\n",
       " 'Domestic Extraction Used - Primary Crops - Bambara beans',\n",
       " 'Domestic Extraction Used - Primary Crops - Bananas',\n",
       " 'Domestic Extraction Used - Primary Crops - Barley',\n",
       " 'Domestic Extraction Used - Primary Crops - Beans, dry',\n",
       " 'Domestic Extraction Used - Primary Crops - Beans, green',\n",
       " 'Domestic Extraction Used - Primary Crops - Berries nec',\n",
       " 'Domestic Extraction Used - Primary Crops - Blueberries',\n",
       " 'Domestic Extraction Used - Primary Crops - Brazil nuts, with shell',\n",
       " 'Domestic Extraction Used - Primary Crops - Broad beans, horse beans, dry',\n",
       " 'Domestic Extraction Used - Primary Crops - Buckwheat',\n",
       " 'Domestic Extraction Used - Primary Crops - Cabbages',\n",
       " 'Domestic Extraction Used - Primary Crops - Canary Seed',\n",
       " 'Domestic Extraction Used - Primary Crops - Carobs',\n",
       " 'Domestic Extraction Used - Primary Crops - Carrots',\n",
       " 'Domestic Extraction Used - Primary Crops - Cashew nuts, with shell',\n",
       " 'Domestic Extraction Used - Primary Crops - Cashewapple',\n",
       " 'Domestic Extraction Used - Primary Crops - Cassava',\n",
       " 'Domestic Extraction Used - Primary Crops - Cassava leaves',\n",
       " 'Domestic Extraction Used - Primary Crops - Castor oil seed',\n",
       " 'Domestic Extraction Used - Primary Crops - Cauliflower',\n",
       " 'Domestic Extraction Used - Primary Crops - Cereals nec',\n",
       " 'Domestic Extraction Used - Primary Crops - Cherries',\n",
       " 'Domestic Extraction Used - Primary Crops - Chestnuts',\n",
       " 'Domestic Extraction Used - Primary Crops - Chick peas',\n",
       " 'Domestic Extraction Used - Primary Crops - Chicory Roots',\n",
       " 'Domestic Extraction Used - Primary Crops - Chillies and peppers, dry',\n",
       " 'Domestic Extraction Used - Primary Crops - Chillies and peppers, green',\n",
       " 'Domestic Extraction Used - Primary Crops - Cinnamon',\n",
       " 'Domestic Extraction Used - Primary Crops - Citrus Fruit nec',\n",
       " 'Domestic Extraction Used - Primary Crops - Cloves',\n",
       " 'Domestic Extraction Used - Primary Crops - Cocoa Beans',\n",
       " 'Domestic Extraction Used - Primary Crops - Coconuts',\n",
       " 'Domestic Extraction Used - Primary Crops - Coffee, Green',\n",
       " 'Domestic Extraction Used - Primary Crops - Coir',\n",
       " 'Domestic Extraction Used - Primary Crops - Cotton Lint',\n",
       " 'Domestic Extraction Used - Primary Crops - Cottonseed',\n",
       " 'Domestic Extraction Used - Primary Crops - Cow peas, dry',\n",
       " 'Domestic Extraction Used - Primary Crops - Cranberries',\n",
       " 'Domestic Extraction Used - Primary Crops - Cucumbers and Gherkins',\n",
       " 'Domestic Extraction Used - Primary Crops - Currants',\n",
       " 'Domestic Extraction Used - Primary Crops - Dates',\n",
       " 'Domestic Extraction Used - Primary Crops - Eggplants',\n",
       " 'Domestic Extraction Used - Primary Crops - Fibre Crops nes',\n",
       " 'Domestic Extraction Used - Primary Crops - Figs',\n",
       " 'Domestic Extraction Used - Primary Crops - Flax Fibre and Tow',\n",
       " 'Domestic Extraction Used - Primary Crops - Fonio',\n",
       " 'Domestic Extraction Used - Primary Crops - Fruit Fresh Nes',\n",
       " 'Domestic Extraction Used - Primary Crops - Fruit, tropical fresh nes',\n",
       " 'Domestic Extraction Used - Primary Crops - Garlic',\n",
       " 'Domestic Extraction Used - Primary Crops - Ginger',\n",
       " 'Domestic Extraction Used - Primary Crops - Gooseberries',\n",
       " 'Domestic Extraction Used - Primary Crops - Grapefruit and Pomelos',\n",
       " 'Domestic Extraction Used - Primary Crops - Grapes',\n",
       " 'Domestic Extraction Used - Primary Crops - Groundnuts in Shell',\n",
       " 'Domestic Extraction Used - Primary Crops - Hazelnuts',\n",
       " 'Domestic Extraction Used - Primary Crops - Hemp Fibre and Tow',\n",
       " 'Domestic Extraction Used - Primary Crops - Hempseed',\n",
       " 'Domestic Extraction Used - Primary Crops - Hops',\n",
       " 'Domestic Extraction Used - Primary Crops - Jojoba Seeds',\n",
       " 'Domestic Extraction Used - Primary Crops - Jute and Jute-like Fibres',\n",
       " 'Domestic Extraction Used - Primary Crops - Kapok Fibre',\n",
       " 'Domestic Extraction Used - Primary Crops - Karite Nuts',\n",
       " 'Domestic Extraction Used - Primary Crops - Kiwi Fruit',\n",
       " 'Domestic Extraction Used - Primary Crops - Kolanuts',\n",
       " 'Domestic Extraction Used - Primary Crops - Leeks and other Alliac. Veg.',\n",
       " 'Domestic Extraction Used - Primary Crops - Leguminous vegetables, nes',\n",
       " 'Domestic Extraction Used - Primary Crops - Lemons and Limes',\n",
       " 'Domestic Extraction Used - Primary Crops - Lentils',\n",
       " 'Domestic Extraction Used - Primary Crops - Lettuce',\n",
       " 'Domestic Extraction Used - Primary Crops - Linseed',\n",
       " 'Domestic Extraction Used - Primary Crops - Lupins',\n",
       " 'Domestic Extraction Used - Primary Crops - Maize',\n",
       " 'Domestic Extraction Used - Primary Crops - Maize, green',\n",
       " 'Domestic Extraction Used - Primary Crops - Mangoes, mangosteens, guavas',\n",
       " 'Domestic Extraction Used - Primary Crops - Mate',\n",
       " 'Domestic Extraction Used - Primary Crops - Melonseed',\n",
       " 'Domestic Extraction Used - Primary Crops - Millet',\n",
       " 'Domestic Extraction Used - Primary Crops - Mixed Grain',\n",
       " 'Domestic Extraction Used - Primary Crops - Mushrooms',\n",
       " 'Domestic Extraction Used - Primary Crops - Mustard Seed',\n",
       " 'Domestic Extraction Used - Primary Crops - Natural Rubber',\n",
       " 'Domestic Extraction Used - Primary Crops - Nutmeg, mace and cardamoms',\n",
       " 'Domestic Extraction Used - Primary Crops - Nuts, nes',\n",
       " 'Domestic Extraction Used - Primary Crops - Oats',\n",
       " 'Domestic Extraction Used - Primary Crops - Oil Palm Fruit',\n",
       " 'Domestic Extraction Used - Primary Crops - Oilseeds nec',\n",
       " 'Domestic Extraction Used - Primary Crops - Okra',\n",
       " 'Domestic Extraction Used - Primary Crops - Olives',\n",
       " 'Domestic Extraction Used - Primary Crops - Onions',\n",
       " 'Domestic Extraction Used - Primary Crops - Onions, dry',\n",
       " 'Domestic Extraction Used - Primary Crops - Oranges',\n",
       " 'Domestic Extraction Used - Primary Crops - Other Bastfibres',\n",
       " 'Domestic Extraction Used - Primary Crops - Other melons',\n",
       " 'Domestic Extraction Used - Primary Crops - Papayas',\n",
       " 'Domestic Extraction Used - Primary Crops - Peaches and Nectarines',\n",
       " 'Domestic Extraction Used - Primary Crops - Pears',\n",
       " 'Domestic Extraction Used - Primary Crops - Peas, Green',\n",
       " 'Domestic Extraction Used - Primary Crops - Peas, dry',\n",
       " 'Domestic Extraction Used - Primary Crops - Pepper',\n",
       " 'Domestic Extraction Used - Primary Crops - Peppermint',\n",
       " 'Domestic Extraction Used - Primary Crops - Persimmons',\n",
       " 'Domestic Extraction Used - Primary Crops - Pigeon peas',\n",
       " 'Domestic Extraction Used - Primary Crops - Pineapples',\n",
       " 'Domestic Extraction Used - Primary Crops - Pistachios',\n",
       " 'Domestic Extraction Used - Primary Crops - Plantains',\n",
       " 'Domestic Extraction Used - Primary Crops - Plums',\n",
       " 'Domestic Extraction Used - Primary Crops - Pome fruit, nes',\n",
       " 'Domestic Extraction Used - Primary Crops - Poppy Seed',\n",
       " 'Domestic Extraction Used - Primary Crops - Potatoes',\n",
       " 'Domestic Extraction Used - Primary Crops - Pulses nec',\n",
       " 'Domestic Extraction Used - Primary Crops - Pumpkins, Squash, Gourds',\n",
       " 'Domestic Extraction Used - Primary Crops - Pyrethrum, Dried Flowers',\n",
       " 'Domestic Extraction Used - Primary Crops - Quinces',\n",
       " 'Domestic Extraction Used - Primary Crops - Quinoa',\n",
       " 'Domestic Extraction Used - Primary Crops - Ramie',\n",
       " 'Domestic Extraction Used - Primary Crops - Rapeseed',\n",
       " 'Domestic Extraction Used - Primary Crops - Raspberries',\n",
       " 'Domestic Extraction Used - Primary Crops - Rice',\n",
       " 'Domestic Extraction Used - Primary Crops - Roots and Tubers, nes',\n",
       " 'Domestic Extraction Used - Primary Crops - Rye',\n",
       " 'Domestic Extraction Used - Primary Crops - Safflower Seed',\n",
       " 'Domestic Extraction Used - Primary Crops - Sesame Seed',\n",
       " 'Domestic Extraction Used - Primary Crops - Sisal',\n",
       " 'Domestic Extraction Used - Primary Crops - Sorghum',\n",
       " 'Domestic Extraction Used - Primary Crops - Sour Cherries',\n",
       " 'Domestic Extraction Used - Primary Crops - Soybeans',\n",
       " 'Domestic Extraction Used - Primary Crops - Spices nec',\n",
       " 'Domestic Extraction Used - Primary Crops - Spinach',\n",
       " 'Domestic Extraction Used - Primary Crops - Stone Fruit nec,',\n",
       " 'Domestic Extraction Used - Primary Crops - Strawberries',\n",
       " 'Domestic Extraction Used - Primary Crops - String beans',\n",
       " 'Domestic Extraction Used - Primary Crops - Sugar Beets',\n",
       " 'Domestic Extraction Used - Primary Crops - Sugar Cane',\n",
       " 'Domestic Extraction Used - Primary Crops - Sugar Crops nes',\n",
       " 'Domestic Extraction Used - Primary Crops - Sunflower Seed',\n",
       " 'Domestic Extraction Used - Primary Crops - Sweet Potatoes',\n",
       " 'Domestic Extraction Used - Primary Crops - Tallowtree Seeds',\n",
       " 'Domestic Extraction Used - Primary Crops - Tang. Mand Clement. Satsma',\n",
       " 'Domestic Extraction Used - Primary Crops - Taro',\n",
       " 'Domestic Extraction Used - Primary Crops - Tea',\n",
       " 'Domestic Extraction Used - Primary Crops - Tea nes',\n",
       " 'Domestic Extraction Used - Primary Crops - Tobacco Leaves',\n",
       " 'Domestic Extraction Used - Primary Crops - Tomatoes',\n",
       " 'Domestic Extraction Used - Primary Crops - Triticale',\n",
       " 'Domestic Extraction Used - Primary Crops - Tung Nuts',\n",
       " 'Domestic Extraction Used - Primary Crops - Vanilla',\n",
       " 'Domestic Extraction Used - Primary Crops - Vegetables Fresh nec',\n",
       " 'Domestic Extraction Used - Primary Crops - Vetches',\n",
       " 'Domestic Extraction Used - Primary Crops - Walnuts',\n",
       " 'Domestic Extraction Used - Primary Crops - Watermelons',\n",
       " 'Domestic Extraction Used - Primary Crops - Wheat',\n",
       " 'Domestic Extraction Used - Primary Crops - Yams',\n",
       " 'Domestic Extraction Used - Primary Crops - Yautia',\n",
       " 'Unused Domestic Extraction - Primary Crops - Rice',\n",
       " 'Unused Domestic Extraction - Primary Crops - Wheat',\n",
       " 'Unused Domestic Extraction - Primary Crops - Barley',\n",
       " 'Unused Domestic Extraction - Primary Crops - Buckwheat',\n",
       " 'Unused Domestic Extraction - Primary Crops - Canary Seed',\n",
       " 'Unused Domestic Extraction - Primary Crops - Maize',\n",
       " 'Unused Domestic Extraction - Primary Crops - Millet',\n",
       " 'Unused Domestic Extraction - Primary Crops - Mixed Grain',\n",
       " 'Unused Domestic Extraction - Primary Crops - Oats',\n",
       " 'Unused Domestic Extraction - Primary Crops - Rye',\n",
       " 'Unused Domestic Extraction - Primary Crops - Sorghum',\n",
       " 'Unused Domestic Extraction - Primary Crops - Triticale',\n",
       " 'Unused Domestic Extraction - Primary Crops - Cereals nec',\n",
       " 'Unused Domestic Extraction - Primary Crops - Fonio',\n",
       " 'Unused Domestic Extraction - Primary Crops - Quinoa',\n",
       " 'Unused Domestic Extraction - Primary Crops - Potatoes',\n",
       " 'Unused Domestic Extraction - Primary Crops - Sweet Potatoes',\n",
       " 'Unused Domestic Extraction - Primary Crops - Yams',\n",
       " 'Unused Domestic Extraction - Primary Crops - Lentils',\n",
       " 'Unused Domestic Extraction - Primary Crops - Lupins',\n",
       " 'Unused Domestic Extraction - Primary Crops - Vetches',\n",
       " 'Unused Domestic Extraction - Primary Crops - Pulses nec',\n",
       " 'Unused Domestic Extraction - Primary Crops - Olives',\n",
       " 'Unused Domestic Extraction - Primary Crops - Artichokes',\n",
       " 'Unused Domestic Extraction - Primary Crops - Asparagus',\n",
       " 'Unused Domestic Extraction - Primary Crops - Cabbages',\n",
       " 'Unused Domestic Extraction - Primary Crops - Carrots',\n",
       " 'Unused Domestic Extraction - Primary Crops - Cauliflower',\n",
       " 'Unused Domestic Extraction - Primary Crops - Chillies and peppers, green',\n",
       " 'Unused Domestic Extraction - Primary Crops - Cucumbers and Gherkins',\n",
       " 'Unused Domestic Extraction - Primary Crops - Eggplants',\n",
       " 'Unused Domestic Extraction - Primary Crops - Garlic',\n",
       " 'Unused Domestic Extraction - Primary Crops - Leeks and other Alliac. Veg.',\n",
       " 'Unused Domestic Extraction - Primary Crops - Lettuce',\n",
       " 'Unused Domestic Extraction - Primary Crops - Mushrooms',\n",
       " 'Unused Domestic Extraction - Primary Crops - Peas, Green',\n",
       " 'Unused Domestic Extraction - Primary Crops - Pumpkins, Squash, Gourds',\n",
       " 'Unused Domestic Extraction - Primary Crops - Spinach',\n",
       " 'Unused Domestic Extraction - Primary Crops - Tomatoes',\n",
       " 'Unused Domestic Extraction - Primary Crops - Vegetables Fresh nec',\n",
       " 'Unused Domestic Extraction - Primary Crops - Apples',\n",
       " 'Unused Domestic Extraction - Primary Crops - Apricots',\n",
       " 'Unused Domestic Extraction - Primary Crops - Avocados',\n",
       " 'Unused Domestic Extraction - Primary Crops - Blueberries',\n",
       " 'Unused Domestic Extraction - Primary Crops - Carobs',\n",
       " 'Unused Domestic Extraction - Primary Crops - Cherries',\n",
       " 'Unused Domestic Extraction - Primary Crops - Currants',\n",
       " 'Unused Domestic Extraction - Primary Crops - Dates',\n",
       " 'Unused Domestic Extraction - Primary Crops - Figs',\n",
       " 'Unused Domestic Extraction - Primary Crops - Gooseberries',\n",
       " 'Unused Domestic Extraction - Primary Crops - Grapefruit and Pomelos',\n",
       " 'Unused Domestic Extraction - Primary Crops - Grapes',\n",
       " 'Unused Domestic Extraction - Primary Crops - Kiwi Fruit',\n",
       " 'Unused Domestic Extraction - Primary Crops - Lemons and Limes',\n",
       " 'Unused Domestic Extraction - Primary Crops - Oranges',\n",
       " 'Unused Domestic Extraction - Primary Crops - Peaches and Nectarines',\n",
       " 'Unused Domestic Extraction - Primary Crops - Pears',\n",
       " 'Unused Domestic Extraction - Primary Crops - Persimmons',\n",
       " 'Unused Domestic Extraction - Primary Crops - Pineapples',\n",
       " 'Unused Domestic Extraction - Primary Crops - Plums',\n",
       " 'Unused Domestic Extraction - Primary Crops - Quinces',\n",
       " 'Unused Domestic Extraction - Primary Crops - Raspberries',\n",
       " 'Unused Domestic Extraction - Primary Crops - Sour Cherries',\n",
       " 'Unused Domestic Extraction - Primary Crops - Strawberries',\n",
       " 'Unused Domestic Extraction - Primary Crops - Tang. Mand Clement. Satsma',\n",
       " 'Unused Domestic Extraction - Primary Crops - Berries nec',\n",
       " 'Unused Domestic Extraction - Primary Crops - Citrus Fruit nec',\n",
       " 'Unused Domestic Extraction - Primary Crops - Stone Fruit nec,',\n",
       " 'Unused Domestic Extraction - Primary Crops - Almonds',\n",
       " 'Unused Domestic Extraction - Primary Crops - Chestnuts',\n",
       " 'Unused Domestic Extraction - Primary Crops - Hazelnuts',\n",
       " 'Unused Domestic Extraction - Primary Crops - Pistachios',\n",
       " 'Unused Domestic Extraction - Primary Crops - Walnuts',\n",
       " 'Unused Domestic Extraction - Primary Crops - Cassava',\n",
       " 'Unused Domestic Extraction - Primary Crops - Roots and Tubers, nes',\n",
       " 'Unused Domestic Extraction - Primary Crops - Taro',\n",
       " 'Unused Domestic Extraction - Primary Crops - Yautia',\n",
       " 'Unused Domestic Extraction - Primary Crops - Bambara beans',\n",
       " 'Unused Domestic Extraction - Primary Crops - Beans, dry',\n",
       " 'Unused Domestic Extraction - Primary Crops - Beans, green',\n",
       " 'Unused Domestic Extraction - Primary Crops - Broad beans, horse beans, dry',\n",
       " 'Unused Domestic Extraction - Primary Crops - Chick peas',\n",
       " 'Unused Domestic Extraction - Primary Crops - Cow peas, dry',\n",
       " 'Unused Domestic Extraction - Primary Crops - Peas, dry',\n",
       " 'Unused Domestic Extraction - Primary Crops - Pigeon peas',\n",
       " 'Unused Domestic Extraction - Primary Crops - String beans',\n",
       " 'Unused Domestic Extraction - Primary Crops - Coconuts',\n",
       " 'Unused Domestic Extraction - Primary Crops - Okra',\n",
       " 'Unused Domestic Extraction - Primary Crops - Onions',\n",
       " 'Unused Domestic Extraction - Primary Crops - Onions, dry',\n",
       " 'Unused Domestic Extraction - Primary Crops - Other melons',\n",
       " 'Unused Domestic Extraction - Primary Crops - Watermelons',\n",
       " 'Unused Domestic Extraction - Primary Crops - Bananas',\n",
       " 'Unused Domestic Extraction - Primary Crops - Cashewapple',\n",
       " 'Unused Domestic Extraction - Primary Crops - Cranberries',\n",
       " 'Unused Domestic Extraction - Primary Crops - Fruit Fresh Nes',\n",
       " 'Unused Domestic Extraction - Primary Crops - Fruit, tropical fresh nes',\n",
       " 'Unused Domestic Extraction - Primary Crops - Mangoes, mangosteens, guavas',\n",
       " 'Unused Domestic Extraction - Primary Crops - Papayas',\n",
       " 'Unused Domestic Extraction - Primary Crops - Plantains',\n",
       " 'Unused Domestic Extraction - Primary Crops - Arecanuts',\n",
       " 'Unused Domestic Extraction - Primary Crops - Brazil nuts, with shell',\n",
       " 'Unused Domestic Extraction - Primary Crops - Cashew nuts, with shell',\n",
       " 'Unused Domestic Extraction - Primary Crops - Kolanuts',\n",
       " 'Unused Domestic Extraction - Primary Crops - Nuts, nes',\n",
       " 'Unused Domestic Extraction - Primary Crops - Leguminous vegetables, nes',\n",
       " 'Unused Domestic Extraction - Primary Crops - Maize, green',\n",
       " 'Unused Domestic Extraction - Primary Crops - Pome fruit, nes',\n",
       " 'Unused Domestic Extraction - Primary Crops - Cassava leaves',\n",
       " 'Unused Domestic Extraction - Primary Crops - Groundnuts in Shell',\n",
       " 'Unused Domestic Extraction - Primary Crops - Hempseed',\n",
       " 'Unused Domestic Extraction - Primary Crops - Linseed',\n",
       " 'Unused Domestic Extraction - Primary Crops - Melonseed',\n",
       " 'Unused Domestic Extraction - Primary Crops - Mustard Seed',\n",
       " 'Unused Domestic Extraction - Primary Crops - Poppy Seed',\n",
       " 'Unused Domestic Extraction - Primary Crops - Rapeseed',\n",
       " 'Unused Domestic Extraction - Primary Crops - Safflower Seed',\n",
       " 'Unused Domestic Extraction - Primary Crops - Sesame Seed',\n",
       " 'Unused Domestic Extraction - Primary Crops - Soybeans',\n",
       " 'Unused Domestic Extraction - Primary Crops - Sunflower Seed',\n",
       " 'Unused Domestic Extraction - Primary Crops - Oilseeds nec',\n",
       " 'Unused Domestic Extraction - Primary Crops - Oil Palm Fruit',\n",
       " 'Unused Domestic Extraction - Primary Crops - Castor oil seed',\n",
       " 'Unused Domestic Extraction - Primary Crops - Karite Nuts',\n",
       " 'Unused Domestic Extraction - Primary Crops - Tung Nuts',\n",
       " 'Unused Domestic Extraction - Primary Crops - Jojoba Seeds',\n",
       " 'Unused Domestic Extraction - Primary Crops - Tallowtree Seeds',\n",
       " 'Unused Domestic Extraction - Primary Crops - Cottonseed',\n",
       " 'Unused Domestic Extraction - Primary Crops - Sugar Beets',\n",
       " 'Unused Domestic Extraction - Primary Crops - Sugar Cane',\n",
       " 'Unused Domestic Extraction - Primary Crops - Sugar Crops nes',\n",
       " 'Unused Domestic Extraction - Primary Crops - Cotton Lint',\n",
       " 'Unused Domestic Extraction - Primary Crops - Flax Fibre and Tow',\n",
       " 'Unused Domestic Extraction - Primary Crops - Hemp Fibre and Tow',\n",
       " 'Unused Domestic Extraction - Primary Crops - Abaca',\n",
       " 'Unused Domestic Extraction - Primary Crops - Agave Fibres nes',\n",
       " 'Unused Domestic Extraction - Primary Crops - Coir',\n",
       " 'Unused Domestic Extraction - Primary Crops - Fibre Crops nes',\n",
       " 'Unused Domestic Extraction - Primary Crops - Ramie',\n",
       " 'Unused Domestic Extraction - Primary Crops - Sisal',\n",
       " 'Unused Domestic Extraction - Primary Crops - Kapok Fibre',\n",
       " 'Unused Domestic Extraction - Primary Crops - Jute and Jute-like Fibres',\n",
       " 'Unused Domestic Extraction - Primary Crops - Other Bastfibres',\n",
       " 'Unused Domestic Extraction - Primary Crops - Anise, Badian, Fennel',\n",
       " 'Unused Domestic Extraction - Primary Crops - Chicory Roots',\n",
       " 'Unused Domestic Extraction - Primary Crops - Coffee, Green',\n",
       " 'Unused Domestic Extraction - Primary Crops - Hops',\n",
       " 'Unused Domestic Extraction - Primary Crops - Peppermint',\n",
       " 'Unused Domestic Extraction - Primary Crops - Pyrethrum, Dried Flowers',\n",
       " 'Unused Domestic Extraction - Primary Crops - Tea',\n",
       " 'Unused Domestic Extraction - Primary Crops - Spices nec',\n",
       " 'Unused Domestic Extraction - Primary Crops - Cocoa Beans',\n",
       " 'Unused Domestic Extraction - Primary Crops - Mate',\n",
       " 'Unused Domestic Extraction - Primary Crops - Tobacco Leaves',\n",
       " 'Unused Domestic Extraction - Primary Crops - Natural Rubber',\n",
       " 'Unused Domestic Extraction - Primary Crops - Cinnamon',\n",
       " 'Unused Domestic Extraction - Primary Crops - Cloves',\n",
       " 'Unused Domestic Extraction - Primary Crops - Ginger',\n",
       " 'Unused Domestic Extraction - Primary Crops - Nutmeg, mace and cardamoms',\n",
       " 'Unused Domestic Extraction - Primary Crops - Vanilla',\n",
       " 'Unused Domestic Extraction - Primary Crops - Pepper',\n",
       " 'Unused Domestic Extraction - Primary Crops - Chillies and peppers, dry',\n",
       " 'Unused Domestic Extraction - Primary Crops - Tea nes',\n",
       " 'Unused Domestic Extraction - Crop residues - Feed',\n",
       " 'Unused Domestic Extraction - Crop residues - Straw',\n",
       " 'Unused Domestic Extraction - Fishery - Aquatic plants',\n",
       " 'Unused Domestic Extraction - Fishery - Inland waters fish catch',\n",
       " 'Unused Domestic Extraction - Fishery - Marine fish catch',\n",
       " 'Unused Domestic Extraction - Fishery - Other (e.g. Aquatic mammals)',\n",
       " 'Unused Domestic Extraction - Fodder crops - Alfalfa for Forage and Silage',\n",
       " 'Unused Domestic Extraction - Fodder crops - Beets for Fodder',\n",
       " 'Unused Domestic Extraction - Fodder crops - Cabbage for Fodder',\n",
       " 'Unused Domestic Extraction - Fodder crops - Carrots for Fodder',\n",
       " 'Unused Domestic Extraction - Fodder crops - Clover for Forage and Silage',\n",
       " 'Unused Domestic Extraction - Fodder crops - Forage Products nec',\n",
       " 'Unused Domestic Extraction - Fodder crops - Grasses nec for Forage and Silage',\n",
       " 'Unused Domestic Extraction - Fodder crops - Green Oilseeds for Fodder',\n",
       " 'Unused Domestic Extraction - Fodder crops - Leguminous nec for forage and Silage',\n",
       " 'Unused Domestic Extraction - Fodder crops - Maize for Forage and Silage',\n",
       " 'Unused Domestic Extraction - Fodder crops - Other grasses',\n",
       " 'Unused Domestic Extraction - Fodder crops - Rye Grass, Forage and Silage',\n",
       " 'Unused Domestic Extraction - Fodder crops - Sorghum for Forage and Silage',\n",
       " 'Unused Domestic Extraction - Fodder crops - Swedes for Fodder',\n",
       " 'Unused Domestic Extraction - Fodder crops - Turnips for Fodder',\n",
       " 'Unused Domestic Extraction - Fodder crops - Vegetables and Roots, Fodder',\n",
       " 'Unused Domestic Extraction - Forestry - Coniferous wood - Industrial roundwood',\n",
       " 'Unused Domestic Extraction - Forestry - Coniferous wood - Wood fuel',\n",
       " 'Unused Domestic Extraction - Forestry - Kapok Fruit',\n",
       " 'Unused Domestic Extraction - Forestry - Natural Gums',\n",
       " 'Unused Domestic Extraction - Forestry - Non-coniferous wood - Industrial roundwood',\n",
       " 'Unused Domestic Extraction - Forestry - Non-coniferous wood - Wood fuel',\n",
       " 'Unused Domestic Extraction - Forestry - Raw materials other than wood',\n",
       " 'Unused Domestic Extraction - Fossil Fuels - Anthracite',\n",
       " 'Unused Domestic Extraction - Fossil Fuels - Coking coal',\n",
       " 'Unused Domestic Extraction - Fossil Fuels - Crude oil',\n",
       " 'Unused Domestic Extraction - Fossil Fuels - Lignite/brown coal',\n",
       " 'Unused Domestic Extraction - Fossil Fuels - Natural gas',\n",
       " 'Unused Domestic Extraction - Fossil Fuels - Natural gas liquids',\n",
       " 'Unused Domestic Extraction - Fossil Fuels - Other bituminous coal',\n",
       " 'Unused Domestic Extraction - Fossil Fuels - Peat',\n",
       " 'Unused Domestic Extraction - Fossil Fuels - Sub-bituminous coal',\n",
       " 'Unused Domestic Extraction - Grazing',\n",
       " 'Unused Domestic Extraction - Metal Ores - Bauxite and aluminium ores',\n",
       " 'Unused Domestic Extraction - Metal Ores - Copper ores',\n",
       " 'Unused Domestic Extraction - Metal Ores - Gold ores',\n",
       " 'Unused Domestic Extraction - Metal Ores - Iron ores',\n",
       " 'Unused Domestic Extraction - Metal Ores - Lead ores',\n",
       " 'Unused Domestic Extraction - Metal Ores - Nickel ores',\n",
       " 'Unused Domestic Extraction - Metal Ores - Other non-ferrous metal ores',\n",
       " 'Unused Domestic Extraction - Metal Ores - PGM ores',\n",
       " 'Unused Domestic Extraction - Metal Ores - Silver ores',\n",
       " 'Unused Domestic Extraction - Metal Ores - Tin ores',\n",
       " 'Unused Domestic Extraction - Metal Ores - Uranium and thorium ores',\n",
       " 'Unused Domestic Extraction - Metal Ores - Zinc ores',\n",
       " 'Unused Domestic Extraction - Non-Metallic Minerals - Building stones',\n",
       " 'Unused Domestic Extraction - Non-Metallic Minerals - Chemical and fertilizer minerals',\n",
       " 'Unused Domestic Extraction - Non-Metallic Minerals - Clays and kaolin',\n",
       " 'Unused Domestic Extraction - Non-Metallic Minerals - Gravel and sand',\n",
       " 'Unused Domestic Extraction - Non-Metallic Minerals - Limestone, gypsum, chalk, dolomite',\n",
       " 'Unused Domestic Extraction - Non-Metallic Minerals - Other minerals',\n",
       " 'Unused Domestic Extraction - Non-Metallic Minerals - Salt',\n",
       " 'Unused Domestic Extraction - Non-Metallic Minerals - Slate',\n",
       " 'Unused Domestic Extraction - Primary Crops - Kapokseed in Shell',\n",
       " 'Water Consumption Green - Agriculture - rice',\n",
       " 'Water Consumption Green - Agriculture - wheat',\n",
       " 'Water Consumption Green - Agriculture - other cereals',\n",
       " 'Water Consumption Green - Agriculture - roots and tubers',\n",
       " 'Water Consumption Green - Agriculture - sugar crops',\n",
       " 'Water Consumption Green - Agriculture - pulses',\n",
       " 'Water Consumption Green - Agriculture - nuts',\n",
       " 'Water Consumption Green - Agriculture - oil crops',\n",
       " 'Water Consumption Green - Agriculture - vegetables',\n",
       " 'Water Consumption Green - Agriculture - fruits',\n",
       " 'Water Consumption Green - Agriculture - fibres',\n",
       " 'Water Consumption Green - Agriculture - other crops',\n",
       " 'Water Consumption Green - Agriculture - fodder crops',\n",
       " 'Water Consumption Blue - Agriculture - rice',\n",
       " 'Water Consumption Blue - Agriculture - wheat',\n",
       " 'Water Consumption Blue - Agriculture - other cereals',\n",
       " 'Water Consumption Blue - Agriculture - roots and tubers',\n",
       " 'Water Consumption Blue - Agriculture - sugar crops',\n",
       " 'Water Consumption Blue - Agriculture - pulses',\n",
       " 'Water Consumption Blue - Agriculture - nuts',\n",
       " 'Water Consumption Blue - Agriculture - oil crops',\n",
       " 'Water Consumption Blue - Agriculture - vegetables',\n",
       " 'Water Consumption Blue - Agriculture - fruits',\n",
       " 'Water Consumption Blue - Agriculture - fibres',\n",
       " 'Water Consumption Blue - Agriculture - other crops',\n",
       " 'Water Consumption Blue - Agriculture - fodder crops',\n",
       " 'Water Consumption Blue - Livestock - dairy cattle',\n",
       " 'Water Consumption Blue - Livestock - nondairy cattle',\n",
       " 'Water Consumption Blue - Livestock - pigs',\n",
       " 'Water Consumption Blue - Livestock - sheep',\n",
       " 'Water Consumption Blue - Livestock - goats',\n",
       " 'Water Consumption Blue - Livestock - buffaloes',\n",
       " 'Water Consumption Blue - Livestock - camels',\n",
       " 'Water Consumption Blue - Livestock - horses',\n",
       " 'Water Consumption Blue - Livestock - chicken',\n",
       " 'Water Consumption Blue - Livestock - turkeys',\n",
       " 'Water Consumption Blue - Livestock - ducks',\n",
       " 'Water Consumption Blue - Livestock - geese',\n",
       " 'Water Consumption Blue - Manufacturing - Products of meat cattle',\n",
       " 'Water Consumption Blue - Manufacturing - Products of meat pigs',\n",
       " 'Water Consumption Blue - Manufacturing - Products of meat poultry',\n",
       " 'Water Consumption Blue - Manufacturing - Meat products nec',\n",
       " 'Water Consumption Blue - Manufacturing - products of Vegetable oils and fats',\n",
       " 'Water Consumption Blue - Manufacturing - Dairy products',\n",
       " 'Water Consumption Blue - Manufacturing - Processed rice',\n",
       " 'Water Consumption Blue - Manufacturing - Sugar',\n",
       " 'Water Consumption Blue - Manufacturing - Food products nec',\n",
       " 'Water Consumption Blue - Manufacturing - Beverages',\n",
       " 'Water Consumption Blue - Manufacturing - Fish products',\n",
       " 'Water Consumption Blue - Manufacturing - Tobacco products (16)',\n",
       " 'Water Consumption Blue - Manufacturing - Textiles (17)',\n",
       " 'Water Consumption Blue - Manufacturing - Wearing apparel; furs (18)',\n",
       " 'Water Consumption Blue - Manufacturing - Leather and leather products (19)',\n",
       " 'Water Consumption Blue - Manufacturing - Pulp',\n",
       " 'Water Consumption Blue - Manufacturing - Secondary paper for treatment, Re-processing of secondary paper into new pulp',\n",
       " 'Water Consumption Blue - Manufacturing - Paper and paper products',\n",
       " 'Water Consumption Blue - Manufacturing - Printed matter and recorded media (22)',\n",
       " 'Water Consumption Blue - Manufacturing - Plastics, basic',\n",
       " 'Water Consumption Blue - Manufacturing - Secondary plastic for treatment, Re-processing of secondary plastic into new plastic',\n",
       " 'Water Consumption Blue - Manufacturing - N-fertiliser',\n",
       " 'Water Consumption Blue - Manufacturing - P- and other fertiliser',\n",
       " 'Water Consumption Blue - Manufacturing - Chemicals nec',\n",
       " 'Water Consumption Blue - Manufacturing - Rubber and plastic products (25)',\n",
       " 'Water Consumption Blue - Manufacturing - Glass and glass products',\n",
       " 'Water Consumption Blue - Manufacturing - Secondary glass for treatment, Re-processing of secondary glass into new glass',\n",
       " 'Water Consumption Blue - Manufacturing - Ceramic goods',\n",
       " 'Water Consumption Blue - Manufacturing - Bricks, tiles and construction products, in baked clay',\n",
       " 'Water Consumption Blue - Manufacturing - Cement, lime and plaster',\n",
       " 'Water Consumption Blue - Manufacturing - Ash for treatment, Re-processing of ash into clinker',\n",
       " 'Water Consumption Blue - Manufacturing - Other non-metallic mineral products',\n",
       " 'Water Consumption Blue - Manufacturing - Basic iron and steel and of ferro-alloys and first products thereof',\n",
       " 'Water Consumption Blue - Manufacturing - Secondary steel for treatment, Re-processing of secondary steel into new steel',\n",
       " 'Water Consumption Blue - Manufacturing - Precious metals',\n",
       " 'Water Consumption Blue - Manufacturing - Secondary preciuos metals for treatment, Re-processing of secondary preciuos metals into new preciuos metals',\n",
       " 'Water Consumption Blue - Manufacturing - Aluminium and aluminium products',\n",
       " 'Water Consumption Blue - Manufacturing - Secondary aluminium for treatment, Re-processing of secondary aluminium into new aluminium',\n",
       " 'Water Consumption Blue - Manufacturing - Lead, zinc and tin and products thereof',\n",
       " 'Water Consumption Blue - Manufacturing - Secondary lead for treatment, Re-processing of secondary lead into new lead',\n",
       " 'Water Consumption Blue - Manufacturing - Copper products',\n",
       " 'Water Consumption Blue - Manufacturing - Secondary copper for treatment, Re-processing of secondary copper into new copper',\n",
       " 'Water Consumption Blue - Manufacturing - Other non-ferrous metal products',\n",
       " 'Water Consumption Blue - Manufacturing - Secondary other non-ferrous metals for treatment, Re-processing of secondary other non-ferrous metals into new other non-ferrous metals',\n",
       " 'Water Consumption Blue - Manufacturing - Fabricated metal products, except machinery and equipment (28)',\n",
       " 'Water Consumption Blue - Manufacturing - Machinery and equipment n.e.c. (29)',\n",
       " 'Water Consumption Blue - Manufacturing - Office machinery and computers (30)',\n",
       " 'Water Consumption Blue - Manufacturing - Electrical machinery and apparatus n.e.c. (31)',\n",
       " 'Water Consumption Blue - Manufacturing - Radio, television and communication equipment and apparatus (32)',\n",
       " 'Water Consumption Blue - Manufacturing - Medical, precision and optical instruments, watches and clocks (33)',\n",
       " 'Water Consumption Blue - Manufacturing - Motor vehicles, trailers and semi-trailers (34)',\n",
       " 'Water Consumption Blue - Manufacturing - Other transport equipment (35)',\n",
       " ...]"
      ]
     },
     "execution_count": 52,
     "metadata": {},
     "output_type": "execute_result"
    }
   ],
   "source": [
    "# Liste des substances\n",
    "list(io.satellite.get_rows())"
   ]
  },
  {
   "cell_type": "code",
   "execution_count": 53,
   "metadata": {
    "collapsed": true,
    "jupyter": {
     "outputs_hidden": true
    },
    "tags": []
   },
   "outputs": [
    {
     "data": {
      "text/plain": [
       "['Value Added',\n",
       " 'Employment',\n",
       " 'Employment hour',\n",
       " 'GHG emissions (GWP100) | Problem oriented approach: baseline (CML, 2001) | GWP100 (IPCC, 2007)',\n",
       " 'Human toxicity (USEtox) | USEtox2008 | CTUh (Rosenbaum et al., 2008)',\n",
       " 'Fresh water Ecotoxicity (USEtox) | USEtox2008 | CTUe (Rosenbaum et al., 2008)',\n",
       " 'EPS | Damage Approach | EPS (Steen, 1999))',\n",
       " 'Carcinogenic effects on humans (H.A) | ECOINDICATOR 99 (H.A) | Carcinogenic effects on humans (H.A)',\n",
       " 'Respiratory effects on humans caused by organic substances (H.A) | ECOINDICATOR 99 (H.A) | Respiratory effects on humans caused by organic substances (H.A)',\n",
       " 'Respiratory effects on humans caused by inorganic substances (H.A) | ECOINDICATOR 99 (H.A) | Respiratory effects on humans caused by inorganic substances (H.A)',\n",
       " 'Damages to human health caused by climate change (H.A) | ECOINDICATOR 99 (H.A) | Damages to human health caused by climate change (H.A)',\n",
       " 'Damage to Ecosystem Quality caused by ecotoxic emissions (H.A) | ECOINDICATOR 99 (H.A) | Damage to Ecosystem Quality caused by ecotoxic emissions (H.A)',\n",
       " 'Damage to Ecosystem Quality caused by the combined effect of acidification and eutrophication (H.A) | ECOINDICATOR 99 (H.A) | Damage to Ecosystem Quality caused by the combined effect of acidification and eutrophication (H.A)',\n",
       " 'Carcinogenic effects on humans (E.E) | ECOINDICATOR 99 (E.E) | Carcinogenic effects on humans (E.E)',\n",
       " 'Respiratory effects on humans caused by organic substances (E.E) | ECOINDICATOR 99 (E.E) | Respiratory effects on humans caused by organic substances (E.E)',\n",
       " 'Respiratory effects on humans caused by inorganic substances (E.E) | ECOINDICATOR 99 (E.E) | Respiratory effects on humans caused by inorganic substances (E.E)',\n",
       " 'Damages to human health caused by climate change (E.E) | ECOINDICATOR 99 (E.E) | Damages to human health caused by climate change (E.E)',\n",
       " 'Damage to Ecosystem Quality caused by ecotoxic emissions (E.E)) | ECOINDICATOR 99 (E.E) | Damage to Ecosystem Quality caused by ecotoxic emissions (E.E))',\n",
       " 'Damage to Ecosystem Quality caused by the combined effect of acidification and eutrophication (E.E) | ECOINDICATOR 99 (E.E) | Damage to Ecosystem Quality caused by the combined effect of acidification and eutrophication (E.E)',\n",
       " 'Carcinogenic effects on humans (I.I) | ECOINDICATOR 99 (I.I) | Carcinogenic effects on humans (I.I)',\n",
       " 'Respiratory effects on humans caused by organic substances (I.I) | ECOINDICATOR 99 (I.I) | Respiratory effects on humans caused by organic substances (I.I)',\n",
       " 'Respiratory effects on humans caused by inorganic substances (I.I) | ECOINDICATOR 99 (I.I) | Respiratory effects on humans caused by inorganic substances (I.I)',\n",
       " 'Damages to human health caused by climate change (I.I) | ECOINDICATOR 99 (I.I) | Damages to human health caused by climate change (I.I)',\n",
       " 'Damage to Ecosystem Quality caused by ecotoxic emissions (I.I) | ECOINDICATOR 99 (I.I) | Damage to Ecosystem Quality caused by ecotoxic emissions (I.I)',\n",
       " 'Damage to Ecosystem Quality caused by the combined effect of acidification and eutrophication (I.I) | ECOINDICATOR 99 (I.I) | Damage to Ecosystem Quality caused by the combined effect of acidification and eutrophication (I.I)',\n",
       " 'Unused Domestic Extraction',\n",
       " 'Water Consumption Green - Agriculture',\n",
       " 'Water Consumption Blue - Agriculture',\n",
       " 'Water Consumption Blue - Livestock',\n",
       " 'Water Consumption Blue - Manufacturing',\n",
       " 'Water Consumption Blue - Electricity',\n",
       " 'Water Consumption Blue - Domestic',\n",
       " 'Water Consumption Blue - Total',\n",
       " 'Water Withdrawal Blue - Manufacturing',\n",
       " 'Water Withdrawal Blue - Electricity',\n",
       " 'Water Withdrawal Blue - Domestic',\n",
       " 'Water Withdrawal Blue - Total',\n",
       " 'Carbon dioxide (CO2) IPCC categories 1 to 4 and 6 to 7 (excl land use, land use change and forestry)',\n",
       " 'Methane (CH4) IPCC categories 1 to 4 and 6 to 7 (excl land use, land use change and forestry)',\n",
       " 'Nitrous Oxide (N2O) IPCC categories 1 to 4 and 6 to 7 (excl land use, land use change and forestry)',\n",
       " 'Carbon dioxide (CO2) CO2EQ IPCC categories 1 to 4 and 6 to 7 (excl land use, land use change and forestry)',\n",
       " 'Methane (CH4) CO2EQ IPCC categories 1 to 4 and 6 to 7 (excl land use, land use change and forestry)',\n",
       " 'Nitrous Oxide (N2O) CO2EQ IPCC categories 1 to 4 and 6 to 7 (excl land use, land use change and forestry)',\n",
       " 'Carbon dioxide (CO2) Fuel combustion and cement',\n",
       " 'Carbon dioxide (CO2) Fuel combustion',\n",
       " 'GHG emissions (GWP100) | Problem oriented approach: baseline (CML, 1999) | GWP100 (IPCC, 2007)',\n",
       " 'GHG emissions (GWP100min) | Problem oriented approach: non baseline (CML, 1999) | net GWP100 min(Houghton et al., 2001)',\n",
       " 'GHG emissions (GWP100max) | Problem oriented approach: non baseline (CML, 1999) | net GWP100 max(Houghton et al., 2001)',\n",
       " 'GHG emissions (GWP20) | Problem oriented approach: non baseline (CML, 1999) | GWP20 (IPCC, 2007)',\n",
       " 'GHG emissions (GWP500) | Problem oriented approach: non baseline (CML, 1999) | GWP500 (IPCC, 2007)',\n",
       " 'ozone layer depletion (ODP steady state) | Problem oriented approach: baseline (CML, 1999) | ODP steady state (WMO, 2003)',\n",
       " 'human toxicity (HTP inf) | Problem oriented approach: baseline (CML, 1999) | HTP inf. (Huijbregts, 1999 & 2000)',\n",
       " 'Freshwater aquatic ecotoxicity (FAETP inf) | Problem oriented approach: baseline (CML, 1999) | FAETP inf. (Huijbregts, 1999 & 2000)',\n",
       " 'Marine aquatic ecotoxicity (MAETP inf) | Problem oriented approach: baseline (CML, 1999) | MAETP inf. (Huijbregts, 1999 & 2000)',\n",
       " 'Freshwater sedimental ecotoxicity (FSETP inf) | Problem oriented approach: non baseline (CML, 1999) | FSETP inf. (Huijbregts, 1999 & 2000)',\n",
       " 'Marine sedimental ecotoxicity (MSETP inf) | Problem oriented approach: non baseline (CML, 1999) | MSETP inf. (Huijbregts, 1999 & 2000)',\n",
       " 'Terrestrial ecotoxicity (TETP inf) | Problem oriented approach: baseline (CML, 1999) | TETP inf.(Huijbregts, 1999 & 2000)',\n",
       " 'human toxicity (HTP20) | Problem oriented approach: non baseline (CML, 1999) | HTP 20 (Huijbregts, 1999 & 2000)',\n",
       " 'Freshwater aquatic ecotoxicity (FAETP20) | Problem oriented approach: non baseline (CML, 1999) | FAETP 20 (Huijbregts, 1999 & 2000)',\n",
       " 'Marine aquatic ecotoxicity (MAETP20) | Problem oriented approach: non baseline (CML, 1999) | MAETP 20 (Huijbregts, 1999 & 2000)',\n",
       " 'Freshwater sedimental ecotoxicity (FSETP20) | Problem oriented approach: non baseline (CML, 1999) | FSETP 20 (Huijbregts, 1999 & 2000)',\n",
       " 'Marine sedimental ecotoxicity (MSETP20) | Problem oriented approach: non baseline (CML, 1999) | MSETP 20 (Huijbregts, 1999 & 2000)',\n",
       " 'Terrestrial ecotoxicity (TETP20) | Problem oriented approach: non baseline (CML, 1999) | TETP 20 (Huijbregts, 1999 & 2000)',\n",
       " 'human toxicity (HTP100) | Problem oriented approach: non baseline (CML, 1999) | HTP 100 (Huijbregts, 1999 & 2000)',\n",
       " 'Freshwater aquatic ecotoxicity (FAETP100) | Problem oriented approach: non baseline (CML, 1999) | FAETP 100 (Huijbregts, 1999 & 2000)',\n",
       " 'Marine aquatic ecotoxicity (MAETP100) | Problem oriented approach: non baseline (CML, 1999) | MAETP 100 (Huijbregts, 1999 & 2000)',\n",
       " 'Freshwater sedimental ecotoxicity (FSETP100) | Problem oriented approach: non baseline (CML, 1999) | FSETP 100 (Huijbregts, 1999 & 2000)',\n",
       " 'Marine sedimental ecotoxicity (MSETP100) | Problem oriented approach: non baseline (CML, 1999) | MSETP 100 (Huijbregts, 1999 & 2000)',\n",
       " 'Terrestrial ecotoxicity (TETP100) | Problem oriented approach: non baseline (CML, 1999) | TETP 100 (Huijbregts, 1999 & 2000)',\n",
       " 'human toxicity (HTP500) | Problem oriented approach: non baseline (CML, 1999) | HTP 500 (Huijbregts, 1999 & 2000)',\n",
       " 'Freshwater aquatic ecotoxicity (FAETP500) | Problem oriented approach: non baseline (CML, 1999) | FAETP 500 (Huijbregts, 1999 & 2000)',\n",
       " 'Marine aquatic ecotoxicity (MAETP500) | Problem oriented approach: non baseline (CML, 1999) | MAETP 500 (Huijbregts, 1999 & 2000)',\n",
       " 'Freshwater sedimental ecotoxicity (FSETP500) | Problem oriented approach: non baseline (CML, 1999) | FSETP 500 (Huijbregts, 1999 & 2000)',\n",
       " 'Marine sedimental ecotoxicity (MSETP500) | Problem oriented approach: non baseline (CML, 1999) | MSETP 500 (Huijbregts, 1999 & 2000)',\n",
       " 'Terrestrial ecotoxicity (TETP500) | Problem oriented approach: non baseline (CML, 1999) | TETP 500 (Huijbregts, 1999 & 2000) TETP 500',\n",
       " 'photochemical oxidation (high NOx) | Problem oriented approach: baseline (CML, 1999) | POCP (Jenkin & Hayman, 1999; Derwent et al. 1998; high NOx)',\n",
       " 'photochemical oxidation (low NOx) | Problem oriented approach: non baseline (CML, 1999) | POCP (Andersson-Skï¿½ld et al. 1992; low NOx)',\n",
       " 'photochemical oxidation (MIR; very high NOx) | Problem oriented approach: non baseline (CML, 1999) | MIR 1997; very high NOx (Carter, 1994, 1997, 1998;Carter, Pierce, Luo &  Malkina, 1995 )',\n",
       " 'photochemical oxidation (MOIR; high NOx) | Problem oriented approach: non baseline (CML, 1999) | MOIR; high NOx (Carter, 1994, 1997, 1998;Carter, Pierce, Luo &  Malkina, 1995 )',\n",
       " 'photochemical oxidation (EBIR; low NOx) | Problem oriented approach: non baseline (CML, 1999) | EBIR; low NOx (Carter, 1994, 1997, 1998;Carter, Pierce, Luo &  Malkina, 1995 )',\n",
       " 'acidification (incl. fate, average Europe total, A&B) | Problem oriented approach: baseline (CML, 1999) | AP ( Huijbregts, 1999; average Europe total, A&B)',\n",
       " 'acidification (fate not incl.) | Problem oriented approach: non baseline (CML, 1999) | AP (Hauschild & Wenzel (1998).',\n",
       " 'eutrophication (fate not incl.) | Problem oriented approach: baseline (CML, 1999) | EP (Heijungs et al. 1992))',\n",
       " 'eutrophication (incl. fate, average Europe total, A&B) | Problem oriented approach: non baseline (CML, 1999) | EP ( Huijbregts, 1999; average Europe total, A&B)',\n",
       " 'odour | Problem oriented approach: non baseline (CML, 1999) | 1/OTV',\n",
       " 'Climate change midpoint | ILCD recommended CF | Global warming potential 100 years',\n",
       " 'Climate change endpoint, human health | ILCD recommended CF | Disability Adjusted Life Years (DALY)',\n",
       " 'Climate change endpoint, ecosystems | ILCD recommended CF | Potentially Disappeared Fraction of species (PDF)',\n",
       " 'Human toxicity midpoint, cancer effects | ILCD recommended CF | Comparative Toxic Unit for human (CTUh)',\n",
       " 'Human toxicity midpoint, non-cancer effects | ILCD recommended CF | Comparative Toxic Unit for human (CTUh)',\n",
       " 'Human toxicity endpoint, cancer effects | ILCD recommended CF | Disability Adjusted Life Years (DALY)',\n",
       " 'Human toxicity endpoint, non-cancer effects | ILCD recommended CF | Disability Adjusted Life Years (DALY)',\n",
       " 'Particulate matter/Respiratory inorganics midpoint | ILCD recommended CF | emission-weighed average PM2.5 equivalent',\n",
       " 'Particulate matter/Respiratory inorganics endpoint | ILCD recommended CF | Disability Adjusted Life Years (DALY)',\n",
       " 'Photochemical ozone formation midpoint, human health | ILCD recommended CF | Photochemical ozone creation potential (POCP)',\n",
       " 'Photochemical ozone formation endpoint, human health | ILCD recommended CF | Disability Adjusted Life Years (DALY)',\n",
       " 'Acidification midpoint | ILCD recommended CF | Accumulated Exceedance (AE)',\n",
       " 'Acidification endpoint | ILCD recommended CF | Change in potentially not occuring fraction of plant species per change in base saturation',\n",
       " 'Eutrophication terrestrial midpoint | ILCD recommended CF | Accumulated Exceedance (AE)',\n",
       " 'Eutrophication marine midpoint | ILCD recommended CF | Potentially Disappeared Fraction of species (PDF)',\n",
       " 'Ecotoxicity freshwater midpoint | ILCD recommended CF | Comparative Toxic Unit for ecosystems (CTUe)',\n",
       " 'Ecotoxicity freshwater endpoint | ILCD recommended CF | Potentially Disappeared Fraction of species (PDF)',\n",
       " 'GHG emissions AR5 (GWP100) | GWP100 (IPCC, 2010)',\n",
       " 'Nitrogen',\n",
       " 'Phosphorous',\n",
       " 'PM10',\n",
       " 'PM25',\n",
       " 'SOx',\n",
       " 'NOx',\n",
       " 'Domestic Extraction Used - Crop and Crop Residue',\n",
       " 'Domestic Extraction Used - Grazing and Fodder',\n",
       " 'Domestic Extraction Used - Forestry and Timber',\n",
       " 'Domestic Extraction Used â\\x80\\x93 Fisheries',\n",
       " 'Domestic Extraction Used - Non-metalic Minerals',\n",
       " 'Domestic Extraction Used - Iron Ore',\n",
       " 'Domestic Extraction Used - Non-ferous metal ores',\n",
       " 'Unused Domestic Extraction - Crop and Crop Residue',\n",
       " 'Unused Domestic Extraction - Grazing and Fodder',\n",
       " 'Unused Domestic Extraction - Forestry and Timber',\n",
       " 'Unused Domestic Extraction â\\x80\\x93 Fisheries',\n",
       " 'Unused Domestic Extraction - Coal and Peat',\n",
       " 'Unused Domestic Extraction - Oil and Gas',\n",
       " 'Unused Domestic Extraction - Non-metalic Minerals',\n",
       " 'Unused Domestic Extraction - Iron Ore',\n",
       " 'Unused Domestic Extraction - Non-ferous metal ores',\n",
       " 'Land use Crop, Forest, Pasture']"
      ]
     },
     "execution_count": 53,
     "metadata": {},
     "output_type": "execute_result"
    }
   ],
   "source": [
    "# Agrégés par catégories d'impact\n",
    "list(io.impacts.get_rows())"
   ]
  },
  {
   "cell_type": "code",
   "execution_count": 54,
   "metadata": {
    "tags": []
   },
   "outputs": [],
   "source": [
    "# Le nom de la catégorie d'impact que l'on souhaite extraire \n",
    "impact = 'GHG emissions (GWP100) | Problem oriented approach: baseline (CML, 2001) | GWP100 (IPCC, 2007)'"
   ]
  },
  {
   "cell_type": "code",
   "execution_count": 55,
   "metadata": {
    "tags": []
   },
   "outputs": [
    {
     "data": {
      "text/plain": [
       "<Axes: >"
      ]
     },
     "execution_count": 55,
     "metadata": {},
     "output_type": "execute_result"
    },
    {
     "data": {
      "image/png": "[encoded data removed]",
      "text/plain": [
       "<Figure size 2000x500 with 1 Axes>"
      ]
     },
     "metadata": {},
     "output_type": "display_data"
    }
   ],
   "source": [
    "pd.concat([io.impacts.D_pba_reg.loc[impact]*1e-9,\n",
    "           (emissions_GES_inventaire + emissions_GES_finales)], axis=1).sort_values(ascending=False, by='stressor').plot.bar(figsize=(20,5))"
   ]
  },
  {
   "cell_type": "markdown",
   "metadata": {
    "tags": []
   },
   "source": [
    "On constate qu'il y a quelques différences entre les estimations d'EXIOBASE et le calcul effectué à partir des facteurs que nous avons déclaré. Ces différences sont probablement dues à la différence de périmètre des substances prises en compte, et aux facteurs eux-mêmes."
   ]
  },
  {
   "cell_type": "markdown",
   "metadata": {},
   "source": [
    "### Empreinte carbone\n",
    "On appelle l'empreinte carbone la somme des émissions liées à la consommation finale, en gaz à effet de serre (\"carbone\" étant un abus de langage). C'est `D_cba` qui nous donne les valeurs.\n",
    "\n",
    "Ce calcul s'appuie sur l'inverse de Leontief, qui permet de remonter les chaînes de valeur jusqu'à la production primaire pour chaque secteur, y compris via les échanges entre pays.\n",
    "\n",
    "Formellement, le calcul est \n",
    "\n",
    "$$D_{cba} = S L \\hat{y}$$\n",
    "\n",
    "Même principe qu'au-dessus pour le calcul en GES."
   ]
  },
  {
   "cell_type": "code",
   "execution_count": 56,
   "metadata": {
    "tags": []
   },
   "outputs": [
    {
     "data": {
      "text/plain": [
       "['Cultivation of paddy rice',\n",
       " 'Cultivation of wheat',\n",
       " 'Cultivation of cereal grains nec',\n",
       " 'Cultivation of vegetables, fruit, nuts',\n",
       " 'Cultivation of oil seeds',\n",
       " 'Cultivation of sugar cane, sugar beet',\n",
       " 'Cultivation of plant-based fibers',\n",
       " 'Cultivation of crops nec',\n",
       " 'Cattle farming',\n",
       " 'Pigs farming',\n",
       " 'Poultry farming',\n",
       " 'Meat animals nec',\n",
       " 'Animal products nec',\n",
       " 'Raw milk',\n",
       " 'Wool, silk-worm cocoons',\n",
       " 'Manure treatment (conventional), storage and land application',\n",
       " 'Manure treatment (biogas), storage and land application',\n",
       " 'Forestry, logging and related service activities (02)',\n",
       " 'Fishing, operating of fish hatcheries and fish farms; service activities incidental to fishing (05)',\n",
       " 'Mining of coal and lignite; extraction of peat (10)',\n",
       " 'Extraction of crude petroleum and services related to crude oil extraction, excluding surveying',\n",
       " 'Extraction of natural gas and services related to natural gas extraction, excluding surveying',\n",
       " 'Extraction, liquefaction, and regasification of other petroleum and gaseous materials',\n",
       " 'Mining of uranium and thorium ores (12)',\n",
       " 'Mining of iron ores',\n",
       " 'Mining of copper ores and concentrates',\n",
       " 'Mining of nickel ores and concentrates',\n",
       " 'Mining of aluminium ores and concentrates',\n",
       " 'Mining of precious metal ores and concentrates',\n",
       " 'Mining of lead, zinc and tin ores and concentrates',\n",
       " 'Mining of other non-ferrous metal ores and concentrates',\n",
       " 'Quarrying of stone',\n",
       " 'Quarrying of sand and clay',\n",
       " 'Mining of chemical and fertilizer minerals, production of salt, other mining and quarrying n.e.c.',\n",
       " 'Processing of meat cattle',\n",
       " 'Processing of meat pigs',\n",
       " 'Processing of meat poultry',\n",
       " 'Production of meat products nec',\n",
       " 'Processing vegetable oils and fats',\n",
       " 'Processing of dairy products',\n",
       " 'Processed rice',\n",
       " 'Sugar refining',\n",
       " 'Processing of Food products nec',\n",
       " 'Manufacture of beverages',\n",
       " 'Manufacture of fish products',\n",
       " 'Manufacture of tobacco products (16)',\n",
       " 'Manufacture of textiles (17)',\n",
       " 'Manufacture of wearing apparel; dressing and dyeing of fur (18)',\n",
       " 'Tanning and dressing of leather; manufacture of luggage, handbags, saddlery, harness and footwear (19)',\n",
       " 'Manufacture of wood and of products of wood and cork, except furniture; manufacture of articles of straw and plaiting materials (20)',\n",
       " 'Re-processing of secondary wood material into new wood material',\n",
       " 'Pulp',\n",
       " 'Re-processing of secondary paper into new pulp',\n",
       " 'Paper',\n",
       " 'Publishing, printing and reproduction of recorded media (22)',\n",
       " 'Manufacture of coke oven products',\n",
       " 'Petroleum Refinery',\n",
       " 'Processing of nuclear fuel',\n",
       " 'Plastics, basic',\n",
       " 'Re-processing of secondary plastic into new plastic',\n",
       " 'N-fertiliser',\n",
       " 'P- and other fertiliser',\n",
       " 'Chemicals nec',\n",
       " 'Manufacture of rubber and plastic products (25)',\n",
       " 'Manufacture of glass and glass products',\n",
       " 'Re-processing of secondary glass into new glass',\n",
       " 'Manufacture of ceramic goods',\n",
       " 'Manufacture of bricks, tiles and construction products, in baked clay',\n",
       " 'Manufacture of cement, lime and plaster',\n",
       " 'Re-processing of ash into clinker',\n",
       " 'Manufacture of other non-metallic mineral products n.e.c.',\n",
       " 'Manufacture of basic iron and steel and of ferro-alloys and first products thereof',\n",
       " 'Re-processing of secondary steel into new steel',\n",
       " 'Precious metals production',\n",
       " 'Re-processing of secondary preciuos metals into new preciuos metals',\n",
       " 'Aluminium production',\n",
       " 'Re-processing of secondary aluminium into new aluminium',\n",
       " 'Lead, zinc and tin production',\n",
       " 'Re-processing of secondary lead into new lead, zinc and tin',\n",
       " 'Copper production',\n",
       " 'Re-processing of secondary copper into new copper',\n",
       " 'Other non-ferrous metal production',\n",
       " 'Re-processing of secondary other non-ferrous metals into new other non-ferrous metals',\n",
       " 'Casting of metals',\n",
       " 'Manufacture of fabricated metal products, except machinery and equipment (28)',\n",
       " 'Manufacture of machinery and equipment n.e.c. (29)',\n",
       " 'Manufacture of office machinery and computers (30)',\n",
       " 'Manufacture of electrical machinery and apparatus n.e.c. (31)',\n",
       " 'Manufacture of radio, television and communication equipment and apparatus (32)',\n",
       " 'Manufacture of medical, precision and optical instruments, watches and clocks (33)',\n",
       " 'Manufacture of motor vehicles, trailers and semi-trailers (34)',\n",
       " 'Manufacture of other transport equipment (35)',\n",
       " 'Manufacture of furniture; manufacturing n.e.c. (36)',\n",
       " 'Recycling of waste and scrap',\n",
       " 'Recycling of bottles by direct reuse',\n",
       " 'Production of electricity by coal',\n",
       " 'Production of electricity by gas',\n",
       " 'Production of electricity by nuclear',\n",
       " 'Production of electricity by hydro',\n",
       " 'Production of electricity by wind',\n",
       " 'Production of electricity by petroleum and other oil derivatives',\n",
       " 'Production of electricity by biomass and waste',\n",
       " 'Production of electricity by solar photovoltaic',\n",
       " 'Production of electricity by solar thermal',\n",
       " 'Production of electricity by tide, wave, ocean',\n",
       " 'Production of electricity by Geothermal',\n",
       " 'Production of electricity nec',\n",
       " 'Transmission of electricity',\n",
       " 'Distribution and trade of electricity',\n",
       " 'Manufacture of gas; distribution of gaseous fuels through mains',\n",
       " 'Steam and hot water supply',\n",
       " 'Collection, purification and distribution of water (41)',\n",
       " 'Construction (45)',\n",
       " 'Re-processing of secondary construction material into aggregates',\n",
       " 'Sale, maintenance, repair of motor vehicles, motor vehicles parts, motorcycles, motor cycles parts and accessoiries',\n",
       " 'Retail sale of automotive fuel',\n",
       " 'Wholesale trade and commission trade, except of motor vehicles and motorcycles (51)',\n",
       " 'Retail trade, except of motor vehicles and motorcycles; repair of personal and household goods (52)',\n",
       " 'Hotels and restaurants (55)',\n",
       " 'Transport via railways',\n",
       " 'Other land transport',\n",
       " 'Transport via pipelines',\n",
       " 'Sea and coastal water transport',\n",
       " 'Inland water transport',\n",
       " 'Air transport (62)',\n",
       " 'Supporting and auxiliary transport activities; activities of travel agencies (63)',\n",
       " 'Post and telecommunications (64)',\n",
       " 'Financial intermediation, except insurance and pension funding (65)',\n",
       " 'Insurance and pension funding, except compulsory social security (66)',\n",
       " 'Activities auxiliary to financial intermediation (67)',\n",
       " 'Real estate activities (70)',\n",
       " 'Renting of machinery and equipment without operator and of personal and household goods (71)',\n",
       " 'Computer and related activities (72)',\n",
       " 'Research and development (73)',\n",
       " 'Other business activities (74)',\n",
       " 'Public administration and defence; compulsory social security (75)',\n",
       " 'Education (80)',\n",
       " 'Health and social work (85)',\n",
       " 'Incineration of waste: Food',\n",
       " 'Incineration of waste: Paper',\n",
       " 'Incineration of waste: Plastic',\n",
       " 'Incineration of waste: Metals and Inert materials',\n",
       " 'Incineration of waste: Textiles',\n",
       " 'Incineration of waste: Wood',\n",
       " 'Incineration of waste: Oil/Hazardous waste',\n",
       " 'Biogasification of food waste, incl. land application',\n",
       " 'Biogasification of paper, incl. land application',\n",
       " 'Biogasification of sewage slugde, incl. land application',\n",
       " 'Composting of food waste, incl. land application',\n",
       " 'Composting of paper and wood, incl. land application',\n",
       " 'Waste water treatment, food',\n",
       " 'Waste water treatment, other',\n",
       " 'Landfill of waste: Food',\n",
       " 'Landfill of waste: Paper',\n",
       " 'Landfill of waste: Plastic',\n",
       " 'Landfill of waste: Inert/metal/hazardous',\n",
       " 'Landfill of waste: Textiles',\n",
       " 'Landfill of waste: Wood',\n",
       " 'Activities of membership organisation n.e.c. (91)',\n",
       " 'Recreational, cultural and sporting activities (92)',\n",
       " 'Other service activities (93)',\n",
       " 'Private households with employed persons (95)',\n",
       " 'Extra-territorial organizations and bodies']"
      ]
     },
     "execution_count": 56,
     "metadata": {},
     "output_type": "execute_result"
    }
   ],
   "source": [
    "list(io.get_sectors())"
   ]
  },
  {
   "cell_type": "code",
   "execution_count": 57,
   "metadata": {
    "scrolled": true
   },
   "outputs": [
    {
     "data": {
      "text/plain": [
       "region  sector                                             \n",
       "AT      Cultivation of paddy rice                                   0.000000\n",
       "        Cultivation of wheat                                   631799.002656\n",
       "        Cultivation of cereal grains nec                       261081.166377\n",
       "        Cultivation of vegetables, fruit, nuts                  63322.120128\n",
       "        Cultivation of oil seeds                               279931.683289\n",
       "                                                                   ...      \n",
       "WM      Activities of membership organisation n.e.c. (91)       12239.478385\n",
       "        Recreational, cultural and sporting activities (92)      9705.666463\n",
       "        Other service activities (93)                           12373.155200\n",
       "        Private households with employed persons (95)            9972.086685\n",
       "        Extra-territorial organizations and bodies                  0.000000\n",
       "Name: CO2 - combustion - air, Length: 7987, dtype: float64"
      ]
     },
     "execution_count": 57,
     "metadata": {},
     "output_type": "execute_result"
    }
   ],
   "source": [
    "io.satellite.S.loc['CO2 - combustion - air']"
   ]
  },
  {
   "cell_type": "code",
   "execution_count": 58,
   "metadata": {
    "tags": []
   },
   "outputs": [],
   "source": [
    "c = io.impacts.D_cba_reg.loc[impact,'FR']"
   ]
  },
  {
   "cell_type": "code",
   "execution_count": 59,
   "metadata": {
    "tags": []
   },
   "outputs": [],
   "source": [
    "p = io.impacts.D_pba_reg.loc[impact,'FR']"
   ]
  },
  {
   "cell_type": "code",
   "execution_count": 60,
   "metadata": {
    "tags": []
   },
   "outputs": [],
   "source": [
    "i = io.impacts.D_imp_reg.loc[impact,'FR']"
   ]
  },
  {
   "cell_type": "code",
   "execution_count": 61,
   "metadata": {
    "tags": []
   },
   "outputs": [],
   "source": [
    "e = io.impacts.D_exp_reg.loc[impact,'FR']"
   ]
  },
  {
   "cell_type": "code",
   "execution_count": 62,
   "metadata": {
    "tags": []
   },
   "outputs": [
    {
     "data": {
      "text/plain": [
       "623551805589.0"
      ]
     },
     "execution_count": 62,
     "metadata": {},
     "output_type": "execute_result"
    }
   ],
   "source": [
    "p + i - e"
   ]
  },
  {
   "cell_type": "code",
   "execution_count": 63,
   "metadata": {
    "tags": []
   },
   "outputs": [
    {
     "data": {
      "text/plain": [
       "623551805588.0"
      ]
     },
     "execution_count": 63,
     "metadata": {},
     "output_type": "execute_result"
    }
   ],
   "source": [
    "c"
   ]
  },
  {
   "cell_type": "code",
   "execution_count": 64,
   "metadata": {
    "scrolled": true,
    "tags": []
   },
   "outputs": [
    {
     "data": {
      "text/plain": [
       "AT    1.158493e+11\n",
       "BE    1.773102e+11\n",
       "BG    4.638884e+10\n",
       "CY    1.173331e+10\n",
       "CZ    1.342843e+11\n",
       "DE    1.126171e+12\n",
       "DK    8.379769e+10\n",
       "EE    1.915517e+10\n",
       "ES    3.851079e+11\n",
       "FI    7.917861e+10\n",
       "FR    6.235518e+11\n",
       "GR    1.584888e+11\n",
       "HR    2.831295e+10\n",
       "HU    8.392923e+10\n",
       "IE    1.038908e+11\n",
       "IT    5.892736e+11\n",
       "LT    2.737072e+10\n",
       "LU    1.824136e+10\n",
       "LV    1.772994e+10\n",
       "MT    6.938054e+09\n",
       "NL    2.441920e+11\n",
       "PL    4.193437e+11\n",
       "PT    8.892841e+10\n",
       "RO    1.215807e+11\n",
       "SE    9.471593e+10\n",
       "SI    2.281683e+10\n",
       "SK    5.666934e+10\n",
       "GB    7.502530e+11\n",
       "US    7.408685e+12\n",
       "JP    1.592947e+12\n",
       "CN    1.253182e+13\n",
       "CA    6.541899e+11\n",
       "KR    8.548592e+11\n",
       "BR    1.045405e+12\n",
       "IN    3.764529e+12\n",
       "MX    6.802500e+11\n",
       "RU    1.674842e+12\n",
       "AU    5.907733e+11\n",
       "CH    1.107541e+11\n",
       "TR    5.602224e+11\n",
       "TW    2.877030e+11\n",
       "NO    8.719456e+10\n",
       "ID    1.007199e+12\n",
       "ZA    3.436345e+11\n",
       "WA    3.427162e+12\n",
       "WL    1.420478e+12\n",
       "WE    5.849723e+11\n",
       "WF    2.617860e+12\n",
       "WM    2.730238e+12\n",
       "Name: GHG emissions (GWP100) | Problem oriented approach: baseline (CML, 2001) | GWP100 (IPCC, 2007), dtype: float64"
      ]
     },
     "execution_count": 64,
     "metadata": {},
     "output_type": "execute_result"
    }
   ],
   "source": [
    "# Total des GES émis à cause de la consommation de chaque pays\n",
    "io.impacts.D_cba_reg.loc[impact]"
   ]
  },
  {
   "cell_type": "code",
   "execution_count": 65,
   "metadata": {
    "scrolled": true,
    "tags": []
   },
   "outputs": [
    {
     "data": {
      "text/plain": [
       "AT    4.872317e+03\n",
       "BE    8.331770e+03\n",
       "BG    1.445816e+03\n",
       "CY    3.312127e+02\n",
       "CZ    3.368044e+03\n",
       "DE    3.617005e+04\n",
       "DK    2.739247e+03\n",
       "EE    5.699871e+02\n",
       "ES    1.109443e+04\n",
       "FI    3.106114e+03\n",
       "FR    2.235004e+04\n",
       "GR    2.772152e+03\n",
       "HR    1.089652e+03\n",
       "HU    2.901619e+03\n",
       "IE    4.479551e+03\n",
       "IT    1.644203e+04\n",
       "LT    1.080058e+03\n",
       "LU    9.514819e+02\n",
       "LV    6.269426e+02\n",
       "MT    3.002555e+02\n",
       "NL    9.321190e+03\n",
       "PL    8.358342e+03\n",
       "PT    2.712177e+03\n",
       "RO    5.012078e+03\n",
       "SE    1.449960e+04\n",
       "SI    9.703629e+02\n",
       "SK    1.644951e+03\n",
       "GB    2.229291e+04\n",
       "US    2.143011e+05\n",
       "JP    9.204393e+04\n",
       "CN    1.797107e+06\n",
       "CA    1.817849e+04\n",
       "KR    5.596575e+04\n",
       "BR    3.230129e+04\n",
       "IN    2.722086e+05\n",
       "MX    2.467878e+04\n",
       "RU    9.668354e+04\n",
       "AU    8.791044e+04\n",
       "CH    4.199067e+03\n",
       "TR    1.562602e+04\n",
       "TW    3.817936e+04\n",
       "NO    4.626137e+03\n",
       "ID    2.775667e+04\n",
       "ZA    1.700861e+04\n",
       "WA    2.023578e+05\n",
       "WL    6.815642e+04\n",
       "WE    1.002207e+05\n",
       "WF    6.161158e+04\n",
       "WM    1.312007e+05\n",
       "Name: Domestic Extraction Used - Metal Ores - Iron ores, dtype: float64"
      ]
     },
     "execution_count": 65,
     "metadata": {},
     "output_type": "execute_result"
    }
   ],
   "source": [
    "# Au même titre qu'il est possible de calculer l'empreinte carbone, nous pouvons calculer n'importe quelle empreinte, ici l'\"empreinte fer\"\n",
    "io.satellite.D_cba_reg.loc['Domestic Extraction Used - Metal Ores - Iron ores']"
   ]
  },
  {
   "cell_type": "code",
   "execution_count": 66,
   "metadata": {
    "scrolled": true,
    "tags": []
   },
   "outputs": [
    {
     "data": {
      "text/plain": [
       "AT    1.942720e+03\n",
       "BE    0.000000e+00\n",
       "BG    0.000000e+00\n",
       "CY    0.000000e+00\n",
       "CZ    0.000000e+00\n",
       "DE    1.295462e+02\n",
       "DK    0.000000e+00\n",
       "EE    0.000000e+00\n",
       "ES    0.000000e+00\n",
       "FI    0.000000e+00\n",
       "FR    0.000000e+00\n",
       "GR    7.272085e+03\n",
       "HR    0.000000e+00\n",
       "HU    0.000000e+00\n",
       "IE    0.000000e+00\n",
       "IT    0.000000e+00\n",
       "LT    0.000000e+00\n",
       "LU    0.000000e+00\n",
       "LV    0.000000e+00\n",
       "MT    0.000000e+00\n",
       "NL    0.000000e+00\n",
       "PL    0.000000e+00\n",
       "PT    0.000000e+00\n",
       "RO    0.000000e+00\n",
       "SE    3.881164e+04\n",
       "SI    0.000000e+00\n",
       "SK    0.000000e+00\n",
       "GB    0.000000e+00\n",
       "US    4.475911e+04\n",
       "JP    0.000000e+00\n",
       "CN    1.447374e+06\n",
       "CA    2.671805e+04\n",
       "KR    4.804288e+02\n",
       "BR    2.114731e+05\n",
       "IN    3.245610e+05\n",
       "MX    1.735115e+04\n",
       "RU    1.572737e+05\n",
       "AU    8.802101e+05\n",
       "CH    0.000000e+00\n",
       "TR    5.457626e+03\n",
       "TW    0.000000e+00\n",
       "NO    1.760418e+03\n",
       "ID    0.000000e+00\n",
       "ZA    6.096390e+04\n",
       "WA    1.010822e+05\n",
       "WL    2.965827e+04\n",
       "WE    1.376859e+05\n",
       "WF    1.824142e+04\n",
       "WM    3.894998e+04\n",
       "Name: Domestic Extraction Used - Metal Ores - Iron ores, dtype: float64"
      ]
     },
     "execution_count": 66,
     "metadata": {},
     "output_type": "execute_result"
    }
   ],
   "source": [
    "# Alors même que la France ne produit pas de fer sur son sol (voir ci-dessous), sa consommation annuelle entraîne l'extraction de 22 Mt de minerai.\n",
    "io.satellite.D_pba_reg.loc['Domestic Extraction Used - Metal Ores - Iron ores']"
   ]
  },
  {
   "cell_type": "code",
   "execution_count": 67,
   "metadata": {},
   "outputs": [
    {
     "data": {
      "text/plain": [
       "unit    kt\n",
       "Name: Domestic Extraction Used - Metal Ores - Iron ores, dtype: object"
      ]
     },
     "execution_count": 67,
     "metadata": {},
     "output_type": "execute_result"
    }
   ],
   "source": [
    "io.satellite.unit.loc['Domestic Extraction Used - Metal Ores - Iron ores']"
   ]
  },
  {
   "cell_type": "code",
   "execution_count": 68,
   "metadata": {
    "scrolled": true
   },
   "outputs": [
    {
     "data": {
      "text/plain": [
       "AT    8.225680e+10\n",
       "BE    1.277133e+11\n",
       "BG    2.890657e+10\n",
       "CY    8.601214e+09\n",
       "CZ    1.002147e+11\n",
       "DE    8.588997e+11\n",
       "DK    6.310997e+10\n",
       "EE    1.322101e+10\n",
       "ES    2.646886e+11\n",
       "FI    5.276715e+10\n",
       "FR    4.247486e+11\n",
       "GR    1.274647e+11\n",
       "HR    1.878008e+10\n",
       "HU    5.895130e+10\n",
       "IE    6.636606e+10\n",
       "IT    4.177419e+11\n",
       "LT    1.835798e+10\n",
       "LU    1.160118e+10\n",
       "LV    1.126579e+10\n",
       "MT    4.293782e+09\n",
       "NL    1.714910e+11\n",
       "PL    2.928821e+11\n",
       "PT    5.369725e+10\n",
       "RO    7.874922e+10\n",
       "SE    6.348803e+10\n",
       "SI    1.589365e+10\n",
       "SK    3.880829e+10\n",
       "GB    5.235649e+11\n",
       "US    5.728224e+12\n",
       "JP    1.197775e+12\n",
       "CN    9.041132e+12\n",
       "CA    4.985667e+11\n",
       "KR    6.629789e+11\n",
       "BR    4.326622e+11\n",
       "IN    2.305747e+12\n",
       "MX    4.239427e+11\n",
       "RU    1.194130e+12\n",
       "AU    4.300208e+11\n",
       "CH    8.072027e+10\n",
       "TR    3.705994e+11\n",
       "TW    2.138054e+11\n",
       "NO    6.599054e+10\n",
       "ID    5.441900e+11\n",
       "ZA    2.633921e+11\n",
       "WA    2.216898e+12\n",
       "WL    8.015006e+11\n",
       "WE    3.475141e+11\n",
       "WF    9.501273e+11\n",
       "WM    2.047598e+12\n",
       "Name: CO2 - combustion - air, dtype: float64"
      ]
     },
     "execution_count": 68,
     "metadata": {},
     "output_type": "execute_result"
    }
   ],
   "source": [
    "io.satellite.D_cba_reg.loc['CO2 - combustion - air']"
   ]
  },
  {
   "cell_type": "code",
   "execution_count": 69,
   "metadata": {
    "scrolled": true
   },
   "outputs": [
    {
     "data": {
      "text/plain": [
       "CN    8.222876e+12\n",
       "US    4.541275e+12\n",
       "IN    2.042106e+12\n",
       "WM    1.598037e+12\n",
       "WA    1.294853e+12\n",
       "RU    1.067593e+12\n",
       "JP    8.880529e+11\n",
       "WF    6.310001e+11\n",
       "DE    5.547008e+11\n",
       "WL    5.449098e+11\n",
       "KR    4.713826e+11\n",
       "ID    4.409260e+11\n",
       "CA    3.536820e+11\n",
       "BR    3.272017e+11\n",
       "AU    3.250816e+11\n",
       "MX    3.174618e+11\n",
       "GB    2.965506e+11\n",
       "TR    2.863815e+11\n",
       "IT    2.473246e+11\n",
       "PL    2.338497e+11\n",
       "ZA    2.270311e+11\n",
       "WE    2.247894e+11\n",
       "FR    2.225018e+11\n",
       "ES    1.699343e+11\n",
       "TW    1.553958e+11\n",
       "GR    9.554824e+10\n",
       "NL    8.667675e+10\n",
       "CZ    6.814032e+10\n",
       "BE    5.534517e+10\n",
       "RO    5.128616e+10\n",
       "AT    4.633889e+10\n",
       "NO    3.628201e+10\n",
       "HU    3.484437e+10\n",
       "PT    3.374108e+10\n",
       "FI    3.017796e+10\n",
       "CH    3.012130e+10\n",
       "DK    2.844317e+10\n",
       "SE    2.309947e+10\n",
       "SK    1.705066e+10\n",
       "BG    1.485319e+10\n",
       "IE    1.437529e+10\n",
       "LT    1.044552e+10\n",
       "HR    9.231795e+09\n",
       "EE    8.277927e+09\n",
       "SI    7.770015e+09\n",
       "LV    5.431038e+09\n",
       "CY    4.044687e+09\n",
       "LU    2.326705e+09\n",
       "MT    4.656438e+08\n",
       "Name: CO2 - combustion - air, dtype: float64"
      ]
     },
     "execution_count": 69,
     "metadata": {},
     "output_type": "execute_result"
    }
   ],
   "source": [
    "(io.satellite.D_pba_reg.loc['CO2 - combustion - air'] - io.satellite.D_exp_reg.loc['CO2 - combustion - air']).sort_values(ascending=False)"
   ]
  },
  {
   "cell_type": "code",
   "execution_count": 70,
   "metadata": {},
   "outputs": [
    {
     "data": {
      "text/plain": [
       "5322064754.768303"
      ]
     },
     "execution_count": 70,
     "metadata": {},
     "output_type": "execute_result"
    }
   ],
   "source": [
    "io.satellite.D_pba[('LU','Air transport (62)')].loc['CO2 - combustion - air']"
   ]
  },
  {
   "cell_type": "code",
   "execution_count": 71,
   "metadata": {},
   "outputs": [
    {
     "data": {
      "text/plain": [
       "sector\n",
       "Manufacture of furniture; manufacturing n.e.c. (36)                                   5.767035e+09\n",
       "Manufacture of medical, precision and optical instruments, watches and clocks (33)    4.005035e+09\n",
       "Air transport (62)                                                                    2.838189e+09\n",
       "Manufacture of machinery and equipment n.e.c. (29)                                    2.718689e+09\n",
       "Petroleum Refinery                                                                    2.607421e+09\n",
       "Health and social work (85)                                                           2.591846e+09\n",
       "Manufacture of motor vehicles, trailers and semi-trailers (34)                        2.193783e+09\n",
       "Chemicals nec                                                                         1.885157e+09\n",
       "Manufacture of electrical machinery and apparatus n.e.c. (31)                         1.475511e+09\n",
       "Sea and coastal water transport                                                       1.447745e+09\n",
       "Name: CO2 - combustion - air, dtype: float64"
      ]
     },
     "execution_count": 71,
     "metadata": {},
     "output_type": "execute_result"
    }
   ],
   "source": [
    "io.satellite.D_imp['CH'].loc['CO2 - combustion - air'].sort_values(ascending=False)[:10]"
   ]
  },
  {
   "cell_type": "code",
   "execution_count": 72,
   "metadata": {},
   "outputs": [],
   "source": [
    "io.satellite.D_imp_reg.to_excel('flux_environnementaux_liés_aux_importations.xlsx')"
   ]
  },
  {
   "cell_type": "code",
   "execution_count": 73,
   "metadata": {
    "scrolled": true
   },
   "outputs": [
    {
     "data": {
      "text/plain": [
       "MT    3.036094\n",
       "CH    1.173881\n",
       "IE    1.124198\n",
       "SE    1.015988\n",
       "LU    0.985339\n",
       "SK    0.738239\n",
       "BE    0.727246\n",
       "DK    0.707376\n",
       "FR    0.663367\n",
       "SI    0.639283\n",
       "HR    0.578686\n",
       "AT    0.567441\n",
       "LV    0.562781\n",
       "GB    0.561567\n",
       "IT    0.529121\n",
       "NL    0.505737\n",
       "FI    0.499201\n",
       "LT    0.489755\n",
       "NO    0.460238\n",
       "HU    0.454803\n",
       "WF    0.447952\n",
       "WA    0.445418\n",
       "PT    0.419966\n",
       "RO    0.394071\n",
       "DE    0.391621\n",
       "ES    0.374587\n",
       "BG    0.366802\n",
       "WE    0.362991\n",
       "CY    0.362971\n",
       "WL    0.344354\n",
       "EE    0.336318\n",
       "CZ    0.321807\n",
       "KR    0.299112\n",
       "JP    0.268193\n",
       "CA    0.255846\n",
       "AU    0.248483\n",
       "BR    0.242105\n",
       "MX    0.241115\n",
       "GR    0.238962\n",
       "US    0.238591\n",
       "TR    0.221171\n",
       "TW    0.200226\n",
       "WM    0.199802\n",
       "PL    0.193084\n",
       "ID    0.177950\n",
       "IN    0.111230\n",
       "ZA    0.088901\n",
       "CN    0.082399\n",
       "RU    0.081540\n",
       "Name: CO2 - combustion - air, dtype: float64"
      ]
     },
     "execution_count": 73,
     "metadata": {},
     "output_type": "execute_result"
    }
   ],
   "source": [
    "(io.satellite.D_imp_reg.loc['CO2 - combustion - air']/io.satellite.D_pba_reg.loc['CO2 - combustion - air']).sort_values(ascending=False)"
   ]
  },
  {
   "cell_type": "code",
   "execution_count": 74,
   "metadata": {
    "tags": []
   },
   "outputs": [
    {
     "data": {
      "text/plain": [
       "CN    1.797107e+06\n",
       "IN    2.722086e+05\n",
       "US    2.143011e+05\n",
       "WA    2.023578e+05\n",
       "WM    1.312007e+05\n",
       "WE    1.002207e+05\n",
       "RU    9.668354e+04\n",
       "JP    9.204393e+04\n",
       "AU    8.791044e+04\n",
       "WL    6.815642e+04\n",
       "WF    6.161158e+04\n",
       "KR    5.596575e+04\n",
       "TW    3.817936e+04\n",
       "DE    3.617005e+04\n",
       "BR    3.230129e+04\n",
       "ID    2.775667e+04\n",
       "MX    2.467878e+04\n",
       "FR    2.235004e+04\n",
       "GB    2.229291e+04\n",
       "CA    1.817849e+04\n",
       "ZA    1.700861e+04\n",
       "IT    1.644203e+04\n",
       "TR    1.562602e+04\n",
       "SE    1.449960e+04\n",
       "ES    1.109443e+04\n",
       "NL    9.321190e+03\n",
       "PL    8.358342e+03\n",
       "BE    8.331770e+03\n",
       "RO    5.012078e+03\n",
       "AT    4.872317e+03\n",
       "NO    4.626137e+03\n",
       "IE    4.479551e+03\n",
       "CH    4.199067e+03\n",
       "CZ    3.368044e+03\n",
       "FI    3.106114e+03\n",
       "HU    2.901619e+03\n",
       "GR    2.772152e+03\n",
       "DK    2.739247e+03\n",
       "PT    2.712177e+03\n",
       "SK    1.644951e+03\n",
       "BG    1.445816e+03\n",
       "HR    1.089652e+03\n",
       "LT    1.080058e+03\n",
       "SI    9.703629e+02\n",
       "LU    9.514819e+02\n",
       "LV    6.269426e+02\n",
       "EE    5.699871e+02\n",
       "CY    3.312127e+02\n",
       "MT    3.002555e+02\n",
       "Name: Domestic Extraction Used - Metal Ores - Iron ores, dtype: float64"
      ]
     },
     "execution_count": 74,
     "metadata": {},
     "output_type": "execute_result"
    }
   ],
   "source": [
    "io.satellite.D_cba_reg.loc['Domestic Extraction Used - Metal Ores - Iron ores'].sort_values(ascending=False)"
   ]
  },
  {
   "cell_type": "code",
   "execution_count": 75,
   "metadata": {},
   "outputs": [
    {
     "data": {
      "text/plain": [
       "region  sector                                             \n",
       "AT      Cultivation of paddy rice                              0.000000e+00\n",
       "        Cultivation of wheat                                   2.389919e+08\n",
       "        Cultivation of cereal grains nec                       2.334131e+08\n",
       "        Cultivation of vegetables, fruit, nuts                 1.054479e+08\n",
       "        Cultivation of oil seeds                               4.922765e+07\n",
       "                                                                   ...     \n",
       "WM      Activities of membership organisation n.e.c. (91)      2.785854e+08\n",
       "        Recreational, cultural and sporting activities (92)    5.254490e+08\n",
       "        Other service activities (93)                          3.912441e+08\n",
       "        Private households with employed persons (95)          7.076345e+07\n",
       "        Extra-territorial organizations and bodies             0.000000e+00\n",
       "Name: CO2 - combustion - air, Length: 7987, dtype: float64"
      ]
     },
     "execution_count": 75,
     "metadata": {},
     "output_type": "execute_result"
    }
   ],
   "source": [
    "# Émissions des secteurs économiques\n",
    "io.satellite.F.loc['CO2 - combustion - air']"
   ]
  },
  {
   "cell_type": "code",
   "execution_count": 76,
   "metadata": {
    "tags": []
   },
   "outputs": [
    {
     "data": {
      "text/html": [
       "<div>\n",
       "<style scoped>\n",
       "    .dataframe tbody tr th:only-of-type {\n",
       "        vertical-align: middle;\n",
       "    }\n",
       "\n",
       "    .dataframe tbody tr th {\n",
       "        vertical-align: top;\n",
       "    }\n",
       "\n",
       "    .dataframe thead th {\n",
       "        text-align: right;\n",
       "    }\n",
       "</style>\n",
       "<table border=\"1\" class=\"dataframe\">\n",
       "  <thead>\n",
       "    <tr style=\"text-align: right;\">\n",
       "      <th></th>\n",
       "      <th></th>\n",
       "      <th>indout</th>\n",
       "    </tr>\n",
       "    <tr>\n",
       "      <th>region</th>\n",
       "      <th>sector</th>\n",
       "      <th></th>\n",
       "    </tr>\n",
       "  </thead>\n",
       "  <tbody>\n",
       "    <tr>\n",
       "      <th rowspan=\"5\" valign=\"top\">AT</th>\n",
       "      <th>Cultivation of paddy rice</th>\n",
       "      <td>0.000000</td>\n",
       "    </tr>\n",
       "    <tr>\n",
       "      <th>Cultivation of wheat</th>\n",
       "      <td>378.272102</td>\n",
       "    </tr>\n",
       "    <tr>\n",
       "      <th>Cultivation of cereal grains nec</th>\n",
       "      <td>894.025172</td>\n",
       "    </tr>\n",
       "    <tr>\n",
       "      <th>Cultivation of vegetables, fruit, nuts</th>\n",
       "      <td>1665.261806</td>\n",
       "    </tr>\n",
       "    <tr>\n",
       "      <th>Cultivation of oil seeds</th>\n",
       "      <td>175.855935</td>\n",
       "    </tr>\n",
       "    <tr>\n",
       "      <th>...</th>\n",
       "      <th>...</th>\n",
       "      <td>...</td>\n",
       "    </tr>\n",
       "    <tr>\n",
       "      <th rowspan=\"5\" valign=\"top\">WM</th>\n",
       "      <th>Activities of membership organisation n.e.c. (91)</th>\n",
       "      <td>22761.213885</td>\n",
       "    </tr>\n",
       "    <tr>\n",
       "      <th>Recreational, cultural and sporting activities (92)</th>\n",
       "      <td>54138.374081</td>\n",
       "    </tr>\n",
       "    <tr>\n",
       "      <th>Other service activities (93)</th>\n",
       "      <td>31620.402676</td>\n",
       "    </tr>\n",
       "    <tr>\n",
       "      <th>Private households with employed persons (95)</th>\n",
       "      <td>7096.152986</td>\n",
       "    </tr>\n",
       "    <tr>\n",
       "      <th>Extra-territorial organizations and bodies</th>\n",
       "      <td>0.000000</td>\n",
       "    </tr>\n",
       "  </tbody>\n",
       "</table>\n",
       "<p>7987 rows × 1 columns</p>\n",
       "</div>"
      ],
      "text/plain": [
       "                                                                 indout\n",
       "region sector                                                          \n",
       "AT     Cultivation of paddy rice                               0.000000\n",
       "       Cultivation of wheat                                  378.272102\n",
       "       Cultivation of cereal grains nec                      894.025172\n",
       "       Cultivation of vegetables, fruit, nuts               1665.261806\n",
       "       Cultivation of oil seeds                              175.855935\n",
       "...                                                                 ...\n",
       "WM     Activities of membership organisation n.e.c. (91)   22761.213885\n",
       "       Recreational, cultural and sporting activities ...  54138.374081\n",
       "       Other service activities (93)                       31620.402676\n",
       "       Private households with employed persons (95)        7096.152986\n",
       "       Extra-territorial organizations and bodies              0.000000\n",
       "\n",
       "[7987 rows x 1 columns]"
      ]
     },
     "execution_count": 76,
     "metadata": {},
     "output_type": "execute_result"
    }
   ],
   "source": [
    "# Production totale\n",
    "io.x"
   ]
  },
  {
   "cell_type": "code",
   "execution_count": 77,
   "metadata": {},
   "outputs": [
    {
     "data": {
      "text/plain": [
       "region\n",
       "AT    1.503961e+10\n",
       "AU    3.615810e+10\n",
       "BE    2.756257e+10\n",
       "BG    3.446551e+09\n",
       "BR    8.566577e+10\n",
       "CA    1.205886e+11\n",
       "CH    1.652354e+10\n",
       "CN    7.449151e+11\n",
       "CY    1.597745e+09\n",
       "CZ    1.027553e+10\n",
       "DE    1.510314e+11\n",
       "DK    8.789098e+09\n",
       "EE    7.629864e+08\n",
       "ES    5.490139e+10\n",
       "FI    4.536842e+09\n",
       "FR    7.060099e+10\n",
       "GB    1.128089e+11\n",
       "GR    9.759206e+09\n",
       "HR    3.004019e+09\n",
       "HU    1.768469e+10\n",
       "ID    9.255600e+10\n",
       "IE    6.082451e+09\n",
       "IN    1.995747e+11\n",
       "IT    6.454960e+10\n",
       "JP    1.809816e+11\n",
       "KR    6.783627e+10\n",
       "LT    6.603978e+09\n",
       "LU    1.162087e+09\n",
       "LV    1.762232e+09\n",
       "MT    5.354500e+07\n",
       "MX    3.092555e+10\n",
       "NL    3.589674e+10\n",
       "NO    5.383143e+09\n",
       "PL    5.220924e+10\n",
       "PT    1.172336e+10\n",
       "RO    1.777060e+10\n",
       "RU    2.430785e+11\n",
       "SE    8.206671e+09\n",
       "SI    2.850860e+09\n",
       "SK    3.884112e+09\n",
       "TR    5.627450e+10\n",
       "TW    2.936386e+10\n",
       "US    1.352666e+12\n",
       "WA    3.675454e+11\n",
       "WE    2.777631e+10\n",
       "WF    2.936361e+11\n",
       "WL    1.246630e+11\n",
       "WM    3.643113e+11\n",
       "ZA    3.989353e+10\n",
       "Name: CO2 - combustion - air, dtype: float64"
      ]
     },
     "execution_count": 77,
     "metadata": {},
     "output_type": "execute_result"
    }
   ],
   "source": [
    "# Émissions directes\n",
    "io.satellite.F_Y.groupby('region', axis=1).sum().loc['CO2 - combustion - air']"
   ]
  },
  {
   "cell_type": "code",
   "execution_count": 78,
   "metadata": {},
   "outputs": [
    {
     "data": {
      "text/plain": [
       "AT    1679.465300\n",
       "AU    1434.674353\n",
       "BE    2388.644581\n",
       "BG     492.364414\n",
       "BR     405.902720\n",
       "CA    3223.346248\n",
       "CH    1923.354733\n",
       "CN     519.544831\n",
       "CY    1332.564858\n",
       "CZ     961.318614\n",
       "DE    1808.391078\n",
       "DK    1522.712703\n",
       "EE     575.404506\n",
       "ES    1174.687830\n",
       "FI     820.108826\n",
       "FR    1084.001004\n",
       "GB    1670.500412\n",
       "GR     931.844361\n",
       "HR     727.365347\n",
       "HU    1825.987175\n",
       "ID     342.007043\n",
       "IE    1245.893378\n",
       "IN     146.056844\n",
       "IT    1066.054503\n",
       "JP    1426.624390\n",
       "KR    1324.280579\n",
       "LT    2392.745569\n",
       "LU    1886.504604\n",
       "LV     924.085908\n",
       "MT     121.693192\n",
       "MX     242.408827\n",
       "NL    2099.592970\n",
       "NO    1000.770227\n",
       "PL    1377.988699\n",
       "PT    1146.426765\n",
       "RO     917.665818\n",
       "RU    1666.382070\n",
       "SE     817.723269\n",
       "SI    1371.264893\n",
       "SK     711.766870\n",
       "TR     674.511520\n",
       "TW    1235.125133\n",
       "US    4110.633690\n",
       "WA     343.408951\n",
       "WE     393.621658\n",
       "WF     235.001744\n",
       "WL     402.632297\n",
       "WM    1910.429472\n",
       "ZA     681.265173\n",
       "dtype: float64"
      ]
     },
     "execution_count": 78,
     "metadata": {},
     "output_type": "execute_result"
    }
   ],
   "source": [
    "io.satellite.F_Y.groupby('region', axis=1).sum().loc['CO2 - combustion - air']/io.population.T['population']"
   ]
  },
  {
   "cell_type": "code",
   "execution_count": 79,
   "metadata": {},
   "outputs": [],
   "source": [
    "# Somme empreinte indirecte + émissions directes\n",
    "empreinte_totale = io.satellite.D_cba_cap.loc['CO2 - combustion - air'] + io.satellite.F_Y.groupby('region', axis=1).sum().loc['CO2 - combustion - air']/io.population.T['population']"
   ]
  },
  {
   "cell_type": "code",
   "execution_count": 80,
   "metadata": {},
   "outputs": [],
   "source": [
    "# Indicateur pour les gaz à effet de serre (agrège CO2, CH4, CH4, ...)\n",
    "indicateur = 'Climate change midpoint | ILCD recommended CF | Global warming potential 100 years'"
   ]
  },
  {
   "cell_type": "code",
   "execution_count": 81,
   "metadata": {},
   "outputs": [],
   "source": [
    "# Gaz à effet de serre par personne\n",
    "empreinte_par_personne = (io.impacts.D_cba_cap.loc[indicateur])\n",
    "# + \\\n",
    "# io.satellite.F_Y.groupby('region', axis=1).sum().loc['CO2 - combustion - air']/io.population.T['population'])"
   ]
  },
  {
   "cell_type": "code",
   "execution_count": 82,
   "metadata": {},
   "outputs": [
    {
     "data": {
      "text/plain": [
       "<Axes: >"
      ]
     },
     "execution_count": 82,
     "metadata": {},
     "output_type": "execute_result"
    },
    {
     "data": {
      "image/png": "[encoded data removed]",
      "text/plain": [
       "<Figure size 2000x500 with 1 Axes>"
      ]
     },
     "metadata": {},
     "output_type": "display_data"
    }
   ],
   "source": [
    "io.impacts.D_cba_reg.loc[indicateur].sort_values(ascending=False).plot.bar(figsize=(20,5))"
   ]
  },
  {
   "cell_type": "code",
   "execution_count": 83,
   "metadata": {},
   "outputs": [
    {
     "data": {
      "text/plain": [
       "LU    28717.128796\n",
       "AU    22922.585330\n",
       "US    21342.043484\n",
       "IE    20325.562075\n",
       "CA    16866.224093\n",
       "KR    16495.535433\n",
       "NO    15862.586125\n",
       "BE    14910.500190\n",
       "GR    14892.753572\n",
       "MT    14297.621669\n",
       "DK    14208.616518\n",
       "WM    14142.875295\n",
       "NL    13898.351319\n",
       "EE    13822.394784\n",
       "FI    13665.409633\n",
       "DE    13114.464737\n",
       "CH    12385.746752\n",
       "AT    12082.601733\n",
       "CZ    12041.467063\n",
       "TW    11857.021051\n",
       "JP    11589.630632\n",
       "RU    10972.878900\n",
       "PL    10920.223827\n",
       "GB    10854.445458\n",
       "SI    10635.221314\n",
       "SK     9960.623487\n",
       "IT     9377.322492\n",
       "CY     9370.021752\n",
       "LT     9317.579951\n",
       "FR     9238.725140\n",
       "SE     9124.441193\n",
       "CN     8570.494682\n",
       "LV     8488.991884\n",
       "HU     8347.804023\n",
       "ES     8025.736964\n",
       "WE     7943.784905\n",
       "PT     7718.692812\n",
       "HR     6712.757390\n",
       "TR     6579.758443\n",
       "BG     6316.965063\n",
       "RO     6101.106334\n",
       "ZA     5819.996438\n",
       "MX     5219.153698\n",
       "BR     4889.273113\n",
       "WL     4405.183200\n",
       "ID     3707.784194\n",
       "WA     3142.888773\n",
       "IN     2736.328024\n",
       "WF     2082.906929\n",
       "Name: Climate change midpoint | ILCD recommended CF | Global warming potential 100 years, dtype: float64"
      ]
     },
     "execution_count": 83,
     "metadata": {},
     "output_type": "execute_result"
    }
   ],
   "source": [
    "empreinte_par_personne.sort_values(ascending=False)"
   ]
  },
  {
   "cell_type": "code",
   "execution_count": 84,
   "metadata": {
    "scrolled": true
   },
   "outputs": [
    {
     "data": {
      "text/plain": [
       "<Axes: >"
      ]
     },
     "execution_count": 84,
     "metadata": {},
     "output_type": "execute_result"
    },
    {
     "data": {
      "image/png": "[encoded data removed]",
      "text/plain": [
       "<Figure size 2000x500 with 1 Axes>"
      ]
     },
     "metadata": {},
     "output_type": "display_data"
    }
   ],
   "source": [
    "empreinte_par_personne.sort_values(ascending=False).plot.bar(figsize=(20,5))"
   ]
  },
  {
   "cell_type": "code",
   "execution_count": 85,
   "metadata": {},
   "outputs": [],
   "source": [
    "empreinte_fer = io.satellite.D_cba_cap.loc['Domestic Extraction Used - Metal Ores - Iron ores'] + \\\n",
    "io.satellite.F_Y.groupby('region', axis=1).sum().loc['Domestic Extraction Used - Metal Ores - Iron ores']/io.population.T['population']"
   ]
  },
  {
   "cell_type": "code",
   "execution_count": 86,
   "metadata": {},
   "outputs": [
    {
     "data": {
      "text/plain": [
       "sector\n",
       "Construction (45)                                                                    6.624071e+03\n",
       "Mining of iron ores                                                                  1.944997e+03\n",
       "Manufacture of machinery and equipment n.e.c. (29)                                   7.983709e+02\n",
       "Supporting and auxiliary transport activities; activities of travel agencies (63)    5.839413e+02\n",
       "Manufacture of motor vehicles, trailers and semi-trailers (34)                       4.490170e+02\n",
       "                                                                                         ...     \n",
       "Production of electricity by tide, wave, ocean                                       5.786728e-09\n",
       "Re-processing of secondary preciuos metals into new preciuos metals                  7.579170e-11\n",
       "Manure treatment (conventional), storage and land application                        0.000000e+00\n",
       "Manure treatment (biogas), storage and land application                              0.000000e+00\n",
       "Extra-territorial organizations and bodies                                           0.000000e+00\n",
       "Name: Domestic Extraction Used - Metal Ores - Iron ores, Length: 163, dtype: float64"
      ]
     },
     "execution_count": 86,
     "metadata": {},
     "output_type": "execute_result"
    }
   ],
   "source": [
    "io.satellite.D_cba.loc['Domestic Extraction Used - Metal Ores - Iron ores']['SE'].sort_values(ascending=False)"
   ]
  },
  {
   "cell_type": "code",
   "execution_count": 87,
   "metadata": {},
   "outputs": [
    {
     "data": {
      "text/plain": [
       "<Axes: >"
      ]
     },
     "execution_count": 87,
     "metadata": {},
     "output_type": "execute_result"
    },
    {
     "data": {
      "image/png": "[encoded data removed]",
      "text/plain": [
       "<Figure size 2000x500 with 1 Axes>"
      ]
     },
     "metadata": {},
     "output_type": "display_data"
    }
   ],
   "source": [
    "empreinte_fer.sort_values(ascending=False).plot.bar(figsize=(20,5))"
   ]
  },
  {
   "cell_type": "code",
   "execution_count": 88,
   "metadata": {},
   "outputs": [
    {
     "data": {
      "text/plain": [
       "<Axes: ylabel='Émissions de GES, 2019, Mt CO2 eq.'>"
      ]
     },
     "execution_count": 88,
     "metadata": {},
     "output_type": "execute_result"
    },
    {
     "data": {
      "image/png": "[encoded data removed]",
      "text/plain": [
       "<Figure size 2000x500 with 1 Axes>"
      ]
     },
     "metadata": {},
     "output_type": "display_data"
    }
   ],
   "source": [
    "emissions_GES_empreinte = GWP_to_use.dot(io.satellite.D_cba_reg)*1e-9\n",
    "\n",
    "emissions_GES_empreinte.sort_values(ascending=False).plot(kind='bar', figsize=(20,5), ylabel='Émissions de GES, 2019, Mt CO2 eq.')"
   ]
  },
  {
   "cell_type": "markdown",
   "metadata": {},
   "source": [
    "Empreinte carbone de la France en 2019, en Mt CO2 eq."
   ]
  },
  {
   "cell_type": "code",
   "execution_count": 89,
   "metadata": {},
   "outputs": [
    {
     "data": {
      "text/plain": [
       "625.476253384229"
      ]
     },
     "execution_count": 89,
     "metadata": {},
     "output_type": "execute_result"
    }
   ],
   "source": [
    "(emissions_GES_empreinte + emissions_GES_finales)['FR']"
   ]
  },
  {
   "cell_type": "markdown",
   "metadata": {},
   "source": [
    "### Comparaison émissions territoriale/empreinte"
   ]
  },
  {
   "cell_type": "code",
   "execution_count": 90,
   "metadata": {},
   "outputs": [],
   "source": [
    "comp = pd.concat([(emissions_GES_inventaire + emissions_GES_finales),\n",
    "           (emissions_GES_empreinte + emissions_GES_finales)],\n",
    "          keys=('Inventaire national','Empreinte'),\n",
    "          axis=1).sort_values(by='Empreinte')"
   ]
  },
  {
   "cell_type": "code",
   "execution_count": 91,
   "metadata": {},
   "outputs": [
    {
     "data": {
      "image/png": "[encoded data removed]",
      "text/plain": [
       "<Figure size 1000x2000 with 1 Axes>"
      ]
     },
     "metadata": {},
     "output_type": "display_data"
    }
   ],
   "source": [
    "ax = comp.plot(kind='barh', figsize=(10,20), title='Émissions de GES, 2019, Mt CO2 eq.', width=0.7)\n",
    "\n",
    "for p in ax.patches:\n",
    "    ax.annotate(f'{p.get_width():.0f}', (p.get_width()+200, p.get_y()), fontsize=8)"
   ]
  },
  {
   "cell_type": "markdown",
   "metadata": {},
   "source": [
    "## Idées d'exercices\n",
    "\n",
    "2021\n",
    "Groupe S7: Questions \"données\"\n",
    "- Depuis quels principaux pays la France importe-t-elle son empreinte carbone ?\n",
    "- Quels secteurs de l'économie importent le plus ? le moins ?\n",
    "- Quels sont les postes principaux d'émissions des ménages ?\n",
    "\n",
    "Groupe S8: Questions \"méthodes\"\n",
    "- D'autres sources d'empreinte existent, notamment: \n",
    "    - Eora database https://worldmrio.com/\n",
    "    - Global Carbon Project https://doi.org/10.5194/essd-12-3269-2020\n",
    "    - Calculs du SDES https://www.statistiques.developpement-durable.gouv.fr/sites/default/files/2020-12/datalab_81_chiffres_cles_du_climat_edition_2021.pdf?page=44\n",
    "    ...en quoi ces sources diffèrent-elles ?\n",
    "- Quels sont les intérêts de la méthode \"inventaire national\", et de la méthode \"empreinte carbone\" ? Pouvez-vous imaginer d'autres méthodes de comptabilité \"hybrides\" ?\n",
    "\n",
    "2023\n",
    "Groupe 25: top-down vs. bottom-up\n",
    "- L'approche décrite ici calcule les impacts à partir du total des émissions, réallouées aux secteurs qui satisfont une demande spécifique, mais on peut aussi faire l'inverse en calculant l'impact d'un secteur (e.g. automobile) en calculant la somme des impacts de la production de tous ses produits sur une année (e.g. le nombre de voitures produites * l'impact d'une voiture) – devons-nous nous attendre à des résultats différents ? si oui pourquoi ?\n",
    "- Trouver un secteur pertinent pour cet exemple : électricité ?\n",
    "\n",
    "Groupe 26: inventaire vs. empreinte\n",
    "- Quels sont les intérêts de la méthode \"inventaire national\", et de la méthode \"empreinte carbone\" ?\n",
    "- Pourquoi la méthode \"empreinte\" n'est pas appliquée dans la comptabilité environnementale internationale ?\n",
    "- Pouvez-vous imaginer d'autres méthodes ? On peut penser au fait que certains pays produisent de manière \"plus propre\" que d'autres, ce qui pourrait justifier un surplus d'émissions ?"
   ]
  },
  {
   "cell_type": "code",
   "execution_count": 92,
   "metadata": {},
   "outputs": [
    {
     "data": {
      "text/plain": [
       "1.1736670944481151"
      ]
     },
     "execution_count": 92,
     "metadata": {},
     "output_type": "execute_result"
    }
   ],
   "source": [
    "GWP_to_use.dot(io.satellite.F_Y['LU']).sum()*1e-9"
   ]
  },
  {
   "cell_type": "code",
   "execution_count": 93,
   "metadata": {},
   "outputs": [
    {
     "data": {
      "text/plain": [
       "13.455265952407563"
      ]
     },
     "execution_count": 93,
     "metadata": {},
     "output_type": "execute_result"
    }
   ],
   "source": [
    "GWP_to_use.dot(io.satellite.D_imp_reg['LU'])*1e-9"
   ]
  },
  {
   "cell_type": "code",
   "execution_count": 94,
   "metadata": {},
   "outputs": [
    {
     "data": {
      "text/plain": [
       "8.173120573698675"
      ]
     },
     "execution_count": 94,
     "metadata": {},
     "output_type": "execute_result"
    }
   ],
   "source": [
    "GWP_to_use.dot(io.satellite.D_exp_reg['LU'])*1e-9"
   ]
  },
  {
   "cell_type": "code",
   "execution_count": 95,
   "metadata": {},
   "outputs": [
    {
     "data": {
      "text/plain": [
       "10.796438638642435"
      ]
     },
     "execution_count": 95,
     "metadata": {},
     "output_type": "execute_result"
    }
   ],
   "source": [
    "GWP_to_use.dot(io.satellite.D_pba_reg['LU'])*1e-9"
   ]
  },
  {
   "cell_type": "code",
   "execution_count": 96,
   "metadata": {},
   "outputs": [
    {
     "data": {
      "text/plain": [
       "16.07858401735344"
      ]
     },
     "execution_count": 96,
     "metadata": {},
     "output_type": "execute_result"
    }
   ],
   "source": [
    "GWP_to_use.dot(io.satellite.D_cba_reg['LU'])*1e-9"
   ]
  },
  {
   "cell_type": "code",
   "execution_count": 97,
   "metadata": {},
   "outputs": [
    {
     "data": {
      "text/plain": [
       "17.252251111801556"
      ]
     },
     "execution_count": 97,
     "metadata": {},
     "output_type": "execute_result"
    }
   ],
   "source": [
    "GWP_to_use.dot(io.satellite.D_cba_reg['LU'])*1e-9 + GWP_to_use.dot(io.satellite.F_Y['LU']).sum()*1e-9"
   ]
  },
  {
   "cell_type": "code",
   "execution_count": 98,
   "metadata": {},
   "outputs": [
    {
     "data": {
      "text/plain": [
       "stressor\n",
       "CO2 - combustion - air                                               9.412468e+09\n",
       "CH4 - agriculture - air                                              1.016704e+10\n",
       "CO2 - non combustion - Cement production - air                       1.049875e+10\n",
       "N2O - agriculture - air                                              1.076163e+10\n",
       "CH4 - combustion - air                                               1.079644e+10\n",
       "                                                                         ...     \n",
       "TSP - non combustion - Copper ores and concentrates - air            1.079644e+10\n",
       "TSP - non combustion - Fertilizer production (N-fertilizer) - air    1.079644e+10\n",
       "TSP - non combustion - Glass production - air                        1.079644e+10\n",
       "TSP - non combustion - Gold ores and concentrates - air              1.079644e+10\n",
       "Energy Carrier Net LOSS                                              1.079644e+10\n",
       "Length: 1113, dtype: float64"
      ]
     },
     "execution_count": 98,
     "metadata": {},
     "output_type": "execute_result"
    }
   ],
   "source": [
    "GWP_to_use.mul(io.satellite.D_pba_reg['LU']).sort_values(ascending=False).cumsum()"
   ]
  },
  {
   "cell_type": "code",
   "execution_count": 99,
   "metadata": {},
   "outputs": [],
   "source": [
    "solde_GES = (emissions_GES_empreinte - emissions_GES_inventaire)/emissions_GES_empreinte"
   ]
  },
  {
   "cell_type": "code",
   "execution_count": 100,
   "metadata": {},
   "outputs": [
    {
     "data": {
      "text/plain": [
       "<Axes: >"
      ]
     },
     "execution_count": 100,
     "metadata": {},
     "output_type": "execute_result"
    },
    {
     "data": {
      "image/png": "[encoded data removed]",
      "text/plain": [
       "<Figure size 1000x500 with 1 Axes>"
      ]
     },
     "metadata": {},
     "output_type": "display_data"
    }
   ],
   "source": [
    "solde_GES.sort_values(ascending=False).plot(kind='bar', figsize=(10,5))"
   ]
  },
  {
   "cell_type": "markdown",
   "metadata": {},
   "source": [
    "# Électricité"
   ]
  },
  {
   "cell_type": "code",
   "execution_count": 103,
   "metadata": {
    "tags": []
   },
   "outputs": [
    {
     "data": {
      "text/plain": [
       "['Cultivation of paddy rice',\n",
       " 'Cultivation of wheat',\n",
       " 'Cultivation of cereal grains nec',\n",
       " 'Cultivation of vegetables, fruit, nuts',\n",
       " 'Cultivation of oil seeds',\n",
       " 'Cultivation of sugar cane, sugar beet',\n",
       " 'Cultivation of plant-based fibers',\n",
       " 'Cultivation of crops nec',\n",
       " 'Cattle farming',\n",
       " 'Pigs farming',\n",
       " 'Poultry farming',\n",
       " 'Meat animals nec',\n",
       " 'Animal products nec',\n",
       " 'Raw milk',\n",
       " 'Wool, silk-worm cocoons',\n",
       " 'Manure treatment (conventional), storage and land application',\n",
       " 'Manure treatment (biogas), storage and land application',\n",
       " 'Forestry, logging and related service activities (02)',\n",
       " 'Fishing, operating of fish hatcheries and fish farms; service activities incidental to fishing (05)',\n",
       " 'Mining of coal and lignite; extraction of peat (10)',\n",
       " 'Extraction of crude petroleum and services related to crude oil extraction, excluding surveying',\n",
       " 'Extraction of natural gas and services related to natural gas extraction, excluding surveying',\n",
       " 'Extraction, liquefaction, and regasification of other petroleum and gaseous materials',\n",
       " 'Mining of uranium and thorium ores (12)',\n",
       " 'Mining of iron ores',\n",
       " 'Mining of copper ores and concentrates',\n",
       " 'Mining of nickel ores and concentrates',\n",
       " 'Mining of aluminium ores and concentrates',\n",
       " 'Mining of precious metal ores and concentrates',\n",
       " 'Mining of lead, zinc and tin ores and concentrates',\n",
       " 'Mining of other non-ferrous metal ores and concentrates',\n",
       " 'Quarrying of stone',\n",
       " 'Quarrying of sand and clay',\n",
       " 'Mining of chemical and fertilizer minerals, production of salt, other mining and quarrying n.e.c.',\n",
       " 'Processing of meat cattle',\n",
       " 'Processing of meat pigs',\n",
       " 'Processing of meat poultry',\n",
       " 'Production of meat products nec',\n",
       " 'Processing vegetable oils and fats',\n",
       " 'Processing of dairy products',\n",
       " 'Processed rice',\n",
       " 'Sugar refining',\n",
       " 'Processing of Food products nec',\n",
       " 'Manufacture of beverages',\n",
       " 'Manufacture of fish products',\n",
       " 'Manufacture of tobacco products (16)',\n",
       " 'Manufacture of textiles (17)',\n",
       " 'Manufacture of wearing apparel; dressing and dyeing of fur (18)',\n",
       " 'Tanning and dressing of leather; manufacture of luggage, handbags, saddlery, harness and footwear (19)',\n",
       " 'Manufacture of wood and of products of wood and cork, except furniture; manufacture of articles of straw and plaiting materials (20)',\n",
       " 'Re-processing of secondary wood material into new wood material',\n",
       " 'Pulp',\n",
       " 'Re-processing of secondary paper into new pulp',\n",
       " 'Paper',\n",
       " 'Publishing, printing and reproduction of recorded media (22)',\n",
       " 'Manufacture of coke oven products',\n",
       " 'Petroleum Refinery',\n",
       " 'Processing of nuclear fuel',\n",
       " 'Plastics, basic',\n",
       " 'Re-processing of secondary plastic into new plastic',\n",
       " 'N-fertiliser',\n",
       " 'P- and other fertiliser',\n",
       " 'Chemicals nec',\n",
       " 'Manufacture of rubber and plastic products (25)',\n",
       " 'Manufacture of glass and glass products',\n",
       " 'Re-processing of secondary glass into new glass',\n",
       " 'Manufacture of ceramic goods',\n",
       " 'Manufacture of bricks, tiles and construction products, in baked clay',\n",
       " 'Manufacture of cement, lime and plaster',\n",
       " 'Re-processing of ash into clinker',\n",
       " 'Manufacture of other non-metallic mineral products n.e.c.',\n",
       " 'Manufacture of basic iron and steel and of ferro-alloys and first products thereof',\n",
       " 'Re-processing of secondary steel into new steel',\n",
       " 'Precious metals production',\n",
       " 'Re-processing of secondary preciuos metals into new preciuos metals',\n",
       " 'Aluminium production',\n",
       " 'Re-processing of secondary aluminium into new aluminium',\n",
       " 'Lead, zinc and tin production',\n",
       " 'Re-processing of secondary lead into new lead, zinc and tin',\n",
       " 'Copper production',\n",
       " 'Re-processing of secondary copper into new copper',\n",
       " 'Other non-ferrous metal production',\n",
       " 'Re-processing of secondary other non-ferrous metals into new other non-ferrous metals',\n",
       " 'Casting of metals',\n",
       " 'Manufacture of fabricated metal products, except machinery and equipment (28)',\n",
       " 'Manufacture of machinery and equipment n.e.c. (29)',\n",
       " 'Manufacture of office machinery and computers (30)',\n",
       " 'Manufacture of electrical machinery and apparatus n.e.c. (31)',\n",
       " 'Manufacture of radio, television and communication equipment and apparatus (32)',\n",
       " 'Manufacture of medical, precision and optical instruments, watches and clocks (33)',\n",
       " 'Manufacture of motor vehicles, trailers and semi-trailers (34)',\n",
       " 'Manufacture of other transport equipment (35)',\n",
       " 'Manufacture of furniture; manufacturing n.e.c. (36)',\n",
       " 'Recycling of waste and scrap',\n",
       " 'Recycling of bottles by direct reuse',\n",
       " 'Production of electricity by coal',\n",
       " 'Production of electricity by gas',\n",
       " 'Production of electricity by nuclear',\n",
       " 'Production of electricity by hydro',\n",
       " 'Production of electricity by wind',\n",
       " 'Production of electricity by petroleum and other oil derivatives',\n",
       " 'Production of electricity by biomass and waste',\n",
       " 'Production of electricity by solar photovoltaic',\n",
       " 'Production of electricity by solar thermal',\n",
       " 'Production of electricity by tide, wave, ocean',\n",
       " 'Production of electricity by Geothermal',\n",
       " 'Production of electricity nec',\n",
       " 'Transmission of electricity',\n",
       " 'Distribution and trade of electricity',\n",
       " 'Manufacture of gas; distribution of gaseous fuels through mains',\n",
       " 'Steam and hot water supply',\n",
       " 'Collection, purification and distribution of water (41)',\n",
       " 'Construction (45)',\n",
       " 'Re-processing of secondary construction material into aggregates',\n",
       " 'Sale, maintenance, repair of motor vehicles, motor vehicles parts, motorcycles, motor cycles parts and accessoiries',\n",
       " 'Retail sale of automotive fuel',\n",
       " 'Wholesale trade and commission trade, except of motor vehicles and motorcycles (51)',\n",
       " 'Retail trade, except of motor vehicles and motorcycles; repair of personal and household goods (52)',\n",
       " 'Hotels and restaurants (55)',\n",
       " 'Transport via railways',\n",
       " 'Other land transport',\n",
       " 'Transport via pipelines',\n",
       " 'Sea and coastal water transport',\n",
       " 'Inland water transport',\n",
       " 'Air transport (62)',\n",
       " 'Supporting and auxiliary transport activities; activities of travel agencies (63)',\n",
       " 'Post and telecommunications (64)',\n",
       " 'Financial intermediation, except insurance and pension funding (65)',\n",
       " 'Insurance and pension funding, except compulsory social security (66)',\n",
       " 'Activities auxiliary to financial intermediation (67)',\n",
       " 'Real estate activities (70)',\n",
       " 'Renting of machinery and equipment without operator and of personal and household goods (71)',\n",
       " 'Computer and related activities (72)',\n",
       " 'Research and development (73)',\n",
       " 'Other business activities (74)',\n",
       " 'Public administration and defence; compulsory social security (75)',\n",
       " 'Education (80)',\n",
       " 'Health and social work (85)',\n",
       " 'Incineration of waste: Food',\n",
       " 'Incineration of waste: Paper',\n",
       " 'Incineration of waste: Plastic',\n",
       " 'Incineration of waste: Metals and Inert materials',\n",
       " 'Incineration of waste: Textiles',\n",
       " 'Incineration of waste: Wood',\n",
       " 'Incineration of waste: Oil/Hazardous waste',\n",
       " 'Biogasification of food waste, incl. land application',\n",
       " 'Biogasification of paper, incl. land application',\n",
       " 'Biogasification of sewage slugde, incl. land application',\n",
       " 'Composting of food waste, incl. land application',\n",
       " 'Composting of paper and wood, incl. land application',\n",
       " 'Waste water treatment, food',\n",
       " 'Waste water treatment, other',\n",
       " 'Landfill of waste: Food',\n",
       " 'Landfill of waste: Paper',\n",
       " 'Landfill of waste: Plastic',\n",
       " 'Landfill of waste: Inert/metal/hazardous',\n",
       " 'Landfill of waste: Textiles',\n",
       " 'Landfill of waste: Wood',\n",
       " 'Activities of membership organisation n.e.c. (91)',\n",
       " 'Recreational, cultural and sporting activities (92)',\n",
       " 'Other service activities (93)',\n",
       " 'Private households with employed persons (95)',\n",
       " 'Extra-territorial organizations and bodies']"
      ]
     },
     "execution_count": 103,
     "metadata": {},
     "output_type": "execute_result"
    }
   ],
   "source": [
    "list(io.get_sectors())"
   ]
  },
  {
   "cell_type": "code",
   "execution_count": 107,
   "metadata": {
    "tags": []
   },
   "outputs": [
    {
     "data": {
      "text/plain": [
       "impact\n",
       "Value Added                                                                                       7.933747e+01\n",
       "Employment                                                                                        5.482331e-01\n",
       "Employment hour                                                                                   7.780849e+05\n",
       "GHG emissions (GWP100) | Problem oriented approach: baseline (CML, 2001) | GWP100 (IPCC, 2007)    8.364990e+09\n",
       "Human toxicity (USEtox) | USEtox2008 | CTUh (Rosenbaum et al., 2008)                              1.470343e+02\n",
       "                                                                                                      ...     \n",
       "Unused Domestic Extraction - Oil and Gas                                                          0.000000e+00\n",
       "Unused Domestic Extraction - Non-metalic Minerals                                                 0.000000e+00\n",
       "Unused Domestic Extraction - Iron Ore                                                             0.000000e+00\n",
       "Unused Domestic Extraction - Non-ferous metal ores                                                0.000000e+00\n",
       "Land use Crop, Forest, Pasture                                                                    0.000000e+00\n",
       "Name: (FR, Production of electricity by coal), Length: 126, dtype: float64"
      ]
     },
     "execution_count": 107,
     "metadata": {},
     "output_type": "execute_result"
    }
   ],
   "source": [
    "io.impacts.F[('FR','Production of electricity by coal')]"
   ]
  },
  {
   "cell_type": "code",
   "execution_count": 108,
   "metadata": {
    "tags": []
   },
   "outputs": [
    {
     "data": {
      "text/plain": [
       "impact\n",
       "Value Added                                                                                       1.000000e+00\n",
       "Employment                                                                                        1.622573e-02\n",
       "Employment hour                                                                                   3.036011e+04\n",
       "GHG emissions (GWP100) | Problem oriented approach: baseline (CML, 2001) | GWP100 (IPCC, 2007)    4.722912e+06\n",
       "Human toxicity (USEtox) | USEtox2008 | CTUh (Rosenbaum et al., 2008)                              2.478536e-01\n",
       "                                                                                                      ...     \n",
       "Unused Domestic Extraction - Oil and Gas                                                          8.988429e-03\n",
       "Unused Domestic Extraction - Non-metalic Minerals                                                 2.729035e-02\n",
       "Unused Domestic Extraction - Iron Ore                                                             1.440114e-02\n",
       "Unused Domestic Extraction - Non-ferous metal ores                                                4.112186e-02\n",
       "Land use Crop, Forest, Pasture                                                                    2.344038e-01\n",
       "Name: (FR, Production of electricity by coal), Length: 126, dtype: float64"
      ]
     },
     "execution_count": 108,
     "metadata": {},
     "output_type": "execute_result"
    }
   ],
   "source": [
    "io.impacts.M[('FR','Production of electricity by coal')]"
   ]
  },
  {
   "cell_type": "code",
   "execution_count": 113,
   "metadata": {
    "tags": []
   },
   "outputs": [
    {
     "data": {
      "text/plain": [
       "925.6401375831044"
      ]
     },
     "execution_count": 113,
     "metadata": {},
     "output_type": "execute_result"
    }
   ],
   "source": [
    "io.Y.loc[('FR','Production of electricity by coal')].sum()"
   ]
  },
  {
   "cell_type": "code",
   "execution_count": 116,
   "metadata": {
    "tags": []
   },
   "outputs": [
    {
     "data": {
      "text/plain": [
       "impact\n",
       "Value Added                                                                                       7.933747e+01\n",
       "Employment                                                                                        5.482331e-01\n",
       "Employment hour                                                                                   7.780849e+05\n",
       "GHG emissions (GWP100) | Problem oriented approach: baseline (CML, 2001) | GWP100 (IPCC, 2007)    8.364990e+09\n",
       "Human toxicity (USEtox) | USEtox2008 | CTUh (Rosenbaum et al., 2008)                              1.470343e+02\n",
       "                                                                                                      ...     \n",
       "Unused Domestic Extraction - Oil and Gas                                                          0.000000e+00\n",
       "Unused Domestic Extraction - Non-metalic Minerals                                                 0.000000e+00\n",
       "Unused Domestic Extraction - Iron Ore                                                             0.000000e+00\n",
       "Unused Domestic Extraction - Non-ferous metal ores                                                0.000000e+00\n",
       "Land use Crop, Forest, Pasture                                                                    0.000000e+00\n",
       "Name: (FR, Production of electricity by coal), Length: 126, dtype: float64"
      ]
     },
     "execution_count": 116,
     "metadata": {},
     "output_type": "execute_result"
    }
   ],
   "source": [
    "io.impacts.D_pba[('FR','Production of electricity by coal')]"
   ]
  },
  {
   "cell_type": "code",
   "execution_count": 115,
   "metadata": {
    "tags": []
   },
   "outputs": [
    {
     "data": {
      "text/plain": [
       "impact\n",
       "Value Added                                                                                       9.163589e+02\n",
       "Employment                                                                                        1.519397e+01\n",
       "Employment hour                                                                                   2.858610e+07\n",
       "GHG emissions (GWP100) | Problem oriented approach: baseline (CML, 2001) | GWP100 (IPCC, 2007)    4.430916e+09\n",
       "Human toxicity (USEtox) | USEtox2008 | CTUh (Rosenbaum et al., 2008)                              2.394855e+02\n",
       "                                                                                                      ...     \n",
       "Unused Domestic Extraction - Oil and Gas                                                          8.525130e+00\n",
       "Unused Domestic Extraction - Non-metalic Minerals                                                 2.561317e+01\n",
       "Unused Domestic Extraction - Iron Ore                                                             1.329370e+01\n",
       "Unused Domestic Extraction - Non-ferous metal ores                                                3.821172e+01\n",
       "Land use Crop, Forest, Pasture                                                                    2.203960e+02\n",
       "Name: (FR, Production of electricity by coal), Length: 126, dtype: float64"
      ]
     },
     "execution_count": 115,
     "metadata": {},
     "output_type": "execute_result"
    }
   ],
   "source": [
    "io.impacts.D_cba[('FR','Production of electricity by coal')]"
   ]
  },
  {
   "cell_type": "code",
   "execution_count": 119,
   "metadata": {
    "tags": []
   },
   "outputs": [
    {
     "data": {
      "text/plain": [
       "indout    2233.631643\n",
       "Name: (FR, Production of electricity by coal), dtype: float64"
      ]
     },
     "execution_count": 119,
     "metadata": {},
     "output_type": "execute_result"
    }
   ],
   "source": [
    "io.x.loc[('FR','Production of electricity by coal')]"
   ]
  },
  {
   "cell_type": "code",
   "execution_count": 121,
   "metadata": {
    "tags": []
   },
   "outputs": [
    {
     "data": {
      "text/plain": [
       "impact\n",
       "Value Added                                                                                       2.233632e+03\n",
       "Employment                                                                                        3.624230e+01\n",
       "Employment hour                                                                                   6.781330e+07\n",
       "GHG emissions (GWP100) | Problem oriented approach: baseline (CML, 2001) | GWP100 (IPCC, 2007)    1.054925e+10\n",
       "Human toxicity (USEtox) | USEtox2008 | CTUh (Rosenbaum et al., 2008)                              5.536137e+02\n",
       "                                                                                                      ...     \n",
       "Unused Domestic Extraction - Oil and Gas                                                          2.007684e+01\n",
       "Unused Domestic Extraction - Non-metalic Minerals                                                 6.095659e+01\n",
       "Unused Domestic Extraction - Iron Ore                                                             3.216684e+01\n",
       "Unused Domestic Extraction - Non-ferous metal ores                                                9.185110e+01\n",
       "Land use Crop, Forest, Pasture                                                                    5.235717e+02\n",
       "Name: (FR, Production of electricity by coal), Length: 126, dtype: float64"
      ]
     },
     "execution_count": 121,
     "metadata": {},
     "output_type": "execute_result"
    }
   ],
   "source": [
    "io.impacts.M[('FR','Production of electricity by coal')] * io.x.loc[('FR','Production of electricity by coal')].values"
   ]
  },
  {
   "cell_type": "markdown",
   "metadata": {},
   "source": [
    "# Empreinte vs. émissions territoriales"
   ]
  },
  {
   "cell_type": "code",
   "execution_count": 125,
   "metadata": {
    "tags": []
   },
   "outputs": [
    {
     "data": {
      "text/plain": [
       "impact\n",
       "Value Added                                                                                       5.333043e+05\n",
       "Employment                                                                                        5.862916e+03\n",
       "Employment hour                                                                                   9.069631e+09\n",
       "GHG emissions (GWP100) | Problem oriented approach: baseline (CML, 2001) | GWP100 (IPCC, 2007)    1.304833e+11\n",
       "Human toxicity (USEtox) | USEtox2008 | CTUh (Rosenbaum et al., 2008)                              6.478620e+04\n",
       "                                                                                                      ...     \n",
       "Unused Domestic Extraction - Oil and Gas                                                          4.760942e+01\n",
       "Unused Domestic Extraction - Non-metalic Minerals                                                 1.730489e+04\n",
       "Unused Domestic Extraction - Iron Ore                                                             0.000000e+00\n",
       "Unused Domestic Extraction - Non-ferous metal ores                                                0.000000e+00\n",
       "Land use Crop, Forest, Pasture                                                                    1.612939e+05\n",
       "Name: FR, Length: 126, dtype: float64"
      ]
     },
     "execution_count": 125,
     "metadata": {},
     "output_type": "execute_result"
    }
   ],
   "source": [
    "io.impacts.D_exp_reg['FR']"
   ]
  },
  {
   "cell_type": "code",
   "execution_count": 128,
   "metadata": {
    "tags": []
   },
   "outputs": [
    {
     "data": {
      "text/plain": [
       "sector\n",
       "Extra-territorial organizations and bodies        0.000000e+00\n",
       "Mining of precious metal ores and concentrates    0.000000e+00\n",
       "Mining of nickel ores and concentrates            0.000000e+00\n",
       "Mining of copper ores and concentrates            0.000000e+00\n",
       "Mining of iron ores                               0.000000e+00\n",
       "                                                      ...     \n",
       "Transport via pipelines                           5.048821e+09\n",
       "Sea and coastal water transport                   7.264386e+09\n",
       "Raw milk                                          8.360580e+09\n",
       "Cattle farming                                    1.270223e+10\n",
       "Air transport (62)                                1.386642e+10\n",
       "Name: GHG emissions (GWP100) | Problem oriented approach: baseline (CML, 2001) | GWP100 (IPCC, 2007), Length: 163, dtype: float64"
      ]
     },
     "execution_count": 128,
     "metadata": {},
     "output_type": "execute_result"
    }
   ],
   "source": [
    "io.impacts.D_exp['FR'].loc['GHG emissions (GWP100) | Problem oriented approach: baseline (CML, 2001) | GWP100 (IPCC, 2007)'].sort_values()"
   ]
  },
  {
   "cell_type": "code",
   "execution_count": 134,
   "metadata": {
    "tags": []
   },
   "outputs": [
    {
     "data": {
      "text/plain": [
       "sector\n",
       "Air transport (62)                                                                               1.364860e+10\n",
       "Sea and coastal water transport                                                                  7.232958e+09\n",
       "Transport via pipelines                                                                          4.989219e+09\n",
       "Supporting and auxiliary transport activities; activities of travel agencies (63)                4.582259e+09\n",
       "Transport via railways                                                                           4.289161e+09\n",
       "Petroleum Refinery                                                                               3.393312e+09\n",
       "Manufacture of basic iron and steel and of ferro-alloys and first products thereof               3.337003e+09\n",
       "Recycling of bottles by direct reuse                                                             3.161907e+09\n",
       "Chemicals nec                                                                                    2.575671e+09\n",
       "Extraction of natural gas and services related to natural gas extraction, excluding surveying    1.873905e+09\n",
       "Manufacture of gas; distribution of gaseous fuels through mains                                  1.840314e+09\n",
       "Cultivation of wheat                                                                             1.675406e+09\n",
       "Manufacture of medical, precision and optical instruments, watches and clocks (33)               1.465727e+09\n",
       "Production of electricity by coal                                                                1.295192e+09\n",
       "Processing of Food products nec                                                                  1.173160e+09\n",
       "Manufacture of beverages                                                                         1.165948e+09\n",
       "Production of electricity by gas                                                                 1.066808e+09\n",
       "Other business activities (74)                                                                   1.049648e+09\n",
       "Manufacture of furniture; manufacturing n.e.c. (36)                                              9.584026e+08\n",
       "Steam and hot water supply                                                                       9.038766e+08\n",
       "Name: CO2 - combustion - air, dtype: float64"
      ]
     },
     "execution_count": 134,
     "metadata": {},
     "output_type": "execute_result"
    }
   ],
   "source": [
    "io.satellite.D_exp['FR'].loc['CO2 - combustion - air'].nlargest(20)"
   ]
  },
  {
   "cell_type": "code",
   "execution_count": null,
   "metadata": {},
   "outputs": [],
   "source": []
  }
 ],
 "metadata": {
  "kernelspec": {
   "display_name": "Python 3 (ipykernel)",
   "language": "python",
   "name": "python3"
  },
  "language_info": {
   "codemirror_mode": {
    "name": "ipython",
    "version": 3
   },
   "file_extension": ".py",
   "mimetype": "text/x-python",
   "name": "python",
   "nbconvert_exporter": "python",
   "pygments_lexer": "ipython3",
   "version": "3.11.0"
  }
 },
 "nbformat": 4,
 "nbformat_minor": 4
}
