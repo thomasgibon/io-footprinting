{
 "cells": [
  {
   "cell_type": "markdown",
   "metadata": {},
   "source": [
    "Calcul de l'empreinte carbone du secteur de l'énergie solaire (photovoltaïque)."
   ]
  },
  {
   "cell_type": "code",
   "execution_count": 5,
   "metadata": {},
   "outputs": [
    {
     "name": "stderr",
     "output_type": "stream",
     "text": [
      "/opt/miniconda3/lib/python3.12/site-packages/pymrio/core/mriosystem.py:900: FutureWarning: DataFrame.groupby with axis=1 is deprecated. Do `frame.T.groupby(...)` without axis instead.\n",
      "  Y_agg = Y.groupby(level=\"region\", axis=1, sort=False).sum()\n",
      "/opt/miniconda3/lib/python3.12/site-packages/pymrio/core/mriosystem.py:956: FutureWarning: DataFrame.groupby with axis=1 is deprecated. Do `frame.T.groupby(...)` without axis instead.\n",
      "  F_Y_agg = self.F_Y.groupby(level=\"region\", axis=1, sort=False).sum()\n",
      "/opt/miniconda3/lib/python3.12/site-packages/pymrio/core/mriosystem.py:900: FutureWarning: DataFrame.groupby with axis=1 is deprecated. Do `frame.T.groupby(...)` without axis instead.\n",
      "  Y_agg = Y.groupby(level=\"region\", axis=1, sort=False).sum()\n",
      "/opt/miniconda3/lib/python3.12/site-packages/pymrio/core/mriosystem.py:956: FutureWarning: DataFrame.groupby with axis=1 is deprecated. Do `frame.T.groupby(...)` without axis instead.\n",
      "  F_Y_agg = self.F_Y.groupby(level=\"region\", axis=1, sort=False).sum()\n"
     ]
    },
    {
     "data": {
      "text/plain": [
       "<pymrio.core.mriosystem.IOSystem at 0x133971b20>"
      ]
     },
     "execution_count": 5,
     "metadata": {},
     "output_type": "execute_result"
    }
   ],
   "source": [
    "import pymrio as mr\n",
    "import pandas as pd\n",
    "import numpy as np\n",
    "import matplotlib\n",
    "import matplotlib.pyplot as plt\n",
    "import os\n",
    "import pickle\n",
    "\n",
    "doi = '10.5281/zenodo.5589597'\n",
    "EXIOBASE_PATH = '/Users/martin/Documents/travail/miniprojet/EXIOBASE/'\n",
    "year = 2019\n",
    "filename = EXIOBASE_PATH+'IOT_{}_ixi.zip'.format(year)\n",
    "\n",
    "io = mr.parse_exiobase3(path=filename)\n",
    "\n",
    "population = pd.read_csv(EXIOBASE_PATH+'exiobase_population.txt',sep='\\t',index_col=0)\n",
    "io.population=pd.DataFrame(columns=['population'], data=population.loc[year].values, index=population.columns).T\n",
    "\n",
    "io.calc_all()"
   ]
  },
  {
   "cell_type": "markdown",
   "metadata": {},
   "source": [
    "Calcul de la production photovoltaïque française."
   ]
  },
  {
   "cell_type": "code",
   "execution_count": 3,
   "metadata": {},
   "outputs": [
    {
     "data": {
      "text/plain": [
       "indout    35.435103\n",
       "Name: (FR, Production of electricity by solar photovoltaic), dtype: float64"
      ]
     },
     "execution_count": 3,
     "metadata": {},
     "output_type": "execute_result"
    }
   ],
   "source": [
    "io.x.loc['FR','Production of electricity by solar photovoltaic']"
   ]
  },
  {
   "cell_type": "markdown",
   "metadata": {},
   "source": [
    "35,4M € ont été produits par le solaire en 2019."
   ]
  },
  {
   "cell_type": "code",
   "execution_count": 8,
   "metadata": {},
   "outputs": [
    {
     "data": {
      "text/plain": [
       "region  sector                                                                                             \n",
       "FR      Wholesale trade and commission trade, except of motor vehicles and motorcycles (51)                    14.235806\n",
       "        Retail trade, except of motor vehicles and motorcycles; repair of personal and household goods (52)    10.117219\n",
       "        Sea and coastal water transport                                                                         0.394177\n",
       "        Transport via pipelines                                                                                 0.371194\n",
       "        Retail sale of automotive fuel                                                                          0.291439\n",
       "Name: (FR, Production of electricity by solar photovoltaic), dtype: float64"
      ]
     },
     "execution_count": 8,
     "metadata": {},
     "output_type": "execute_result"
    }
   ],
   "source": [
    "purchases = io.Z['FR','Production of electricity by solar photovoltaic'].sort_values(ascending=False)\n",
    "purchases.head()"
   ]
  },
  {
   "cell_type": "code",
   "execution_count": null,
   "metadata": {},
   "outputs": [
    {
     "data": {
      "text/plain": [
       "29.47355737463697"
      ]
     },
     "execution_count": 6,
     "metadata": {},
     "output_type": "execute_result"
    }
   ],
   "source": [
    "purchases.sum()"
   ]
  },
  {
   "cell_type": "markdown",
   "metadata": {},
   "source": [
    "Le secteur achète 29.47 M€ d'équipements/services (wholesale = vente de gros = producteurs, et retail = vente de détail = particuliers). Majorité provenant du commerce."
   ]
  },
  {
   "cell_type": "code",
   "execution_count": null,
   "metadata": {},
   "outputs": [],
   "source": [
    "index = ((slice(None),'Wholesale trade and commission trade, except of motor vehicles and motorcycles (51)'),\n",
    "         ('FR','Production of electricity by solar photovoltaic'))"
   ]
  },
  {
   "cell_type": "code",
   "execution_count": null,
   "metadata": {},
   "outputs": [],
   "source": [
    "direct = io.A.loc[index].sort_values(ascending=False).head()\n",
    "direct_indirect = io.L.loc[index].sort_values(ascending=False).head()\n",
    "indirect = (direct_indirect - direct)"
   ]
  },
  {
   "cell_type": "code",
   "execution_count": null,
   "metadata": {},
   "outputs": [
    {
     "data": {
      "text/plain": [
       "<Axes: xlabel='region'>"
      ]
     },
     "execution_count": 13,
     "metadata": {},
     "output_type": "execute_result"
    },
    {
     "data": {
      "image/png": "[encoded data removed]",
      "text/plain": [
       "<Figure size 400x300 with 1 Axes>"
      ]
     },
     "metadata": {},
     "output_type": "display_data"
    }
   ],
   "source": [
    "pd.concat([direct,indirect],axis=1,keys=('direct','indirect')).sort_values(by='direct',ascending=False).head().droplevel(1).plot(kind='bar',stacked=True,figsize=(4,3))"
   ]
  },
  {
   "cell_type": "markdown",
   "metadata": {},
   "source": [
    "Parmi les dépenses principales du secteur, on a l'achat de gros. La production solaire achète principalement en France, avec 0,40€ de dépenses directes par euro produit mais aussi 0,60€ de dépenses indirectes versées aux grossistes. "
   ]
  },
  {
   "cell_type": "markdown",
   "metadata": {},
   "source": [
    "Voir http://www.energies-renouvelables.org/observ-er/etudes/Observ-ER-Etude-2019-marche-photovoltaique-2018-20201127.pdf pour les prix moyens d'installation en 2019."
   ]
  },
  {
   "cell_type": "markdown",
   "metadata": {},
   "source": [
    "La puissance du parc solaire photovoltaïque atteint 9,9 GW, fin décembre 2019. https://www.statistiques.developpement-durable.gouv.fr/tableau-de-bord-solaire-photovoltaique-quatrieme-trimestre-2019"
   ]
  },
  {
   "cell_type": "code",
   "execution_count": 13,
   "metadata": {},
   "outputs": [
    {
     "data": {
      "text/plain": [
       "stressor\n",
       "Taxes less subsidies on products purchased: Total                                                2.688425e-02\n",
       "Other net taxes on production                                                                    1.723229e-03\n",
       "Compensation of employees; wages, salaries, & employers' social contributions: Low-skilled       1.156455e-04\n",
       "Compensation of employees; wages, salaries, & employers' social contributions: Medium-skilled    1.691970e-03\n",
       "Compensation of employees; wages, salaries, & employers' social contributions: High-skilled      3.599038e-03\n",
       "Operating surplus: Consumption of fixed capital                                                  5.893079e+00\n",
       "Operating surplus: Rents on land                                                                 0.000000e+00\n",
       "Operating surplus: Royalties on resources                                                        0.000000e+00\n",
       "Operating surplus: Remaining net operating surplus                                               3.445237e-02\n",
       "Employment: Low-skilled male                                                                     1.737425e-03\n",
       "Employment: Low-skilled female                                                                   8.070387e-04\n",
       "Employment: Medium-skilled male                                                                  2.334192e-02\n",
       "Employment: Medium-skilled female                                                                8.608413e-03\n",
       "Employment: High-skilled male                                                                    3.338877e-02\n",
       "Employment: High-skilled female                                                                  1.143305e-02\n",
       "Employment hours: Low-skilled male                                                               2.465856e-03\n",
       "Employment hours: Low-skilled female                                                             1.145397e-03\n",
       "Employment hours: Medium-skilled male                                                            3.312824e-02\n",
       "Employment hours: Medium-skilled female                                                          1.221757e-02\n",
       "Employment hours: High-skilled male                                                              4.738732e-02\n",
       "Employment hours: High-skilled female                                                            1.622646e-02\n",
       "Employment: Vulnerable employment                                                                5.875305e-04\n",
       "Employment hours: Vulnerable employment                                                          1.116308e-03\n",
       "CO2 - combustion - air                                                                           1.616879e+07\n",
       "CH4 - combustion - air                                                                           1.668508e+03\n",
       "N2O - combustion - air                                                                           2.716448e+03\n",
       "SOx - combustion - air                                                                           1.227621e+03\n",
       "NOx - combustion - air                                                                           3.801574e+05\n",
       "NH3 - combustion - air                                                                           1.338218e+03\n",
       "CO - combustion - air                                                                            1.341770e+05\n",
       "Name: (FR, Production of electricity by solar photovoltaic), dtype: float64"
      ]
     },
     "execution_count": 13,
     "metadata": {},
     "output_type": "execute_result"
    }
   ],
   "source": [
    "impact = io.satellite.F['FR','Production of electricity by solar photovoltaic'].head(30)\n",
    "impact # Impact/émissions directs de la production de photov. en France sur l'année.\n",
    "\n",
    "# impact = io.satellite.S['FR','Production of electricity by solar photovoltaic'].head(30) Par million d'euros."
   ]
  },
  {
   "cell_type": "markdown",
   "metadata": {},
   "source": [
    "Regarder la table et se demander ce qu'on pourrait gagner à ramener la production de panneaux photovoltaïques en France.\n",
    "\n",
    "Matrice Z: tout ce qui est produit et consommé sur une année\n",
    "Matrice F : tout ce qui est consommé à partir d'autre chose que l'économie annuelle. Approvisionnement à partir de ressources, provient du bâti (eg. gross fixed capital) et masse salariale."
   ]
  },
  {
   "cell_type": "code",
   "execution_count": 11,
   "metadata": {},
   "outputs": [
    {
     "data": {
      "text/plain": [
       "stressor\n",
       "Taxes less subsidies on products purchased: Total                                                6.836523e-03\n",
       "Other net taxes on production                                                                    1.943110e-03\n",
       "Compensation of employees; wages, salaries, & employers' social contributions: Low-skilled       2.887755e-03\n",
       "Compensation of employees; wages, salaries, & employers' social contributions: Medium-skilled    1.860910e-02\n",
       "Compensation of employees; wages, salaries, & employers' social contributions: High-skilled      1.096635e-02\n",
       "Operating surplus: Consumption of fixed capital                                                  2.357188e-01\n",
       "Operating surplus: Rents on land                                                                 0.000000e+00\n",
       "Operating surplus: Royalties on resources                                                        0.000000e+00\n",
       "Operating surplus: Remaining net operating surplus                                               2.507674e-02\n",
       "Employment: Low-skilled male                                                                     8.886637e-03\n",
       "Employment: Low-skilled female                                                                   2.750724e-03\n",
       "Employment: Medium-skilled male                                                                  4.946580e-02\n",
       "Employment: Medium-skilled female                                                                1.225267e-02\n",
       "Employment: High-skilled male                                                                    2.378061e-02\n",
       "Employment: High-skilled female                                                                  5.419417e-03\n",
       "Employment hours: Low-skilled male                                                               1.963946e-02\n",
       "Employment hours: Low-skilled female                                                             6.051446e-03\n",
       "Employment hours: Medium-skilled male                                                            1.089907e-01\n",
       "Employment hours: Medium-skilled female                                                          2.684030e-02\n",
       "Employment hours: High-skilled male                                                              5.238083e-02\n",
       "Employment hours: High-skilled female                                                            1.191071e-02\n",
       "Employment: Vulnerable employment                                                                1.225289e-02\n",
       "Employment hours: Vulnerable employment                                                          2.706644e-02\n",
       "CO2 - combustion - air                                                                           1.134164e+06\n",
       "CH4 - combustion - air                                                                           4.561339e+01\n",
       "N2O - combustion - air                                                                           2.710726e+01\n",
       "SOx - combustion - air                                                                           1.572591e+02\n",
       "NOx - combustion - air                                                                           7.132515e+03\n",
       "NH3 - combustion - air                                                                           4.206515e+01\n",
       "CO - combustion - air                                                                            3.519945e+03\n",
       "Name: (FR, Production of electricity by solar photovoltaic), dtype: float64"
      ]
     },
     "execution_count": 11,
     "metadata": {},
     "output_type": "execute_result"
    }
   ],
   "source": [
    "impact2 = io.satellite.D_cba['FR','Production of electricity by solar photovoltaic'].head(30) # consumption-based account\n",
    "impact2 # Émissions sur le cylce de vie de la production totale de photovoltaïque en France de ce qui est installé en 2019."
   ]
  },
  {
   "cell_type": "code",
   "execution_count": null,
   "metadata": {},
   "outputs": [],
   "source": []
  }
 ],
 "metadata": {
  "kernelspec": {
   "display_name": "Python 3 (ipykernel)",
   "language": "python",
   "name": "python3"
  },
  "language_info": {
   "codemirror_mode": {
    "name": "ipython",
    "version": 3
   },
   "file_extension": ".py",
   "mimetype": "text/x-python",
   "name": "python",
   "nbconvert_exporter": "python",
   "pygments_lexer": "ipython3",
   "version": "3.12.4"
  }
 },
 "nbformat": 4,
 "nbformat_minor": 4
}
