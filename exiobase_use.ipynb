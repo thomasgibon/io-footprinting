{
 "cells": [
  {
   "cell_type": "markdown",
   "metadata": {},
   "source": [
    "# Use of EXIOBASE3.8\n",
    "We will illustrate here the use of EXIOBASE by calculating EU GHG emissions from different perspectives.\n",
    "\n",
    "Some of these results are used in the \"Luxembourg in Transition\" report.\n",
    "\n",
    "Note: there is a bit of experimentation going on, for example the regionalization of the stressor matrix.\n",
    "\n",
    "<thomas.gibon@list.lu>\n",
    "\n",
    "Credit <maxime.agez@polymtl.ca> for the stressor extensions and characterization data"
   ]
  },
  {
   "cell_type": "code",
   "execution_count": 1,
   "metadata": {
    "scrolled": true
   },
   "outputs": [
    {
     "data": {
      "text/html": [
       "<style>.container { width:80% !important; }</style>"
      ],
      "text/plain": [
       "<IPython.core.display.HTML object>"
      ]
     },
     "metadata": {},
     "output_type": "display_data"
    }
   ],
   "source": [
    "# Let's get comfortable first\n",
    "from IPython.core.display import display, HTML\n",
    "display(HTML(\"<style>.container { width:80% !important; }</style>\"))"
   ]
  },
  {
   "cell_type": "code",
   "execution_count": 2,
   "metadata": {
    "scrolled": true
   },
   "outputs": [],
   "source": [
    "import pymrio as mr\n",
    "import pandas as pd\n",
    "import numpy as np\n",
    "from scipy.linalg import block_diag\n",
    "import seaborn as sns\n",
    "import matplotlib\n",
    "import matplotlib.pyplot as plt\n",
    "%matplotlib inline\n",
    "import SPA\n",
    "from matplotlib.patches import Rectangle"
   ]
  },
  {
   "attachments": {
    "image.png": {
     "image/png": "[encoded data removed]"
    }
   },
   "cell_type": "markdown",
   "metadata": {},
   "source": [
    "Import the data. You'll need to have downloaded EXIOBASE 3.8 files from https://zenodo.org/record/4277368 into `EXIOBASE_PATH`.\n",
    "I recommend using the command described below.\n",
    "![image.png](attachment:image.png)\n",
    "\n",
    "Then specify a year you want to work with. Note: in the 3.8 version, year 2019 has some issues, specifically for EU and Denmark in particular. You may want to choose another year instead.\n",
    "\n",
    "The original characterization matrix is from https://zenodo.org/record/3955079/\n",
    "\n",
    "...and you can find the stressors extension and characterization data at https://figshare.com/articles/dataset/Additional_environmental_extensions_for_EXIOBASE3_based_on_USEEEIO/12471278/1"
   ]
  },
  {
   "cell_type": "code",
   "execution_count": 3,
   "metadata": {
    "scrolled": true
   },
   "outputs": [],
   "source": [
    "year = 2018\n",
    "EXIOBASE_PATH = '../exiobase/EXIOBASE3.8/'\n",
    "# EXIOBASE_PATH = '../exiobase/'"
   ]
  },
  {
   "cell_type": "markdown",
   "metadata": {},
   "source": [
    "Then, just import the IO system with `pymrio`:"
   ]
  },
  {
   "cell_type": "code",
   "execution_count": null,
   "metadata": {
    "scrolled": true
   },
   "outputs": [],
   "source": [
    "io = mr.parse_exiobase3(path=EXIOBASE_PATH+'IOT_{}_pxp.zip'.format(year))"
   ]
  },
  {
   "cell_type": "markdown",
   "metadata": {},
   "source": [
    "Import the population data."
   ]
  },
  {
   "cell_type": "code",
   "execution_count": null,
   "metadata": {
    "scrolled": true
   },
   "outputs": [],
   "source": [
    "population = pd.read_csv(EXIOBASE_PATH+'exiobase_population.txt',sep='\\t',index_col=0)\n",
    "io.population=pd.DataFrame(columns=['population'], data=population.loc[year].values, index=population.columns).T"
   ]
  },
  {
   "cell_type": "code",
   "execution_count": null,
   "metadata": {
    "scrolled": true
   },
   "outputs": [],
   "source": [
    "io.calc_all()"
   ]
  },
  {
   "cell_type": "markdown",
   "metadata": {},
   "source": [
    "Import additional stressors."
   ]
  },
  {
   "cell_type": "code",
   "execution_count": null,
   "metadata": {
    "scrolled": true
   },
   "outputs": [],
   "source": [
    "# Credit to Maxime Agez for the stressor extension\n",
    "stressors=pd.read_csv(EXIOBASE_PATH+'Expanded_S.csv',\n",
    "                     index_col=[0],\n",
    "                     header=[0,1])"
   ]
  },
  {
   "cell_type": "code",
   "execution_count": null,
   "metadata": {
    "scrolled": true
   },
   "outputs": [],
   "source": [
    "stressors.shape"
   ]
  },
  {
   "cell_type": "code",
   "execution_count": null,
   "metadata": {
    "scrolled": true
   },
   "outputs": [],
   "source": [
    "stressors.columns=io.A.columns\n",
    "short_S=io.satellite.S\n",
    "short_S.shape"
   ]
  },
  {
   "cell_type": "code",
   "execution_count": null,
   "metadata": {
    "scrolled": true
   },
   "outputs": [],
   "source": [
    "io.satellite.S=pd.concat([short_S,stressors],axis=0)"
   ]
  },
  {
   "cell_type": "code",
   "execution_count": null,
   "metadata": {
    "scrolled": true
   },
   "outputs": [],
   "source": [
    "io.satellite.F=io.satellite.S.mul(io.x['indout'])"
   ]
  },
  {
   "cell_type": "code",
   "execution_count": null,
   "metadata": {
    "scrolled": true
   },
   "outputs": [],
   "source": [
    "F_Y_padding=pd.DataFrame(np.zeros([stressors.shape[0],io.satellite.F_Y.shape[1]]),\n",
    "                        index=stressors.index,\n",
    "                        columns=io.satellite.F_Y.columns)"
   ]
  },
  {
   "cell_type": "code",
   "execution_count": null,
   "metadata": {
    "scrolled": true
   },
   "outputs": [],
   "source": [
    "io.satellite.F_Y=io.satellite.F_Y.append(F_Y_padding)"
   ]
  },
  {
   "cell_type": "markdown",
   "metadata": {},
   "source": [
    "Run the various calculations (satellite factors, footprint reports, ...)"
   ]
  },
  {
   "cell_type": "markdown",
   "metadata": {},
   "source": [
    "Import characterization."
   ]
  },
  {
   "cell_type": "code",
   "execution_count": null,
   "metadata": {
    "scrolled": true
   },
   "outputs": [],
   "source": [
    "Q_base=pd.read_csv(EXIOBASE_PATH+'C_exio_IW.csv',\n",
    "             index_col=[0])\n",
    "padding=short_S.shape[0]-Q_base.shape[1]\n",
    "Q_energy=pd.DataFrame(np.zeros([Q_base.shape[0],padding]),\n",
    "                     index=Q_base.index,\n",
    "                     columns=short_S.index[-padding:])\n",
    "Q_ext=pd.read_csv(EXIOBASE_PATH+'C_expansion_IW.csv',\n",
    "             index_col=[0])"
   ]
  },
  {
   "cell_type": "code",
   "execution_count": null,
   "metadata": {
    "scrolled": true
   },
   "outputs": [],
   "source": [
    "Q_base.shape"
   ]
  },
  {
   "cell_type": "code",
   "execution_count": null,
   "metadata": {
    "scrolled": true
   },
   "outputs": [],
   "source": [
    "Q=pd.concat([Q_base,Q_energy,Q_ext],axis=1)\n",
    "Q.shape"
   ]
  },
  {
   "cell_type": "code",
   "execution_count": null,
   "metadata": {
    "scrolled": true
   },
   "outputs": [],
   "source": [
    "impact = dict()"
   ]
  },
  {
   "cell_type": "code",
   "execution_count": null,
   "metadata": {
    "scrolled": true
   },
   "outputs": [],
   "source": [
    "impact['S'] = Q.dot(io.satellite.S) # unit stressors, per M€ \n",
    "impact['F'] = Q.dot(io.satellite.F) # total stressors\n",
    "impact['F_Y'] = Q.dot(io.satellite.F_Y) # same for households\n",
    "impact['name'] = 'impact' # and name\n",
    "io.impact = mr.Extension(**impact) # finally, add it as a proper extension"
   ]
  },
  {
   "cell_type": "code",
   "execution_count": null,
   "metadata": {
    "scrolled": true
   },
   "outputs": [],
   "source": [
    "io.calc_all()"
   ]
  },
  {
   "cell_type": "code",
   "execution_count": null,
   "metadata": {
    "scrolled": true
   },
   "outputs": [],
   "source": [
    "ind='Climate change, short term (kg CO2 eq (short))'"
   ]
  },
  {
   "cell_type": "code",
   "execution_count": null,
   "metadata": {
    "scrolled": true
   },
   "outputs": [],
   "source": [
    "GWP100_factors=Q.loc[ind]\n",
    "GWP100_factors[GWP100_factors!=0]"
   ]
  },
  {
   "cell_type": "code",
   "execution_count": null,
   "metadata": {
    "scrolled": true
   },
   "outputs": [],
   "source": [
    "GWP100_factors[GWP100_factors!=0].to_excel('GWP100_EXIOBASE_factors.xlsx')"
   ]
  },
  {
   "cell_type": "code",
   "execution_count": null,
   "metadata": {
    "scrolled": true
   },
   "outputs": [],
   "source": [
    "FD=io.impact.F_Y.loc[ind].unstack()"
   ]
  },
  {
   "cell_type": "code",
   "execution_count": null,
   "metadata": {
    "scrolled": true
   },
   "outputs": [],
   "source": [
    "pd.concat([\n",
    "    io.impact.D_cba_reg.loc[ind],\n",
    "    io.impact.D_pba_reg.loc[ind],\n",
    "    io.impact.D_imp_reg.loc[ind],\n",
    "    io.impact.D_exp_reg.loc[ind],\n",
    "#     FD.loc[:,FD.sum(0)!=0]\n",
    "    ],\n",
    "  axis=1\n",
    " ).loc[['BE','DE','FR','LU']]"
   ]
  },
  {
   "cell_type": "code",
   "execution_count": null,
   "metadata": {
    "scrolled": true
   },
   "outputs": [],
   "source": [
    "io.population[['BE','DE','FR','LU']]"
   ]
  },
  {
   "cell_type": "code",
   "execution_count": null,
   "metadata": {
    "scrolled": true
   },
   "outputs": [],
   "source": [
    "pd.concat([\n",
    "    io.impact.D_cba_reg.loc[ind],\n",
    "    io.impact.D_pba_reg.loc[ind],\n",
    "    io.impact.D_imp_reg.loc[ind],\n",
    "    io.impact.D_exp_reg.loc[ind],\n",
    "#     FD.loc[:,FD.sum(0)!=0]\n",
    "    ],\n",
    "  axis=1\n",
    " )"
   ]
  },
  {
   "cell_type": "markdown",
   "metadata": {},
   "source": [
    "### Focus on research sector"
   ]
  },
  {
   "cell_type": "code",
   "execution_count": null,
   "metadata": {
    "scrolled": true
   },
   "outputs": [],
   "source": [
    "pd.set_option('display.max_rows', 200)\n",
    "research_employees_LU=io.satellite.D_pba['LU','Research and development services (73)'].iloc[9:15].sum()*1000"
   ]
  },
  {
   "cell_type": "code",
   "execution_count": null,
   "metadata": {
    "scrolled": true
   },
   "outputs": [],
   "source": [
    "#https://statistiques.public.lu/stat/TableViewer/tableView.aspx?ReportId=13555&IF_Language=eng&MainTheme=4&FldrName=9&RFPath=2222\n",
    "research_employees_LU=5468"
   ]
  },
  {
   "cell_type": "code",
   "execution_count": null,
   "metadata": {
    "scrolled": true
   },
   "outputs": [],
   "source": [
    "io.impact.D_cba.loc[ind,('LU','Research and development services (73)')]"
   ]
  },
  {
   "cell_type": "code",
   "execution_count": null,
   "metadata": {
    "scrolled": true
   },
   "outputs": [],
   "source": [
    "pd.set_option('display.max_rows', 200)\n",
    "io.impact.D_cba.loc[ind,('LU','Research and development services (73)')]/research_employees_LU"
   ]
  },
  {
   "cell_type": "code",
   "execution_count": null,
   "metadata": {
    "scrolled": true
   },
   "outputs": [],
   "source": [
    "io.impact.D_pba.loc[ind,('LU','Research and development services (73)')]/research_employees_LU"
   ]
  },
  {
   "cell_type": "code",
   "execution_count": null,
   "metadata": {
    "scrolled": true
   },
   "outputs": [],
   "source": [
    "io.impact.D_cba.loc[ind,'LU'].sum()"
   ]
  },
  {
   "cell_type": "code",
   "execution_count": null,
   "metadata": {
    "scrolled": true
   },
   "outputs": [],
   "source": [
    "io.impact.D_cba.loc[ind,'LU'].sum()/440000"
   ]
  },
  {
   "cell_type": "markdown",
   "metadata": {},
   "source": [
    "## Making own indicators"
   ]
  },
  {
   "cell_type": "code",
   "execution_count": null,
   "metadata": {
    "scrolled": true
   },
   "outputs": [],
   "source": [
    "GWP100_unfccc=pd.Series(\n",
    "[1,1,1,\n",
    "34,34,34,34,34,34,34,34,34,34,\n",
    "265,265]\n",
    "    ,\n",
    "index=\n",
    "['CO2 - combustion - air',\n",
    " 'CO2 - non combustion - Cement production - air',\n",
    " 'CO2 - non combustion - Lime production - air',\n",
    " 'CH4 - combustion - air',\n",
    " 'CH4 - non combustion - Extraction/production of (natural) gas - air',\n",
    " 'CH4 - non combustion - Extraction/production of crude oil - air',\n",
    " 'CH4 - non combustion - Mining of antracite - air',\n",
    " 'CH4 - non combustion - Mining of bituminous coal - air',\n",
    " 'CH4 - non combustion - Mining of coking coal - air',\n",
    " 'CH4 - non combustion - Mining of lignite (brown coal) - air',\n",
    " 'CH4 - non combustion - Mining of sub-bituminous coal - air',\n",
    " 'CH4 - non combustion - Oil refinery - air',\n",
    " 'CH4 - agriculture - air',\n",
    " 'N2O - combustion - air',\n",
    " 'N2O - agriculture - air']\n",
    ")\n",
    "\n",
    "GWP100_unfccc"
   ]
  },
  {
   "cell_type": "markdown",
   "metadata": {},
   "source": [
    "Now we prepare the data for plotting."
   ]
  },
  {
   "cell_type": "markdown",
   "metadata": {},
   "source": [
    "## Bar chart of per-capita EU GHG emissions"
   ]
  },
  {
   "cell_type": "code",
   "execution_count": null,
   "metadata": {
    "scrolled": true
   },
   "outputs": [],
   "source": [
    "method = GWP100_unfccc # hand-made method, in case you set up other method vectors\n",
    "\n",
    "GHG_cba_tot = method.dot(io.satellite.D_cba_reg.loc[method.index])\n",
    "GHG_pba_tot = method.dot(io.satellite.D_pba_reg.loc[method.index])\n",
    "GHG_cba_cap = method.dot(io.satellite.D_cba_cap.loc[method.index])\n",
    "GHG_pba_cap = method.dot(io.satellite.D_pba_cap.loc[method.index])\n",
    "GHG_imp_tot = method.dot(io.satellite.D_imp_reg.loc[method.index])\n",
    "GHG_exp_tot = method.dot(io.satellite.D_exp_reg.loc[method.index])\n",
    "GHG_imp_cap = method.dot(io.satellite.D_imp_cap.loc[method.index])\n",
    "GHG_exp_cap = method.dot(io.satellite.D_exp_cap.loc[method.index])\n",
    "GHG_direct=method.dot(io.satellite.F_Y.loc[method.index]).groupby('region').sum()\n",
    "\n"
   ]
  },
  {
   "cell_type": "code",
   "execution_count": null,
   "metadata": {
    "scrolled": true
   },
   "outputs": [],
   "source": [
    "footprints_EU_all_GHGs=pd.concat([io.impact.D_pba_reg.loc[ind],\n",
    "                         io.impact.D_imp_reg.loc[ind],\n",
    "                         io.impact.D_exp_reg.loc[ind],\n",
    "                         io.impact.D_cba_reg.loc[ind],\n",
    "                         io.impact.F_Y.loc[ind].groupby('region').sum()],\n",
    "                            axis=1,keys=('Production',\n",
    "                                         'Imports',\n",
    "                                         'Exports',\n",
    "                                         'Consumption',\n",
    "                                        'Direct emissions'))"
   ]
  },
  {
   "cell_type": "code",
   "execution_count": null,
   "metadata": {
    "scrolled": true
   },
   "outputs": [],
   "source": [
    "footprints_EU_UNFCCC=pd.concat([GHG_pba_tot,\n",
    "                         GHG_imp_tot,\n",
    "                         GHG_exp_tot,\n",
    "                         GHG_cba_tot,\n",
    "                         GHG_direct],\n",
    "                            axis=1,keys=('Production',\n",
    "                                         'Imports',\n",
    "                                         'Exports',\n",
    "                                         'Consumption',\n",
    "                                        'Direct emissions')).iloc[:28,:].sort_values(by='Production',ascending=False)/1000"
   ]
  },
  {
   "cell_type": "code",
   "execution_count": null,
   "metadata": {
    "scrolled": true
   },
   "outputs": [],
   "source": [
    "footprints_EU_cap=pd.concat([GHG_pba_cap,\n",
    "#                              GHG_imp_cap,\n",
    "#                              GHG_exp_cap,\n",
    "                             GHG_cba_cap,\n",
    "                             GHG_direct.div(population.loc[year])],\n",
    "                            axis=1,keys=('Production',\n",
    "#                                          'Imports',\n",
    "#                                          'Exports',\n",
    "                                         'Consumption',\n",
    "                                        'Direct emissions')).iloc[:28,:].sort_values(by='Production',ascending=False)/1000"
   ]
  },
  {
   "cell_type": "code",
   "execution_count": null,
   "metadata": {
    "scrolled": true
   },
   "outputs": [],
   "source": [
    "sns.set(font_scale=1)\n",
    "\n",
    "fig,ax=plt.subplots(figsize=(20,10))\n",
    "footprints_EU_cap.plot(kind='bar',ax=ax)\n",
    "ax.set_ylabel(f'Greenhouse gas emissions {year} (t CO$_{2}$ eq./cap)')\n",
    "ax.set_xticklabels([])\n",
    "table = plt.table(colLabels=footprints_EU_cap.index,\n",
    "          rowLabels=footprints_EU_cap.columns,\n",
    "          cellText=footprints_EU_cap.T.round(1).values,loc='bottom')\n",
    "\n",
    "table.set_fontsize(10)"
   ]
  },
  {
   "cell_type": "code",
   "execution_count": null,
   "metadata": {
    "scrolled": true
   },
   "outputs": [],
   "source": [
    "footprints_EU_tot=pd.concat([GHG_pba_tot,\n",
    "#                              GHG_imp_cap,\n",
    "#                              GHG_exp_cap,\n",
    "                             GHG_cba_tot,\n",
    "                             GHG_direct],\n",
    "                            axis=1,keys=('Production',\n",
    "#                                          'Imports',\n",
    "#                                          'Exports',\n",
    "                                         'Consumption',\n",
    "                                        'Direct emissions')).iloc[:28,:].sort_values(by='Production',ascending=False)*1e-9\n",
    "footprints_EU_tot.to_csv('footprint_EU_{}.csv'.format(year))"
   ]
  },
  {
   "cell_type": "markdown",
   "metadata": {},
   "source": [
    "## Focus on Luxembourg\n",
    "### Carbon footprint\n",
    "I think $GHG_{cons pro LU}=\\widehat{S_{GWP100}}L\\widehat{y_{LU}}$ should work?"
   ]
  },
  {
   "cell_type": "code",
   "execution_count": null,
   "metadata": {
    "scrolled": true
   },
   "outputs": [],
   "source": [
    "Y_LU = io.Y['LU'].sum(1)"
   ]
  },
  {
   "cell_type": "code",
   "execution_count": null,
   "metadata": {
    "scrolled": true
   },
   "outputs": [],
   "source": [
    "GHG_cons_pro_LU=io.L.multiply(io.impact.S.loc[ind],axis=0).multiply(Y_LU)"
   ]
  },
  {
   "cell_type": "code",
   "execution_count": null,
   "metadata": {
    "scrolled": true
   },
   "outputs": [],
   "source": [
    "GHG_cons_pro_LU['TOTAL'] = GHG_cons_pro_LU.sum(1)\n",
    "GHG_cons_pro_LU.loc['TOTAL'] = GHG_cons_pro_LU.sum(0)"
   ]
  },
  {
   "cell_type": "code",
   "execution_count": null,
   "metadata": {
    "scrolled": true
   },
   "outputs": [],
   "source": [
    "GHG_snap = GHG_cons_pro_LU.sort_values('TOTAL',axis=1,ascending=False).sort_values('TOTAL',ascending=False).iloc[:70,:20].drop('TOTAL').drop('TOTAL',axis=1)*1e-6\n",
    "fig, ax = plt.subplots(figsize=(20,30))\n",
    "sns.heatmap(GHG_snap, annot=True,\n",
    "#             norm=matplotlib.colors.LogNorm(vmin=1e-6,\n",
    "#                                            vmax=GHG_snap.max().max()),\n",
    "            cmap='Blues',\n",
    "           fmt='.1f')"
   ]
  },
  {
   "cell_type": "code",
   "execution_count": null,
   "metadata": {
    "scrolled": true
   },
   "outputs": [],
   "source": [
    "# We can do a quick structural path analysis\n",
    "\n",
    "region='LU'\n",
    "scale=1\n",
    "\n",
    "paths = SPA.SPA(io.impact.S.loc[ind]*scale,\n",
    "            io.A,\n",
    "            io.Y[region].sum(1),\n",
    "            Tmax=30,\n",
    "            threshold=.0001,\n",
    "            filename=f'test_{region}_{ind}.csv',\n",
    "            M=io.impact.M.loc[ind]*scale,\n",
    "            direct=io.impact.F_Y[region].sum(1)[ind]*scale)"
   ]
  },
  {
   "cell_type": "code",
   "execution_count": null,
   "metadata": {
    "scrolled": true
   },
   "outputs": [],
   "source": [
    "paths"
   ]
  },
  {
   "cell_type": "markdown",
   "metadata": {},
   "source": [
    "### Carbon flows"
   ]
  },
  {
   "cell_type": "code",
   "execution_count": null,
   "metadata": {
    "scrolled": true
   },
   "outputs": [],
   "source": [
    "# Get the GHG emissions embodied in final demand: diag(S)*L*diag(y)\n",
    "GHG_cons_pro_LU=io.L.multiply(io.impact.S.loc[ind],axis=0).multiply(Y_LU)\n",
    "GHG_cons_pro_LU['TOTAL'] = GHG_cons_pro_LU.sum(1)\n",
    "GHG_cons_pro_LU.loc['TOTAL'] = GHG_cons_pro_LU.sum(0)"
   ]
  },
  {
   "cell_type": "code",
   "execution_count": null,
   "metadata": {
    "scrolled": true
   },
   "outputs": [],
   "source": [
    "GHG_cons_pro_LU.shape"
   ]
  },
  {
   "cell_type": "code",
   "execution_count": null,
   "metadata": {
    "scrolled": false
   },
   "outputs": [],
   "source": [
    "GHG_cons_pro_LU.drop('TOTAL').drop('TOTAL',axis=1).sum().sum()*1e-9"
   ]
  },
  {
   "cell_type": "code",
   "execution_count": null,
   "metadata": {},
   "outputs": [],
   "source": [
    "GHG_cons_pro_LU"
   ]
  },
  {
   "cell_type": "code",
   "execution_count": null,
   "metadata": {
    "scrolled": true
   },
   "outputs": [],
   "source": [
    "io.calc_all()"
   ]
  },
  {
   "cell_type": "code",
   "execution_count": null,
   "metadata": {
    "slideshow": {
     "slide_type": "-"
    }
   },
   "outputs": [],
   "source": [
    "io.impact.D_cba_reg.loc[ind]"
   ]
  },
  {
   "cell_type": "code",
   "execution_count": null,
   "metadata": {
    "scrolled": true
   },
   "outputs": [],
   "source": [
    "LU_cba_GHG=Q.loc[ind].mul(io.satellite.D_cba_reg['LU'])"
   ]
  },
  {
   "cell_type": "code",
   "execution_count": null,
   "metadata": {},
   "outputs": [],
   "source": []
  },
  {
   "cell_type": "markdown",
   "metadata": {},
   "source": [
    "### Aggregate and disaggregate for the functional area, Luxembourg excluded (population-wise, i.e. only consumption-based would make sense)\n",
    "We need a 49 to 4 matrix, to reaggregate for Luxembourg, functional area, EU28, and rest of the world.\n",
    "Aggregating the regions will lose the multiplier details and generate discrepancies between aggregated and non-aggregated footprints."
   ]
  },
  {
   "cell_type": "code",
   "execution_count": 56,
   "metadata": {
    "scrolled": true
   },
   "outputs": [],
   "source": [
    "reg_agg_matrix = np.zeros([49,7])\n",
    "\n",
    "# We'll disaggregate the various countries to compose the functional area\n",
    "# Flows will follow population, for a lack of a better proxy for emissions\n",
    "# This is probably wrong for territorial emissions, but should hold for consumption\n",
    "\n",
    "population_FA=pd.Series({'BE':225772,\n",
    "                         'DE':378881,\n",
    "                         'FR':781852},\n",
    "                          name='population')\n",
    "\n",
    "FA_shares=population_FA/io.population\n",
    "FA_shares.fillna(inplace=True, value=0)\n",
    "FA_shares=FA_shares.reindex_like(io.population)\n",
    "\n",
    "reg_agg_matrix[io.get_regions()=='LU',0] = 1\n",
    "reg_agg_matrix[:,1] = FA_shares\n",
    "reg_agg_matrix[io.get_regions()=='BE',2] = 1-reg_agg_matrix[io.get_regions()=='BE',1]\n",
    "reg_agg_matrix[io.get_regions()=='DE',3] = 1-reg_agg_matrix[io.get_regions()=='DE',1]\n",
    "reg_agg_matrix[io.get_regions()=='FR',4] = 1-reg_agg_matrix[io.get_regions()=='FR',1]\n",
    "reg_agg_matrix[:28,5] = 1-reg_agg_matrix[:28,:5].sum(1)\n",
    "reg_agg_matrix[:,6] = 1-reg_agg_matrix[:,:6].sum(1)\n",
    "\n",
    "reg_agg_matrix=reg_agg_matrix.T # argh, the matrix was transposed\n",
    "\n",
    "assert all(reg_agg_matrix.sum(0)==1)"
   ]
  },
  {
   "cell_type": "code",
   "execution_count": 90,
   "metadata": {},
   "outputs": [
    {
     "data": {
      "text/plain": [
       "array([1., 1., 1., 1., 1., 1., 1., 1., 1., 1., 1., 1., 1., 1., 1., 1., 1.,\n",
       "       1., 1., 1., 1., 1., 1., 1., 1., 1., 1., 1., 1., 1., 1., 1., 1., 1.,\n",
       "       1., 1., 1., 1., 1., 1., 1., 1., 1., 1., 1., 1., 1., 1., 1.])"
      ]
     },
     "execution_count": 90,
     "metadata": {},
     "output_type": "execute_result"
    }
   ],
   "source": [
    "reg_agg_matrix.sum(0)"
   ]
  },
  {
   "cell_type": "code",
   "execution_count": 98,
   "metadata": {
    "scrolled": true
   },
   "outputs": [],
   "source": [
    "# Reaggregate\n",
    "reg_agg_names=['LU','FA','BE','DE','FR','EU28','World']\n",
    "ioagg = io.aggregate(region_agg=reg_agg_matrix,\n",
    "                     region_names=reg_agg_names,\n",
    "                        inplace=False)"
   ]
  },
  {
   "cell_type": "code",
   "execution_count": 99,
   "metadata": {
    "scrolled": true
   },
   "outputs": [
    {
     "data": {
      "text/plain": [
       "<pymrio.core.mriosystem.IOSystem at 0x7fc771201820>"
      ]
     },
     "execution_count": 99,
     "metadata": {},
     "output_type": "execute_result"
    }
   ],
   "source": [
    "# Calculate the new system\n",
    "ioagg.calc_all()"
   ]
  },
  {
   "cell_type": "code",
   "execution_count": 100,
   "metadata": {
    "scrolled": true
   },
   "outputs": [],
   "source": [
    "# ioagg.calc_extensions??"
   ]
  },
  {
   "cell_type": "markdown",
   "metadata": {},
   "source": [
    "Run a few checks because it's easy to get lost..."
   ]
  },
  {
   "cell_type": "code",
   "execution_count": 101,
   "metadata": {},
   "outputs": [
    {
     "data": {
      "text/plain": [
       "14056898689.105534"
      ]
     },
     "execution_count": 101,
     "metadata": {},
     "output_type": "execute_result"
    }
   ],
   "source": [
    "# intermediate consumption emissions\n",
    "ioagg.impact.D_cba.loc[ind,'LU'].sum()"
   ]
  },
  {
   "cell_type": "code",
   "execution_count": 102,
   "metadata": {},
   "outputs": [
    {
     "data": {
      "text/plain": [
       "1459452836.564003"
      ]
     },
     "execution_count": 102,
     "metadata": {},
     "output_type": "execute_result"
    }
   ],
   "source": [
    "# final consumption direct emissions\n",
    "ioagg.impact.F_Y.loc[ind,'LU'].sum()"
   ]
  },
  {
   "cell_type": "code",
   "execution_count": 103,
   "metadata": {},
   "outputs": [
    {
     "data": {
      "text/plain": [
       "sector\n",
       "Paddy rice                                                                                                                                 2.096554e+07\n",
       "Wheat                                                                                                                                      6.125979e+07\n",
       "Cereal grains nec                                                                                                                          7.704388e+06\n",
       "Vegetables, fruit, nuts                                                                                                                    3.734917e+08\n",
       "Oil seeds                                                                                                                                  3.780938e+07\n",
       "Sugar cane, sugar beet                                                                                                                     9.441750e+02\n",
       "Plant-based fibers                                                                                                                         1.855609e+02\n",
       "Crops nec                                                                                                                                  8.347684e+07\n",
       "Cattle                                                                                                                                     1.914249e+07\n",
       "Pigs                                                                                                                                       5.707809e+05\n",
       "Poultry                                                                                                                                    1.873142e+07\n",
       "Meat animals nec                                                                                                                           6.732329e+07\n",
       "Animal products nec                                                                                                                        3.638590e+07\n",
       "Raw milk                                                                                                                                   5.236559e+06\n",
       "Wool, silk-worm cocoons                                                                                                                    1.567857e+05\n",
       "Manure (conventional treatment)                                                                                                            0.000000e+00\n",
       "Manure (biogas treatment)                                                                                                                  0.000000e+00\n",
       "Products of forestry, logging and related services (02)                                                                                    6.663375e+05\n",
       "Fish and other fishing products; services incidental of fishing (05)                                                                       5.837059e+06\n",
       "Anthracite                                                                                                                                 1.253074e+06\n",
       "Coking Coal                                                                                                                                1.563326e+05\n",
       "Other Bituminous Coal                                                                                                                      8.467873e+03\n",
       "Sub-Bituminous Coal                                                                                                                        0.000000e+00\n",
       "Patent Fuel                                                                                                                                1.914217e+02\n",
       "Lignite/Brown Coal                                                                                                                         3.616286e+02\n",
       "BKB/Peat Briquettes                                                                                                                        6.232685e+03\n",
       "Peat                                                                                                                                       9.991216e+02\n",
       "Crude petroleum and services related to crude oil extraction, excluding surveying                                                          2.630786e+05\n",
       "Natural gas and services related to natural gas extraction, excluding surveying                                                            2.598304e+04\n",
       "Natural Gas Liquids                                                                                                                        1.592396e+05\n",
       "Other Hydrocarbons                                                                                                                         0.000000e+00\n",
       "Uranium and thorium ores (12)                                                                                                              0.000000e+00\n",
       "Iron ores                                                                                                                                  2.736760e+05\n",
       "Copper ores and concentrates                                                                                                               7.966526e+00\n",
       "Nickel ores and concentrates                                                                                                              -1.014289e+01\n",
       "Aluminium ores and concentrates                                                                                                            1.887722e+03\n",
       "Precious metal ores and concentrates                                                                                                       2.303296e+01\n",
       "Lead, zinc and tin ores and concentrates                                                                                                   5.655813e+01\n",
       "Other non-ferrous metal ores and concentrates                                                                                              6.660968e+01\n",
       "Stone                                                                                                                                      0.000000e+00\n",
       "Sand and clay                                                                                                                              1.547834e+02\n",
       "Chemical and fertilizer minerals, salt and other mining and quarrying products n.e.c.                                                      2.955750e+06\n",
       "Products of meat cattle                                                                                                                    3.148780e+07\n",
       "Products of meat pigs                                                                                                                      8.037602e+06\n",
       "Products of meat poultry                                                                                                                   6.493612e+07\n",
       "Meat products nec                                                                                                                          4.349038e+07\n",
       "products of Vegetable oils and fats                                                                                                        3.511414e+06\n",
       "Dairy products                                                                                                                             1.769978e+08\n",
       "Processed rice                                                                                                                             2.630799e+07\n",
       "Sugar                                                                                                                                      6.846568e+06\n",
       "Food products nec                                                                                                                          4.879326e+08\n",
       "Beverages                                                                                                                                  2.592136e+07\n",
       "Fish products                                                                                                                              1.824216e+08\n",
       "Tobacco products (16)                                                                                                                      2.351839e+08\n",
       "Textiles (17)                                                                                                                              1.482852e+08\n",
       "Wearing apparel; furs (18)                                                                                                                 1.993552e+08\n",
       "Leather and leather products (19)                                                                                                          1.780063e+08\n",
       "Wood and products of wood and cork (except furniture); articles of straw and plaiting materials (20)                                       1.809388e+06\n",
       "Wood material for treatment, Re-processing of secondary wood material into new wood material                                               0.000000e+00\n",
       "Pulp                                                                                                                                       2.413291e+05\n",
       "Secondary paper for treatment, Re-processing of secondary paper into new pulp                                                              0.000000e+00\n",
       "Paper and paper products                                                                                                                   2.519646e+07\n",
       "Printed matter and recorded media (22)                                                                                                     4.011355e+07\n",
       "Coke Oven Coke                                                                                                                             0.000000e+00\n",
       "Gas Coke                                                                                                                                   0.000000e+00\n",
       "Coal Tar                                                                                                                                   3.709991e+02\n",
       "Motor Gasoline                                                                                                                             5.657419e+08\n",
       "Aviation Gasoline                                                                                                                          3.264693e+02\n",
       "Gasoline Type Jet Fuel                                                                                                                     0.000000e+00\n",
       "Kerosene Type Jet Fuel                                                                                                                     1.499351e+06\n",
       "Kerosene                                                                                                                                   4.344838e+07\n",
       "Gas/Diesel Oil                                                                                                                             1.702003e+08\n",
       "Heavy Fuel Oil                                                                                                                             7.697195e+08\n",
       "Refinery Gas                                                                                                                               0.000000e+00\n",
       "Liquefied Petroleum Gases (LPG)                                                                                                            7.940996e+07\n",
       "Refinery Feedstocks                                                                                                                        2.412587e+02\n",
       "Ethane                                                                                                                                     0.000000e+00\n",
       "Naphtha                                                                                                                                    0.000000e+00\n",
       "White Spirit & SBP                                                                                                                         0.000000e+00\n",
       "Lubricants                                                                                                                                 7.080747e+02\n",
       "Bitumen                                                                                                                                    1.465414e+07\n",
       "Paraffin Waxes                                                                                                                             0.000000e+00\n",
       "Petroleum Coke                                                                                                                             0.000000e+00\n",
       "Non-specified Petroleum Products                                                                                                           0.000000e+00\n",
       "Nuclear fuel                                                                                                                               1.234214e+03\n",
       "Plastics, basic                                                                                                                            8.677038e+07\n",
       "Secondary plastic for treatment, Re-processing of secondary plastic into new plastic                                                       0.000000e+00\n",
       "N-fertiliser                                                                                                                               1.701997e+05\n",
       "P- and other fertiliser                                                                                                                    9.772064e+06\n",
       "Chemicals nec                                                                                                                              7.076681e+08\n",
       "Charcoal                                                                                                                                   7.970256e+02\n",
       "Additives/Blending Components                                                                                                              1.884039e+02\n",
       "Biogasoline                                                                                                                                6.127811e+05\n",
       "Biodiesels                                                                                                                                 6.909006e+05\n",
       "Other Liquid Biofuels                                                                                                                      2.005358e+04\n",
       "Rubber and plastic products (25)                                                                                                           1.531461e+08\n",
       "Glass and glass products                                                                                                                   2.896465e+06\n",
       "Secondary glass for treatment, Re-processing of secondary glass into new glass                                                             0.000000e+00\n",
       "Ceramic goods                                                                                                                              3.135307e+07\n",
       "Bricks, tiles and construction products, in baked clay                                                                                     4.701774e+05\n",
       "Cement, lime and plaster                                                                                                                   1.215333e+06\n",
       "Ash for treatment, Re-processing of ash into clinker                                                                                       0.000000e+00\n",
       "Other non-metallic mineral products                                                                                                        4.706287e+07\n",
       "Basic iron and steel and of ferro-alloys and first products thereof                                                                        2.836453e+07\n",
       "Secondary steel for treatment, Re-processing of secondary steel into new steel                                                             0.000000e+00\n",
       "Precious metals                                                                                                                            1.400313e+06\n",
       "Secondary preciuos metals for treatment, Re-processing of secondary preciuos metals into new preciuos metals                               0.000000e+00\n",
       "Aluminium and aluminium products                                                                                                           5.105959e+06\n",
       "Secondary aluminium for treatment, Re-processing of secondary aluminium into new aluminium                                                 0.000000e+00\n",
       "Lead, zinc and tin and products thereof                                                                                                    2.727381e+06\n",
       "Secondary lead for treatment, Re-processing of secondary lead into new lead                                                                0.000000e+00\n",
       "Copper products                                                                                                                            3.934205e+06\n",
       "Secondary copper for treatment, Re-processing of secondary copper into new copper                                                          0.000000e+00\n",
       "Other non-ferrous metal products                                                                                                           1.094105e+06\n",
       "Secondary other non-ferrous metals for treatment, Re-processing of secondary other non-ferrous metals into new other non-ferrous metals    0.000000e+00\n",
       "Foundry work services                                                                                                                      0.000000e+00\n",
       "Fabricated metal products, except machinery and equipment (28)                                                                             3.242277e+08\n",
       "Machinery and equipment n.e.c. (29)                                                                                                        2.185486e+08\n",
       "Office machinery and computers (30)                                                                                                        3.982429e+07\n",
       "Electrical machinery and apparatus n.e.c. (31)                                                                                             4.372240e+07\n",
       "Radio, television and communication equipment and apparatus (32)                                                                           2.597872e+07\n",
       "Medical, precision and optical instruments, watches and clocks (33)                                                                        5.823237e+07\n",
       "Motor vehicles, trailers and semi-trailers (34)                                                                                            1.322472e+09\n",
       "Other transport equipment (35)                                                                                                             4.933452e+07\n",
       "Furniture; other manufactured goods n.e.c. (36)                                                                                            5.269053e+08\n",
       "Secondary raw materials                                                                                                                    0.000000e+00\n",
       "Bottles for treatment, Recycling of bottles by direct reuse                                                                                0.000000e+00\n",
       "Electricity by coal                                                                                                                        2.894698e+03\n",
       "Electricity by gas                                                                                                                         5.421609e+07\n",
       "Electricity by nuclear                                                                                                                     0.000000e+00\n",
       "Electricity by hydro                                                                                                                       1.947985e+04\n",
       "Electricity by wind                                                                                                                        7.945113e+04\n",
       "Electricity by petroleum and other oil derivatives                                                                                         2.446882e+05\n",
       "Electricity by biomass and waste                                                                                                           4.508709e+06\n",
       "Electricity by solar photovoltaic                                                                                                         -7.991652e+03\n",
       "Electricity by solar thermal                                                                                                               4.458709e+00\n",
       "Electricity by tide, wave, ocean                                                                                                           0.000000e+00\n",
       "Electricity by Geothermal                                                                                                                  0.000000e+00\n",
       "Electricity nec                                                                                                                            0.000000e+00\n",
       "Transmission services of electricity                                                                                                       1.550178e+07\n",
       "Distribution and trade services of electricity                                                                                             6.280250e+07\n",
       "Coke oven gas                                                                                                                              4.068490e+02\n",
       "Blast Furnace Gas                                                                                                                          2.808363e+02\n",
       "Oxygen Steel Furnace Gas                                                                                                                   0.000000e+00\n",
       "Gas Works Gas                                                                                                                              1.172580e+01\n",
       "Biogas                                                                                                                                     2.366534e+06\n",
       "Distribution services of gaseous fuels through mains                                                                                       1.279702e+08\n",
       "Steam and hot water supply services                                                                                                        1.696840e+05\n",
       "Collected and purified water, distribution services of water (41)                                                                          2.457070e+07\n",
       "Construction work (45)                                                                                                                     1.527904e+09\n",
       "Secondary construction material for treatment, Re-processing of secondary construction material into aggregates                            0.000000e+00\n",
       "Sale, maintenance, repair of motor vehicles, motor vehicles parts, motorcycles, motor cycles parts and accessoiries                        2.118865e+07\n",
       "Retail trade services of motor fuel                                                                                                        9.993014e+06\n",
       "Wholesale trade and commission trade services, except of motor vehicles and motorcycles (51)                                               1.878618e+07\n",
       "Retail  trade services, except of motor vehicles and motorcycles; repair services of personal and household goods (52)                     9.094734e+06\n",
       "Hotel and restaurant services (55)                                                                                                         4.644433e+08\n",
       "Railway transportation services                                                                                                            3.955789e+07\n",
       "Other land transportation services                                                                                                         2.695961e+08\n",
       "Transportation services via pipelines                                                                                                      1.679091e+05\n",
       "Sea and coastal water transportation services                                                                                              2.744266e+06\n",
       "Inland water transportation services                                                                                                       4.369392e+04\n",
       "Air transport services (62)                                                                                                                1.833482e+07\n",
       "Supporting and auxiliary transport services; travel agency services (63)                                                                   3.427650e+08\n",
       "Post and telecommunication services (64)                                                                                                   3.207490e+07\n",
       "Financial intermediation services, except insurance and pension funding services (65)                                                      4.625094e+07\n",
       "Insurance and pension funding services, except compulsory social security services (66)                                                    4.147735e+07\n",
       "Services auxiliary to financial intermediation (67)                                                                                        0.000000e+00\n",
       "Real estate services (70)                                                                                                                  1.074329e+08\n",
       "Renting services of machinery and equipment without operator and of personal and household goods (71)                                      7.653066e+06\n",
       "Computer and related services (72)                                                                                                         7.610079e+07\n",
       "Research and development services (73)                                                                                                     2.741115e+07\n",
       "Other business services (74)                                                                                                               3.984029e+07\n",
       "Public administration and defence services; compulsory social security services (75)                                                       5.074365e+08\n",
       "Education services (80)                                                                                                                    3.051022e+08\n",
       "Health and social work services (85)                                                                                                       1.492203e+09\n",
       "Food waste for treatment: incineration                                                                                                     6.875301e+06\n",
       "Paper waste for treatment: incineration                                                                                                    7.636296e+06\n",
       "Plastic waste for treatment: incineration                                                                                                  6.049269e+06\n",
       "Intert/metal waste for treatment: incineration                                                                                             7.002265e+06\n",
       "Textiles waste for treatment: incineration                                                                                                 2.053780e+06\n",
       "Wood waste for treatment: incineration                                                                                                     2.100560e+06\n",
       "Oil/hazardous waste for treatment: incineration                                                                                            2.066896e+06\n",
       "Food waste for treatment: biogasification and land application                                                                             2.296096e+05\n",
       "Paper waste for treatment: biogasification and land application                                                                            3.764405e+04\n",
       "Sewage sludge for treatment: biogasification and land application                                                                          9.326551e+05\n",
       "Food waste for treatment: composting and land application                                                                                  1.122343e+07\n",
       "Paper and wood waste for treatment: composting and land application                                                                        2.367672e+05\n",
       "Food waste for treatment: waste water treatment                                                                                            2.337094e+06\n",
       "Other waste for treatment: waste water treatment                                                                                           4.750234e+06\n",
       "Food waste for treatment: landfill                                                                                                         3.072299e+07\n",
       "Paper for treatment: landfill                                                                                                              1.689450e+07\n",
       "Plastic waste for treatment: landfill                                                                                                      1.727049e+06\n",
       "Inert/metal/hazardous waste for treatment: landfill                                                                                        7.568506e+05\n",
       "Textiles waste for treatment: landfill                                                                                                     1.490595e+06\n",
       "Wood waste for treatment: landfill                                                                                                         1.124448e+06\n",
       "Membership organisation services n.e.c. (91)                                                                                               5.801668e+07\n",
       "Recreational, cultural and sporting services (92)                                                                                          1.537331e+08\n",
       "Other services (93)                                                                                                                        5.439639e+07\n",
       "Private households with employed persons (95)                                                                                              1.611118e+07\n",
       "Extra-territorial organizations and bodies                                                                                                 0.000000e+00\n",
       "Name: Climate change, short term (kg CO2 eq (short)), dtype: float64"
      ]
     },
     "execution_count": 103,
     "metadata": {},
     "output_type": "execute_result"
    }
   ],
   "source": [
    "# total emissions attributable to consumption\n",
    "ioagg.impact.D_cba.loc[ind,'LU']"
   ]
  },
  {
   "cell_type": "code",
   "execution_count": 63,
   "metadata": {
    "scrolled": true
   },
   "outputs": [
    {
     "data": {
      "text/plain": [
       "region\n",
       "LU       25689.323718\n",
       "FA       12004.920158\n",
       "BE       15098.672614\n",
       "DE       13862.713915\n",
       "FR       10211.274512\n",
       "EU28     10975.830701\n",
       "World     6395.756787\n",
       "Name: Climate change, short term (kg CO2 eq (short)), dtype: float64"
      ]
     },
     "execution_count": 63,
     "metadata": {},
     "output_type": "execute_result"
    }
   ],
   "source": [
    "ioagg.impact.D_cba_cap.loc[ind]"
   ]
  },
  {
   "cell_type": "code",
   "execution_count": 64,
   "metadata": {
    "scrolled": true
   },
   "outputs": [],
   "source": [
    "n_sectors = len(ioagg.get_sectors())\n",
    "n_regions = len(ioagg.get_regions())\n",
    "n_sectors_Y = ioagg.Y.shape[1]//n_regions"
   ]
  },
  {
   "cell_type": "code",
   "execution_count": 65,
   "metadata": {
    "scrolled": true
   },
   "outputs": [],
   "source": [
    "S_block = pd.DataFrame(\n",
    "    block_diag(\n",
    "    *[ioagg.impact.S.loc[ind].iloc[i*n_sectors:(i+1)*n_sectors] for i in range(n_regions)]\n",
    "    ),\n",
    "            index   = ioagg.get_regions(),\n",
    "            columns = ioagg.A.index\n",
    "                      )\n",
    "F_block = S_block.dot(ioagg.Z)"
   ]
  },
  {
   "cell_type": "code",
   "execution_count": 66,
   "metadata": {},
   "outputs": [
    {
     "data": {
      "text/plain": [
       "(1400, 49)"
      ]
     },
     "execution_count": 66,
     "metadata": {},
     "output_type": "execute_result"
    }
   ],
   "source": [
    "ioagg.Y.shape"
   ]
  },
  {
   "cell_type": "code",
   "execution_count": 67,
   "metadata": {},
   "outputs": [],
   "source": [
    "Y_LU = ioagg.Y['LU'].sum(1)"
   ]
  },
  {
   "cell_type": "code",
   "execution_count": 68,
   "metadata": {},
   "outputs": [
    {
     "data": {
      "text/plain": [
       "region  sector                                           \n",
       "LU      Paddy rice                                            0.000000\n",
       "        Wheat                                                 2.583820\n",
       "        Cereal grains nec                                     0.810232\n",
       "        Vegetables, fruit, nuts                               4.448501\n",
       "        Oil seeds                                             0.635871\n",
       "                                                               ...    \n",
       "World   Membership organisation services n.e.c. (91)          7.439885\n",
       "        Recreational, cultural and sporting services (92)    20.369926\n",
       "        Other services (93)                                  31.458466\n",
       "        Private households with employed persons (95)        30.115173\n",
       "        Extra-territorial organizations and bodies            0.000000\n",
       "Length: 1400, dtype: float64"
      ]
     },
     "execution_count": 68,
     "metadata": {},
     "output_type": "execute_result"
    }
   ],
   "source": [
    "Y_LU"
   ]
  },
  {
   "cell_type": "code",
   "execution_count": 77,
   "metadata": {},
   "outputs": [
    {
     "ename": "AttributeError",
     "evalue": "'NoneType' object has no attribute 'multiply'",
     "output_type": "error",
     "traceback": [
      "\u001b[0;31m---------------------------------------------------------------------------\u001b[0m",
      "\u001b[0;31mAttributeError\u001b[0m                            Traceback (most recent call last)",
      "\u001b[0;32m<ipython-input-77-5a4bf411d23c>\u001b[0m in \u001b[0;36m<module>\u001b[0;34m\u001b[0m\n\u001b[0;32m----> 1\u001b[0;31m \u001b[0mGHG_cons_pro_LU\u001b[0m \u001b[0;34m=\u001b[0m \u001b[0mioagg\u001b[0m\u001b[0;34m.\u001b[0m\u001b[0mL\u001b[0m\u001b[0;34m.\u001b[0m\u001b[0mmultiply\u001b[0m\u001b[0;34m(\u001b[0m\u001b[0mioagg\u001b[0m\u001b[0;34m.\u001b[0m\u001b[0mimpact\u001b[0m\u001b[0;34m.\u001b[0m\u001b[0mS\u001b[0m\u001b[0;34m.\u001b[0m\u001b[0mloc\u001b[0m\u001b[0;34m[\u001b[0m\u001b[0mind\u001b[0m\u001b[0;34m]\u001b[0m\u001b[0;34m,\u001b[0m\u001b[0maxis\u001b[0m\u001b[0;34m=\u001b[0m\u001b[0;36m0\u001b[0m\u001b[0;34m)\u001b[0m\u001b[0;34m.\u001b[0m\u001b[0mmultiply\u001b[0m\u001b[0;34m(\u001b[0m\u001b[0mY_LU\u001b[0m\u001b[0;34m)\u001b[0m\u001b[0;34m\u001b[0m\u001b[0;34m\u001b[0m\u001b[0m\n\u001b[0m",
      "\u001b[0;31mAttributeError\u001b[0m: 'NoneType' object has no attribute 'multiply'"
     ]
    }
   ],
   "source": [
    "GHG_cons_pro_LU = ioagg.L.multiply(ioagg.impact.S.loc[ind],axis=0).multiply(Y_LU)"
   ]
  },
  {
   "cell_type": "code",
   "execution_count": 78,
   "metadata": {},
   "outputs": [
    {
     "data": {
      "text/plain": [
       "16563103054.282288"
      ]
     },
     "execution_count": 78,
     "metadata": {},
     "output_type": "execute_result"
    }
   ],
   "source": [
    "GHG_cons_pro_LU.sum().sum()"
   ]
  },
  {
   "cell_type": "code",
   "execution_count": 388,
   "metadata": {},
   "outputs": [
    {
     "data": {
      "text/html": [
       "<div>\n",
       "<style scoped>\n",
       "    .dataframe tbody tr th:only-of-type {\n",
       "        vertical-align: middle;\n",
       "    }\n",
       "\n",
       "    .dataframe tbody tr th {\n",
       "        vertical-align: top;\n",
       "    }\n",
       "\n",
       "    .dataframe thead th {\n",
       "        text-align: right;\n",
       "    }\n",
       "</style>\n",
       "<table border=\"1\" class=\"dataframe\">\n",
       "  <thead>\n",
       "    <tr style=\"text-align: right;\">\n",
       "      <th></th>\n",
       "      <th>region</th>\n",
       "      <th>BE</th>\n",
       "      <th>DE</th>\n",
       "      <th>EU28</th>\n",
       "      <th>FA</th>\n",
       "      <th>FR</th>\n",
       "      <th>LU</th>\n",
       "      <th>World</th>\n",
       "    </tr>\n",
       "    <tr>\n",
       "      <th>region</th>\n",
       "      <th>sector</th>\n",
       "      <th></th>\n",
       "      <th></th>\n",
       "      <th></th>\n",
       "      <th></th>\n",
       "      <th></th>\n",
       "      <th></th>\n",
       "      <th></th>\n",
       "    </tr>\n",
       "  </thead>\n",
       "  <tbody>\n",
       "    <tr>\n",
       "      <th rowspan=\"5\" valign=\"top\">LU</th>\n",
       "      <th>Paddy rice</th>\n",
       "      <td>0.000000</td>\n",
       "      <td>0.000000</td>\n",
       "      <td>0.000000</td>\n",
       "      <td>0.000000</td>\n",
       "      <td>0.000000</td>\n",
       "      <td>0.000000e+00</td>\n",
       "      <td>0.000000e+00</td>\n",
       "    </tr>\n",
       "    <tr>\n",
       "      <th>Wheat</th>\n",
       "      <td>22591.541684</td>\n",
       "      <td>44459.867729</td>\n",
       "      <td>146711.309349</td>\n",
       "      <td>1268.967930</td>\n",
       "      <td>71148.484449</td>\n",
       "      <td>8.760347e+07</td>\n",
       "      <td>3.535632e+03</td>\n",
       "    </tr>\n",
       "    <tr>\n",
       "      <th>Cereal grains nec</th>\n",
       "      <td>3220.263693</td>\n",
       "      <td>6201.913323</td>\n",
       "      <td>7668.528821</td>\n",
       "      <td>319.571398</td>\n",
       "      <td>27969.736409</td>\n",
       "      <td>8.266841e+06</td>\n",
       "      <td>1.009148e+03</td>\n",
       "    </tr>\n",
       "    <tr>\n",
       "      <th>Vegetables, fruit, nuts</th>\n",
       "      <td>522.266537</td>\n",
       "      <td>1756.230927</td>\n",
       "      <td>7872.413400</td>\n",
       "      <td>73.481803</td>\n",
       "      <td>6283.796328</td>\n",
       "      <td>4.728286e+06</td>\n",
       "      <td>1.327924e+03</td>\n",
       "    </tr>\n",
       "    <tr>\n",
       "      <th>Oil seeds</th>\n",
       "      <td>105.851315</td>\n",
       "      <td>331.235064</td>\n",
       "      <td>209.828501</td>\n",
       "      <td>14.957695</td>\n",
       "      <td>1413.910086</td>\n",
       "      <td>3.114772e+05</td>\n",
       "      <td>2.785315e+01</td>\n",
       "    </tr>\n",
       "    <tr>\n",
       "      <th>...</th>\n",
       "      <th>...</th>\n",
       "      <td>...</td>\n",
       "      <td>...</td>\n",
       "      <td>...</td>\n",
       "      <td>...</td>\n",
       "      <td>...</td>\n",
       "      <td>...</td>\n",
       "      <td>...</td>\n",
       "    </tr>\n",
       "    <tr>\n",
       "      <th rowspan=\"5\" valign=\"top\">World</th>\n",
       "      <th>Membership organisation services n.e.c. (91)</th>\n",
       "      <td>-633.010746</td>\n",
       "      <td>33952.458954</td>\n",
       "      <td>87388.348140</td>\n",
       "      <td>639.694247</td>\n",
       "      <td>33435.515635</td>\n",
       "      <td>6.684011e+05</td>\n",
       "      <td>1.877981e+06</td>\n",
       "    </tr>\n",
       "    <tr>\n",
       "      <th>Recreational, cultural and sporting services (92)</th>\n",
       "      <td>15893.059881</td>\n",
       "      <td>53278.861547</td>\n",
       "      <td>117049.677924</td>\n",
       "      <td>1257.503021</td>\n",
       "      <td>71076.282434</td>\n",
       "      <td>1.247980e+06</td>\n",
       "      <td>3.142859e+06</td>\n",
       "    </tr>\n",
       "    <tr>\n",
       "      <th>Other services (93)</th>\n",
       "      <td>6060.769230</td>\n",
       "      <td>41826.269285</td>\n",
       "      <td>102184.515528</td>\n",
       "      <td>834.438164</td>\n",
       "      <td>41180.946845</td>\n",
       "      <td>6.160573e+05</td>\n",
       "      <td>1.980978e+06</td>\n",
       "    </tr>\n",
       "    <tr>\n",
       "      <th>Private households with employed persons (95)</th>\n",
       "      <td>3127.822692</td>\n",
       "      <td>8269.828212</td>\n",
       "      <td>36555.645823</td>\n",
       "      <td>284.317426</td>\n",
       "      <td>9573.935406</td>\n",
       "      <td>4.553095e+05</td>\n",
       "      <td>6.034366e+05</td>\n",
       "    </tr>\n",
       "    <tr>\n",
       "      <th>Extra-territorial organizations and bodies</th>\n",
       "      <td>0.000000</td>\n",
       "      <td>0.000000</td>\n",
       "      <td>0.000000</td>\n",
       "      <td>0.000000</td>\n",
       "      <td>0.000000</td>\n",
       "      <td>0.000000e+00</td>\n",
       "      <td>0.000000e+00</td>\n",
       "    </tr>\n",
       "  </tbody>\n",
       "</table>\n",
       "<p>1400 rows × 7 columns</p>\n",
       "</div>"
      ],
      "text/plain": [
       "region                                                              BE  \\\n",
       "region sector                                                            \n",
       "LU     Paddy rice                                             0.000000   \n",
       "       Wheat                                              22591.541684   \n",
       "       Cereal grains nec                                   3220.263693   \n",
       "       Vegetables, fruit, nuts                              522.266537   \n",
       "       Oil seeds                                            105.851315   \n",
       "...                                                                ...   \n",
       "World  Membership organisation services n.e.c. (91)        -633.010746   \n",
       "       Recreational, cultural and sporting services (92)  15893.059881   \n",
       "       Other services (93)                                 6060.769230   \n",
       "       Private households with employed persons (95)       3127.822692   \n",
       "       Extra-territorial organizations and bodies             0.000000   \n",
       "\n",
       "region                                                              DE  \\\n",
       "region sector                                                            \n",
       "LU     Paddy rice                                             0.000000   \n",
       "       Wheat                                              44459.867729   \n",
       "       Cereal grains nec                                   6201.913323   \n",
       "       Vegetables, fruit, nuts                             1756.230927   \n",
       "       Oil seeds                                            331.235064   \n",
       "...                                                                ...   \n",
       "World  Membership organisation services n.e.c. (91)       33952.458954   \n",
       "       Recreational, cultural and sporting services (92)  53278.861547   \n",
       "       Other services (93)                                41826.269285   \n",
       "       Private households with employed persons (95)       8269.828212   \n",
       "       Extra-territorial organizations and bodies             0.000000   \n",
       "\n",
       "region                                                             EU28  \\\n",
       "region sector                                                             \n",
       "LU     Paddy rice                                              0.000000   \n",
       "       Wheat                                              146711.309349   \n",
       "       Cereal grains nec                                    7668.528821   \n",
       "       Vegetables, fruit, nuts                              7872.413400   \n",
       "       Oil seeds                                             209.828501   \n",
       "...                                                                 ...   \n",
       "World  Membership organisation services n.e.c. (91)        87388.348140   \n",
       "       Recreational, cultural and sporting services (92)  117049.677924   \n",
       "       Other services (93)                                102184.515528   \n",
       "       Private households with employed persons (95)       36555.645823   \n",
       "       Extra-territorial organizations and bodies              0.000000   \n",
       "\n",
       "region                                                             FA  \\\n",
       "region sector                                                           \n",
       "LU     Paddy rice                                            0.000000   \n",
       "       Wheat                                              1268.967930   \n",
       "       Cereal grains nec                                   319.571398   \n",
       "       Vegetables, fruit, nuts                              73.481803   \n",
       "       Oil seeds                                            14.957695   \n",
       "...                                                               ...   \n",
       "World  Membership organisation services n.e.c. (91)        639.694247   \n",
       "       Recreational, cultural and sporting services (92)  1257.503021   \n",
       "       Other services (93)                                 834.438164   \n",
       "       Private households with employed persons (95)       284.317426   \n",
       "       Extra-territorial organizations and bodies            0.000000   \n",
       "\n",
       "region                                                              FR  \\\n",
       "region sector                                                            \n",
       "LU     Paddy rice                                             0.000000   \n",
       "       Wheat                                              71148.484449   \n",
       "       Cereal grains nec                                  27969.736409   \n",
       "       Vegetables, fruit, nuts                             6283.796328   \n",
       "       Oil seeds                                           1413.910086   \n",
       "...                                                                ...   \n",
       "World  Membership organisation services n.e.c. (91)       33435.515635   \n",
       "       Recreational, cultural and sporting services (92)  71076.282434   \n",
       "       Other services (93)                                41180.946845   \n",
       "       Private households with employed persons (95)       9573.935406   \n",
       "       Extra-territorial organizations and bodies             0.000000   \n",
       "\n",
       "region                                                              LU  \\\n",
       "region sector                                                            \n",
       "LU     Paddy rice                                         0.000000e+00   \n",
       "       Wheat                                              8.760347e+07   \n",
       "       Cereal grains nec                                  8.266841e+06   \n",
       "       Vegetables, fruit, nuts                            4.728286e+06   \n",
       "       Oil seeds                                          3.114772e+05   \n",
       "...                                                                ...   \n",
       "World  Membership organisation services n.e.c. (91)       6.684011e+05   \n",
       "       Recreational, cultural and sporting services (92)  1.247980e+06   \n",
       "       Other services (93)                                6.160573e+05   \n",
       "       Private households with employed persons (95)      4.553095e+05   \n",
       "       Extra-territorial organizations and bodies         0.000000e+00   \n",
       "\n",
       "region                                                           World  \n",
       "region sector                                                           \n",
       "LU     Paddy rice                                         0.000000e+00  \n",
       "       Wheat                                              3.535632e+03  \n",
       "       Cereal grains nec                                  1.009148e+03  \n",
       "       Vegetables, fruit, nuts                            1.327924e+03  \n",
       "       Oil seeds                                          2.785315e+01  \n",
       "...                                                                ...  \n",
       "World  Membership organisation services n.e.c. (91)       1.877981e+06  \n",
       "       Recreational, cultural and sporting services (92)  3.142859e+06  \n",
       "       Other services (93)                                1.980978e+06  \n",
       "       Private households with employed persons (95)      6.034366e+05  \n",
       "       Extra-territorial organizations and bodies         0.000000e+00  \n",
       "\n",
       "[1400 rows x 7 columns]"
      ]
     },
     "execution_count": 388,
     "metadata": {},
     "output_type": "execute_result"
    }
   ],
   "source": [
    "GHG_cons_pro.groupby('region',axis=1).sum()"
   ]
  },
  {
   "cell_type": "code",
   "execution_count": 281,
   "metadata": {},
   "outputs": [],
   "source": [
    "x_diag=ioagg.L.dot(Y_diag)\n",
    "x_tot = x_diag.values.sum(1)"
   ]
  },
  {
   "cell_type": "code",
   "execution_count": 282,
   "metadata": {},
   "outputs": [
    {
     "data": {
      "text/plain": [
       "(36, 1400)"
      ]
     },
     "execution_count": 282,
     "metadata": {},
     "output_type": "execute_result"
    }
   ],
   "source": [
    "ioagg.impact.S.shape"
   ]
  },
  {
   "cell_type": "code",
   "execution_count": 297,
   "metadata": {
    "scrolled": true
   },
   "outputs": [],
   "source": [
    "M_df = S_block.dot(x_diag)"
   ]
  },
  {
   "cell_type": "code",
   "execution_count": 307,
   "metadata": {},
   "outputs": [
    {
     "data": {
      "text/plain": [
       "0          2.025696\n",
       "1         39.163543\n",
       "2          9.082983\n",
       "3       1067.382984\n",
       "4         83.244976\n",
       "           ...     \n",
       "9795       0.000000\n",
       "9796       0.000000\n",
       "9797       0.000000\n",
       "9798       0.000000\n",
       "9799       0.000000\n",
       "Length: 9800, dtype: float64"
      ]
     },
     "execution_count": 307,
     "metadata": {},
     "output_type": "execute_result"
    }
   ],
   "source": [
    "x_diag.sum()"
   ]
  },
  {
   "cell_type": "code",
   "execution_count": 284,
   "metadata": {},
   "outputs": [
    {
     "data": {
      "text/plain": [
       "region  sector                                           \n",
       "LU      Paddy rice                                           0.000000e+00\n",
       "        Wheat                                                1.617407e+07\n",
       "        Cereal grains nec                                    2.360393e+06\n",
       "        Vegetables, fruit, nuts                              8.283862e+05\n",
       "        Oil seeds                                            1.748793e+05\n",
       "                                                                 ...     \n",
       "World   Membership organisation services n.e.c. (91)         1.354390e+05\n",
       "        Recreational, cultural and sporting services (92)    8.192064e+04\n",
       "        Other services (93)                                  3.960583e+04\n",
       "        Private households with employed persons (95)        1.636878e+04\n",
       "        Extra-territorial organizations and bodies           0.000000e+00\n",
       "Name: Climate change, short term (kg CO2 eq (short)), Length: 1400, dtype: float64"
      ]
     },
     "execution_count": 284,
     "metadata": {},
     "output_type": "execute_result"
    }
   ],
   "source": [
    "ioagg.impact.S.loc[ind]"
   ]
  },
  {
   "cell_type": "code",
   "execution_count": 285,
   "metadata": {},
   "outputs": [],
   "source": [
    "M_df = ioagg.L.mul(ioagg.impact.S.loc[ind],axis=0)"
   ]
  },
  {
   "cell_type": "code",
   "execution_count": 286,
   "metadata": {},
   "outputs": [
    {
     "data": {
      "text/html": [
       "<div>\n",
       "<style scoped>\n",
       "    .dataframe tbody tr th:only-of-type {\n",
       "        vertical-align: middle;\n",
       "    }\n",
       "\n",
       "    .dataframe tbody tr th {\n",
       "        vertical-align: top;\n",
       "    }\n",
       "\n",
       "    .dataframe thead tr th {\n",
       "        text-align: left;\n",
       "    }\n",
       "\n",
       "    .dataframe thead tr:last-of-type th {\n",
       "        text-align: right;\n",
       "    }\n",
       "</style>\n",
       "<table border=\"1\" class=\"dataframe\">\n",
       "  <thead>\n",
       "    <tr>\n",
       "      <th></th>\n",
       "      <th>region</th>\n",
       "      <th colspan=\"10\" halign=\"left\">LU</th>\n",
       "      <th>...</th>\n",
       "      <th colspan=\"10\" halign=\"left\">World</th>\n",
       "    </tr>\n",
       "    <tr>\n",
       "      <th></th>\n",
       "      <th>sector</th>\n",
       "      <th>Paddy rice</th>\n",
       "      <th>Wheat</th>\n",
       "      <th>Cereal grains nec</th>\n",
       "      <th>Vegetables, fruit, nuts</th>\n",
       "      <th>Oil seeds</th>\n",
       "      <th>Sugar cane, sugar beet</th>\n",
       "      <th>Plant-based fibers</th>\n",
       "      <th>Crops nec</th>\n",
       "      <th>Cattle</th>\n",
       "      <th>Pigs</th>\n",
       "      <th>...</th>\n",
       "      <th>Paper for treatment: landfill</th>\n",
       "      <th>Plastic waste for treatment: landfill</th>\n",
       "      <th>Inert/metal/hazardous waste for treatment: landfill</th>\n",
       "      <th>Textiles waste for treatment: landfill</th>\n",
       "      <th>Wood waste for treatment: landfill</th>\n",
       "      <th>Membership organisation services n.e.c. (91)</th>\n",
       "      <th>Recreational, cultural and sporting services (92)</th>\n",
       "      <th>Other services (93)</th>\n",
       "      <th>Private households with employed persons (95)</th>\n",
       "      <th>Extra-territorial organizations and bodies</th>\n",
       "    </tr>\n",
       "    <tr>\n",
       "      <th>region</th>\n",
       "      <th>sector</th>\n",
       "      <th></th>\n",
       "      <th></th>\n",
       "      <th></th>\n",
       "      <th></th>\n",
       "      <th></th>\n",
       "      <th></th>\n",
       "      <th></th>\n",
       "      <th></th>\n",
       "      <th></th>\n",
       "      <th></th>\n",
       "      <th></th>\n",
       "      <th></th>\n",
       "      <th></th>\n",
       "      <th></th>\n",
       "      <th></th>\n",
       "      <th></th>\n",
       "      <th></th>\n",
       "      <th></th>\n",
       "      <th></th>\n",
       "      <th></th>\n",
       "      <th></th>\n",
       "    </tr>\n",
       "  </thead>\n",
       "  <tbody>\n",
       "    <tr>\n",
       "      <th rowspan=\"5\" valign=\"top\">LU</th>\n",
       "      <th>Paddy rice</th>\n",
       "      <td>0.0</td>\n",
       "      <td>0.000000e+00</td>\n",
       "      <td>0.000000e+00</td>\n",
       "      <td>0.000000</td>\n",
       "      <td>0.000000</td>\n",
       "      <td>0.000000</td>\n",
       "      <td>0.0</td>\n",
       "      <td>0.000000</td>\n",
       "      <td>0.000000</td>\n",
       "      <td>0.000000</td>\n",
       "      <td>...</td>\n",
       "      <td>0.000000</td>\n",
       "      <td>0.000000</td>\n",
       "      <td>0.000000</td>\n",
       "      <td>0.000000</td>\n",
       "      <td>0.000000</td>\n",
       "      <td>0.000000</td>\n",
       "      <td>0.000000</td>\n",
       "      <td>0.000000</td>\n",
       "      <td>0.000000</td>\n",
       "      <td>0.0</td>\n",
       "    </tr>\n",
       "    <tr>\n",
       "      <th>Wheat</th>\n",
       "      <td>0.0</td>\n",
       "      <td>1.620398e+07</td>\n",
       "      <td>2.451913e+01</td>\n",
       "      <td>13.767809</td>\n",
       "      <td>18.856917</td>\n",
       "      <td>14.825012</td>\n",
       "      <td>0.0</td>\n",
       "      <td>3683.809427</td>\n",
       "      <td>23.397857</td>\n",
       "      <td>6744.796486</td>\n",
       "      <td>...</td>\n",
       "      <td>0.536278</td>\n",
       "      <td>0.473953</td>\n",
       "      <td>0.599082</td>\n",
       "      <td>0.423075</td>\n",
       "      <td>0.460544</td>\n",
       "      <td>0.680071</td>\n",
       "      <td>0.534129</td>\n",
       "      <td>0.486022</td>\n",
       "      <td>0.304645</td>\n",
       "      <td>0.0</td>\n",
       "    </tr>\n",
       "    <tr>\n",
       "      <th>Cereal grains nec</th>\n",
       "      <td>0.0</td>\n",
       "      <td>2.851189e+00</td>\n",
       "      <td>2.363767e+06</td>\n",
       "      <td>2.003954</td>\n",
       "      <td>2.742895</td>\n",
       "      <td>2.182841</td>\n",
       "      <td>0.0</td>\n",
       "      <td>438.180561</td>\n",
       "      <td>2.881737</td>\n",
       "      <td>3317.281400</td>\n",
       "      <td>...</td>\n",
       "      <td>0.168663</td>\n",
       "      <td>0.086970</td>\n",
       "      <td>0.190887</td>\n",
       "      <td>0.085814</td>\n",
       "      <td>0.092448</td>\n",
       "      <td>0.201218</td>\n",
       "      <td>0.177871</td>\n",
       "      <td>0.166981</td>\n",
       "      <td>0.120621</td>\n",
       "      <td>0.0</td>\n",
       "    </tr>\n",
       "    <tr>\n",
       "      <th>Vegetables, fruit, nuts</th>\n",
       "      <td>0.0</td>\n",
       "      <td>1.085870e+00</td>\n",
       "      <td>1.341285e+00</td>\n",
       "      <td>835160.648466</td>\n",
       "      <td>0.896447</td>\n",
       "      <td>1.682016</td>\n",
       "      <td>0.0</td>\n",
       "      <td>1.471971</td>\n",
       "      <td>2.586910</td>\n",
       "      <td>83.667936</td>\n",
       "      <td>...</td>\n",
       "      <td>0.251316</td>\n",
       "      <td>0.188613</td>\n",
       "      <td>0.268654</td>\n",
       "      <td>0.088689</td>\n",
       "      <td>0.126120</td>\n",
       "      <td>0.140785</td>\n",
       "      <td>0.181415</td>\n",
       "      <td>0.171696</td>\n",
       "      <td>0.080753</td>\n",
       "      <td>0.0</td>\n",
       "    </tr>\n",
       "    <tr>\n",
       "      <th>Oil seeds</th>\n",
       "      <td>0.0</td>\n",
       "      <td>8.028191e-02</td>\n",
       "      <td>1.028887e-01</td>\n",
       "      <td>0.057743</td>\n",
       "      <td>175007.427226</td>\n",
       "      <td>0.064869</td>\n",
       "      <td>0.0</td>\n",
       "      <td>0.099820</td>\n",
       "      <td>0.027008</td>\n",
       "      <td>0.436847</td>\n",
       "      <td>...</td>\n",
       "      <td>0.002871</td>\n",
       "      <td>0.002347</td>\n",
       "      <td>0.003191</td>\n",
       "      <td>0.001445</td>\n",
       "      <td>0.001600</td>\n",
       "      <td>0.005643</td>\n",
       "      <td>0.005286</td>\n",
       "      <td>0.004749</td>\n",
       "      <td>0.001196</td>\n",
       "      <td>0.0</td>\n",
       "    </tr>\n",
       "  </tbody>\n",
       "</table>\n",
       "<p>5 rows × 1400 columns</p>\n",
       "</div>"
      ],
      "text/plain": [
       "region                                 LU                                  \\\n",
       "sector                         Paddy rice         Wheat Cereal grains nec   \n",
       "region sector                                                               \n",
       "LU     Paddy rice                     0.0  0.000000e+00      0.000000e+00   \n",
       "       Wheat                          0.0  1.620398e+07      2.451913e+01   \n",
       "       Cereal grains nec              0.0  2.851189e+00      2.363767e+06   \n",
       "       Vegetables, fruit, nuts        0.0  1.085870e+00      1.341285e+00   \n",
       "       Oil seeds                      0.0  8.028191e-02      1.028887e-01   \n",
       "\n",
       "region                                                                 \\\n",
       "sector                         Vegetables, fruit, nuts      Oil seeds   \n",
       "region sector                                                           \n",
       "LU     Paddy rice                             0.000000       0.000000   \n",
       "       Wheat                                 13.767809      18.856917   \n",
       "       Cereal grains nec                      2.003954       2.742895   \n",
       "       Vegetables, fruit, nuts           835160.648466       0.896447   \n",
       "       Oil seeds                              0.057743  175007.427226   \n",
       "\n",
       "region                                                                    \\\n",
       "sector                         Sugar cane, sugar beet Plant-based fibers   \n",
       "region sector                                                              \n",
       "LU     Paddy rice                            0.000000                0.0   \n",
       "       Wheat                                14.825012                0.0   \n",
       "       Cereal grains nec                     2.182841                0.0   \n",
       "       Vegetables, fruit, nuts               1.682016                0.0   \n",
       "       Oil seeds                             0.064869                0.0   \n",
       "\n",
       "region                                                               ...  \\\n",
       "sector                            Crops nec     Cattle         Pigs  ...   \n",
       "region sector                                                        ...   \n",
       "LU     Paddy rice                  0.000000   0.000000     0.000000  ...   \n",
       "       Wheat                    3683.809427  23.397857  6744.796486  ...   \n",
       "       Cereal grains nec         438.180561   2.881737  3317.281400  ...   \n",
       "       Vegetables, fruit, nuts     1.471971   2.586910    83.667936  ...   \n",
       "       Oil seeds                   0.099820   0.027008     0.436847  ...   \n",
       "\n",
       "region                                                 World  \\\n",
       "sector                         Paper for treatment: landfill   \n",
       "region sector                                                  \n",
       "LU     Paddy rice                                   0.000000   \n",
       "       Wheat                                        0.536278   \n",
       "       Cereal grains nec                            0.168663   \n",
       "       Vegetables, fruit, nuts                      0.251316   \n",
       "       Oil seeds                                    0.002871   \n",
       "\n",
       "region                                                                \\\n",
       "sector                         Plastic waste for treatment: landfill   \n",
       "region sector                                                          \n",
       "LU     Paddy rice                                           0.000000   \n",
       "       Wheat                                                0.473953   \n",
       "       Cereal grains nec                                    0.086970   \n",
       "       Vegetables, fruit, nuts                              0.188613   \n",
       "       Oil seeds                                            0.002347   \n",
       "\n",
       "region                                                                              \\\n",
       "sector                         Inert/metal/hazardous waste for treatment: landfill   \n",
       "region sector                                                                        \n",
       "LU     Paddy rice                                                        0.000000    \n",
       "       Wheat                                                             0.599082    \n",
       "       Cereal grains nec                                                 0.190887    \n",
       "       Vegetables, fruit, nuts                                           0.268654    \n",
       "       Oil seeds                                                         0.003191    \n",
       "\n",
       "region                                                                 \\\n",
       "sector                         Textiles waste for treatment: landfill   \n",
       "region sector                                                           \n",
       "LU     Paddy rice                                            0.000000   \n",
       "       Wheat                                                 0.423075   \n",
       "       Cereal grains nec                                     0.085814   \n",
       "       Vegetables, fruit, nuts                               0.088689   \n",
       "       Oil seeds                                             0.001445   \n",
       "\n",
       "region                                                             \\\n",
       "sector                         Wood waste for treatment: landfill   \n",
       "region sector                                                       \n",
       "LU     Paddy rice                                        0.000000   \n",
       "       Wheat                                             0.460544   \n",
       "       Cereal grains nec                                 0.092448   \n",
       "       Vegetables, fruit, nuts                           0.126120   \n",
       "       Oil seeds                                         0.001600   \n",
       "\n",
       "region                                                                       \\\n",
       "sector                         Membership organisation services n.e.c. (91)   \n",
       "region sector                                                                 \n",
       "LU     Paddy rice                                                  0.000000   \n",
       "       Wheat                                                       0.680071   \n",
       "       Cereal grains nec                                           0.201218   \n",
       "       Vegetables, fruit, nuts                                     0.140785   \n",
       "       Oil seeds                                                   0.005643   \n",
       "\n",
       "region                                                                            \\\n",
       "sector                         Recreational, cultural and sporting services (92)   \n",
       "region sector                                                                      \n",
       "LU     Paddy rice                                                       0.000000   \n",
       "       Wheat                                                            0.534129   \n",
       "       Cereal grains nec                                                0.177871   \n",
       "       Vegetables, fruit, nuts                                          0.181415   \n",
       "       Oil seeds                                                        0.005286   \n",
       "\n",
       "region                                              \\\n",
       "sector                         Other services (93)   \n",
       "region sector                                        \n",
       "LU     Paddy rice                         0.000000   \n",
       "       Wheat                              0.486022   \n",
       "       Cereal grains nec                  0.166981   \n",
       "       Vegetables, fruit, nuts            0.171696   \n",
       "       Oil seeds                          0.004749   \n",
       "\n",
       "region                                                                        \\\n",
       "sector                         Private households with employed persons (95)   \n",
       "region sector                                                                  \n",
       "LU     Paddy rice                                                   0.000000   \n",
       "       Wheat                                                        0.304645   \n",
       "       Cereal grains nec                                            0.120621   \n",
       "       Vegetables, fruit, nuts                                      0.080753   \n",
       "       Oil seeds                                                    0.001196   \n",
       "\n",
       "region                                                                     \n",
       "sector                         Extra-territorial organizations and bodies  \n",
       "region sector                                                              \n",
       "LU     Paddy rice                                                     0.0  \n",
       "       Wheat                                                          0.0  \n",
       "       Cereal grains nec                                              0.0  \n",
       "       Vegetables, fruit, nuts                                        0.0  \n",
       "       Oil seeds                                                      0.0  \n",
       "\n",
       "[5 rows x 1400 columns]"
      ]
     },
     "execution_count": 286,
     "metadata": {},
     "output_type": "execute_result"
    }
   ],
   "source": [
    "M_df.head()"
   ]
  },
  {
   "cell_type": "code",
   "execution_count": 295,
   "metadata": {},
   "outputs": [
    {
     "ename": "ValueError",
     "evalue": "cannot join with no overlapping index names",
     "output_type": "error",
     "traceback": [
      "\u001b[0;31m---------------------------------------------------------------------------\u001b[0m",
      "\u001b[0;31mValueError\u001b[0m                                Traceback (most recent call last)",
      "\u001b[0;32m<ipython-input-295-35af06188a96>\u001b[0m in \u001b[0;36m<module>\u001b[0;34m\u001b[0m\n\u001b[0;32m----> 1\u001b[0;31m \u001b[0mGWP_territorial\u001b[0m \u001b[0;34m=\u001b[0m \u001b[0mioagg\u001b[0m\u001b[0;34m.\u001b[0m\u001b[0mimpact\u001b[0m\u001b[0;34m.\u001b[0m\u001b[0mS\u001b[0m\u001b[0;34m.\u001b[0m\u001b[0mloc\u001b[0m\u001b[0;34m[\u001b[0m\u001b[0mind\u001b[0m\u001b[0;34m]\u001b[0m\u001b[0;34m.\u001b[0m\u001b[0mmul\u001b[0m\u001b[0;34m(\u001b[0m\u001b[0mioagg\u001b[0m\u001b[0;34m.\u001b[0m\u001b[0mL\u001b[0m\u001b[0;34m.\u001b[0m\u001b[0mdot\u001b[0m\u001b[0;34m(\u001b[0m\u001b[0mY_diag\u001b[0m\u001b[0;34m)\u001b[0m\u001b[0;34m)\u001b[0m\u001b[0;34m\u001b[0m\u001b[0;34m\u001b[0m\u001b[0m\n\u001b[0m",
      "\u001b[0;32m~/.conda/envs/refund/lib/python3.8/site-packages/pandas/core/ops/__init__.py\u001b[0m in \u001b[0;36mflex_wrapper\u001b[0;34m(self, other, level, fill_value, axis)\u001b[0m\n\u001b[1;32m    578\u001b[0m                 \u001b[0mself\u001b[0m \u001b[0;34m=\u001b[0m \u001b[0mself\u001b[0m\u001b[0;34m.\u001b[0m\u001b[0mfillna\u001b[0m\u001b[0;34m(\u001b[0m\u001b[0mfill_value\u001b[0m\u001b[0;34m)\u001b[0m\u001b[0;34m\u001b[0m\u001b[0;34m\u001b[0m\u001b[0m\n\u001b[1;32m    579\u001b[0m \u001b[0;34m\u001b[0m\u001b[0m\n\u001b[0;32m--> 580\u001b[0;31m             \u001b[0;32mreturn\u001b[0m \u001b[0mop\u001b[0m\u001b[0;34m(\u001b[0m\u001b[0mself\u001b[0m\u001b[0;34m,\u001b[0m \u001b[0mother\u001b[0m\u001b[0;34m)\u001b[0m\u001b[0;34m\u001b[0m\u001b[0;34m\u001b[0m\u001b[0m\n\u001b[0m\u001b[1;32m    581\u001b[0m \u001b[0;34m\u001b[0m\u001b[0m\n\u001b[1;32m    582\u001b[0m     \u001b[0mflex_wrapper\u001b[0m\u001b[0;34m.\u001b[0m\u001b[0m__name__\u001b[0m \u001b[0;34m=\u001b[0m \u001b[0mname\u001b[0m\u001b[0;34m\u001b[0m\u001b[0;34m\u001b[0m\u001b[0m\n",
      "\u001b[0;32m~/.conda/envs/refund/lib/python3.8/site-packages/pandas/core/ops/__init__.py\u001b[0m in \u001b[0;36mf\u001b[0;34m(self, other, axis, level, fill_value)\u001b[0m\n\u001b[1;32m    773\u001b[0m             \u001b[0mpass_op\u001b[0m \u001b[0;34m=\u001b[0m \u001b[0mop\u001b[0m \u001b[0;32mif\u001b[0m \u001b[0maxis\u001b[0m \u001b[0;32min\u001b[0m \u001b[0;34m[\u001b[0m\u001b[0;36m0\u001b[0m\u001b[0;34m,\u001b[0m \u001b[0;34m\"columns\"\u001b[0m\u001b[0;34m,\u001b[0m \u001b[0;32mNone\u001b[0m\u001b[0;34m]\u001b[0m \u001b[0;32melse\u001b[0m \u001b[0mna_op\u001b[0m\u001b[0;34m\u001b[0m\u001b[0;34m\u001b[0m\u001b[0m\n\u001b[1;32m    774\u001b[0m             \u001b[0mpass_op\u001b[0m \u001b[0;34m=\u001b[0m \u001b[0mpass_op\u001b[0m \u001b[0;32mif\u001b[0m \u001b[0;32mnot\u001b[0m \u001b[0mis_logical\u001b[0m \u001b[0;32melse\u001b[0m \u001b[0mop\u001b[0m\u001b[0;34m\u001b[0m\u001b[0;34m\u001b[0m\u001b[0m\n\u001b[0;32m--> 775\u001b[0;31m             return _combine_series_frame(\n\u001b[0m\u001b[1;32m    776\u001b[0m                 \u001b[0mself\u001b[0m\u001b[0;34m,\u001b[0m \u001b[0mother\u001b[0m\u001b[0;34m,\u001b[0m \u001b[0mpass_op\u001b[0m\u001b[0;34m,\u001b[0m \u001b[0mfill_value\u001b[0m\u001b[0;34m=\u001b[0m\u001b[0mfill_value\u001b[0m\u001b[0;34m,\u001b[0m \u001b[0maxis\u001b[0m\u001b[0;34m=\u001b[0m\u001b[0maxis\u001b[0m\u001b[0;34m,\u001b[0m \u001b[0mlevel\u001b[0m\u001b[0;34m=\u001b[0m\u001b[0mlevel\u001b[0m\u001b[0;34m\u001b[0m\u001b[0;34m\u001b[0m\u001b[0m\n\u001b[1;32m    777\u001b[0m             )\n",
      "\u001b[0;32m~/.conda/envs/refund/lib/python3.8/site-packages/pandas/core/ops/__init__.py\u001b[0m in \u001b[0;36m_combine_series_frame\u001b[0;34m(self, other, func, fill_value, axis, level)\u001b[0m\n\u001b[1;32m    614\u001b[0m \u001b[0;34m\u001b[0m\u001b[0m\n\u001b[1;32m    615\u001b[0m     \u001b[0maxis\u001b[0m \u001b[0;34m=\u001b[0m \u001b[0mself\u001b[0m\u001b[0;34m.\u001b[0m\u001b[0m_get_axis_number\u001b[0m\u001b[0;34m(\u001b[0m\u001b[0maxis\u001b[0m\u001b[0;34m)\u001b[0m\u001b[0;34m\u001b[0m\u001b[0;34m\u001b[0m\u001b[0m\n\u001b[0;32m--> 616\u001b[0;31m     \u001b[0mleft\u001b[0m\u001b[0;34m,\u001b[0m \u001b[0mright\u001b[0m \u001b[0;34m=\u001b[0m \u001b[0mself\u001b[0m\u001b[0;34m.\u001b[0m\u001b[0malign\u001b[0m\u001b[0;34m(\u001b[0m\u001b[0mother\u001b[0m\u001b[0;34m,\u001b[0m \u001b[0mjoin\u001b[0m\u001b[0;34m=\u001b[0m\u001b[0;34m\"outer\"\u001b[0m\u001b[0;34m,\u001b[0m \u001b[0maxis\u001b[0m\u001b[0;34m=\u001b[0m\u001b[0maxis\u001b[0m\u001b[0;34m,\u001b[0m \u001b[0mlevel\u001b[0m\u001b[0;34m=\u001b[0m\u001b[0mlevel\u001b[0m\u001b[0;34m,\u001b[0m \u001b[0mcopy\u001b[0m\u001b[0;34m=\u001b[0m\u001b[0;32mFalse\u001b[0m\u001b[0;34m)\u001b[0m\u001b[0;34m\u001b[0m\u001b[0;34m\u001b[0m\u001b[0m\n\u001b[0m\u001b[1;32m    617\u001b[0m     \u001b[0;32mif\u001b[0m \u001b[0maxis\u001b[0m \u001b[0;34m==\u001b[0m \u001b[0;36m0\u001b[0m\u001b[0;34m:\u001b[0m\u001b[0;34m\u001b[0m\u001b[0;34m\u001b[0m\u001b[0m\n\u001b[1;32m    618\u001b[0m         \u001b[0mnew_data\u001b[0m \u001b[0;34m=\u001b[0m \u001b[0mleft\u001b[0m\u001b[0;34m.\u001b[0m\u001b[0m_combine_match_index\u001b[0m\u001b[0;34m(\u001b[0m\u001b[0mright\u001b[0m\u001b[0;34m,\u001b[0m \u001b[0mfunc\u001b[0m\u001b[0;34m)\u001b[0m\u001b[0;34m\u001b[0m\u001b[0;34m\u001b[0m\u001b[0m\n",
      "\u001b[0;32m~/.conda/envs/refund/lib/python3.8/site-packages/pandas/core/frame.py\u001b[0m in \u001b[0;36malign\u001b[0;34m(self, other, join, axis, level, copy, fill_value, method, limit, fill_axis, broadcast_axis)\u001b[0m\n\u001b[1;32m   3822\u001b[0m         \u001b[0mbroadcast_axis\u001b[0m\u001b[0;34m=\u001b[0m\u001b[0;32mNone\u001b[0m\u001b[0;34m,\u001b[0m\u001b[0;34m\u001b[0m\u001b[0;34m\u001b[0m\u001b[0m\n\u001b[1;32m   3823\u001b[0m     ) -> \"DataFrame\":\n\u001b[0;32m-> 3824\u001b[0;31m         return super().align(\n\u001b[0m\u001b[1;32m   3825\u001b[0m             \u001b[0mother\u001b[0m\u001b[0;34m,\u001b[0m\u001b[0;34m\u001b[0m\u001b[0;34m\u001b[0m\u001b[0m\n\u001b[1;32m   3826\u001b[0m             \u001b[0mjoin\u001b[0m\u001b[0;34m=\u001b[0m\u001b[0mjoin\u001b[0m\u001b[0;34m,\u001b[0m\u001b[0;34m\u001b[0m\u001b[0;34m\u001b[0m\u001b[0m\n",
      "\u001b[0;32m~/.conda/envs/refund/lib/python3.8/site-packages/pandas/core/generic.py\u001b[0m in \u001b[0;36malign\u001b[0;34m(self, other, join, axis, level, copy, fill_value, method, limit, fill_axis, broadcast_axis)\u001b[0m\n\u001b[1;32m   8475\u001b[0m             )\n\u001b[1;32m   8476\u001b[0m         \u001b[0;32melif\u001b[0m \u001b[0misinstance\u001b[0m\u001b[0;34m(\u001b[0m\u001b[0mother\u001b[0m\u001b[0;34m,\u001b[0m \u001b[0mABCSeries\u001b[0m\u001b[0;34m)\u001b[0m\u001b[0;34m:\u001b[0m\u001b[0;34m\u001b[0m\u001b[0;34m\u001b[0m\u001b[0m\n\u001b[0;32m-> 8477\u001b[0;31m             return self._align_series(\n\u001b[0m\u001b[1;32m   8478\u001b[0m                 \u001b[0mother\u001b[0m\u001b[0;34m,\u001b[0m\u001b[0;34m\u001b[0m\u001b[0;34m\u001b[0m\u001b[0m\n\u001b[1;32m   8479\u001b[0m                 \u001b[0mjoin\u001b[0m\u001b[0;34m=\u001b[0m\u001b[0mjoin\u001b[0m\u001b[0;34m,\u001b[0m\u001b[0;34m\u001b[0m\u001b[0;34m\u001b[0m\u001b[0m\n",
      "\u001b[0;32m~/.conda/envs/refund/lib/python3.8/site-packages/pandas/core/generic.py\u001b[0m in \u001b[0;36m_align_series\u001b[0;34m(self, other, join, axis, level, copy, fill_value, method, limit, fill_axis)\u001b[0m\n\u001b[1;32m   8600\u001b[0m                 \u001b[0mlidx\u001b[0m\u001b[0;34m,\u001b[0m \u001b[0mridx\u001b[0m \u001b[0;34m=\u001b[0m \u001b[0;32mNone\u001b[0m\u001b[0;34m,\u001b[0m \u001b[0;32mNone\u001b[0m\u001b[0;34m\u001b[0m\u001b[0;34m\u001b[0m\u001b[0m\n\u001b[1;32m   8601\u001b[0m                 \u001b[0;32mif\u001b[0m \u001b[0;32mnot\u001b[0m \u001b[0mself\u001b[0m\u001b[0;34m.\u001b[0m\u001b[0mcolumns\u001b[0m\u001b[0;34m.\u001b[0m\u001b[0mequals\u001b[0m\u001b[0;34m(\u001b[0m\u001b[0mother\u001b[0m\u001b[0;34m.\u001b[0m\u001b[0mindex\u001b[0m\u001b[0;34m)\u001b[0m\u001b[0;34m:\u001b[0m\u001b[0;34m\u001b[0m\u001b[0;34m\u001b[0m\u001b[0m\n\u001b[0;32m-> 8602\u001b[0;31m                     join_index, lidx, ridx = self.columns.join(\n\u001b[0m\u001b[1;32m   8603\u001b[0m                         \u001b[0mother\u001b[0m\u001b[0;34m.\u001b[0m\u001b[0mindex\u001b[0m\u001b[0;34m,\u001b[0m \u001b[0mhow\u001b[0m\u001b[0;34m=\u001b[0m\u001b[0mjoin\u001b[0m\u001b[0;34m,\u001b[0m \u001b[0mlevel\u001b[0m\u001b[0;34m=\u001b[0m\u001b[0mlevel\u001b[0m\u001b[0;34m,\u001b[0m \u001b[0mreturn_indexers\u001b[0m\u001b[0;34m=\u001b[0m\u001b[0;32mTrue\u001b[0m\u001b[0;34m\u001b[0m\u001b[0;34m\u001b[0m\u001b[0m\n\u001b[1;32m   8604\u001b[0m                     )\n",
      "\u001b[0;32m~/.conda/envs/refund/lib/python3.8/site-packages/pandas/core/indexes/range.py\u001b[0m in \u001b[0;36mjoin\u001b[0;34m(self, other, how, level, return_indexers, sort)\u001b[0m\n\u001b[1;32m    620\u001b[0m         \u001b[0;32mif\u001b[0m \u001b[0mhow\u001b[0m \u001b[0;34m==\u001b[0m \u001b[0;34m\"outer\"\u001b[0m \u001b[0;32mand\u001b[0m \u001b[0mself\u001b[0m \u001b[0;32mis\u001b[0m \u001b[0;32mnot\u001b[0m \u001b[0mother\u001b[0m\u001b[0;34m:\u001b[0m\u001b[0;34m\u001b[0m\u001b[0;34m\u001b[0m\u001b[0m\n\u001b[1;32m    621\u001b[0m             \u001b[0;31m# note: could return RangeIndex in more circumstances\u001b[0m\u001b[0;34m\u001b[0m\u001b[0;34m\u001b[0m\u001b[0;34m\u001b[0m\u001b[0m\n\u001b[0;32m--> 622\u001b[0;31m             \u001b[0;32mreturn\u001b[0m \u001b[0mself\u001b[0m\u001b[0;34m.\u001b[0m\u001b[0m_int64index\u001b[0m\u001b[0;34m.\u001b[0m\u001b[0mjoin\u001b[0m\u001b[0;34m(\u001b[0m\u001b[0mother\u001b[0m\u001b[0;34m,\u001b[0m \u001b[0mhow\u001b[0m\u001b[0;34m,\u001b[0m \u001b[0mlevel\u001b[0m\u001b[0;34m,\u001b[0m \u001b[0mreturn_indexers\u001b[0m\u001b[0;34m,\u001b[0m \u001b[0msort\u001b[0m\u001b[0;34m)\u001b[0m\u001b[0;34m\u001b[0m\u001b[0;34m\u001b[0m\u001b[0m\n\u001b[0m\u001b[1;32m    623\u001b[0m \u001b[0;34m\u001b[0m\u001b[0m\n\u001b[1;32m    624\u001b[0m         \u001b[0;32mreturn\u001b[0m \u001b[0msuper\u001b[0m\u001b[0;34m(\u001b[0m\u001b[0;34m)\u001b[0m\u001b[0;34m.\u001b[0m\u001b[0mjoin\u001b[0m\u001b[0;34m(\u001b[0m\u001b[0mother\u001b[0m\u001b[0;34m,\u001b[0m \u001b[0mhow\u001b[0m\u001b[0;34m,\u001b[0m \u001b[0mlevel\u001b[0m\u001b[0;34m,\u001b[0m \u001b[0mreturn_indexers\u001b[0m\u001b[0;34m,\u001b[0m \u001b[0msort\u001b[0m\u001b[0;34m)\u001b[0m\u001b[0;34m\u001b[0m\u001b[0;34m\u001b[0m\u001b[0m\n",
      "\u001b[0;32m~/.conda/envs/refund/lib/python3.8/site-packages/pandas/core/indexes/base.py\u001b[0m in \u001b[0;36mjoin\u001b[0;34m(self, other, how, level, return_indexers, sort)\u001b[0m\n\u001b[1;32m   3254\u001b[0m                 \u001b[0;32mpass\u001b[0m\u001b[0;34m\u001b[0m\u001b[0;34m\u001b[0m\u001b[0m\n\u001b[1;32m   3255\u001b[0m             \u001b[0;32melse\u001b[0m\u001b[0;34m:\u001b[0m\u001b[0;34m\u001b[0m\u001b[0;34m\u001b[0m\u001b[0m\n\u001b[0;32m-> 3256\u001b[0;31m                 \u001b[0;32mreturn\u001b[0m \u001b[0mself\u001b[0m\u001b[0;34m.\u001b[0m\u001b[0m_join_multi\u001b[0m\u001b[0;34m(\u001b[0m\u001b[0mother\u001b[0m\u001b[0;34m,\u001b[0m \u001b[0mhow\u001b[0m\u001b[0;34m=\u001b[0m\u001b[0mhow\u001b[0m\u001b[0;34m,\u001b[0m \u001b[0mreturn_indexers\u001b[0m\u001b[0;34m=\u001b[0m\u001b[0mreturn_indexers\u001b[0m\u001b[0;34m)\u001b[0m\u001b[0;34m\u001b[0m\u001b[0;34m\u001b[0m\u001b[0m\n\u001b[0m\u001b[1;32m   3257\u001b[0m \u001b[0;34m\u001b[0m\u001b[0m\n\u001b[1;32m   3258\u001b[0m         \u001b[0;31m# join on the level\u001b[0m\u001b[0;34m\u001b[0m\u001b[0;34m\u001b[0m\u001b[0;34m\u001b[0m\u001b[0m\n",
      "\u001b[0;32m~/.conda/envs/refund/lib/python3.8/site-packages/pandas/core/indexes/base.py\u001b[0m in \u001b[0;36m_join_multi\u001b[0;34m(self, other, how, return_indexers)\u001b[0m\n\u001b[1;32m   3358\u001b[0m         \u001b[0;31m# need at least 1 in common\u001b[0m\u001b[0;34m\u001b[0m\u001b[0;34m\u001b[0m\u001b[0;34m\u001b[0m\u001b[0m\n\u001b[1;32m   3359\u001b[0m         \u001b[0;32mif\u001b[0m \u001b[0;32mnot\u001b[0m \u001b[0moverlap\u001b[0m\u001b[0;34m:\u001b[0m\u001b[0;34m\u001b[0m\u001b[0;34m\u001b[0m\u001b[0m\n\u001b[0;32m-> 3360\u001b[0;31m             \u001b[0;32mraise\u001b[0m \u001b[0mValueError\u001b[0m\u001b[0;34m(\u001b[0m\u001b[0;34m\"cannot join with no overlapping index names\"\u001b[0m\u001b[0;34m)\u001b[0m\u001b[0;34m\u001b[0m\u001b[0;34m\u001b[0m\u001b[0m\n\u001b[0m\u001b[1;32m   3361\u001b[0m \u001b[0;34m\u001b[0m\u001b[0m\n\u001b[1;32m   3362\u001b[0m         \u001b[0mself_is_mi\u001b[0m \u001b[0;34m=\u001b[0m \u001b[0misinstance\u001b[0m\u001b[0;34m(\u001b[0m\u001b[0mself\u001b[0m\u001b[0;34m,\u001b[0m \u001b[0mMultiIndex\u001b[0m\u001b[0;34m)\u001b[0m\u001b[0;34m\u001b[0m\u001b[0;34m\u001b[0m\u001b[0m\n",
      "\u001b[0;31mValueError\u001b[0m: cannot join with no overlapping index names"
     ]
    }
   ],
   "source": [
    "GWP_territorial = ioagg.impact.S.loc[ind].mul(ioagg.L.dot(Y_diag))"
   ]
  },
  {
   "cell_type": "code",
   "execution_count": 292,
   "metadata": {},
   "outputs": [
    {
     "data": {
      "text/plain": [
       "0       6.914738e+06\n",
       "1       6.054210e+07\n",
       "2       7.303081e+06\n",
       "3       2.917472e+08\n",
       "4       4.873552e+07\n",
       "            ...     \n",
       "9795    0.000000e+00\n",
       "9796    0.000000e+00\n",
       "9797    0.000000e+00\n",
       "9798    0.000000e+00\n",
       "9799    0.000000e+00\n",
       "Name: Climate change, short term (kg CO2 eq (short)), Length: 9800, dtype: float64"
      ]
     },
     "execution_count": 292,
     "metadata": {},
     "output_type": "execute_result"
    }
   ],
   "source": [
    "GWP_territorial"
   ]
  },
  {
   "cell_type": "code",
   "execution_count": 289,
   "metadata": {
    "scrolled": false
   },
   "outputs": [
    {
     "data": {
      "text/plain": [
       "<AxesSubplot:xlabel='region', ylabel='region'>"
      ]
     },
     "execution_count": 289,
     "metadata": {},
     "output_type": "execute_result"
    },
    {
     "data": {
      "image/png": "[encoded data removed]",
      "text/plain": [
       "<Figure size 432x288 with 2 Axes>"
      ]
     },
     "metadata": {},
     "output_type": "display_data"
    }
   ],
   "source": [
    "GWP_territorial_summary = GWP_territorial.groupby('region',axis=1).sum().groupby('region',axis=0).sum().reindex(reg_agg_names, axis=1)*1e-9\n",
    "sns.heatmap(GWP_territorial_summary, annot=True,\n",
    "            norm=matplotlib.colors.LogNorm(vmin=GWP_territorial_summary.min().min(),\n",
    "                                           vmax=GWP_territorial_summary.max().max()),\n",
    "           fmt='.1f')"
   ]
  },
  {
   "cell_type": "code",
   "execution_count": 290,
   "metadata": {},
   "outputs": [
    {
     "data": {
      "text/plain": [
       "region\n",
       "LU          16.563103\n",
       "FA          15.345837\n",
       "BE         164.107161\n",
       "DE        1082.796767\n",
       "FR         582.774998\n",
       "EU28      3333.436699\n",
       "World    40175.727360\n",
       "dtype: float64"
      ]
     },
     "execution_count": 290,
     "metadata": {},
     "output_type": "execute_result"
    }
   ],
   "source": [
    "GWP_territorial_summary.sum()"
   ]
  },
  {
   "cell_type": "code",
   "execution_count": 209,
   "metadata": {
    "scrolled": true
   },
   "outputs": [
    {
     "data": {
      "text/html": [
       "<div>\n",
       "<style scoped>\n",
       "    .dataframe tbody tr th:only-of-type {\n",
       "        vertical-align: middle;\n",
       "    }\n",
       "\n",
       "    .dataframe tbody tr th {\n",
       "        vertical-align: top;\n",
       "    }\n",
       "\n",
       "    .dataframe thead th {\n",
       "        text-align: right;\n",
       "    }\n",
       "</style>\n",
       "<table border=\"1\" class=\"dataframe\">\n",
       "  <thead>\n",
       "    <tr style=\"text-align: right;\">\n",
       "      <th>region</th>\n",
       "      <th>BE</th>\n",
       "      <th>DE</th>\n",
       "      <th>EU28</th>\n",
       "      <th>FA</th>\n",
       "      <th>FR</th>\n",
       "      <th>LU</th>\n",
       "      <th>World</th>\n",
       "    </tr>\n",
       "    <tr>\n",
       "      <th>region</th>\n",
       "      <th></th>\n",
       "      <th></th>\n",
       "      <th></th>\n",
       "      <th></th>\n",
       "      <th></th>\n",
       "      <th></th>\n",
       "      <th></th>\n",
       "    </tr>\n",
       "  </thead>\n",
       "  <tbody>\n",
       "    <tr>\n",
       "      <th>LU</th>\n",
       "      <td>0.000000</td>\n",
       "      <td>0.000000</td>\n",
       "      <td>0.000000</td>\n",
       "      <td>0.000000</td>\n",
       "      <td>0.0000</td>\n",
       "      <td>1.459453</td>\n",
       "      <td>0.000000</td>\n",
       "    </tr>\n",
       "    <tr>\n",
       "      <th>FA</th>\n",
       "      <td>0.000000</td>\n",
       "      <td>0.000000</td>\n",
       "      <td>0.000000</td>\n",
       "      <td>2.516956</td>\n",
       "      <td>0.0000</td>\n",
       "      <td>0.000000</td>\n",
       "      <td>0.000000</td>\n",
       "    </tr>\n",
       "    <tr>\n",
       "      <th>BE</th>\n",
       "      <td>25.168684</td>\n",
       "      <td>0.000000</td>\n",
       "      <td>0.000000</td>\n",
       "      <td>0.000000</td>\n",
       "      <td>0.0000</td>\n",
       "      <td>0.000000</td>\n",
       "      <td>0.000000</td>\n",
       "    </tr>\n",
       "    <tr>\n",
       "      <th>DE</th>\n",
       "      <td>0.000000</td>\n",
       "      <td>186.761579</td>\n",
       "      <td>0.000000</td>\n",
       "      <td>0.000000</td>\n",
       "      <td>0.0000</td>\n",
       "      <td>0.000000</td>\n",
       "      <td>0.000000</td>\n",
       "    </tr>\n",
       "    <tr>\n",
       "      <th>FR</th>\n",
       "      <td>0.000000</td>\n",
       "      <td>0.000000</td>\n",
       "      <td>0.000000</td>\n",
       "      <td>0.000000</td>\n",
       "      <td>95.0158</td>\n",
       "      <td>0.000000</td>\n",
       "      <td>0.000000</td>\n",
       "    </tr>\n",
       "    <tr>\n",
       "      <th>EU28</th>\n",
       "      <td>0.000000</td>\n",
       "      <td>0.000000</td>\n",
       "      <td>527.034567</td>\n",
       "      <td>0.000000</td>\n",
       "      <td>0.0000</td>\n",
       "      <td>0.000000</td>\n",
       "      <td>0.000000</td>\n",
       "    </tr>\n",
       "    <tr>\n",
       "      <th>World</th>\n",
       "      <td>0.000000</td>\n",
       "      <td>0.000000</td>\n",
       "      <td>0.000000</td>\n",
       "      <td>0.000000</td>\n",
       "      <td>0.0000</td>\n",
       "      <td>0.000000</td>\n",
       "      <td>5153.056494</td>\n",
       "    </tr>\n",
       "  </tbody>\n",
       "</table>\n",
       "</div>"
      ],
      "text/plain": [
       "region         BE          DE        EU28        FA       FR        LU  \\\n",
       "region                                                                   \n",
       "LU       0.000000    0.000000    0.000000  0.000000   0.0000  1.459453   \n",
       "FA       0.000000    0.000000    0.000000  2.516956   0.0000  0.000000   \n",
       "BE      25.168684    0.000000    0.000000  0.000000   0.0000  0.000000   \n",
       "DE       0.000000  186.761579    0.000000  0.000000   0.0000  0.000000   \n",
       "FR       0.000000    0.000000    0.000000  0.000000  95.0158  0.000000   \n",
       "EU28     0.000000    0.000000  527.034567  0.000000   0.0000  0.000000   \n",
       "World    0.000000    0.000000    0.000000  0.000000   0.0000  0.000000   \n",
       "\n",
       "region        World  \n",
       "region               \n",
       "LU         0.000000  \n",
       "FA         0.000000  \n",
       "BE         0.000000  \n",
       "DE         0.000000  \n",
       "FR         0.000000  \n",
       "EU28       0.000000  \n",
       "World   5153.056494  "
      ]
     },
     "execution_count": 209,
     "metadata": {},
     "output_type": "execute_result"
    }
   ],
   "source": [
    "GWP_territorial_Y = ioagg.impact.F_Y.loc[ind]\n",
    "\n",
    "GWP_territorial_Y = pd.DataFrame(\n",
    "    block_diag(*[GWP_territorial_Y.iloc[i*n_sectors_Y:(i+1)*n_sectors_Y] for i in range(7)]),\n",
    "            index = ioagg.get_regions(),\n",
    "            columns = GWP_territorial_Y.index).groupby('region',axis=1).sum()*1e-9\n",
    "GWP_territorial_Y"
   ]
  },
  {
   "cell_type": "code",
   "execution_count": null,
   "metadata": {
    "scrolled": true
   },
   "outputs": [],
   "source": [
    "GWP_territorial_all_summary = (GWP_territorial_summary \\\n",
    "                               + GWP_territorial_Y.groupby('region').sum()) \\\n",
    "                                .reindex(reg_agg_names) \\\n",
    "                                .reindex(reg_agg_names,axis=1)\n",
    "GWP_territorial_all_summary"
   ]
  },
  {
   "cell_type": "code",
   "execution_count": null,
   "metadata": {
    "scrolled": true
   },
   "outputs": [],
   "source": [
    "GWP_all_toplot  = GWP_territorial_all_summary.applymap(lambda x: round(x, int(np.floor(1 - np.floor(np.log10(x))))))\n",
    "GWP_prod_toplot  = [*zip(GWP_territorial_all_summary.sum(1).apply(lambda x: round(x, int(np.floor(2 - np.floor(np.log10(x)))))))]\n",
    "GWP_cons_toplot  = [GWP_territorial_all_summary.sum(0).apply(lambda x: round(x, int(np.floor(2 - np.floor(np.log10(x))))))]\n",
    "GWP_total_toplot = [pd.Series(GWP_territorial_all_summary.sum().sum()).apply(lambda x: round(x, int(np.floor(2 - np.floor(np.log10(x))))))]\n",
    "\n",
    "GWP_cons_toplot"
   ]
  },
  {
   "cell_type": "code",
   "execution_count": 266,
   "metadata": {
    "scrolled": true
   },
   "outputs": [
    {
     "ename": "NameError",
     "evalue": "name 'GWP_all_toplot' is not defined",
     "output_type": "error",
     "traceback": [
      "\u001b[0;31m---------------------------------------------------------------------------\u001b[0m",
      "\u001b[0;31mNameError\u001b[0m                                 Traceback (most recent call last)",
      "\u001b[0;32m<ipython-input-266-83fb54657295>\u001b[0m in \u001b[0;36m<module>\u001b[0;34m\u001b[0m\n\u001b[1;32m     14\u001b[0m \u001b[0;34m\u001b[0m\u001b[0m\n\u001b[1;32m     15\u001b[0m \u001b[0;34m\u001b[0m\u001b[0m\n\u001b[0;32m---> 16\u001b[0;31m sns.heatmap(GWP_all_toplot, annot=True,\n\u001b[0m\u001b[1;32m     17\u001b[0m             norm=matplotlib.colors.LogNorm(vmin=1,\n\u001b[1;32m     18\u001b[0m                                            vmax=GWP_territorial_all_summary.max().max()),\n",
      "\u001b[0;31mNameError\u001b[0m: name 'GWP_all_toplot' is not defined"
     ]
    },
    {
     "data": {
      "image/png": "[encoded data removed]",
      "text/plain": [
       "<Figure size 720x609.545 with 4 Axes>"
      ]
     },
     "metadata": {},
     "output_type": "display_data"
    }
   ],
   "source": [
    "sns.set(font_scale=1.5)\n",
    "\n",
    "fig, ax = plt.subplots(ncols=2,\n",
    "                       nrows=2,\n",
    "                       figsize=(10, 745/88),\n",
    "                       subplot_kw={'facecolor':'w'},\n",
    "                       gridspec_kw={'width_ratios': [10, 2],\n",
    "                                    'height_ratios': [10, 745/888*2],\n",
    "                                    'wspace': 0.12,\n",
    "                                    'hspace': 0.12,\n",
    "                                    'bottom': 0})\n",
    "\n",
    "cmap  = 'viridis_r'\n",
    "\n",
    "\n",
    "sns.heatmap(GWP_all_toplot, annot=True,\n",
    "            norm=matplotlib.colors.LogNorm(vmin=1,\n",
    "                                           vmax=GWP_territorial_all_summary.max().max()),\n",
    "           fmt='g',\n",
    "            cmap=cmap,\n",
    "            cbar=False,\n",
    "           ax=ax[0,0])\n",
    "\n",
    "sns.heatmap(GWP_prod_toplot, annot=True,\n",
    "            norm=matplotlib.colors.LogNorm(vmin=.05,\n",
    "                                           vmax=GWP_territorial_all_summary.max().max()),\n",
    "            \n",
    "            cmap=cmap,\n",
    "           fmt='g',\n",
    "           ax=ax[0,1])\n",
    "\n",
    "sns.heatmap(GWP_cons_toplot, annot=True,\n",
    "#             annot_kws={'rotation': 90},\n",
    "            norm=matplotlib.colors.LogNorm(vmin=.05,\n",
    "                                           vmax=GWP_territorial_all_summary.max().max()),\n",
    "            cbar=False,\n",
    "            cmap=cmap,\n",
    "           fmt='g',\n",
    "           ax=ax[1,0])\n",
    "\n",
    "sns.heatmap(GWP_total_toplot, annot=True,\n",
    "            norm=matplotlib.colors.LogNorm(vmin=.05,\n",
    "                                           vmax=GWP_territorial_all_summary.max().max()),\n",
    "            cbar=False,\n",
    "            cmap=cmap,\n",
    "            yticklabels=[],\n",
    "            xticklabels=['GLOBAL EMISSIONS'],\n",
    "           fmt='g',\n",
    "           ax=ax[1,1])\n",
    "\n",
    "ax[0,0].set_xlabel('TO')\n",
    "ax[0,0].xaxis.set_label_position('top')\n",
    "ax[0,0].set_ylabel('FROM')\n",
    "ax[0,0].set_title('GHG flows embodied in trade, Mt CO$_2$ eq., 2018')\n",
    "ax[0,0].xaxis.tick_top()\n",
    "ax[0,0].tick_params(axis=u'both', which=u'both',length=0)\n",
    "\n",
    "ax[0,1].set_xticks([])\n",
    "ax[0,1].set_yticks([])\n",
    "ax[0,1].set_ylabel('EMBODIED IN PRODUCTION')\n",
    "\n",
    "ax[1,1].set_xlabel('')\n",
    "ax[1,1].set_xticks([])\n",
    "ax[1,1].set_xlabel('TOTAL, WORLD',labelpad=8)\n",
    "ax[1,1].xaxis.set_label_position('top') \n",
    "\n",
    "ax[1,0].set_xlabel('EMBODIED IN CONSUMPTION',labelpad=8)\n",
    "ax[1,0].xaxis.set_label_position('top') \n",
    "ax[1,0].set_ylabel('')\n",
    "ax[1,0].set_yticklabels([])\n",
    "ax[1,0].set_xticklabels([])\n",
    "ax[1,0].set_xticks([])\n",
    "\n",
    "hili=0\n",
    "ax[0,0].add_patch(Rectangle((0, hili), 7, 2, fill=False, edgecolor='darkgreen', lw=3))\n",
    "ax[0,0].add_patch(Rectangle((hili, 0), 2, 7, fill=False, edgecolor='darkgreen', lw=3))\n",
    "ax[0,1].add_patch(Rectangle((0, hili), 1, 2, fill=False, edgecolor='darkgreen', lw=3))\n",
    "ax[1,0].add_patch(Rectangle((hili, 0), 2, 1, fill=False, edgecolor='darkgreen', lw=3))\n",
    "\n",
    "\n",
    "# resize the corner box\n",
    "ax01pos = ax[0,1].get_position().bounds\n",
    "ax11pos = list(ax[1,1].get_position().bounds)\n",
    "ax11pos[2] = ax01pos[2]\n",
    "ax[1,1].set_position(ax11pos)\n",
    "\n",
    "fig.savefig('GHG_in_trade_{}.svg'.format(year),\n",
    "            facecolor='white',\n",
    "            edgecolor='none',\n",
    "            bbox_inches='tight')"
   ]
  },
  {
   "cell_type": "markdown",
   "metadata": {},
   "source": [
    "### Aggregate and disaggregate for the functional area, Luxembourg included (population-wise, i.e. only consumption-based would make sense)\n",
    "We need a 49 to 3 matrix, to reaggregate for Luxembourg + functional area, EU28, and rest of the world."
   ]
  },
  {
   "cell_type": "code",
   "execution_count": 265,
   "metadata": {
    "scrolled": true
   },
   "outputs": [
    {
     "data": {
      "text/plain": [
       "<AxesSubplot:xlabel='region'>"
      ]
     },
     "execution_count": 265,
     "metadata": {},
     "output_type": "execute_result"
    },
    {
     "data": {
      "image/png": "[encoded data removed]",
      "text/plain": [
       "<Figure size 432x288 with 1 Axes>"
      ]
     },
     "metadata": {},
     "output_type": "display_data"
    }
   ],
   "source": [
    "reg_agg_matrix = np.zeros([49,6])\n",
    "\n",
    "# We'll disaggregate the various countries to compose the functional area\n",
    "# Flows will follow population, for a lack of a better proxy for emissions\n",
    "# This is probably wrong for territorial emissions, but should hold for consumption\n",
    "\n",
    "population_FA=pd.Series({'LU':io.population['LU'],\n",
    "                         'BE':225772,\n",
    "                         'DE':378881,\n",
    "                         'FR':781852},\n",
    "                          name='population')\n",
    "\n",
    "FA_shares=population_FA/io.population\n",
    "FA_shares.fillna(inplace=True, value=0)\n",
    "FA_shares=FA_shares.reindex_like(io.population)\n",
    "\n",
    "reg_agg_matrix[:,0] = FA_shares\n",
    "reg_agg_matrix[io.get_regions()=='BE',1] = 1-reg_agg_matrix[io.get_regions()=='BE',1]\n",
    "reg_agg_matrix[io.get_regions()=='DE',2] = 1-reg_agg_matrix[io.get_regions()=='DE',1]\n",
    "reg_agg_matrix[io.get_regions()=='FR',3] = 1-reg_agg_matrix[io.get_regions()=='FR',1]\n",
    "reg_agg_matrix[:28,4] = 1-reg_agg_matrix[:28,:4].sum(1)\n",
    "reg_agg_matrix[:,5] = 1-reg_agg_matrix[:,:5].sum(1)\n",
    "\n",
    "reg_agg_matrix=reg_agg_matrix.T # argh, the matrix was transposed\n",
    "\n",
    "assert all(reg_agg_matrix.sum(0)==1)\n",
    "\n",
    "# Reaggregate\n",
    "reg_agg_names=['FA','BE','DE','FR','EU28','World']\n",
    "ioagg = io.aggregate(region_agg=reg_agg_matrix,\n",
    "                     region_names=reg_agg_names,\n",
    "                        inplace=False)\n",
    "\n",
    "# Calculate the new system\n",
    "ioagg.calc_all()\n",
    "\n",
    "ioagg.calc_extensions()\n",
    "\n",
    "ioagg.impact.D_cba_cap.loc[ind].plot(kind='bar')"
   ]
  },
  {
   "cell_type": "code",
   "execution_count": null,
   "metadata": {},
   "outputs": [],
   "source": []
  },
  {
   "cell_type": "markdown",
   "metadata": {},
   "source": [
    "## Heatmap of global (or EU) GHG emissions embodied in trade"
   ]
  },
  {
   "cell_type": "code",
   "execution_count": null,
   "metadata": {
    "scrolled": true
   },
   "outputs": [],
   "source": [
    "sns.set(font_scale=1)\n",
    "\n",
    "n_sectors   = 163\n",
    "n_sectors_Y = 7\n",
    "\n",
    "method = GWP100_unfccc # in case you set up other method vectors\n",
    "\n",
    "# create the GHG factors in GWP100 \n",
    "S_GWP   = method.dot(io.satellite.S.loc[method.index])\n",
    "F_GWP_Y = method.dot(io.satellite.F_Y.loc[method.index])\n",
    "S_GWP   = io.impact.S.loc[ind]\n",
    "F_GWP_Y = io.impact.F_Y.loc[ind]\n",
    "\n",
    "# and calculate the greenhouse gas emissions per sector of consumption for the intermediate consumption\n",
    "GHG_cons_total = io.L.multiply(S_GWP,axis=0).dot(io.Y)\n",
    "\n",
    "# group by region (we don't want sector resolution) and convert to Mt\n",
    "GHG_cons_to_plot = GHG_cons_total.groupby('region',\n",
    "                                    axis=1).sum().groupby('region',\n",
    "                                                           axis=0).sum().reindex(io.get_regions(),\n",
    "                                                                                 axis=0).reindex(io.get_regions(),\n",
    "                                                                                                 axis=1)*1e-9\n",
    "\n",
    "# same, for the emissions of final demand\n",
    "GHG_cons_Y = pd.DataFrame(block_diag(*[F_GWP_Y.iloc[i*n_sectors_Y:(i+1)*n_sectors_Y] for i in range(49)]),\n",
    "            index   = io.get_regions(),\n",
    "            columns = io.Y.columns)\n",
    "GHG_cons_Y_to_plot = GHG_cons_Y.groupby('region',axis=1).sum().reindex(io.get_regions(), axis=1)*1e-9\n",
    "\n",
    "# sum them both\n",
    "GHG_cons = GHG_cons_to_plot + GHG_cons_Y_to_plot\n",
    "\n",
    "# and create column and row for production-based emissions and consumption-based emissions \n",
    "GHG_cons['EMBODIED IN\\nPRODUCTION'] = GHG_cons.sum(1)\n",
    "GHG_cons.loc['EMBODIED IN\\nCONSUMPTION'] = GHG_cons.sum()"
   ]
  },
  {
   "cell_type": "code",
   "execution_count": null,
   "metadata": {
    "scrolled": true
   },
   "outputs": [],
   "source": [
    "max_r = 49 # EU = 28, All = 49\n",
    "cmap  = 'viridis'\n",
    "\n",
    "GHG_cons_cutoff=GHG_cons.drop(GHG_cons.index[max_r:-1],axis=0).drop(GHG_cons.columns[max_r:-1],axis=1)\n",
    "\n",
    "GHG_cons_sorted=GHG_cons_cutoff.sort_values(by='EMBODIED IN\\nCONSUMPTION', axis=1)\n",
    "GHG_cons_sorted=GHG_cons_sorted.reindex([*GHG_cons_sorted.columns[:-1],'EMBODIED IN\\nCONSUMPTION'], axis=0)\n",
    "\n",
    "fig, ax = plt.subplots(ncols=2,\n",
    "                       nrows=2,\n",
    "                       figsize=(30, 20),\n",
    "                       subplot_kw={'facecolor':'w'},\n",
    "                       gridspec_kw={'width_ratios': [10, 1],\n",
    "                                    'height_ratios': [10, 1],\n",
    "                                    'wspace': 2/3*0.05,\n",
    "                                    'hspace': 0.05,\n",
    "                                    'bottom': 0})\n",
    "\n",
    "sns.heatmap(GHG_cons_sorted.iloc[:max_r,:max_r], annot=True,\n",
    "            norm=matplotlib.colors.LogNorm(vmin=.05,\n",
    "                                           vmax=GHG_cons.max().max()),\n",
    "            cbar=False,\n",
    "            cmap=cmap,\n",
    "           fmt='.0f',\n",
    "           ax=ax[0,0])\n",
    "sns.heatmap(GHG_cons_sorted[GHG_cons.columns[-1:]].iloc[:max_r,:max_r], annot=True,\n",
    "            norm=matplotlib.colors.LogNorm(vmin=.05,\n",
    "                                           vmax=GHG_cons.max().max()),\n",
    "            \n",
    "            cmap=cmap,\n",
    "           fmt='.0f',\n",
    "           ax=ax[0,1])\n",
    "sns.heatmap(GHG_cons_sorted.loc[GHG_cons.index[-1:]].iloc[:max_r,:max_r], annot=True,\n",
    "            annot_kws={'rotation': 90},\n",
    "            norm=matplotlib.colors.LogNorm(vmin=.05,\n",
    "                                           vmax=GHG_cons.max().max()),\n",
    "            cbar=False,\n",
    "            cmap=cmap,\n",
    "           fmt='.0f',\n",
    "           ax=ax[1,0])\n",
    "sns.heatmap(GHG_cons_sorted.loc[GHG_cons.index[-1:],GHG_cons.columns[-1:]].iloc[:max_r,:max_r], annot=True,\n",
    "            norm=matplotlib.colors.LogNorm(vmin=.05,\n",
    "                                           vmax=GHG_cons.max().max()),\n",
    "            cbar=False,\n",
    "            cmap=cmap,\n",
    "            yticklabels=[],\n",
    "            xticklabels=['GLOBAL EMISSIONS'],\n",
    "           fmt='.0f',\n",
    "           ax=ax[1,1])\n",
    "\n",
    "ax[1,1].set_xlabel('')\n",
    "ax[1,0].set_xlabel('EMBODIED IN CONSUMPTION')\n",
    "ax[1,0].set_ylabel('')\n",
    "ax[1,0].set_yticklabels([])\n",
    "\n",
    "# resize the corner box\n",
    "ax01pos = ax[0,1].get_position().bounds\n",
    "ax11pos = list(ax[1,1].get_position().bounds)\n",
    "ax11pos[2] = ax01pos[2]\n",
    "ax[1,1].set_position(ax11pos)\n",
    "\n",
    "fig.savefig('GHG_in_trade_{}.png'.format(year),\n",
    "            facecolor='white',\n",
    "            edgecolor='none')"
   ]
  },
  {
   "cell_type": "code",
   "execution_count": null,
   "metadata": {
    "scrolled": true
   },
   "outputs": [],
   "source": []
  },
  {
   "cell_type": "code",
   "execution_count": null,
   "metadata": {
    "scrolled": true
   },
   "outputs": [],
   "source": []
  }
 ],
 "metadata": {
  "kernelspec": {
   "display_name": "Python 3",
   "language": "python",
   "name": "python3"
  },
  "language_info": {
   "codemirror_mode": {
    "name": "ipython",
    "version": 3
   },
   "file_extension": ".py",
   "mimetype": "text/x-python",
   "name": "python",
   "nbconvert_exporter": "python",
   "pygments_lexer": "ipython3",
   "version": "3.8.5"
  }
 },
 "nbformat": 4,
 "nbformat_minor": 4
}
