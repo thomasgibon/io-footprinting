{
 "cells": [
  {
   "cell_type": "markdown",
   "id": "a4dca7bd-3695-409d-8bbd-1d1cafb98220",
   "metadata": {},
   "source": [
    "# Exercice: empreinte environnementale du Luxembourg\n",
    "Nous nous penchons ici sur le calcul de l'empreinte environnementale du Luxembourg, c'est-à-dire l'ensemble des impacts environnementaux liés à la consommation finale du pays.\n",
    "\n",
    "Points d'attention\n",
    "- carbone\n",
    "- eau\n",
    "- occupation des sols\n",
    "- énergie primaire\n",
    "\n",
    "Garder la comparison entre territoriale, consommation\n"
   ]
  },
  {
   "cell_type": "code",
   "execution_count": 1,
   "id": "294217d0-500a-4b4f-9d6f-9be375da0f19",
   "metadata": {
    "tags": []
   },
   "outputs": [],
   "source": [
    "import pymrio as mr   # manipulation des données input-output\n",
    "import pandas as pd   # manipulation de tables et jeux de données\n",
    "import numpy as np    # opérations communes\n",
    "import seaborn as sns # production de figures, add-on à matplotlib\n",
    "import matplotlib.pyplot as plt # production de figures\n",
    "import os # opérations sur le système de fichiers"
   ]
  },
  {
   "cell_type": "code",
   "execution_count": 2,
   "id": "e99cfc8a-06d8-40f1-a9c2-a2fb6251d8ae",
   "metadata": {
    "tags": []
   },
   "outputs": [],
   "source": [
    "# Si vous voulez enregistrer/charger rapidement\n",
    "import pickle"
   ]
  },
  {
   "cell_type": "code",
   "execution_count": 3,
   "id": "9802c3be-b5fc-483c-a1a2-039523b65c0c",
   "metadata": {
    "tags": []
   },
   "outputs": [],
   "source": [
    "year = 2019\n",
    "EXIOBASE_PATH = '../EXIOBASE/' # ne pas hésiter à changer"
   ]
  },
  {
   "cell_type": "code",
   "execution_count": 4,
   "id": "8faf40a1-3cc2-435d-b821-40557b6880b5",
   "metadata": {
    "tags": []
   },
   "outputs": [],
   "source": [
    "# Chargement rapide des données IO\n",
    "with open(EXIOBASE_PATH + f'IOT_{year}_ixi.pickle', 'rb') as handle:\n",
    "    io = pickle.load(handle)"
   ]
  },
  {
   "cell_type": "code",
   "execution_count": 5,
   "id": "256784c0-e5cb-4bc8-b7e9-2ff2cd338737",
   "metadata": {
    "tags": []
   },
   "outputs": [
    {
     "data": {
      "text/plain": [
       "region  sector                                                  \n",
       "AT      Cultivation of paddy rice                                    0.000000\n",
       "NL      Cultivation of paddy rice                                    0.000000\n",
       "MT      Extra-territorial organizations and bodies                   0.000000\n",
       "        Composting of paper and wood, incl. land application         0.000000\n",
       "        Biogasification of sewage slugde, incl. land application     0.000000\n",
       "                                                                      ...    \n",
       "CY      Manufacture of coke oven products                            0.990346\n",
       "KR      Wool, silk-worm cocoons                                      0.999992\n",
       "        Mining of lead, zinc and tin ores and concentrates           3.969287\n",
       "RU      Private households with employed persons (95)                9.352632\n",
       "KR      Mining of copper ores and concentrates                      13.925535\n",
       "Length: 7987, dtype: float64"
      ]
     },
     "execution_count": 5,
     "metadata": {},
     "output_type": "execute_result"
    }
   ],
   "source": [
    "io.A.max().sort_values()"
   ]
  },
  {
   "cell_type": "code",
   "execution_count": null,
   "id": "bf5006c0-1f55-4cd4-a423-0cedfddca237",
   "metadata": {},
   "outputs": [],
   "source": []
  }
 ],
 "metadata": {
  "kernelspec": {
   "display_name": "Python 3 (ipykernel)",
   "language": "python",
   "name": "python3"
  },
  "language_info": {
   "codemirror_mode": {
    "name": "ipython",
    "version": 3
   },
   "file_extension": ".py",
   "mimetype": "text/x-python",
   "name": "python",
   "nbconvert_exporter": "python",
   "pygments_lexer": "ipython3",
   "version": "3.11.0"
  }
 },
 "nbformat": 4,
 "nbformat_minor": 5
}
