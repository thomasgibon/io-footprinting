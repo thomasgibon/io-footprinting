{
 "cells": [
  {
   "cell_type": "markdown",
   "id": "a762877f-4ee9-4676-8631-debce399eb3d",
   "metadata": {
    "tags": []
   },
   "source": [
    "# Atelier utilisation d'EXIOBASE\n",
    "Luxembourg Stratégie"
   ]
  },
  {
   "cell_type": "markdown",
   "id": "4544ff6a-b885-4ce8-9fc1-53853458276a",
   "metadata": {
    "tags": []
   },
   "source": [
    "## Introduction\n",
    "(traduite du cours en ligne [IO Models with Python](https://www.openriskacademy.com/course/view.php?id=64))\n",
    "\n",
    "_Qu'est-ce qu'un modèle d'entrées-sorties (input-output model) ?_\n",
    "\n",
    "Les tableaux d'entrées-sorties multirégionaux avec extensions environnementales (EEMRIO pour _environmentally-extended multiregional input-output_) décrivent les relations économiques des acteurs économiques (généralement regroupés ou agrégés en secteurs industriels) opérant au sein de régions géographiques.\n",
    "\n",
    "Outre les liens économiques, les tableaux EE MRIO visent également à prendre en compte les répercussions environnementales de l'activité économique. À cette fin, un système EEMRIO complète les modèles économiques d'entrées-sorties les plus basiques (et historiquement les premiers introduits) avec des ensembles de données et/ou des hypothèses de modélisation supplémentaires, afin de donner un aperçu de l'empreinte environnementale de l'activité économique.\n",
    "\n",
    "Actuellement, l'accent mis sur les externalités négatives de l'activité économique (par exemple, le changement climatique et la perte de biodiversité induits par l'homme) fait des modèles EE MRIO un outil conceptuel et analytique utile. Une bonne connaissance des modèles d'entrées-sorties sous-jacents est un prérequis et ce sera l'objectif initial de ce cours.\n",
    "\n",
    "_Définition_\n",
    "\n",
    "Un modèle d'entrées-sorties est un modèle économique construit à partir de données économiques observées (mesurées) qui fournissent des informations sur l'activité des industries qui produisent et consomment des biens et des services. L'élément central de ces modèles est la matrice (ou le tableau) des entrées-sorties. Cette matrice permet de présenter une analyse détaillée des processus interdépendants de production et d'utilisation (consommation) de biens et de services (produits).\n",
    "\n",
    "Ces modèles peuvent retracer à la fois les flux de matières et les revenus monétaires générés au cours de ces flux. Les tableaux d'entrées-sorties peuvent se présenter sous la forme de :\n",
    "- tableaux des ressources et des emplois (TRE) qui relient les produits aux industries ou\n",
    "- tableaux entrées-sorties symétriques qui relient les produits aux produits ou les industries aux industries.\n",
    "\n",
    "**Nous nous concentrerons ici sur les tables symétriques.**"
   ]
  },
  {
   "cell_type": "markdown",
   "id": "72fd3e77-44f8-46f3-960b-e91d1e0f76d7",
   "metadata": {
    "tags": []
   },
   "source": [
    "## Installation\n",
    "\n",
    "Ce dont vous aurez besoin pour utiliser ce notebook:\n",
    "\n",
    "1. l'installation de la distribution Anaconda (ou Miniconda), qui contient déjà tous les modules Python de base pour les calculs (numpy, pandas, ...), les instructions d'installation sont disponibles [ici](https://docs.anaconda.com/anaconda/install/index.html).\n",
    "\n",
    "2. un environnement `conda` dédié au projet (pas nécessaire, mais recommandé) en procédant ainsi:\n",
    "    - ouvrir un terminal (`cmd` sous Windows),\n",
    "    - créer l'environnement en ligne de commande `conda create -n io`,\n",
    "    - activer l'environnement `activate io` ou `conda activate io`\n",
    "   \n",
    "3. installer `pymrio` à partir de https://anaconda.org/conda-forge/pymrio\n",
    "    - en ligne de commande, s'assurer que l'environnement `io` est activé\n",
    "    - installer le package `conda install -c conda-forge pymrio`"
   ]
  },
  {
   "cell_type": "code",
   "execution_count": 1,
   "id": "145676dc-75e7-4b96-8850-5a5560053214",
   "metadata": {
    "tags": []
   },
   "outputs": [],
   "source": [
    "import pymrio as mr   # manipulation des données input-output\n",
    "import pandas as pd   # manipulation de tables et jeux de données\n",
    "import numpy as np    # opérations communes\n",
    "import seaborn as sns # production de figures, add-on à matplotlib\n",
    "import matplotlib.pyplot as plt # production de figures\n",
    "import os # opérations sur le système de fichiers"
   ]
  },
  {
   "cell_type": "code",
   "execution_count": 2,
   "id": "f7c259a6-f408-4401-8c91-70506523c8fe",
   "metadata": {
    "tags": []
   },
   "outputs": [],
   "source": [
    "# Si vous voulez enregistrer/charger rapidement\n",
    "import pickle"
   ]
  },
  {
   "cell_type": "markdown",
   "id": "16503d8a-d44d-4af7-9534-7e8982c55643",
   "metadata": {
    "tags": []
   },
   "source": [
    "## Télécharger la base de données EXIOBASE\n",
    "La première chose à faire est de récupérer la ou les tables input-output EXIOBASE, à partir du dernier dépôt Zenodo.\n",
    "Une fois les données téléchargées, les importer, et vous êtes prêts à les utiliser."
   ]
  },
  {
   "cell_type": "code",
   "execution_count": 4,
   "id": "82bff312-7c30-459b-98e6-f8ff3748eb71",
   "metadata": {
    "tags": []
   },
   "outputs": [],
   "source": [
    "# Adresse de la base de données\n",
    "doi = '10.5281/zenodo.5589597'"
   ]
  },
  {
   "cell_type": "markdown",
   "id": "87e9a9fd-e7f3-47ca-9bce-82ef09734b52",
   "metadata": {},
   "source": [
    "Choisir le répertoire d'installation."
   ]
  },
  {
   "cell_type": "code",
   "execution_count": 5,
   "id": "7f16d23a-8481-401a-aa5e-0b0a8b732d6c",
   "metadata": {
    "tags": []
   },
   "outputs": [],
   "source": [
    "EXIOBASE_PATH = '../EXIOBASE/' # ne pas hésiter à changer"
   ]
  },
  {
   "cell_type": "code",
   "execution_count": 7,
   "id": "06416079-e7b5-4091-a540-d87c2d689453",
   "metadata": {
    "tags": []
   },
   "outputs": [],
   "source": [
    "# La dernière année relativement fiable est 2019\n",
    "year = 2019\n",
    "filename = EXIOBASE_PATH+'IOT_{}_ixi.zip'.format(year)"
   ]
  },
  {
   "cell_type": "markdown",
   "id": "516757b8-76cc-475c-a4bf-3e3bb09e9930",
   "metadata": {},
   "source": [
    "Lancer le téléchargement avec la commande dédiée.\n",
    "\n",
    "Attention, les données sont volumineuses, si vous avez déjà téléchargé une fois, il est inutile de recommencer."
   ]
  },
  {
   "cell_type": "code",
   "execution_count": 13,
   "id": "255efcb3-e884-4275-a399-c0a3ce5a46e6",
   "metadata": {
    "tags": []
   },
   "outputs": [],
   "source": [
    "if not os.path.isfile(filename):\n",
    "    exio_meta = mr.download_exiobase3(\n",
    "        storage_folder=EXIOBASE_PATH, # chemin d'installation\n",
    "        system='ixi',                 # choisir table produit-par-produit (pxp) ou industrie-par-industrie (ixi)\n",
    "        years=year,                   # quelles années télécharger\n",
    "        doi=doi                       # adresse du dépôt\n",
    "    )"
   ]
  },
  {
   "cell_type": "markdown",
   "id": "27a0b536-d6fb-4205-92fb-8b7d8eb37400",
   "metadata": {},
   "source": [
    "Une fois les fichiers téléchargés, il reste à importer la base de données `pymrio`."
   ]
  },
  {
   "cell_type": "code",
   "execution_count": 14,
   "id": "3557ff2e-4f0f-4694-92f8-01ba1889e999",
   "metadata": {
    "tags": []
   },
   "outputs": [],
   "source": [
    "io = mr.parse_exiobase3(path=filename)"
   ]
  },
  {
   "cell_type": "markdown",
   "id": "e8c43556-f3ce-4246-8d2a-7bd1ad1bb45c",
   "metadata": {},
   "source": [
    "Importer le fichier de population (intéressant pour calculer les empreintes par personne)"
   ]
  },
  {
   "cell_type": "code",
   "execution_count": 15,
   "id": "350ca062-dbcd-4a52-9d19-d91ac241b277",
   "metadata": {
    "tags": []
   },
   "outputs": [],
   "source": [
    "population = pd.read_csv(EXIOBASE_PATH+'exiobase_population.txt',sep='\\t',index_col=0)\n",
    "io.population=pd.DataFrame(columns=['population'], data=population.loc[year].values, index=population.columns).T"
   ]
  },
  {
   "cell_type": "markdown",
   "id": "ec73a031-5294-4907-9a1f-a1fb203f7faa",
   "metadata": {
    "tags": []
   },
   "source": [
    "Enfin, le système doit être \"calculé\" (résolu), pour déterminer, entre autres, les résultats d'empreinte environnementale.\n",
    "\n",
    "En effet, les données primaires du système sont la consommation intermédiaire et la demande finale, ainsi que les impacts environnementaux par secteur.\n",
    "\n",
    "Pour calculer une empreinte il nous faut des coefficients, ce que calcule `calc_all()`. C'est l'objet de la section suivante."
   ]
  },
  {
   "cell_type": "code",
   "execution_count": 17,
   "id": "6ba209c6-122c-41ee-a605-f6bd2419698c",
   "metadata": {
    "tags": []
   },
   "outputs": [
    {
     "data": {
      "text/plain": [
       "<pymrio.core.mriosystem.IOSystem at 0x213fea22610>"
      ]
     },
     "execution_count": 17,
     "metadata": {},
     "output_type": "execute_result"
    }
   ],
   "source": [
    "io.calc_all()"
   ]
  },
  {
   "cell_type": "code",
   "execution_count": 8,
   "id": "4a766353-9f70-4257-91c7-6d48374fefd5",
   "metadata": {
    "tags": []
   },
   "outputs": [],
   "source": [
    "# Enregistrer\n",
    "# with open(EXIOBASE_PATH + f'IOT_{year}_ixi.pickle', 'wb') as handle:\n",
    "#     pickle.dump(io, handle, protocol=pickle.HIGHEST_PROTOCOL)\n",
    "\n",
    "# Charger\n",
    "with open(EXIOBASE_PATH + f'IOT_{year}_ixi.pickle', 'rb') as handle:\n",
    "    io = pickle.load(handle)"
   ]
  },
  {
   "cell_type": "markdown",
   "id": "41be8e7a-676d-4fa8-afab-1dd4a869e1be",
   "metadata": {
    "tags": []
   },
   "source": [
    "## Familiarisation avec la structure\n",
    "L'objet créé `io` contient toute la structure de la table input-output multirégionale, c'est-à-dire la table complète des coefficients/transactions monétaires entre secteurs et pays. Ce sont ces coefficients qui, en les combinant avec les extensions environnementales, vont nous permettre de retracer les émissions de GES entre production et consommation.\n",
    "\n",
    "Le schéma ci-dessous montre la façon dont sont organisées les données. La nomenclature n'est pas figée, et a malheureusement tendance à changer selon les sources, ici nous utiliserons :\n",
    "- $Z$ : consommation intermédiaire (`mrIot` sur la figure), en M€/an,\n",
    "- $Y$ : demande finale (`mrFinalDemand`), en M€/an,\n",
    "- $F$ : comptes satellites (`mrFactorInputs`), y compris les extensions environnementales (`mrEmissions`, `mrResources`, `mrMaterials`), en unités mixtes (M€, kg CO2, m$^{3}$, ... /an)\n",
    "- $F_Y$ : comptes satellites pour la demande finale, seulement pour les extensions environnementales (`mrFDEmissions`, `mrFDMaterials`), en unités mixtes.\n",
    "\n",
    "<img src=\"https://exiobase.eu/images/mr_iot_v5_900px.png\" width=\"600\" height=\"240\" style=\"margin-left:auto; margin-right:auto\"/>\n",
    "\n",
    "Les éléments dérivés de ces données sources sont :\n",
    "- $x$ : la production totale de chaque secteur, consommation intermédiaire et demande finale, en M€/an, $x=Zi+Yi$, $i$ étant un vecteur de \"1\" permettant de calculer la somme des valeurs des lignes d'une matrice lorsqu'il est multiplié à droite,\n",
    "- $A$ : coefficients techniques directs, en M€/M€, équivalent à $Z$, $A=Z\\hat{x}^{-1}$,\n",
    "- $S$ : coefficients satellites directs, en unités mixtes/M€, équivalent à $F$, $S=F\\hat{x}^{-1}$,\n",
    "- $L$ : coefficients techniques \"en cycle de vie\" (directs et indirects), en M€/M€, $L=(I-A)^{-1}$,\n",
    "- $M$ : coefficients satellites \"en cycle de vie\" (directs et indirects), en unités mixtes/M€, $M=SL=S(I-A)^{-1}$.\n",
    "\n",
    "Un coefficient $a_{ij}$ (respectivement une transaction $z_{ij}$) représente toujours une transaction du secteur i vers le secteur j pour une unité (respectivement pour une année). Tout vecteur colonne représente donc l'ensemble des intrants pour un secteur donné (comme une recette de cuisine donne les ingrédients).\n",
    "\n",
    "**Toutes les matrices monétaires sont organisées de la même façon, avec un index (pays, secteur) pour les lignes et les colonnes, en M€ ou M€/M€. Les matrices contenant les émissions ont simplement une liste d'émissions en ligne, et (pays, secteur) en colonne.**\n",
    "\n",
    "| Variable | Unité | Nom en français | Nom en anglais | Calcul | Exemple |\n",
    "| --- | --- | ---               | ---          | ---       | ---                                           |\n",
    "| $$x$$ | M€  | production totale | total output | $$x=Zi+Yi$$ | $x_i$ est la production totale du secteur $i$ |\n",
    "| $$A$$ | M€/M€ | coefficients techniques directs | technology matrix | $$A=Z\\hat{x}^{-1}$$ | $a_{ij}$ est la demande directe du secteur $j$ en produits du secteur $i$ |\n",
    "| $$S$$ | [M€,kg,m$^{3}$...]/M€ | coefficients satellites directs | stressor matrix | $$S=F\\hat{x}^{-1}$$ | $s_{kj}$ représente les émissions directes de $k$ du secteur $j$ |\n",
    "| $$L$$ | M€/M€ | coefficients techniques \"en cycle de vie\" | Leontief inverse | $$L=(I-A)^{-1}$$ | $l_{ij}$ est la demande totale (directe et indirecte) du secteur $j$ en produits du secteur $i$ |"
   ]
  },
  {
   "cell_type": "markdown",
   "id": "25766c21-28cb-4d34-b8a4-09d11bf7defb",
   "metadata": {},
   "source": [
    "### Pays et régions\n",
    "EXIOBASE contient les données de 49 zones géographiques, dont l'UE 27+1 en début de liste et 5 zones \"reste\" (`W...`) en fin de liste (Asie, Amérique Latine, Europe, Afrique, monde)."
   ]
  },
  {
   "cell_type": "code",
   "execution_count": 9,
   "id": "9ef3f1c6-030d-4e41-8ca8-f2a05fed93fb",
   "metadata": {
    "tags": []
   },
   "outputs": [
    {
     "data": {
      "text/plain": [
       "Index(['AT', 'BE', 'BG', 'CY', 'CZ', 'DE', 'DK', 'EE', 'ES', 'FI', 'FR', 'GR',\n",
       "       'HR', 'HU', 'IE', 'IT', 'LT', 'LU', 'LV', 'MT', 'NL', 'PL', 'PT', 'RO',\n",
       "       'SE', 'SI', 'SK', 'GB', 'US', 'JP', 'CN', 'CA', 'KR', 'BR', 'IN', 'MX',\n",
       "       'RU', 'AU', 'CH', 'TR', 'TW', 'NO', 'ID', 'ZA', 'WA', 'WL', 'WE', 'WF',\n",
       "       'WM'],\n",
       "      dtype='object', name='region')"
      ]
     },
     "execution_count": 9,
     "metadata": {},
     "output_type": "execute_result"
    }
   ],
   "source": [
    "io.get_regions()"
   ]
  },
  {
   "cell_type": "markdown",
   "id": "832db05a-66e4-48ee-be83-8dfc365ab844",
   "metadata": {
    "tags": []
   },
   "source": [
    "### Secteurs\n",
    "163 secteurs industriels sont disponibles. Les tableaux entrées-sorties ont donc une taille de $(49 × 163) × (49 × 163) = 7987 × 7987$. Chaque élément de la table nous donne la valeur des transactions annuelles entre un secteur d'un pays, et un autre secteur, d'un autre pays."
   ]
  },
  {
   "cell_type": "code",
   "execution_count": 10,
   "id": "f27f4e9a-4f44-47ee-a554-e14da662a1b0",
   "metadata": {
    "tags": []
   },
   "outputs": [
    {
     "data": {
      "text/plain": [
       "['Cultivation of paddy rice',\n",
       " 'Cultivation of wheat',\n",
       " 'Cultivation of cereal grains nec',\n",
       " 'Cultivation of vegetables, fruit, nuts',\n",
       " 'Cultivation of oil seeds',\n",
       " 'Cultivation of sugar cane, sugar beet',\n",
       " 'Cultivation of plant-based fibers',\n",
       " 'Cultivation of crops nec',\n",
       " 'Cattle farming',\n",
       " 'Pigs farming',\n",
       " 'Poultry farming',\n",
       " 'Meat animals nec',\n",
       " 'Animal products nec',\n",
       " 'Raw milk',\n",
       " 'Wool, silk-worm cocoons',\n",
       " 'Manure treatment (conventional), storage and land application',\n",
       " 'Manure treatment (biogas), storage and land application',\n",
       " 'Forestry, logging and related service activities (02)',\n",
       " 'Fishing, operating of fish hatcheries and fish farms; service activities incidental to fishing (05)',\n",
       " 'Mining of coal and lignite; extraction of peat (10)',\n",
       " 'Extraction of crude petroleum and services related to crude oil extraction, excluding surveying',\n",
       " 'Extraction of natural gas and services related to natural gas extraction, excluding surveying',\n",
       " 'Extraction, liquefaction, and regasification of other petroleum and gaseous materials',\n",
       " 'Mining of uranium and thorium ores (12)',\n",
       " 'Mining of iron ores',\n",
       " 'Mining of copper ores and concentrates',\n",
       " 'Mining of nickel ores and concentrates',\n",
       " 'Mining of aluminium ores and concentrates',\n",
       " 'Mining of precious metal ores and concentrates',\n",
       " 'Mining of lead, zinc and tin ores and concentrates',\n",
       " 'Mining of other non-ferrous metal ores and concentrates',\n",
       " 'Quarrying of stone',\n",
       " 'Quarrying of sand and clay',\n",
       " 'Mining of chemical and fertilizer minerals, production of salt, other mining and quarrying n.e.c.',\n",
       " 'Processing of meat cattle',\n",
       " 'Processing of meat pigs',\n",
       " 'Processing of meat poultry',\n",
       " 'Production of meat products nec',\n",
       " 'Processing vegetable oils and fats',\n",
       " 'Processing of dairy products',\n",
       " 'Processed rice',\n",
       " 'Sugar refining',\n",
       " 'Processing of Food products nec',\n",
       " 'Manufacture of beverages',\n",
       " 'Manufacture of fish products',\n",
       " 'Manufacture of tobacco products (16)',\n",
       " 'Manufacture of textiles (17)',\n",
       " 'Manufacture of wearing apparel; dressing and dyeing of fur (18)',\n",
       " 'Tanning and dressing of leather; manufacture of luggage, handbags, saddlery, harness and footwear (19)',\n",
       " 'Manufacture of wood and of products of wood and cork, except furniture; manufacture of articles of straw and plaiting materials (20)',\n",
       " 'Re-processing of secondary wood material into new wood material',\n",
       " 'Pulp',\n",
       " 'Re-processing of secondary paper into new pulp',\n",
       " 'Paper',\n",
       " 'Publishing, printing and reproduction of recorded media (22)',\n",
       " 'Manufacture of coke oven products',\n",
       " 'Petroleum Refinery',\n",
       " 'Processing of nuclear fuel',\n",
       " 'Plastics, basic',\n",
       " 'Re-processing of secondary plastic into new plastic',\n",
       " 'N-fertiliser',\n",
       " 'P- and other fertiliser',\n",
       " 'Chemicals nec',\n",
       " 'Manufacture of rubber and plastic products (25)',\n",
       " 'Manufacture of glass and glass products',\n",
       " 'Re-processing of secondary glass into new glass',\n",
       " 'Manufacture of ceramic goods',\n",
       " 'Manufacture of bricks, tiles and construction products, in baked clay',\n",
       " 'Manufacture of cement, lime and plaster',\n",
       " 'Re-processing of ash into clinker',\n",
       " 'Manufacture of other non-metallic mineral products n.e.c.',\n",
       " 'Manufacture of basic iron and steel and of ferro-alloys and first products thereof',\n",
       " 'Re-processing of secondary steel into new steel',\n",
       " 'Precious metals production',\n",
       " 'Re-processing of secondary preciuos metals into new preciuos metals',\n",
       " 'Aluminium production',\n",
       " 'Re-processing of secondary aluminium into new aluminium',\n",
       " 'Lead, zinc and tin production',\n",
       " 'Re-processing of secondary lead into new lead, zinc and tin',\n",
       " 'Copper production',\n",
       " 'Re-processing of secondary copper into new copper',\n",
       " 'Other non-ferrous metal production',\n",
       " 'Re-processing of secondary other non-ferrous metals into new other non-ferrous metals',\n",
       " 'Casting of metals',\n",
       " 'Manufacture of fabricated metal products, except machinery and equipment (28)',\n",
       " 'Manufacture of machinery and equipment n.e.c. (29)',\n",
       " 'Manufacture of office machinery and computers (30)',\n",
       " 'Manufacture of electrical machinery and apparatus n.e.c. (31)',\n",
       " 'Manufacture of radio, television and communication equipment and apparatus (32)',\n",
       " 'Manufacture of medical, precision and optical instruments, watches and clocks (33)',\n",
       " 'Manufacture of motor vehicles, trailers and semi-trailers (34)',\n",
       " 'Manufacture of other transport equipment (35)',\n",
       " 'Manufacture of furniture; manufacturing n.e.c. (36)',\n",
       " 'Recycling of waste and scrap',\n",
       " 'Recycling of bottles by direct reuse',\n",
       " 'Production of electricity by coal',\n",
       " 'Production of electricity by gas',\n",
       " 'Production of electricity by nuclear',\n",
       " 'Production of electricity by hydro',\n",
       " 'Production of electricity by wind',\n",
       " 'Production of electricity by petroleum and other oil derivatives',\n",
       " 'Production of electricity by biomass and waste',\n",
       " 'Production of electricity by solar photovoltaic',\n",
       " 'Production of electricity by solar thermal',\n",
       " 'Production of electricity by tide, wave, ocean',\n",
       " 'Production of electricity by Geothermal',\n",
       " 'Production of electricity nec',\n",
       " 'Transmission of electricity',\n",
       " 'Distribution and trade of electricity',\n",
       " 'Manufacture of gas; distribution of gaseous fuels through mains',\n",
       " 'Steam and hot water supply',\n",
       " 'Collection, purification and distribution of water (41)',\n",
       " 'Construction (45)',\n",
       " 'Re-processing of secondary construction material into aggregates',\n",
       " 'Sale, maintenance, repair of motor vehicles, motor vehicles parts, motorcycles, motor cycles parts and accessoiries',\n",
       " 'Retail sale of automotive fuel',\n",
       " 'Wholesale trade and commission trade, except of motor vehicles and motorcycles (51)',\n",
       " 'Retail trade, except of motor vehicles and motorcycles; repair of personal and household goods (52)',\n",
       " 'Hotels and restaurants (55)',\n",
       " 'Transport via railways',\n",
       " 'Other land transport',\n",
       " 'Transport via pipelines',\n",
       " 'Sea and coastal water transport',\n",
       " 'Inland water transport',\n",
       " 'Air transport (62)',\n",
       " 'Supporting and auxiliary transport activities; activities of travel agencies (63)',\n",
       " 'Post and telecommunications (64)',\n",
       " 'Financial intermediation, except insurance and pension funding (65)',\n",
       " 'Insurance and pension funding, except compulsory social security (66)',\n",
       " 'Activities auxiliary to financial intermediation (67)',\n",
       " 'Real estate activities (70)',\n",
       " 'Renting of machinery and equipment without operator and of personal and household goods (71)',\n",
       " 'Computer and related activities (72)',\n",
       " 'Research and development (73)',\n",
       " 'Other business activities (74)',\n",
       " 'Public administration and defence; compulsory social security (75)',\n",
       " 'Education (80)',\n",
       " 'Health and social work (85)',\n",
       " 'Incineration of waste: Food',\n",
       " 'Incineration of waste: Paper',\n",
       " 'Incineration of waste: Plastic',\n",
       " 'Incineration of waste: Metals and Inert materials',\n",
       " 'Incineration of waste: Textiles',\n",
       " 'Incineration of waste: Wood',\n",
       " 'Incineration of waste: Oil/Hazardous waste',\n",
       " 'Biogasification of food waste, incl. land application',\n",
       " 'Biogasification of paper, incl. land application',\n",
       " 'Biogasification of sewage slugde, incl. land application',\n",
       " 'Composting of food waste, incl. land application',\n",
       " 'Composting of paper and wood, incl. land application',\n",
       " 'Waste water treatment, food',\n",
       " 'Waste water treatment, other',\n",
       " 'Landfill of waste: Food',\n",
       " 'Landfill of waste: Paper',\n",
       " 'Landfill of waste: Plastic',\n",
       " 'Landfill of waste: Inert/metal/hazardous',\n",
       " 'Landfill of waste: Textiles',\n",
       " 'Landfill of waste: Wood',\n",
       " 'Activities of membership organisation n.e.c. (91)',\n",
       " 'Recreational, cultural and sporting activities (92)',\n",
       " 'Other service activities (93)',\n",
       " 'Private households with employed persons (95)',\n",
       " 'Extra-territorial organizations and bodies']"
      ]
     },
     "execution_count": 10,
     "metadata": {},
     "output_type": "execute_result"
    }
   ],
   "source": [
    "# Il faut utiliser \"list\" pour avoir la liste complète\n",
    "list(io.get_sectors())"
   ]
  },
  {
   "cell_type": "code",
   "execution_count": 11,
   "id": "649dd814-a103-41ae-b0f7-7b75e5b64aa3",
   "metadata": {
    "tags": []
   },
   "outputs": [
    {
     "data": {
      "text/plain": [
       "(7987, 7987)"
      ]
     },
     "execution_count": 11,
     "metadata": {},
     "output_type": "execute_result"
    }
   ],
   "source": [
    "io.Z.shape"
   ]
  },
  {
   "cell_type": "markdown",
   "id": "f18c2ebb-dd78-4e41-88d1-b2d5b197d3aa",
   "metadata": {},
   "source": [
    "### Z: consommation intermédiaire\n",
    "Cette matrice présente la consommation intermédiaire complète entre secteurs, en M€ (en prix de base). C'est un élément primaire (avec la consommation finale) de la base de données, à partir de laquelle tout le reste est calculé.\n",
    "\n",
    "Les transactions que contient cette matrice sont compilées à partir de la comptabilité nationale de chaque région."
   ]
  },
  {
   "cell_type": "code",
   "execution_count": 12,
   "id": "bb6979e4-2846-4c7a-b648-8761360e1b2b",
   "metadata": {
    "tags": []
   },
   "outputs": [
    {
     "data": {
      "text/html": [
       "<div>\n",
       "<style scoped>\n",
       "    .dataframe tbody tr th:only-of-type {\n",
       "        vertical-align: middle;\n",
       "    }\n",
       "\n",
       "    .dataframe tbody tr th {\n",
       "        vertical-align: top;\n",
       "    }\n",
       "\n",
       "    .dataframe thead tr th {\n",
       "        text-align: left;\n",
       "    }\n",
       "\n",
       "    .dataframe thead tr:last-of-type th {\n",
       "        text-align: right;\n",
       "    }\n",
       "</style>\n",
       "<table border=\"1\" class=\"dataframe\">\n",
       "  <thead>\n",
       "    <tr>\n",
       "      <th></th>\n",
       "      <th>region</th>\n",
       "      <th colspan=\"10\" halign=\"left\">AT</th>\n",
       "      <th>...</th>\n",
       "      <th colspan=\"10\" halign=\"left\">WM</th>\n",
       "    </tr>\n",
       "    <tr>\n",
       "      <th></th>\n",
       "      <th>sector</th>\n",
       "      <th>Cultivation of paddy rice</th>\n",
       "      <th>Cultivation of wheat</th>\n",
       "      <th>Cultivation of cereal grains nec</th>\n",
       "      <th>Cultivation of vegetables, fruit, nuts</th>\n",
       "      <th>Cultivation of oil seeds</th>\n",
       "      <th>Cultivation of sugar cane, sugar beet</th>\n",
       "      <th>Cultivation of plant-based fibers</th>\n",
       "      <th>Cultivation of crops nec</th>\n",
       "      <th>Cattle farming</th>\n",
       "      <th>Pigs farming</th>\n",
       "      <th>...</th>\n",
       "      <th>Landfill of waste: Paper</th>\n",
       "      <th>Landfill of waste: Plastic</th>\n",
       "      <th>Landfill of waste: Inert/metal/hazardous</th>\n",
       "      <th>Landfill of waste: Textiles</th>\n",
       "      <th>Landfill of waste: Wood</th>\n",
       "      <th>Activities of membership organisation n.e.c. (91)</th>\n",
       "      <th>Recreational, cultural and sporting activities (92)</th>\n",
       "      <th>Other service activities (93)</th>\n",
       "      <th>Private households with employed persons (95)</th>\n",
       "      <th>Extra-territorial organizations and bodies</th>\n",
       "    </tr>\n",
       "    <tr>\n",
       "      <th>region</th>\n",
       "      <th>sector</th>\n",
       "      <th></th>\n",
       "      <th></th>\n",
       "      <th></th>\n",
       "      <th></th>\n",
       "      <th></th>\n",
       "      <th></th>\n",
       "      <th></th>\n",
       "      <th></th>\n",
       "      <th></th>\n",
       "      <th></th>\n",
       "      <th></th>\n",
       "      <th></th>\n",
       "      <th></th>\n",
       "      <th></th>\n",
       "      <th></th>\n",
       "      <th></th>\n",
       "      <th></th>\n",
       "      <th></th>\n",
       "      <th></th>\n",
       "      <th></th>\n",
       "      <th></th>\n",
       "    </tr>\n",
       "  </thead>\n",
       "  <tbody>\n",
       "    <tr>\n",
       "      <th rowspan=\"5\" valign=\"top\">AT</th>\n",
       "      <th>Cultivation of paddy rice</th>\n",
       "      <td>0</td>\n",
       "      <td>0.000000</td>\n",
       "      <td>0.000000</td>\n",
       "      <td>0.000000</td>\n",
       "      <td>0.000000</td>\n",
       "      <td>0.0</td>\n",
       "      <td>0.0</td>\n",
       "      <td>0.000000</td>\n",
       "      <td>0.000000</td>\n",
       "      <td>0.000000</td>\n",
       "      <td>...</td>\n",
       "      <td>0.000000</td>\n",
       "      <td>0.000000</td>\n",
       "      <td>0.000000</td>\n",
       "      <td>0.000000</td>\n",
       "      <td>0.000000</td>\n",
       "      <td>0.000000</td>\n",
       "      <td>0.000000</td>\n",
       "      <td>0.000000</td>\n",
       "      <td>0.000000</td>\n",
       "      <td>0</td>\n",
       "    </tr>\n",
       "    <tr>\n",
       "      <th>Cultivation of wheat</th>\n",
       "      <td>0</td>\n",
       "      <td>12.533904</td>\n",
       "      <td>0.000000</td>\n",
       "      <td>0.000000</td>\n",
       "      <td>0.000000</td>\n",
       "      <td>0.0</td>\n",
       "      <td>0.0</td>\n",
       "      <td>0.189338</td>\n",
       "      <td>5.496777</td>\n",
       "      <td>4.169330</td>\n",
       "      <td>...</td>\n",
       "      <td>0.000207</td>\n",
       "      <td>0.000159</td>\n",
       "      <td>0.000207</td>\n",
       "      <td>0.000055</td>\n",
       "      <td>0.000076</td>\n",
       "      <td>0.000203</td>\n",
       "      <td>0.001515</td>\n",
       "      <td>0.001557</td>\n",
       "      <td>0.000115</td>\n",
       "      <td>0</td>\n",
       "    </tr>\n",
       "    <tr>\n",
       "      <th>Cultivation of cereal grains nec</th>\n",
       "      <td>0</td>\n",
       "      <td>0.000000</td>\n",
       "      <td>12.825861</td>\n",
       "      <td>0.000000</td>\n",
       "      <td>0.000000</td>\n",
       "      <td>0.0</td>\n",
       "      <td>0.0</td>\n",
       "      <td>0.302101</td>\n",
       "      <td>20.444740</td>\n",
       "      <td>27.044415</td>\n",
       "      <td>...</td>\n",
       "      <td>0.000719</td>\n",
       "      <td>0.000570</td>\n",
       "      <td>0.000716</td>\n",
       "      <td>0.000185</td>\n",
       "      <td>0.000264</td>\n",
       "      <td>0.004668</td>\n",
       "      <td>0.001640</td>\n",
       "      <td>0.006206</td>\n",
       "      <td>0.000395</td>\n",
       "      <td>0</td>\n",
       "    </tr>\n",
       "    <tr>\n",
       "      <th>Cultivation of vegetables, fruit, nuts</th>\n",
       "      <td>0</td>\n",
       "      <td>0.000000</td>\n",
       "      <td>0.000000</td>\n",
       "      <td>113.553421</td>\n",
       "      <td>0.000000</td>\n",
       "      <td>0.0</td>\n",
       "      <td>0.0</td>\n",
       "      <td>0.000000</td>\n",
       "      <td>0.096916</td>\n",
       "      <td>0.497149</td>\n",
       "      <td>...</td>\n",
       "      <td>0.002391</td>\n",
       "      <td>0.001694</td>\n",
       "      <td>0.002427</td>\n",
       "      <td>0.000236</td>\n",
       "      <td>0.000583</td>\n",
       "      <td>0.002196</td>\n",
       "      <td>0.025987</td>\n",
       "      <td>0.028897</td>\n",
       "      <td>0.000636</td>\n",
       "      <td>0</td>\n",
       "    </tr>\n",
       "    <tr>\n",
       "      <th>Cultivation of oil seeds</th>\n",
       "      <td>0</td>\n",
       "      <td>0.000000</td>\n",
       "      <td>0.000000</td>\n",
       "      <td>0.000000</td>\n",
       "      <td>0.532914</td>\n",
       "      <td>0.0</td>\n",
       "      <td>0.0</td>\n",
       "      <td>0.000000</td>\n",
       "      <td>0.000000</td>\n",
       "      <td>0.000000</td>\n",
       "      <td>...</td>\n",
       "      <td>0.000024</td>\n",
       "      <td>0.000014</td>\n",
       "      <td>0.000024</td>\n",
       "      <td>0.000000</td>\n",
       "      <td>0.000001</td>\n",
       "      <td>0.000025</td>\n",
       "      <td>0.000327</td>\n",
       "      <td>0.000382</td>\n",
       "      <td>0.000009</td>\n",
       "      <td>0</td>\n",
       "    </tr>\n",
       "  </tbody>\n",
       "</table>\n",
       "<p>5 rows × 7987 columns</p>\n",
       "</div>"
      ],
      "text/plain": [
       "region                                                               AT  \\\n",
       "sector                                        Cultivation of paddy rice   \n",
       "region sector                                                             \n",
       "AT     Cultivation of paddy rice                                      0   \n",
       "       Cultivation of wheat                                           0   \n",
       "       Cultivation of cereal grains nec                               0   \n",
       "       Cultivation of vegetables, fruit, nuts                         0   \n",
       "       Cultivation of oil seeds                                       0   \n",
       "\n",
       "region                                                              \\\n",
       "sector                                        Cultivation of wheat   \n",
       "region sector                                                        \n",
       "AT     Cultivation of paddy rice                          0.000000   \n",
       "       Cultivation of wheat                              12.533904   \n",
       "       Cultivation of cereal grains nec                   0.000000   \n",
       "       Cultivation of vegetables, fruit, nuts             0.000000   \n",
       "       Cultivation of oil seeds                           0.000000   \n",
       "\n",
       "region                                                                          \\\n",
       "sector                                        Cultivation of cereal grains nec   \n",
       "region sector                                                                    \n",
       "AT     Cultivation of paddy rice                                      0.000000   \n",
       "       Cultivation of wheat                                           0.000000   \n",
       "       Cultivation of cereal grains nec                              12.825861   \n",
       "       Cultivation of vegetables, fruit, nuts                         0.000000   \n",
       "       Cultivation of oil seeds                                       0.000000   \n",
       "\n",
       "region                                                                                \\\n",
       "sector                                        Cultivation of vegetables, fruit, nuts   \n",
       "region sector                                                                          \n",
       "AT     Cultivation of paddy rice                                            0.000000   \n",
       "       Cultivation of wheat                                                 0.000000   \n",
       "       Cultivation of cereal grains nec                                     0.000000   \n",
       "       Cultivation of vegetables, fruit, nuts                             113.553421   \n",
       "       Cultivation of oil seeds                                             0.000000   \n",
       "\n",
       "region                                                                  \\\n",
       "sector                                        Cultivation of oil seeds   \n",
       "region sector                                                            \n",
       "AT     Cultivation of paddy rice                              0.000000   \n",
       "       Cultivation of wheat                                   0.000000   \n",
       "       Cultivation of cereal grains nec                       0.000000   \n",
       "       Cultivation of vegetables, fruit, nuts                 0.000000   \n",
       "       Cultivation of oil seeds                               0.532914   \n",
       "\n",
       "region                                                                               \\\n",
       "sector                                        Cultivation of sugar cane, sugar beet   \n",
       "region sector                                                                         \n",
       "AT     Cultivation of paddy rice                                                0.0   \n",
       "       Cultivation of wheat                                                     0.0   \n",
       "       Cultivation of cereal grains nec                                         0.0   \n",
       "       Cultivation of vegetables, fruit, nuts                                   0.0   \n",
       "       Cultivation of oil seeds                                                 0.0   \n",
       "\n",
       "region                                                                           \\\n",
       "sector                                        Cultivation of plant-based fibers   \n",
       "region sector                                                                     \n",
       "AT     Cultivation of paddy rice                                            0.0   \n",
       "       Cultivation of wheat                                                 0.0   \n",
       "       Cultivation of cereal grains nec                                     0.0   \n",
       "       Cultivation of vegetables, fruit, nuts                               0.0   \n",
       "       Cultivation of oil seeds                                             0.0   \n",
       "\n",
       "region                                                                  \\\n",
       "sector                                        Cultivation of crops nec   \n",
       "region sector                                                            \n",
       "AT     Cultivation of paddy rice                              0.000000   \n",
       "       Cultivation of wheat                                   0.189338   \n",
       "       Cultivation of cereal grains nec                       0.302101   \n",
       "       Cultivation of vegetables, fruit, nuts                 0.000000   \n",
       "       Cultivation of oil seeds                               0.000000   \n",
       "\n",
       "region                                                                     \\\n",
       "sector                                        Cattle farming Pigs farming   \n",
       "region sector                                                               \n",
       "AT     Cultivation of paddy rice                    0.000000     0.000000   \n",
       "       Cultivation of wheat                         5.496777     4.169330   \n",
       "       Cultivation of cereal grains nec            20.444740    27.044415   \n",
       "       Cultivation of vegetables, fruit, nuts       0.096916     0.497149   \n",
       "       Cultivation of oil seeds                     0.000000     0.000000   \n",
       "\n",
       "region                                         ...                       WM  \\\n",
       "sector                                         ... Landfill of waste: Paper   \n",
       "region sector                                  ...                            \n",
       "AT     Cultivation of paddy rice               ...                 0.000000   \n",
       "       Cultivation of wheat                    ...                 0.000207   \n",
       "       Cultivation of cereal grains nec        ...                 0.000719   \n",
       "       Cultivation of vegetables, fruit, nuts  ...                 0.002391   \n",
       "       Cultivation of oil seeds                ...                 0.000024   \n",
       "\n",
       "region                                                                    \\\n",
       "sector                                        Landfill of waste: Plastic   \n",
       "region sector                                                              \n",
       "AT     Cultivation of paddy rice                                0.000000   \n",
       "       Cultivation of wheat                                     0.000159   \n",
       "       Cultivation of cereal grains nec                         0.000570   \n",
       "       Cultivation of vegetables, fruit, nuts                   0.001694   \n",
       "       Cultivation of oil seeds                                 0.000014   \n",
       "\n",
       "region                                                                                  \\\n",
       "sector                                        Landfill of waste: Inert/metal/hazardous   \n",
       "region sector                                                                            \n",
       "AT     Cultivation of paddy rice                                              0.000000   \n",
       "       Cultivation of wheat                                                   0.000207   \n",
       "       Cultivation of cereal grains nec                                       0.000716   \n",
       "       Cultivation of vegetables, fruit, nuts                                 0.002427   \n",
       "       Cultivation of oil seeds                                               0.000024   \n",
       "\n",
       "region                                                                     \\\n",
       "sector                                        Landfill of waste: Textiles   \n",
       "region sector                                                               \n",
       "AT     Cultivation of paddy rice                                 0.000000   \n",
       "       Cultivation of wheat                                      0.000055   \n",
       "       Cultivation of cereal grains nec                          0.000185   \n",
       "       Cultivation of vegetables, fruit, nuts                    0.000236   \n",
       "       Cultivation of oil seeds                                  0.000000   \n",
       "\n",
       "region                                                                 \\\n",
       "sector                                        Landfill of waste: Wood   \n",
       "region sector                                                           \n",
       "AT     Cultivation of paddy rice                             0.000000   \n",
       "       Cultivation of wheat                                  0.000076   \n",
       "       Cultivation of cereal grains nec                      0.000264   \n",
       "       Cultivation of vegetables, fruit, nuts                0.000583   \n",
       "       Cultivation of oil seeds                              0.000001   \n",
       "\n",
       "region                                                                                           \\\n",
       "sector                                        Activities of membership organisation n.e.c. (91)   \n",
       "region sector                                                                                     \n",
       "AT     Cultivation of paddy rice                                                       0.000000   \n",
       "       Cultivation of wheat                                                            0.000203   \n",
       "       Cultivation of cereal grains nec                                                0.004668   \n",
       "       Cultivation of vegetables, fruit, nuts                                          0.002196   \n",
       "       Cultivation of oil seeds                                                        0.000025   \n",
       "\n",
       "region                                                                                             \\\n",
       "sector                                        Recreational, cultural and sporting activities (92)   \n",
       "region sector                                                                                       \n",
       "AT     Cultivation of paddy rice                                                        0.000000    \n",
       "       Cultivation of wheat                                                             0.001515    \n",
       "       Cultivation of cereal grains nec                                                 0.001640    \n",
       "       Cultivation of vegetables, fruit, nuts                                           0.025987    \n",
       "       Cultivation of oil seeds                                                         0.000327    \n",
       "\n",
       "region                                                                       \\\n",
       "sector                                        Other service activities (93)   \n",
       "region sector                                                                 \n",
       "AT     Cultivation of paddy rice                                   0.000000   \n",
       "       Cultivation of wheat                                        0.001557   \n",
       "       Cultivation of cereal grains nec                            0.006206   \n",
       "       Cultivation of vegetables, fruit, nuts                      0.028897   \n",
       "       Cultivation of oil seeds                                    0.000382   \n",
       "\n",
       "region                                                                                       \\\n",
       "sector                                        Private households with employed persons (95)   \n",
       "region sector                                                                                 \n",
       "AT     Cultivation of paddy rice                                                   0.000000   \n",
       "       Cultivation of wheat                                                        0.000115   \n",
       "       Cultivation of cereal grains nec                                            0.000395   \n",
       "       Cultivation of vegetables, fruit, nuts                                      0.000636   \n",
       "       Cultivation of oil seeds                                                    0.000009   \n",
       "\n",
       "region                                                                                    \n",
       "sector                                        Extra-territorial organizations and bodies  \n",
       "region sector                                                                             \n",
       "AT     Cultivation of paddy rice                                                       0  \n",
       "       Cultivation of wheat                                                            0  \n",
       "       Cultivation of cereal grains nec                                                0  \n",
       "       Cultivation of vegetables, fruit, nuts                                          0  \n",
       "       Cultivation of oil seeds                                                        0  \n",
       "\n",
       "[5 rows x 7987 columns]"
      ]
     },
     "execution_count": 12,
     "metadata": {},
     "output_type": "execute_result"
    }
   ],
   "source": [
    "io.Z.head()"
   ]
  },
  {
   "cell_type": "code",
   "execution_count": 13,
   "id": "4732b786-454e-4dea-867e-9fc96f85aa2b",
   "metadata": {
    "tags": []
   },
   "outputs": [
    {
     "data": {
      "text/plain": [
       "region  sector                                                                                               sector                                                                             \n",
       "LU      Activities auxiliary to financial intermediation (67)                                                Financial intermediation, except insurance and pension funding (65)                    33670.724335\n",
       "        Financial intermediation, except insurance and pension funding (65)                                  Activities auxiliary to financial intermediation (67)                                  22792.257543\n",
       "                                                                                                             Financial intermediation, except insurance and pension funding (65)                     9946.787027\n",
       "        Post and telecommunications (64)                                                                     Computer and related activities (72)                                                    2341.924070\n",
       "CH      Financial intermediation, except insurance and pension funding (65)                                  Activities auxiliary to financial intermediation (67)                                   2253.745910\n",
       "LU      Post and telecommunications (64)                                                                     Post and telecommunications (64)                                                        2192.955914\n",
       "        Insurance and pension funding, except compulsory social security (66)                                Insurance and pension funding, except compulsory social security (66)                   1768.648308\n",
       "WA      Financial intermediation, except insurance and pension funding (65)                                  Activities auxiliary to financial intermediation (67)                                   1493.982460\n",
       "DE      Financial intermediation, except insurance and pension funding (65)                                  Activities auxiliary to financial intermediation (67)                                   1373.160186\n",
       "IE      Financial intermediation, except insurance and pension funding (65)                                  Activities auxiliary to financial intermediation (67)                                   1336.476567\n",
       "CH      Wholesale trade and commission trade, except of motor vehicles and motorcycles (51)                  Wholesale trade and commission trade, except of motor vehicles and motorcycles (51)     1263.849199\n",
       "        Financial intermediation, except insurance and pension funding (65)                                  Financial intermediation, except insurance and pension funding (65)                     1021.576601\n",
       "LU      Real estate activities (70)                                                                          Other business activities (74)                                                           907.801573\n",
       "        Other business activities (74)                                                                       Other business activities (74)                                                           833.322955\n",
       "        Real estate activities (70)                                                                          Construction (45)                                                                        818.452099\n",
       "CH      Retail trade, except of motor vehicles and motorcycles; repair of personal and household goods (52)  Post and telecommunications (64)                                                         783.459810\n",
       "BE      Financial intermediation, except insurance and pension funding (65)                                  Activities auxiliary to financial intermediation (67)                                    764.293291\n",
       "WA      Financial intermediation, except insurance and pension funding (65)                                  Financial intermediation, except insurance and pension funding (65)                      681.991069\n",
       "LU      Computer and related activities (72)                                                                 Other business activities (74)                                                           633.629316\n",
       "DE      Financial intermediation, except insurance and pension funding (65)                                  Financial intermediation, except insurance and pension funding (65)                      622.361789\n",
       "dtype: float64"
      ]
     },
     "execution_count": 13,
     "metadata": {},
     "output_type": "execute_result"
    }
   ],
   "source": [
    "# L'économie luxembourgeoise s'approvisionne partout dans le monde\n",
    "# En termes monétaires, quelles sont les échanges entre secteurs les plus importants?\n",
    "\n",
    "io.Z.loc[:,'LU'].stack().nlargest(20)\n",
    "\n",
    "# .loc = méthode d'indexation, e.g. loc[row, col], loc[row_range, col_range]\n",
    "# .stack() = passe les colonnes en lignes (\"dépivote\" une table)\n",
    "# .nlargest(n) = donne les n plus grandes valeurs"
   ]
  },
  {
   "cell_type": "markdown",
   "id": "caa21470-06fb-4c8c-9a29-b5fbb84115a3",
   "metadata": {},
   "source": [
    "On constate qu'au Luxembourg, les secteurs les plus consommateurs (en M€) sont l'intermédiation financière, avec toutes les activités \"support\", ainsi que les communications et le secteur des affaires en général."
   ]
  },
  {
   "cell_type": "code",
   "execution_count": 15,
   "id": "b34d0ee8-7a32-40f3-af4a-86583027a6a5",
   "metadata": {
    "tags": []
   },
   "outputs": [],
   "source": [
    "secteur_financier = ('LU','Financial intermediation, except insurance and pension funding (65)')"
   ]
  },
  {
   "cell_type": "code",
   "execution_count": 16,
   "id": "16e983b1-e467-4e44-8634-6bd2eaae9aa3",
   "metadata": {
    "tags": []
   },
   "outputs": [
    {
     "data": {
      "text/plain": [
       "50697.323877110364"
      ]
     },
     "execution_count": 16,
     "metadata": {},
     "output_type": "execute_result"
    }
   ],
   "source": [
    "# Somme de toute la colonne\n",
    "io.Z[secteur_financier].sum()"
   ]
  },
  {
   "cell_type": "markdown",
   "id": "cb43b534-1dd2-4972-8c4c-a7470798a9c1",
   "metadata": {
    "tags": []
   },
   "source": [
    "Au total, ce secteur aura dépensé 50.7 milliards d'euros, au Luxembourg et à l'étranger."
   ]
  },
  {
   "cell_type": "markdown",
   "id": "1030447a-db95-4311-b8b3-38c9b83b2df1",
   "metadata": {},
   "source": [
    "### Y: demande finale\n",
    "La demande finale contient les informations de consommation finale des ménages, des ONGs, et du gouvernement, ainsi que les changements d'inventaire ou la consommation de capital."
   ]
  },
  {
   "cell_type": "code",
   "execution_count": 19,
   "id": "2459efb3-8555-4ace-b22f-300b27e2a0d1",
   "metadata": {
    "tags": []
   },
   "outputs": [
    {
     "data": {
      "text/plain": [
       "Index(['Final consumption expenditure by households',\n",
       "       'Final consumption expenditure by non-profit organisations serving households (NPISH)',\n",
       "       'Final consumption expenditure by government',\n",
       "       'Gross fixed capital formation', 'Changes in inventories',\n",
       "       'Changes in valuables', 'Exports: Total (fob)'],\n",
       "      dtype='object', name='category')"
      ]
     },
     "execution_count": 19,
     "metadata": {},
     "output_type": "execute_result"
    }
   ],
   "source": [
    "io.Y['LU'].columns"
   ]
  },
  {
   "cell_type": "markdown",
   "id": "182f60d5-a95e-4356-9bcc-84975eecb517",
   "metadata": {},
   "source": [
    "Par exemple, quels sont les secteurs de dépense principaux des ménages allemands ?"
   ]
  },
  {
   "cell_type": "code",
   "execution_count": 20,
   "id": "30f0c326-7824-4899-8155-f0ccb4d7c14c",
   "metadata": {
    "tags": []
   },
   "outputs": [
    {
     "data": {
      "text/plain": [
       "region  sector                                                                                                             \n",
       "LU      Insurance and pension funding, except compulsory social security (66)                                                  864.039476\n",
       "WA      Chemicals nec                                                                                                          748.951601\n",
       "DE      Manufacture of motor vehicles, trailers and semi-trailers (34)                                                         545.417359\n",
       "BE      Hotels and restaurants (55)                                                                                            537.203594\n",
       "FR      Manufacture of motor vehicles, trailers and semi-trailers (34)                                                         492.949513\n",
       "NL      Processing of Food products nec                                                                                        396.500201\n",
       "LU      Supporting and auxiliary transport activities; activities of travel agencies (63)                                      354.301769\n",
       "        Transport via railways                                                                                                 320.208593\n",
       "        Other land transport                                                                                                   291.113606\n",
       "FR      Hotels and restaurants (55)                                                                                            271.100197\n",
       "US      Chemicals nec                                                                                                          261.205681\n",
       "LU      Air transport (62)                                                                                                     254.000005\n",
       "NL      Petroleum Refinery                                                                                                     230.651935\n",
       "LU      Sale, maintenance, repair of motor vehicles, motor vehicles parts, motorcycles, motor cycles parts and accessoiries    229.770562\n",
       "GB      Petroleum Refinery                                                                                                     227.478090\n",
       "Name: (LU, Final consumption expenditure by households), dtype: float64"
      ]
     },
     "execution_count": 20,
     "metadata": {},
     "output_type": "execute_result"
    }
   ],
   "source": [
    "io.Y['LU','Final consumption expenditure by households'].nlargest(15)"
   ]
  },
  {
   "cell_type": "markdown",
   "id": "a13ea8a0-2ef8-44e4-afb6-266fec12ae56",
   "metadata": {
    "tags": []
   },
   "source": [
    "D'après EXIOBASE, les ménages luxembourgeois dépensent principalement dans les secteurs de\n",
    "- l'assurance (y compris pension de retraite privée),\n",
    "- les produits chimiques (catégorie large),\n",
    "- les véhicules privés (allemands et français),\n",
    "- l'HORECA,\n",
    "- l'alimentation,\n",
    "- les agences de voyage..."
   ]
  },
  {
   "cell_type": "markdown",
   "id": "4878d0c6-a6a3-488d-bcd1-5296d48a6907",
   "metadata": {},
   "source": [
    "### x: production totale\n",
    "La production totale de l'économie comprend à la fois la consommation intermédiaire (ce que les entreprises produisent pour elles-mêmes, le \"B2B\") et la consommation finale (les produits finaux destinés aux consommateurs, le \"B2C\").\n",
    "\n",
    "La production totale $x$ est un vecteur, vérifiant l'équation $Zi+Yi=x$, $i$ étant un vecteur unité (composé uniquement de 1) permettant de sommer les valeurs de chaque ligne de $Z$ et $Y$."
   ]
  },
  {
   "cell_type": "code",
   "execution_count": 21,
   "id": "8690d6e6-a225-4db8-b97b-3a164572370c",
   "metadata": {
    "tags": []
   },
   "outputs": [
    {
     "data": {
      "text/plain": [
       "True"
      ]
     },
     "execution_count": 21,
     "metadata": {},
     "output_type": "execute_result"
    }
   ],
   "source": [
    "# On peut vérifier que la somme de chaque ligne de Z et Y est bien égale (avec une tolérance faible) à x\n",
    "\n",
    "np.allclose(io.Z.sum(axis=1) + io.Y.sum(axis=1),\n",
    "            io.x['indout'])\n",
    "\n",
    "# .sum(axis=1) = calcule la somme le long de l'axe 1 (les colonnes)"
   ]
  },
  {
   "cell_type": "code",
   "execution_count": 22,
   "id": "6870a47b-ebd8-4b8f-8881-753a4d1c138c",
   "metadata": {
    "tags": []
   },
   "outputs": [
    {
     "data": {
      "text/plain": [
       "sector\n",
       "Financial intermediation, except insurance and pension funding (65)                    63539.441461\n",
       "Activities auxiliary to financial intermediation (67)                                  38810.596833\n",
       "Other business activities (74)                                                         10701.717219\n",
       "Wholesale trade and commission trade, except of motor vehicles and motorcycles (51)     7573.986562\n",
       "Construction (45)                                                                       7051.502808\n",
       "Name: indout, dtype: float64"
      ]
     },
     "execution_count": 22,
     "metadata": {},
     "output_type": "execute_result"
    }
   ],
   "source": [
    "io.x.loc[('LU','indout')].nlargest()"
   ]
  },
  {
   "cell_type": "markdown",
   "id": "2a29f3f0-8fcf-4e65-bbdb-63cd72a41a76",
   "metadata": {},
   "source": [
    "On retrouve les secteurs mentionnés ci-dessus comme étant les secteurs les plus importants de l'économie luxembourgeoise. Ces valeurs sont équivalentes au \"chiffre d'affaire\" de chaque secteur."
   ]
  },
  {
   "cell_type": "code",
   "execution_count": 23,
   "id": "d15b4c78-2389-4f67-a1d0-a519ca921635",
   "metadata": {
    "tags": []
   },
   "outputs": [
    {
     "data": {
      "text/plain": [
       "50697.323877110364"
      ]
     },
     "execution_count": 23,
     "metadata": {},
     "output_type": "execute_result"
    }
   ],
   "source": [
    "# Somme de toute la colonne\n",
    "io.Z[secteur_financier].sum()"
   ]
  },
  {
   "cell_type": "code",
   "execution_count": 24,
   "id": "b07025ae-9eaa-4bb7-a2bc-8a571ef21d71",
   "metadata": {
    "tags": []
   },
   "outputs": [
    {
     "data": {
      "text/plain": [
       "sector\n",
       "Activities auxiliary to financial intermediation (67)                                           34693.715604\n",
       "Financial intermediation, except insurance and pension funding (65)                             14378.439688\n",
       "Real estate activities (70)                                                                       438.504208\n",
       "Insurance and pension funding, except compulsory social security (66)                             242.906799\n",
       "Air transport (62)                                                                                226.671326\n",
       "Renting of machinery and equipment without operator and of personal and household goods (71)      163.238995\n",
       "Recreational, cultural and sporting activities (92)                                               108.392422\n",
       "Distribution and trade of electricity                                                             104.128411\n",
       "Manufacture of radio, television and communication equipment and apparatus (32)                    66.063732\n",
       "Wholesale trade and commission trade, except of motor vehicles and motorcycles (51)                34.593603\n",
       "Name: (LU, Financial intermediation, except insurance and pension funding (65)), dtype: float64"
      ]
     },
     "execution_count": 24,
     "metadata": {},
     "output_type": "execute_result"
    }
   ],
   "source": [
    "inputs = io.Z[secteur_financier].groupby('sector').sum().sort_values(ascending=False)\n",
    "inputs.head(10)"
   ]
  },
  {
   "cell_type": "code",
   "execution_count": 25,
   "id": "b218ad47-91e2-46a4-8f28-4d1e0639eb75",
   "metadata": {
    "tags": []
   },
   "outputs": [],
   "source": [
    "threshold = 300\n",
    "to_drop = inputs[inputs<threshold].index\n",
    "inputs['REST'] = inputs[inputs<threshold].sum()\n",
    "inputs = inputs.drop(to_drop)"
   ]
  },
  {
   "cell_type": "code",
   "execution_count": 26,
   "id": "72b024ba-5a68-45f3-89b9-f1576cdeea57",
   "metadata": {
    "tags": []
   },
   "outputs": [
    {
     "data": {
      "text/plain": [
       "indout    63539.441461\n",
       "Name: (LU, Financial intermediation, except insurance and pension funding (65)), dtype: float64"
      ]
     },
     "execution_count": 26,
     "metadata": {},
     "output_type": "execute_result"
    }
   ],
   "source": [
    "io.x.loc[secteur_financier]"
   ]
  },
  {
   "cell_type": "code",
   "execution_count": 27,
   "id": "fd3459ca-7c29-4b96-8748-3224059e2e0a",
   "metadata": {
    "tags": []
   },
   "outputs": [
    {
     "data": {
      "text/plain": [
       "sector\n",
       "Activities auxiliary to financial intermediation (67)                    3.469372e+04\n",
       "Financial intermediation, except insurance and pension funding (65)      1.437844e+04\n",
       "Real estate activities (70)                                              4.385042e+02\n",
       "Insurance and pension funding, except compulsory social security (66)    2.429068e+02\n",
       "Air transport (62)                                                       2.266713e+02\n",
       "                                                                             ...     \n",
       "Production of electricity by solar thermal                               9.184047e-09\n",
       "Re-processing of secondary preciuos metals into new preciuos metals      1.039497e-11\n",
       "Manure treatment (biogas), storage and land application                  0.000000e+00\n",
       "Manure treatment (conventional), storage and land application            0.000000e+00\n",
       "Extra-territorial organizations and bodies                               0.000000e+00\n",
       "Name: (LU, Financial intermediation, except insurance and pension funding (65)), Length: 163, dtype: float64"
      ]
     },
     "execution_count": 27,
     "metadata": {},
     "output_type": "execute_result"
    }
   ],
   "source": [
    "io.Z[secteur_financier].groupby('sector').sum().sort_values(ascending=False)"
   ]
  },
  {
   "cell_type": "markdown",
   "id": "4738871b-2a90-4bfb-99ea-1b33a54a6c5b",
   "metadata": {},
   "source": [
    "63.5 milliards d'euros ont été produit par cette industrie en 2019. Le secteur a dépensé 50.7 milliards d'euros la même année, principalement en services financiers et équivalent, immobilier, assurance, transport aérien, location de machines..."
   ]
  },
  {
   "cell_type": "code",
   "execution_count": 28,
   "id": "7e613acc-a4cb-4435-b6cd-64ade317dafc",
   "metadata": {
    "tags": []
   },
   "outputs": [],
   "source": [
    "# Graphique\n",
    "input_output = pd.concat([inputs, pd.Series(dtype='float64')],axis=1,keys=['inputs','outputs'])\n",
    "input_output.loc['output','outputs'] = io.x.loc[secteur_financier,'indout']"
   ]
  },
  {
   "cell_type": "code",
   "execution_count": 29,
   "id": "1e2cc5b5-e066-444a-931c-2edb96baddee",
   "metadata": {
    "tags": []
   },
   "outputs": [
    {
     "data": {
      "image/png": "[encoded data removed]",
      "text/plain": [
       "<Figure size 640x480 with 1 Axes>"
      ]
     },
     "metadata": {},
     "output_type": "display_data"
    }
   ],
   "source": [
    "input_output.T.plot.bar(stacked=True).legend(loc='lower center')\n",
    "plt.tight_layout()"
   ]
  },
  {
   "cell_type": "code",
   "execution_count": 30,
   "id": "c9b35493-d35e-478e-a847-48ed81361516",
   "metadata": {
    "tags": []
   },
   "outputs": [
    {
     "data": {
      "text/plain": [
       "indout    12842.117584\n",
       "Name: (LU, Financial intermediation, except insurance and pension funding (65)), dtype: float64"
      ]
     },
     "execution_count": 30,
     "metadata": {},
     "output_type": "execute_result"
    }
   ],
   "source": [
    "# À quoi correspond la différence entre la consommation et la production de ce secteur ?\n",
    "io.x.loc[secteur_financier] - io.Z[secteur_financier].sum()"
   ]
  },
  {
   "cell_type": "markdown",
   "id": "0453a244-76a5-42c8-8010-201ba568c7eb",
   "metadata": {},
   "source": [
    "La différence entre les deux valeurs, 12.8 milliards d'euros, équivaut aux taxes, à la masse salariale, et aux profits.\n",
    "\n",
    "Ces valeurs sont contenues dans les (9) premières lignes de la matrice des comptes \"satellites\" (considérés comme extérieurs à l'économie marchande), qui est décrite plus bas. Pour information, on retrouve bien cette différence ici."
   ]
  },
  {
   "cell_type": "code",
   "execution_count": 31,
   "id": "f3df8653-c9f6-4f58-83d4-86c65ede86ee",
   "metadata": {
    "tags": []
   },
   "outputs": [
    {
     "data": {
      "text/plain": [
       "12842.1175958972"
      ]
     },
     "execution_count": 31,
     "metadata": {},
     "output_type": "execute_result"
    }
   ],
   "source": [
    "io.satellite.F[secteur_financier][:9].sum()"
   ]
  },
  {
   "cell_type": "code",
   "execution_count": 32,
   "id": "7414d0a3-f804-45d3-b922-613e1747e51d",
   "metadata": {
    "tags": []
   },
   "outputs": [
    {
     "data": {
      "text/plain": [
       "stressor\n",
       "Taxes less subsidies on products purchased: Total                                                 300.704341\n",
       "Other net taxes on production                                                                     755.171567\n",
       "Compensation of employees; wages, salaries, & employers' social contributions: Low-skilled         14.378997\n",
       "Compensation of employees; wages, salaries, & employers' social contributions: Medium-skilled    1113.460326\n",
       "Compensation of employees; wages, salaries, & employers' social contributions: High-skilled      2490.300813\n",
       "Operating surplus: Consumption of fixed capital                                                   142.792375\n",
       "Operating surplus: Rents on land                                                                    0.000000\n",
       "Operating surplus: Royalties on resources                                                           0.000000\n",
       "Operating surplus: Remaining net operating surplus                                               8025.309175\n",
       "Name: (LU, Financial intermediation, except insurance and pension funding (65)), dtype: float64"
      ]
     },
     "execution_count": 32,
     "metadata": {},
     "output_type": "execute_result"
    }
   ],
   "source": [
    "io.satellite.F[secteur_financier][:9]"
   ]
  },
  {
   "cell_type": "markdown",
   "id": "8ce244da-344a-45a9-9e51-ddb54bcc44ec",
   "metadata": {
    "tags": []
   },
   "source": [
    "### A: coefficients de consommation intermédiaire\n",
    "La matrice `A` contient les coefficients de consommation intermédiaire, en €/€.\n",
    "\n",
    "Elle est calculée en \"divisant\" les transactions annuelles de $Z$ par la production totale $x$, formellement $A = Z\\hat{x}^{-1}$."
   ]
  },
  {
   "cell_type": "code",
   "execution_count": 33,
   "id": "cb627995-0ea3-486b-9ecc-eef837287a88",
   "metadata": {
    "tags": []
   },
   "outputs": [
    {
     "data": {
      "text/html": [
       "<div>\n",
       "<style scoped>\n",
       "    .dataframe tbody tr th:only-of-type {\n",
       "        vertical-align: middle;\n",
       "    }\n",
       "\n",
       "    .dataframe tbody tr th {\n",
       "        vertical-align: top;\n",
       "    }\n",
       "\n",
       "    .dataframe thead tr th {\n",
       "        text-align: left;\n",
       "    }\n",
       "\n",
       "    .dataframe thead tr:last-of-type th {\n",
       "        text-align: right;\n",
       "    }\n",
       "</style>\n",
       "<table border=\"1\" class=\"dataframe\">\n",
       "  <thead>\n",
       "    <tr>\n",
       "      <th></th>\n",
       "      <th>region</th>\n",
       "      <th colspan=\"10\" halign=\"left\">AT</th>\n",
       "      <th>...</th>\n",
       "      <th colspan=\"10\" halign=\"left\">WM</th>\n",
       "    </tr>\n",
       "    <tr>\n",
       "      <th></th>\n",
       "      <th>sector</th>\n",
       "      <th>Cultivation of paddy rice</th>\n",
       "      <th>Cultivation of wheat</th>\n",
       "      <th>Cultivation of cereal grains nec</th>\n",
       "      <th>Cultivation of vegetables, fruit, nuts</th>\n",
       "      <th>Cultivation of oil seeds</th>\n",
       "      <th>Cultivation of sugar cane, sugar beet</th>\n",
       "      <th>Cultivation of plant-based fibers</th>\n",
       "      <th>Cultivation of crops nec</th>\n",
       "      <th>Cattle farming</th>\n",
       "      <th>Pigs farming</th>\n",
       "      <th>...</th>\n",
       "      <th>Landfill of waste: Paper</th>\n",
       "      <th>Landfill of waste: Plastic</th>\n",
       "      <th>Landfill of waste: Inert/metal/hazardous</th>\n",
       "      <th>Landfill of waste: Textiles</th>\n",
       "      <th>Landfill of waste: Wood</th>\n",
       "      <th>Activities of membership organisation n.e.c. (91)</th>\n",
       "      <th>Recreational, cultural and sporting activities (92)</th>\n",
       "      <th>Other service activities (93)</th>\n",
       "      <th>Private households with employed persons (95)</th>\n",
       "      <th>Extra-territorial organizations and bodies</th>\n",
       "    </tr>\n",
       "    <tr>\n",
       "      <th>region</th>\n",
       "      <th>sector</th>\n",
       "      <th></th>\n",
       "      <th></th>\n",
       "      <th></th>\n",
       "      <th></th>\n",
       "      <th></th>\n",
       "      <th></th>\n",
       "      <th></th>\n",
       "      <th></th>\n",
       "      <th></th>\n",
       "      <th></th>\n",
       "      <th></th>\n",
       "      <th></th>\n",
       "      <th></th>\n",
       "      <th></th>\n",
       "      <th></th>\n",
       "      <th></th>\n",
       "      <th></th>\n",
       "      <th></th>\n",
       "      <th></th>\n",
       "      <th></th>\n",
       "      <th></th>\n",
       "    </tr>\n",
       "  </thead>\n",
       "  <tbody>\n",
       "    <tr>\n",
       "      <th rowspan=\"5\" valign=\"top\">AT</th>\n",
       "      <th>Cultivation of paddy rice</th>\n",
       "      <td>NaN</td>\n",
       "      <td>0.000000</td>\n",
       "      <td>0.000000</td>\n",
       "      <td>0.00000</td>\n",
       "      <td>0.00000</td>\n",
       "      <td>0.0</td>\n",
       "      <td>0.0</td>\n",
       "      <td>0.000000</td>\n",
       "      <td>0.000000</td>\n",
       "      <td>0.000000</td>\n",
       "      <td>...</td>\n",
       "      <td>0.000000e+00</td>\n",
       "      <td>0.000000e+00</td>\n",
       "      <td>0.000000e+00</td>\n",
       "      <td>0.000000e+00</td>\n",
       "      <td>0.000000e+00</td>\n",
       "      <td>0.000000e+00</td>\n",
       "      <td>0.000000e+00</td>\n",
       "      <td>0.000000e+00</td>\n",
       "      <td>0.000000e+00</td>\n",
       "      <td>NaN</td>\n",
       "    </tr>\n",
       "    <tr>\n",
       "      <th>Cultivation of wheat</th>\n",
       "      <td>NaN</td>\n",
       "      <td>0.033135</td>\n",
       "      <td>0.000000</td>\n",
       "      <td>0.00000</td>\n",
       "      <td>0.00000</td>\n",
       "      <td>0.0</td>\n",
       "      <td>0.0</td>\n",
       "      <td>0.000800</td>\n",
       "      <td>0.011513</td>\n",
       "      <td>0.005035</td>\n",
       "      <td>...</td>\n",
       "      <td>1.083381e-07</td>\n",
       "      <td>1.368199e-07</td>\n",
       "      <td>1.035101e-07</td>\n",
       "      <td>9.744628e-08</td>\n",
       "      <td>1.049155e-07</td>\n",
       "      <td>8.937568e-09</td>\n",
       "      <td>2.797733e-08</td>\n",
       "      <td>4.924542e-08</td>\n",
       "      <td>1.626820e-08</td>\n",
       "      <td>NaN</td>\n",
       "    </tr>\n",
       "    <tr>\n",
       "      <th>Cultivation of cereal grains nec</th>\n",
       "      <td>NaN</td>\n",
       "      <td>0.000000</td>\n",
       "      <td>0.014346</td>\n",
       "      <td>0.00000</td>\n",
       "      <td>0.00000</td>\n",
       "      <td>0.0</td>\n",
       "      <td>0.0</td>\n",
       "      <td>0.001276</td>\n",
       "      <td>0.042821</td>\n",
       "      <td>0.032660</td>\n",
       "      <td>...</td>\n",
       "      <td>3.757541e-07</td>\n",
       "      <td>4.904540e-07</td>\n",
       "      <td>3.578730e-07</td>\n",
       "      <td>3.309581e-07</td>\n",
       "      <td>3.633055e-07</td>\n",
       "      <td>2.050701e-07</td>\n",
       "      <td>3.029150e-08</td>\n",
       "      <td>1.962731e-07</td>\n",
       "      <td>5.570858e-08</td>\n",
       "      <td>NaN</td>\n",
       "    </tr>\n",
       "    <tr>\n",
       "      <th>Cultivation of vegetables, fruit, nuts</th>\n",
       "      <td>NaN</td>\n",
       "      <td>0.000000</td>\n",
       "      <td>0.000000</td>\n",
       "      <td>0.06819</td>\n",
       "      <td>0.00000</td>\n",
       "      <td>0.0</td>\n",
       "      <td>0.0</td>\n",
       "      <td>0.000000</td>\n",
       "      <td>0.000203</td>\n",
       "      <td>0.000600</td>\n",
       "      <td>...</td>\n",
       "      <td>1.249781e-06</td>\n",
       "      <td>1.457474e-06</td>\n",
       "      <td>1.213081e-06</td>\n",
       "      <td>4.226725e-07</td>\n",
       "      <td>8.011145e-07</td>\n",
       "      <td>9.645816e-08</td>\n",
       "      <td>4.800096e-07</td>\n",
       "      <td>9.138757e-07</td>\n",
       "      <td>8.963735e-08</td>\n",
       "      <td>NaN</td>\n",
       "    </tr>\n",
       "    <tr>\n",
       "      <th>Cultivation of oil seeds</th>\n",
       "      <td>NaN</td>\n",
       "      <td>0.000000</td>\n",
       "      <td>0.000000</td>\n",
       "      <td>0.00000</td>\n",
       "      <td>0.00303</td>\n",
       "      <td>0.0</td>\n",
       "      <td>0.0</td>\n",
       "      <td>0.000000</td>\n",
       "      <td>0.000000</td>\n",
       "      <td>0.000000</td>\n",
       "      <td>...</td>\n",
       "      <td>1.232309e-08</td>\n",
       "      <td>1.165520e-08</td>\n",
       "      <td>1.216046e-08</td>\n",
       "      <td>0.000000e+00</td>\n",
       "      <td>1.763699e-09</td>\n",
       "      <td>1.088535e-09</td>\n",
       "      <td>6.035822e-09</td>\n",
       "      <td>1.208418e-08</td>\n",
       "      <td>1.230458e-09</td>\n",
       "      <td>NaN</td>\n",
       "    </tr>\n",
       "  </tbody>\n",
       "</table>\n",
       "<p>5 rows × 7987 columns</p>\n",
       "</div>"
      ],
      "text/plain": [
       "region                                                               AT  \\\n",
       "sector                                        Cultivation of paddy rice   \n",
       "region sector                                                             \n",
       "AT     Cultivation of paddy rice                                    NaN   \n",
       "       Cultivation of wheat                                         NaN   \n",
       "       Cultivation of cereal grains nec                             NaN   \n",
       "       Cultivation of vegetables, fruit, nuts                       NaN   \n",
       "       Cultivation of oil seeds                                     NaN   \n",
       "\n",
       "region                                                              \\\n",
       "sector                                        Cultivation of wheat   \n",
       "region sector                                                        \n",
       "AT     Cultivation of paddy rice                          0.000000   \n",
       "       Cultivation of wheat                               0.033135   \n",
       "       Cultivation of cereal grains nec                   0.000000   \n",
       "       Cultivation of vegetables, fruit, nuts             0.000000   \n",
       "       Cultivation of oil seeds                           0.000000   \n",
       "\n",
       "region                                                                          \\\n",
       "sector                                        Cultivation of cereal grains nec   \n",
       "region sector                                                                    \n",
       "AT     Cultivation of paddy rice                                      0.000000   \n",
       "       Cultivation of wheat                                           0.000000   \n",
       "       Cultivation of cereal grains nec                               0.014346   \n",
       "       Cultivation of vegetables, fruit, nuts                         0.000000   \n",
       "       Cultivation of oil seeds                                       0.000000   \n",
       "\n",
       "region                                                                                \\\n",
       "sector                                        Cultivation of vegetables, fruit, nuts   \n",
       "region sector                                                                          \n",
       "AT     Cultivation of paddy rice                                             0.00000   \n",
       "       Cultivation of wheat                                                  0.00000   \n",
       "       Cultivation of cereal grains nec                                      0.00000   \n",
       "       Cultivation of vegetables, fruit, nuts                                0.06819   \n",
       "       Cultivation of oil seeds                                              0.00000   \n",
       "\n",
       "region                                                                  \\\n",
       "sector                                        Cultivation of oil seeds   \n",
       "region sector                                                            \n",
       "AT     Cultivation of paddy rice                               0.00000   \n",
       "       Cultivation of wheat                                    0.00000   \n",
       "       Cultivation of cereal grains nec                        0.00000   \n",
       "       Cultivation of vegetables, fruit, nuts                  0.00000   \n",
       "       Cultivation of oil seeds                                0.00303   \n",
       "\n",
       "region                                                                               \\\n",
       "sector                                        Cultivation of sugar cane, sugar beet   \n",
       "region sector                                                                         \n",
       "AT     Cultivation of paddy rice                                                0.0   \n",
       "       Cultivation of wheat                                                     0.0   \n",
       "       Cultivation of cereal grains nec                                         0.0   \n",
       "       Cultivation of vegetables, fruit, nuts                                   0.0   \n",
       "       Cultivation of oil seeds                                                 0.0   \n",
       "\n",
       "region                                                                           \\\n",
       "sector                                        Cultivation of plant-based fibers   \n",
       "region sector                                                                     \n",
       "AT     Cultivation of paddy rice                                            0.0   \n",
       "       Cultivation of wheat                                                 0.0   \n",
       "       Cultivation of cereal grains nec                                     0.0   \n",
       "       Cultivation of vegetables, fruit, nuts                               0.0   \n",
       "       Cultivation of oil seeds                                             0.0   \n",
       "\n",
       "region                                                                  \\\n",
       "sector                                        Cultivation of crops nec   \n",
       "region sector                                                            \n",
       "AT     Cultivation of paddy rice                              0.000000   \n",
       "       Cultivation of wheat                                   0.000800   \n",
       "       Cultivation of cereal grains nec                       0.001276   \n",
       "       Cultivation of vegetables, fruit, nuts                 0.000000   \n",
       "       Cultivation of oil seeds                               0.000000   \n",
       "\n",
       "region                                                                     \\\n",
       "sector                                        Cattle farming Pigs farming   \n",
       "region sector                                                               \n",
       "AT     Cultivation of paddy rice                    0.000000     0.000000   \n",
       "       Cultivation of wheat                         0.011513     0.005035   \n",
       "       Cultivation of cereal grains nec             0.042821     0.032660   \n",
       "       Cultivation of vegetables, fruit, nuts       0.000203     0.000600   \n",
       "       Cultivation of oil seeds                     0.000000     0.000000   \n",
       "\n",
       "region                                         ...                       WM  \\\n",
       "sector                                         ... Landfill of waste: Paper   \n",
       "region sector                                  ...                            \n",
       "AT     Cultivation of paddy rice               ...             0.000000e+00   \n",
       "       Cultivation of wheat                    ...             1.083381e-07   \n",
       "       Cultivation of cereal grains nec        ...             3.757541e-07   \n",
       "       Cultivation of vegetables, fruit, nuts  ...             1.249781e-06   \n",
       "       Cultivation of oil seeds                ...             1.232309e-08   \n",
       "\n",
       "region                                                                    \\\n",
       "sector                                        Landfill of waste: Plastic   \n",
       "region sector                                                              \n",
       "AT     Cultivation of paddy rice                            0.000000e+00   \n",
       "       Cultivation of wheat                                 1.368199e-07   \n",
       "       Cultivation of cereal grains nec                     4.904540e-07   \n",
       "       Cultivation of vegetables, fruit, nuts               1.457474e-06   \n",
       "       Cultivation of oil seeds                             1.165520e-08   \n",
       "\n",
       "region                                                                                  \\\n",
       "sector                                        Landfill of waste: Inert/metal/hazardous   \n",
       "region sector                                                                            \n",
       "AT     Cultivation of paddy rice                                          0.000000e+00   \n",
       "       Cultivation of wheat                                               1.035101e-07   \n",
       "       Cultivation of cereal grains nec                                   3.578730e-07   \n",
       "       Cultivation of vegetables, fruit, nuts                             1.213081e-06   \n",
       "       Cultivation of oil seeds                                           1.216046e-08   \n",
       "\n",
       "region                                                                     \\\n",
       "sector                                        Landfill of waste: Textiles   \n",
       "region sector                                                               \n",
       "AT     Cultivation of paddy rice                             0.000000e+00   \n",
       "       Cultivation of wheat                                  9.744628e-08   \n",
       "       Cultivation of cereal grains nec                      3.309581e-07   \n",
       "       Cultivation of vegetables, fruit, nuts                4.226725e-07   \n",
       "       Cultivation of oil seeds                              0.000000e+00   \n",
       "\n",
       "region                                                                 \\\n",
       "sector                                        Landfill of waste: Wood   \n",
       "region sector                                                           \n",
       "AT     Cultivation of paddy rice                         0.000000e+00   \n",
       "       Cultivation of wheat                              1.049155e-07   \n",
       "       Cultivation of cereal grains nec                  3.633055e-07   \n",
       "       Cultivation of vegetables, fruit, nuts            8.011145e-07   \n",
       "       Cultivation of oil seeds                          1.763699e-09   \n",
       "\n",
       "region                                                                                           \\\n",
       "sector                                        Activities of membership organisation n.e.c. (91)   \n",
       "region sector                                                                                     \n",
       "AT     Cultivation of paddy rice                                                   0.000000e+00   \n",
       "       Cultivation of wheat                                                        8.937568e-09   \n",
       "       Cultivation of cereal grains nec                                            2.050701e-07   \n",
       "       Cultivation of vegetables, fruit, nuts                                      9.645816e-08   \n",
       "       Cultivation of oil seeds                                                    1.088535e-09   \n",
       "\n",
       "region                                                                                             \\\n",
       "sector                                        Recreational, cultural and sporting activities (92)   \n",
       "region sector                                                                                       \n",
       "AT     Cultivation of paddy rice                                                    0.000000e+00    \n",
       "       Cultivation of wheat                                                         2.797733e-08    \n",
       "       Cultivation of cereal grains nec                                             3.029150e-08    \n",
       "       Cultivation of vegetables, fruit, nuts                                       4.800096e-07    \n",
       "       Cultivation of oil seeds                                                     6.035822e-09    \n",
       "\n",
       "region                                                                       \\\n",
       "sector                                        Other service activities (93)   \n",
       "region sector                                                                 \n",
       "AT     Cultivation of paddy rice                               0.000000e+00   \n",
       "       Cultivation of wheat                                    4.924542e-08   \n",
       "       Cultivation of cereal grains nec                        1.962731e-07   \n",
       "       Cultivation of vegetables, fruit, nuts                  9.138757e-07   \n",
       "       Cultivation of oil seeds                                1.208418e-08   \n",
       "\n",
       "region                                                                                       \\\n",
       "sector                                        Private households with employed persons (95)   \n",
       "region sector                                                                                 \n",
       "AT     Cultivation of paddy rice                                               0.000000e+00   \n",
       "       Cultivation of wheat                                                    1.626820e-08   \n",
       "       Cultivation of cereal grains nec                                        5.570858e-08   \n",
       "       Cultivation of vegetables, fruit, nuts                                  8.963735e-08   \n",
       "       Cultivation of oil seeds                                                1.230458e-09   \n",
       "\n",
       "region                                                                                    \n",
       "sector                                        Extra-territorial organizations and bodies  \n",
       "region sector                                                                             \n",
       "AT     Cultivation of paddy rice                                                     NaN  \n",
       "       Cultivation of wheat                                                          NaN  \n",
       "       Cultivation of cereal grains nec                                              NaN  \n",
       "       Cultivation of vegetables, fruit, nuts                                        NaN  \n",
       "       Cultivation of oil seeds                                                      NaN  \n",
       "\n",
       "[5 rows x 7987 columns]"
      ]
     },
     "execution_count": 33,
     "metadata": {},
     "output_type": "execute_result"
    }
   ],
   "source": [
    "# On peut vérifier que diviser Z par x donne bien la même chose que le contenu de A\n",
    "\n",
    "io.Z.div(io.x['indout'], axis=1).head()\n",
    "\n",
    "# a.div(b, axis=1) = division de a par b le long de l'axe 1 (colonnes)\n",
    "# .head() = premières lignes (5) de la table"
   ]
  },
  {
   "cell_type": "code",
   "execution_count": 34,
   "id": "4799d3c0-50bc-47fb-880a-683292786ce3",
   "metadata": {
    "tags": []
   },
   "outputs": [
    {
     "data": {
      "text/html": [
       "<div>\n",
       "<style scoped>\n",
       "    .dataframe tbody tr th:only-of-type {\n",
       "        vertical-align: middle;\n",
       "    }\n",
       "\n",
       "    .dataframe tbody tr th {\n",
       "        vertical-align: top;\n",
       "    }\n",
       "\n",
       "    .dataframe thead tr th {\n",
       "        text-align: left;\n",
       "    }\n",
       "\n",
       "    .dataframe thead tr:last-of-type th {\n",
       "        text-align: right;\n",
       "    }\n",
       "</style>\n",
       "<table border=\"1\" class=\"dataframe\">\n",
       "  <thead>\n",
       "    <tr>\n",
       "      <th></th>\n",
       "      <th>region</th>\n",
       "      <th colspan=\"10\" halign=\"left\">AT</th>\n",
       "      <th>...</th>\n",
       "      <th colspan=\"10\" halign=\"left\">WM</th>\n",
       "    </tr>\n",
       "    <tr>\n",
       "      <th></th>\n",
       "      <th>sector</th>\n",
       "      <th>Cultivation of paddy rice</th>\n",
       "      <th>Cultivation of wheat</th>\n",
       "      <th>Cultivation of cereal grains nec</th>\n",
       "      <th>Cultivation of vegetables, fruit, nuts</th>\n",
       "      <th>Cultivation of oil seeds</th>\n",
       "      <th>Cultivation of sugar cane, sugar beet</th>\n",
       "      <th>Cultivation of plant-based fibers</th>\n",
       "      <th>Cultivation of crops nec</th>\n",
       "      <th>Cattle farming</th>\n",
       "      <th>Pigs farming</th>\n",
       "      <th>...</th>\n",
       "      <th>Landfill of waste: Paper</th>\n",
       "      <th>Landfill of waste: Plastic</th>\n",
       "      <th>Landfill of waste: Inert/metal/hazardous</th>\n",
       "      <th>Landfill of waste: Textiles</th>\n",
       "      <th>Landfill of waste: Wood</th>\n",
       "      <th>Activities of membership organisation n.e.c. (91)</th>\n",
       "      <th>Recreational, cultural and sporting activities (92)</th>\n",
       "      <th>Other service activities (93)</th>\n",
       "      <th>Private households with employed persons (95)</th>\n",
       "      <th>Extra-territorial organizations and bodies</th>\n",
       "    </tr>\n",
       "    <tr>\n",
       "      <th>region</th>\n",
       "      <th>sector</th>\n",
       "      <th></th>\n",
       "      <th></th>\n",
       "      <th></th>\n",
       "      <th></th>\n",
       "      <th></th>\n",
       "      <th></th>\n",
       "      <th></th>\n",
       "      <th></th>\n",
       "      <th></th>\n",
       "      <th></th>\n",
       "      <th></th>\n",
       "      <th></th>\n",
       "      <th></th>\n",
       "      <th></th>\n",
       "      <th></th>\n",
       "      <th></th>\n",
       "      <th></th>\n",
       "      <th></th>\n",
       "      <th></th>\n",
       "      <th></th>\n",
       "      <th></th>\n",
       "    </tr>\n",
       "  </thead>\n",
       "  <tbody>\n",
       "    <tr>\n",
       "      <th rowspan=\"5\" valign=\"top\">AT</th>\n",
       "      <th>Cultivation of paddy rice</th>\n",
       "      <td>0</td>\n",
       "      <td>0.000000</td>\n",
       "      <td>0.000000</td>\n",
       "      <td>0.00000</td>\n",
       "      <td>0.00000</td>\n",
       "      <td>0.0</td>\n",
       "      <td>0.0</td>\n",
       "      <td>0.000000</td>\n",
       "      <td>0.000000</td>\n",
       "      <td>0.000000</td>\n",
       "      <td>...</td>\n",
       "      <td>0.000000e+00</td>\n",
       "      <td>0.000000e+00</td>\n",
       "      <td>0.000000e+00</td>\n",
       "      <td>0.000000e+00</td>\n",
       "      <td>0.000000e+00</td>\n",
       "      <td>0.000000e+00</td>\n",
       "      <td>0.000000e+00</td>\n",
       "      <td>0.000000e+00</td>\n",
       "      <td>0.000000e+00</td>\n",
       "      <td>0</td>\n",
       "    </tr>\n",
       "    <tr>\n",
       "      <th>Cultivation of wheat</th>\n",
       "      <td>0</td>\n",
       "      <td>0.033135</td>\n",
       "      <td>0.000000</td>\n",
       "      <td>0.00000</td>\n",
       "      <td>0.00000</td>\n",
       "      <td>0.0</td>\n",
       "      <td>0.0</td>\n",
       "      <td>0.000800</td>\n",
       "      <td>0.011513</td>\n",
       "      <td>0.005035</td>\n",
       "      <td>...</td>\n",
       "      <td>1.083381e-07</td>\n",
       "      <td>1.368199e-07</td>\n",
       "      <td>1.035101e-07</td>\n",
       "      <td>9.744628e-08</td>\n",
       "      <td>1.049155e-07</td>\n",
       "      <td>8.937568e-09</td>\n",
       "      <td>2.797733e-08</td>\n",
       "      <td>4.924542e-08</td>\n",
       "      <td>1.626820e-08</td>\n",
       "      <td>0</td>\n",
       "    </tr>\n",
       "    <tr>\n",
       "      <th>Cultivation of cereal grains nec</th>\n",
       "      <td>0</td>\n",
       "      <td>0.000000</td>\n",
       "      <td>0.014346</td>\n",
       "      <td>0.00000</td>\n",
       "      <td>0.00000</td>\n",
       "      <td>0.0</td>\n",
       "      <td>0.0</td>\n",
       "      <td>0.001276</td>\n",
       "      <td>0.042821</td>\n",
       "      <td>0.032660</td>\n",
       "      <td>...</td>\n",
       "      <td>3.757541e-07</td>\n",
       "      <td>4.904540e-07</td>\n",
       "      <td>3.578730e-07</td>\n",
       "      <td>3.309581e-07</td>\n",
       "      <td>3.633055e-07</td>\n",
       "      <td>2.050701e-07</td>\n",
       "      <td>3.029150e-08</td>\n",
       "      <td>1.962731e-07</td>\n",
       "      <td>5.570858e-08</td>\n",
       "      <td>0</td>\n",
       "    </tr>\n",
       "    <tr>\n",
       "      <th>Cultivation of vegetables, fruit, nuts</th>\n",
       "      <td>0</td>\n",
       "      <td>0.000000</td>\n",
       "      <td>0.000000</td>\n",
       "      <td>0.06819</td>\n",
       "      <td>0.00000</td>\n",
       "      <td>0.0</td>\n",
       "      <td>0.0</td>\n",
       "      <td>0.000000</td>\n",
       "      <td>0.000203</td>\n",
       "      <td>0.000600</td>\n",
       "      <td>...</td>\n",
       "      <td>1.249781e-06</td>\n",
       "      <td>1.457474e-06</td>\n",
       "      <td>1.213081e-06</td>\n",
       "      <td>4.226725e-07</td>\n",
       "      <td>8.011145e-07</td>\n",
       "      <td>9.645816e-08</td>\n",
       "      <td>4.800096e-07</td>\n",
       "      <td>9.138757e-07</td>\n",
       "      <td>8.963735e-08</td>\n",
       "      <td>0</td>\n",
       "    </tr>\n",
       "    <tr>\n",
       "      <th>Cultivation of oil seeds</th>\n",
       "      <td>0</td>\n",
       "      <td>0.000000</td>\n",
       "      <td>0.000000</td>\n",
       "      <td>0.00000</td>\n",
       "      <td>0.00303</td>\n",
       "      <td>0.0</td>\n",
       "      <td>0.0</td>\n",
       "      <td>0.000000</td>\n",
       "      <td>0.000000</td>\n",
       "      <td>0.000000</td>\n",
       "      <td>...</td>\n",
       "      <td>1.232309e-08</td>\n",
       "      <td>1.165520e-08</td>\n",
       "      <td>1.216046e-08</td>\n",
       "      <td>0.000000e+00</td>\n",
       "      <td>1.763699e-09</td>\n",
       "      <td>1.088535e-09</td>\n",
       "      <td>6.035822e-09</td>\n",
       "      <td>1.208418e-08</td>\n",
       "      <td>1.230458e-09</td>\n",
       "      <td>0</td>\n",
       "    </tr>\n",
       "  </tbody>\n",
       "</table>\n",
       "<p>5 rows × 7987 columns</p>\n",
       "</div>"
      ],
      "text/plain": [
       "region                                                               AT  \\\n",
       "sector                                        Cultivation of paddy rice   \n",
       "region sector                                                             \n",
       "AT     Cultivation of paddy rice                                      0   \n",
       "       Cultivation of wheat                                           0   \n",
       "       Cultivation of cereal grains nec                               0   \n",
       "       Cultivation of vegetables, fruit, nuts                         0   \n",
       "       Cultivation of oil seeds                                       0   \n",
       "\n",
       "region                                                              \\\n",
       "sector                                        Cultivation of wheat   \n",
       "region sector                                                        \n",
       "AT     Cultivation of paddy rice                          0.000000   \n",
       "       Cultivation of wheat                               0.033135   \n",
       "       Cultivation of cereal grains nec                   0.000000   \n",
       "       Cultivation of vegetables, fruit, nuts             0.000000   \n",
       "       Cultivation of oil seeds                           0.000000   \n",
       "\n",
       "region                                                                          \\\n",
       "sector                                        Cultivation of cereal grains nec   \n",
       "region sector                                                                    \n",
       "AT     Cultivation of paddy rice                                      0.000000   \n",
       "       Cultivation of wheat                                           0.000000   \n",
       "       Cultivation of cereal grains nec                               0.014346   \n",
       "       Cultivation of vegetables, fruit, nuts                         0.000000   \n",
       "       Cultivation of oil seeds                                       0.000000   \n",
       "\n",
       "region                                                                                \\\n",
       "sector                                        Cultivation of vegetables, fruit, nuts   \n",
       "region sector                                                                          \n",
       "AT     Cultivation of paddy rice                                             0.00000   \n",
       "       Cultivation of wheat                                                  0.00000   \n",
       "       Cultivation of cereal grains nec                                      0.00000   \n",
       "       Cultivation of vegetables, fruit, nuts                                0.06819   \n",
       "       Cultivation of oil seeds                                              0.00000   \n",
       "\n",
       "region                                                                  \\\n",
       "sector                                        Cultivation of oil seeds   \n",
       "region sector                                                            \n",
       "AT     Cultivation of paddy rice                               0.00000   \n",
       "       Cultivation of wheat                                    0.00000   \n",
       "       Cultivation of cereal grains nec                        0.00000   \n",
       "       Cultivation of vegetables, fruit, nuts                  0.00000   \n",
       "       Cultivation of oil seeds                                0.00303   \n",
       "\n",
       "region                                                                               \\\n",
       "sector                                        Cultivation of sugar cane, sugar beet   \n",
       "region sector                                                                         \n",
       "AT     Cultivation of paddy rice                                                0.0   \n",
       "       Cultivation of wheat                                                     0.0   \n",
       "       Cultivation of cereal grains nec                                         0.0   \n",
       "       Cultivation of vegetables, fruit, nuts                                   0.0   \n",
       "       Cultivation of oil seeds                                                 0.0   \n",
       "\n",
       "region                                                                           \\\n",
       "sector                                        Cultivation of plant-based fibers   \n",
       "region sector                                                                     \n",
       "AT     Cultivation of paddy rice                                            0.0   \n",
       "       Cultivation of wheat                                                 0.0   \n",
       "       Cultivation of cereal grains nec                                     0.0   \n",
       "       Cultivation of vegetables, fruit, nuts                               0.0   \n",
       "       Cultivation of oil seeds                                             0.0   \n",
       "\n",
       "region                                                                  \\\n",
       "sector                                        Cultivation of crops nec   \n",
       "region sector                                                            \n",
       "AT     Cultivation of paddy rice                              0.000000   \n",
       "       Cultivation of wheat                                   0.000800   \n",
       "       Cultivation of cereal grains nec                       0.001276   \n",
       "       Cultivation of vegetables, fruit, nuts                 0.000000   \n",
       "       Cultivation of oil seeds                               0.000000   \n",
       "\n",
       "region                                                                     \\\n",
       "sector                                        Cattle farming Pigs farming   \n",
       "region sector                                                               \n",
       "AT     Cultivation of paddy rice                    0.000000     0.000000   \n",
       "       Cultivation of wheat                         0.011513     0.005035   \n",
       "       Cultivation of cereal grains nec             0.042821     0.032660   \n",
       "       Cultivation of vegetables, fruit, nuts       0.000203     0.000600   \n",
       "       Cultivation of oil seeds                     0.000000     0.000000   \n",
       "\n",
       "region                                         ...                       WM  \\\n",
       "sector                                         ... Landfill of waste: Paper   \n",
       "region sector                                  ...                            \n",
       "AT     Cultivation of paddy rice               ...             0.000000e+00   \n",
       "       Cultivation of wheat                    ...             1.083381e-07   \n",
       "       Cultivation of cereal grains nec        ...             3.757541e-07   \n",
       "       Cultivation of vegetables, fruit, nuts  ...             1.249781e-06   \n",
       "       Cultivation of oil seeds                ...             1.232309e-08   \n",
       "\n",
       "region                                                                    \\\n",
       "sector                                        Landfill of waste: Plastic   \n",
       "region sector                                                              \n",
       "AT     Cultivation of paddy rice                            0.000000e+00   \n",
       "       Cultivation of wheat                                 1.368199e-07   \n",
       "       Cultivation of cereal grains nec                     4.904540e-07   \n",
       "       Cultivation of vegetables, fruit, nuts               1.457474e-06   \n",
       "       Cultivation of oil seeds                             1.165520e-08   \n",
       "\n",
       "region                                                                                  \\\n",
       "sector                                        Landfill of waste: Inert/metal/hazardous   \n",
       "region sector                                                                            \n",
       "AT     Cultivation of paddy rice                                          0.000000e+00   \n",
       "       Cultivation of wheat                                               1.035101e-07   \n",
       "       Cultivation of cereal grains nec                                   3.578730e-07   \n",
       "       Cultivation of vegetables, fruit, nuts                             1.213081e-06   \n",
       "       Cultivation of oil seeds                                           1.216046e-08   \n",
       "\n",
       "region                                                                     \\\n",
       "sector                                        Landfill of waste: Textiles   \n",
       "region sector                                                               \n",
       "AT     Cultivation of paddy rice                             0.000000e+00   \n",
       "       Cultivation of wheat                                  9.744628e-08   \n",
       "       Cultivation of cereal grains nec                      3.309581e-07   \n",
       "       Cultivation of vegetables, fruit, nuts                4.226725e-07   \n",
       "       Cultivation of oil seeds                              0.000000e+00   \n",
       "\n",
       "region                                                                 \\\n",
       "sector                                        Landfill of waste: Wood   \n",
       "region sector                                                           \n",
       "AT     Cultivation of paddy rice                         0.000000e+00   \n",
       "       Cultivation of wheat                              1.049155e-07   \n",
       "       Cultivation of cereal grains nec                  3.633055e-07   \n",
       "       Cultivation of vegetables, fruit, nuts            8.011145e-07   \n",
       "       Cultivation of oil seeds                          1.763699e-09   \n",
       "\n",
       "region                                                                                           \\\n",
       "sector                                        Activities of membership organisation n.e.c. (91)   \n",
       "region sector                                                                                     \n",
       "AT     Cultivation of paddy rice                                                   0.000000e+00   \n",
       "       Cultivation of wheat                                                        8.937568e-09   \n",
       "       Cultivation of cereal grains nec                                            2.050701e-07   \n",
       "       Cultivation of vegetables, fruit, nuts                                      9.645816e-08   \n",
       "       Cultivation of oil seeds                                                    1.088535e-09   \n",
       "\n",
       "region                                                                                             \\\n",
       "sector                                        Recreational, cultural and sporting activities (92)   \n",
       "region sector                                                                                       \n",
       "AT     Cultivation of paddy rice                                                    0.000000e+00    \n",
       "       Cultivation of wheat                                                         2.797733e-08    \n",
       "       Cultivation of cereal grains nec                                             3.029150e-08    \n",
       "       Cultivation of vegetables, fruit, nuts                                       4.800096e-07    \n",
       "       Cultivation of oil seeds                                                     6.035822e-09    \n",
       "\n",
       "region                                                                       \\\n",
       "sector                                        Other service activities (93)   \n",
       "region sector                                                                 \n",
       "AT     Cultivation of paddy rice                               0.000000e+00   \n",
       "       Cultivation of wheat                                    4.924542e-08   \n",
       "       Cultivation of cereal grains nec                        1.962731e-07   \n",
       "       Cultivation of vegetables, fruit, nuts                  9.138757e-07   \n",
       "       Cultivation of oil seeds                                1.208418e-08   \n",
       "\n",
       "region                                                                                       \\\n",
       "sector                                        Private households with employed persons (95)   \n",
       "region sector                                                                                 \n",
       "AT     Cultivation of paddy rice                                               0.000000e+00   \n",
       "       Cultivation of wheat                                                    1.626820e-08   \n",
       "       Cultivation of cereal grains nec                                        5.570858e-08   \n",
       "       Cultivation of vegetables, fruit, nuts                                  8.963735e-08   \n",
       "       Cultivation of oil seeds                                                1.230458e-09   \n",
       "\n",
       "region                                                                                    \n",
       "sector                                        Extra-territorial organizations and bodies  \n",
       "region sector                                                                             \n",
       "AT     Cultivation of paddy rice                                                       0  \n",
       "       Cultivation of wheat                                                            0  \n",
       "       Cultivation of cereal grains nec                                                0  \n",
       "       Cultivation of vegetables, fruit, nuts                                          0  \n",
       "       Cultivation of oil seeds                                                        0  \n",
       "\n",
       "[5 rows x 7987 columns]"
      ]
     },
     "execution_count": 34,
     "metadata": {},
     "output_type": "execute_result"
    }
   ],
   "source": [
    "io.A.head()"
   ]
  },
  {
   "cell_type": "markdown",
   "id": "f92ad681-6182-4b40-b22f-6c08d0f3d667",
   "metadata": {
    "tags": []
   },
   "source": [
    "Quels sont les secteurs principaux composant les dépenses du secteur de l'électricité au charbon en Allemagne en 2019?"
   ]
  },
  {
   "cell_type": "code",
   "execution_count": 35,
   "id": "69cf8138-e271-402a-8548-f913dc2d8445",
   "metadata": {
    "tags": []
   },
   "outputs": [],
   "source": [
    "secteur_elec_charbon = ('DE','Production of electricity by coal')"
   ]
  },
  {
   "cell_type": "code",
   "execution_count": 36,
   "id": "b8e8bbb2-680c-4904-8f36-0b5dbc7dbf64",
   "metadata": {
    "tags": []
   },
   "outputs": [
    {
     "data": {
      "text/plain": [
       "region  sector                                                                             \n",
       "DE      Manufacture of gas; distribution of gaseous fuels through mains                        0.155498\n",
       "        Mining of coal and lignite; extraction of peat (10)                                    0.148468\n",
       "        Other land transport                                                                   0.029307\n",
       "RU      Mining of coal and lignite; extraction of peat (10)                                    0.026134\n",
       "DE      Construction (45)                                                                      0.023028\n",
       "        Other business activities (74)                                                         0.019250\n",
       "US      Mining of coal and lignite; extraction of peat (10)                                    0.018018\n",
       "DE      Sea and coastal water transport                                                        0.017811\n",
       "        Manufacture of electrical machinery and apparatus n.e.c. (31)                          0.013874\n",
       "        Wholesale trade and commission trade, except of motor vehicles and motorcycles (51)    0.012788\n",
       "Name: (DE, Production of electricity by coal), dtype: float64"
      ]
     },
     "execution_count": 36,
     "metadata": {},
     "output_type": "execute_result"
    }
   ],
   "source": [
    "io.A[secteur_elec_charbon].nlargest(10)"
   ]
  },
  {
   "cell_type": "markdown",
   "id": "35908830-5c92-4446-88b6-a21c7b55080b",
   "metadata": {},
   "source": [
    "Par euro d'électricité produite, le secteur de l'électricité au charbon en Allemagne dépense .16€ en gaz, .15€ en extraction de charbon allemand (.026€ et .018€ de charbon russe et américain respectivement), .029€ en transport, etc."
   ]
  },
  {
   "cell_type": "markdown",
   "id": "d61d91e0-60bf-4ab7-bbbb-37af99a965a1",
   "metadata": {},
   "source": [
    "### Comptes satellites\n",
    "Les matrices des comptes satellites sont les homologues de Z (et A), mais en termes de facteurs de production, de valeur ajoutée, et d'émissions de substances."
   ]
  },
  {
   "cell_type": "code",
   "execution_count": null,
   "id": "41cca22f-31b3-4d1e-b462-0f7969d1f9ed",
   "metadata": {},
   "outputs": [],
   "source": [
    "# Par "
   ]
  }
 ],
 "metadata": {
  "kernelspec": {
   "display_name": "Python 3 (ipykernel)",
   "language": "python",
   "name": "python3"
  },
  "language_info": {
   "codemirror_mode": {
    "name": "ipython",
    "version": 3
   },
   "file_extension": ".py",
   "mimetype": "text/x-python",
   "name": "python",
   "nbconvert_exporter": "python",
   "pygments_lexer": "ipython3",
   "version": "3.11.0"
  },
  "toc-autonumbering": true
 },
 "nbformat": 4,
 "nbformat_minor": 5
}
