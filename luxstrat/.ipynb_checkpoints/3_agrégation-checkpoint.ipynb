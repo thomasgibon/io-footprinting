{
 "cells": [
  {
   "cell_type": "markdown",
   "id": "a4dca7bd-3695-409d-8bbd-1d1cafb98220",
   "metadata": {},
   "source": [
    "# Exercice: agrégation\n",
    "Nous verrons ici comment agréger une table input-output. Différentes raisons peuvent pousser à agréger/désagréger une table existante, notamment afin de la faire correspondre à un jeu de données externe (avec une classification différente) ou encore d'effectuer les calculs plus rapidement (la complexité augmente avec le carré de la résolution)."
   ]
  },
  {
   "cell_type": "code",
   "execution_count": 1,
   "id": "294217d0-500a-4b4f-9d6f-9be375da0f19",
   "metadata": {
    "tags": []
   },
   "outputs": [],
   "source": [
    "import pymrio as mr   # manipulation des données input-output\n",
    "import pandas as pd   # manipulation de tables et jeux de données\n",
    "import numpy as np    # opérations communes\n",
    "import seaborn as sns # production de figures, add-on à matplotlib\n",
    "import matplotlib.pyplot as plt # production de figures\n",
    "import os # opérations sur le système de fichiers"
   ]
  },
  {
   "cell_type": "code",
   "execution_count": 2,
   "id": "e99cfc8a-06d8-40f1-a9c2-a2fb6251d8ae",
   "metadata": {
    "tags": []
   },
   "outputs": [],
   "source": [
    "# Si vous voulez enregistrer/charger rapidement\n",
    "import pickle"
   ]
  },
  {
   "cell_type": "code",
   "execution_count": 3,
   "id": "9802c3be-b5fc-483c-a1a2-039523b65c0c",
   "metadata": {
    "tags": []
   },
   "outputs": [],
   "source": [
    "year = 2019\n",
    "EXIOBASE_PATH = '../EXIOBASE/' # ne pas hésiter à changer"
   ]
  },
  {
   "cell_type": "code",
   "execution_count": 4,
   "id": "8faf40a1-3cc2-435d-b821-40557b6880b5",
   "metadata": {
    "tags": []
   },
   "outputs": [],
   "source": [
    "# Chargement rapide des données IO\n",
    "with open(EXIOBASE_PATH + f'IOT_{year}_ixi.pickle', 'rb') as handle:\n",
    "    io = pickle.load(handle)"
   ]
  },
  {
   "cell_type": "code",
   "execution_count": 7,
   "id": "6fd4588a-5c12-4f60-9018-70854417cf78",
   "metadata": {
    "tags": []
   },
   "outputs": [],
   "source": [
    "# Chargement du fichier de correspondance pour les secteurs\n",
    "sec_agg_raw = pd.read_excel('data/NACE2full_EXIOBASEp.xlsx')"
   ]
  },
  {
   "cell_type": "code",
   "execution_count": 52,
   "id": "d8fa55e0-a416-4b10-a26a-17e21952a4d3",
   "metadata": {
    "tags": []
   },
   "outputs": [],
   "source": [
    "sec_agg_raw_lvl1 = sec_agg_raw[sec_agg_raw['Level']==1].drop(['Unnamed: 2','Unnamed: 3','Level'], axis=1)\n",
    "\n",
    "sec_agg = sec_agg_raw_lvl1.set_index('Code').stack().droplevel(1)\n",
    "\n",
    "sec_agg_dict = {v:k for k,v in sec_agg.items()}\n",
    "\n",
    "sec_agg_dict['Manure treatment (conventional), storage and land application'] = sec_agg_dict['Manure treatment (conventional) and land application']\n",
    "sec_agg_dict['Manure treatment (biogas), storage and land application'] = sec_agg_dict['Manure treatment (biogas) and land application']\n",
    "sec_agg_dict['Re-processing of secondary wood material into new wood material'] = sec_agg_dict['Woodwaste']\n",
    "sec_agg_dict['Re-processing of secondary paper into new pulp'] = sec_agg_dict['Recycling of waste paper']\n",
    "sec_agg_dict['Re-processing of secondary plastic into new plastic'] = sec_agg_dict['Recycling of waste paper']\n",
    ",\n",
    " ,\n",
    " ,\n",
    " ,\n",
    " 'Re-processing of secondary preciuos metals into new preciuos metals',\n",
    " 'Re-processing of secondary steel into new steel',\n",
    " 'Recycling of bottles by direct reuse'}\n",
    "sec_agg_dict['Re-processing of secondary glass into new glass'] = sec_agg_dict['Recycling of waste paper']\n",
    "\n",
    "sec_agg_dict['Re-processing of secondary lead into new lead, zinc and tin'] = sec_agg_dict['Recycling of waste paper']\n",
    "sec_agg_dict['Re-processing of secondary other non-ferrous metals into new other non-ferrous metals'] = sec_agg_dict['Recycling of waste paper']\n",
    "sec_agg_dict['Re-processing of secondary plastic into new plastic'] = sec_agg_dict['Recycling of waste paper']\n",
    "sec_agg_dict['Re-processing of secondary paper into new pulp'] = sec_agg_dict['Recycling of waste paper']\n",
    "sec_agg_dict['Re-processing of secondary paper into new pulp'] = sec_agg_dict['Recycling of waste paper']\n",
    "sec_agg_dict['Re-processing of secondary paper into new pulp'] = sec_agg_dict['Recycling of waste paper']\n",
    "sec_agg_dict['Re-processing of secondary paper into new pulp'] = sec_agg_dict['Recycling of waste paper']\n",
    "sec_agg_dict['Re-processing of secondary paper into new pulp'] = sec_agg_dict['Recycling of waste paper']\n",
    "sec_agg_dict['Re-processing of secondary paper into new pulp'] = sec_agg_dict['Recycling of waste paper']\n",
    "\n",
    "\n",
    "# sec_agg_dict"
   ]
  },
  {
   "cell_type": "code",
   "execution_count": 53,
   "id": "e25a2223-cfa7-4c01-9be7-650d532b05bd",
   "metadata": {
    "tags": []
   },
   "outputs": [
    {
     "ename": "KeyError",
     "evalue": "'Re-processing of secondary glass into new glass'",
     "output_type": "error",
     "traceback": [
      "\u001b[1;31m---------------------------------------------------------------------------\u001b[0m",
      "\u001b[1;31mKeyError\u001b[0m                                  Traceback (most recent call last)",
      "Cell \u001b[1;32mIn[53], line 1\u001b[0m\n\u001b[1;32m----> 1\u001b[0m \u001b[43m[\u001b[49m\u001b[43msec_agg_dict\u001b[49m\u001b[43m[\u001b[49m\u001b[43ms\u001b[49m\u001b[43m]\u001b[49m\u001b[43m \u001b[49m\u001b[38;5;28;43;01mfor\u001b[39;49;00m\u001b[43m \u001b[49m\u001b[43ms\u001b[49m\u001b[43m \u001b[49m\u001b[38;5;129;43;01min\u001b[39;49;00m\u001b[43m \u001b[49m\u001b[43mio\u001b[49m\u001b[38;5;241;43m.\u001b[39;49m\u001b[43mget_sectors\u001b[49m\u001b[43m(\u001b[49m\u001b[43m)\u001b[49m\u001b[43m]\u001b[49m\n",
      "Cell \u001b[1;32mIn[53], line 1\u001b[0m, in \u001b[0;36m<listcomp>\u001b[1;34m(.0)\u001b[0m\n\u001b[1;32m----> 1\u001b[0m [\u001b[43msec_agg_dict\u001b[49m\u001b[43m[\u001b[49m\u001b[43ms\u001b[49m\u001b[43m]\u001b[49m \u001b[38;5;28;01mfor\u001b[39;00m s \u001b[38;5;129;01min\u001b[39;00m io\u001b[38;5;241m.\u001b[39mget_sectors()]\n",
      "\u001b[1;31mKeyError\u001b[0m: 'Re-processing of secondary glass into new glass'"
     ]
    }
   ],
   "source": [
    "[sec_agg_dict[s] for s in io.get_sectors()]"
   ]
  },
  {
   "cell_type": "code",
   "execution_count": 47,
   "id": "bf5006c0-1f55-4cd4-a423-0cedfddca237",
   "metadata": {
    "tags": []
   },
   "outputs": [],
   "source": [
    "# Paramètres de l'agrégation\n"
   ]
  },
  {
   "cell_type": "code",
   "execution_count": 49,
   "id": "aefe1770-125b-461a-822b-2fb01e416b01",
   "metadata": {
    "tags": []
   },
   "outputs": [
    {
     "data": {
      "text/plain": [
       "{'Biogasification of food waste, incl. land application',\n",
       " 'Biogasification of paper, incl. land application',\n",
       " 'Biogasification of sewage slugde, incl. land application',\n",
       " 'Composting of food waste, incl. land application',\n",
       " 'Composting of paper and wood, incl. land application',\n",
       " 'Landfill of waste: Inert/metal/hazardous',\n",
       " 'Landfill of waste: Textiles',\n",
       " 'Landfill of waste: Wood',\n",
       " 'Re-processing of ash into clinker',\n",
       " 'Re-processing of secondary aluminium into new aluminium',\n",
       " 'Re-processing of secondary construction material into aggregates',\n",
       " 'Re-processing of secondary copper into new copper',\n",
       " 'Re-processing of secondary glass into new glass',\n",
       " 'Re-processing of secondary lead into new lead, zinc and tin',\n",
       " 'Re-processing of secondary other non-ferrous metals into new other non-ferrous metals',\n",
       " 'Re-processing of secondary plastic into new plastic',\n",
       " 'Re-processing of secondary preciuos metals into new preciuos metals',\n",
       " 'Re-processing of secondary steel into new steel',\n",
       " 'Recycling of bottles by direct reuse'}"
      ]
     },
     "execution_count": 49,
     "metadata": {},
     "output_type": "execute_result"
    }
   ],
   "source": [
    " set(io.get_sectors()) - set(sec_agg_dict.keys())"
   ]
  },
  {
   "cell_type": "code",
   "execution_count": null,
   "id": "51306690-0478-4543-b626-e0af35775856",
   "metadata": {},
   "outputs": [],
   "source": []
  }
 ],
 "metadata": {
  "kernelspec": {
   "display_name": "Python 3 (ipykernel)",
   "language": "python",
   "name": "python3"
  },
  "language_info": {
   "codemirror_mode": {
    "name": "ipython",
    "version": 3
   },
   "file_extension": ".py",
   "mimetype": "text/x-python",
   "name": "python",
   "nbconvert_exporter": "python",
   "pygments_lexer": "ipython3",
   "version": "3.11.0"
  }
 },
 "nbformat": 4,
 "nbformat_minor": 5
}
