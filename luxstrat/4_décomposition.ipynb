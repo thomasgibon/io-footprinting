{
 "cells": [
  {
   "cell_type": "markdown",
   "id": "e56729c8-31b5-4e5d-a796-04259aed03f1",
   "metadata": {},
   "source": [
    "# Exercice: décomposition de l'évolution de l'empreinte"
   ]
  },
  {
   "cell_type": "markdown",
   "id": "6c068351-290d-4f1e-825d-174298cf5882",
   "metadata": {},
   "source": [
    "Il peut être intéressant d'identifier les causes de variation de l'empreinte carbone d'un pays."
   ]
  },
  {
   "cell_type": "code",
   "execution_count": 1,
   "id": "f165c57d-24af-45ab-b3e3-5980676854f8",
   "metadata": {
    "tags": []
   },
   "outputs": [],
   "source": [
    "import pymrio as mr   # manipulation des données input-output\n",
    "import pandas as pd   # manipulation de tables et jeux de données\n",
    "import numpy as np    # opérations communes\n",
    "import seaborn as sns # production de figures, add-on à matplotlib\n",
    "import matplotlib.pyplot as plt # production de figures\n",
    "import os # opérations sur le système de fichiers"
   ]
  },
  {
   "cell_type": "code",
   "execution_count": 2,
   "id": "d6387faf-50fc-4bb8-bc60-248a0d284dfe",
   "metadata": {
    "tags": []
   },
   "outputs": [],
   "source": [
    "import pickle"
   ]
  },
  {
   "cell_type": "code",
   "execution_count": 3,
   "id": "51edece6-a9be-4f80-9c03-08fb67b82c52",
   "metadata": {
    "tags": []
   },
   "outputs": [],
   "source": [
    "EXIOBASE_PATH = '../EXIOBASE/' # ne pas hésiter à changer"
   ]
  },
  {
   "cell_type": "code",
   "execution_count": 4,
   "id": "024e9347-55e3-49ed-b7b9-f2396646aac1",
   "metadata": {
    "tags": []
   },
   "outputs": [],
   "source": [
    "years = [1999, 2009, 2019]"
   ]
  },
  {
   "cell_type": "code",
   "execution_count": 5,
   "id": "41f23923-3325-48e9-9064-48129aba3ec9",
   "metadata": {
    "tags": []
   },
   "outputs": [],
   "source": [
    "# io = dict()\n",
    "\n",
    "# for year in years:\n",
    "    \n",
    "#     filename = EXIOBASE_PATH+'IOT_{}_ixi.zip'.format(year)\n",
    "#     io[year] = mr.parse_exiobase3(path=filename)\n",
    "    "
   ]
  },
  {
   "cell_type": "code",
   "execution_count": 6,
   "id": "5d3b0e5e-e35c-4023-865a-21f5dbd35117",
   "metadata": {
    "tags": []
   },
   "outputs": [],
   "source": [
    "# for year in years:\n",
    "    \n",
    "#     population = pd.read_csv(EXIOBASE_PATH+'exiobase_population.txt',sep='\\t',index_col=0)\n",
    "#     io[year].population=pd.DataFrame(columns=['population'], data=population.loc[year].values, index=population.columns).T\n",
    "    \n",
    "#     io[year].calc_all()"
   ]
  },
  {
   "cell_type": "code",
   "execution_count": 8,
   "id": "711e6ef7-3a63-43a1-8270-542a391bdd5a",
   "metadata": {
    "tags": []
   },
   "outputs": [],
   "source": [
    "# for year in years:\n",
    "#     with open(EXIOBASE_PATH + f'IOT_{year}_ixi.pickle', 'wb') as handle:\n",
    "#         pickle.dump(io[year], handle, protocol=pickle.HIGHEST_PROTOCOL)\n",
    "\n",
    "# Chargement rapide des données IO\n",
    "io = dict()\n",
    "for year in years:\n",
    "    with open(EXIOBASE_PATH + f'IOT_{year}_ixi.pickle', 'rb') as handle:\n",
    "        io[year] = pickle.load(handle)"
   ]
  },
  {
   "cell_type": "code",
   "execution_count": 9,
   "id": "7c956a25-0a9c-448e-8961-d3f8001c9180",
   "metadata": {
    "tags": []
   },
   "outputs": [
    {
     "name": "stdout",
     "output_type": "stream",
     "text": [
      "1999 2009\n",
      "2009 2019\n"
     ]
    }
   ],
   "source": [
    "# Calculate one-by-one changes\n",
    "deltas = dict()\n",
    "\n",
    "for y,year in enumerate(years[:-1]):\n",
    "    \n",
    "    # define original year and new year\n",
    "    orig = year\n",
    "    new  = years[y+1]\n",
    "\n",
    "    print(orig, new)\n",
    "    \n",
    "    Y_orig = io[orig].Y\n",
    "    Y_new  = io[new].Y\n",
    "    \n",
    "    L_orig = io[orig].L\n",
    "    L_new  = io[new].L\n",
    "    \n",
    "    S_orig = io[orig].satellite.S\n",
    "    S_new  = io[new].satellite.S\n",
    "    \n",
    "    F_orig = io[orig].satellite.F\n",
    "    F_new  = io[new].satellite.F\n",
    "    \n",
    "    FY_orig = io[orig].satellite.F_Y\n",
    "    FY_new  = io[new].satellite.F_Y\n",
    "    \n",
    "    # original year on the left, then the difference, then the new year\n",
    "    dS = 1/2 *((S_new - S_orig).dot(L_new.dot(Y_new) + L_orig.dot(Y_orig)))\n",
    "    dL = 1/2 * (S_orig.dot((L_new - L_orig).dot(Y_new)) + S_new.dot((L_new - L_orig).dot(Y_orig)))\n",
    "    dY = 1/2 * (S_orig.dot( L_orig.dot(Y_new - Y_orig)) + S_new.dot(L_new.dot(Y_new - Y_orig)))\n",
    "    dF = F_new - F_orig\n",
    "    dE = S_new.dot(L_new.dot(Y_new)) - S_orig.dot(L_orig.dot(Y_orig))\n",
    "    dFY = FY_new - FY_orig\n",
    "    \n",
    "    deltas[new] = {'ΔS':dS,\n",
    "                   'ΔL':dL,\n",
    "                   'ΔY':dY,\n",
    "                   'ΔE':dE}\n",
    "#                    'dF':dF}\n",
    "#                    'dFY':dFY}"
   ]
  },
  {
   "cell_type": "code",
   "execution_count": null,
   "id": "eb42ca84-34b0-4240-93f1-7a1aed6aecaf",
   "metadata": {},
   "outputs": [],
   "source": []
  },
  {
   "cell_type": "code",
   "execution_count": 23,
   "id": "f63f9fde-1e33-4e55-8f99-a78aadeb7802",
   "metadata": {
    "tags": []
   },
   "outputs": [],
   "source": [
    "ind_CO2 = 'CO2 - combustion - air'"
   ]
  },
  {
   "cell_type": "code",
   "execution_count": 40,
   "id": "014b2d3a-b27e-49de-b523-15647065f851",
   "metadata": {
    "tags": []
   },
   "outputs": [
    {
     "data": {
      "text/plain": [
       "Index(['CO2 - combustion - air', 'CH4 - combustion - air',\n",
       "       'N2O - combustion - air'],\n",
       "      dtype='object', name='stressor')"
      ]
     },
     "execution_count": 40,
     "metadata": {},
     "output_type": "execute_result"
    }
   ],
   "source": [
    "ind_GHG = results.loc[('2009–2019','ΔE')].index[23:26]\n",
    "ind_GHG"
   ]
  },
  {
   "cell_type": "code",
   "execution_count": 25,
   "id": "38c078fa-d6c2-4bea-a7c5-1564a01e79d5",
   "metadata": {
    "tags": []
   },
   "outputs": [],
   "source": [
    "results = pd.concat([pd.concat(deltas[year]) for year in years[1:]], keys=['1999–2009', \n",
    "                                                                           '2009–2019'])"
   ]
  },
  {
   "cell_type": "code",
   "execution_count": 27,
   "id": "3990707f-63bc-4df3-82f1-e52065b5c097",
   "metadata": {
    "tags": []
   },
   "outputs": [
    {
     "data": {
      "text/plain": [
       "True"
      ]
     },
     "execution_count": 27,
     "metadata": {},
     "output_type": "execute_result"
    }
   ],
   "source": [
    " np.allclose(results.loc[('2009–2019','ΔS')] + results.loc[('2009–2019','ΔL')] + results.loc[('2009–2019','ΔY')],\n",
    "            results.loc[('2009–2019','ΔE')])"
   ]
  },
  {
   "cell_type": "code",
   "execution_count": 57,
   "id": "2bbf5b11-79d3-4400-918d-bf2a66017f67",
   "metadata": {
    "tags": []
   },
   "outputs": [],
   "source": [
    "fig_data = dict()\n",
    "\n",
    "for substance in ind_GHG:\n",
    "    \n",
    "    #fig_data[substance] = pd.concat([results.loc[(slice(None), slice(None), substance)].sum(1)]).unstack()\n",
    "    fig_data[substance] = pd.concat([results.loc[:,'LU'].loc[(slice(None), slice(None), substance)].sum(1)]).unstack()"
   ]
  },
  {
   "cell_type": "code",
   "execution_count": 58,
   "id": "c76bc2b3-418e-4a51-b5b8-88ce8aef1921",
   "metadata": {
    "tags": []
   },
   "outputs": [
    {
     "data": {
      "text/html": [
       "<div>\n",
       "<style scoped>\n",
       "    .dataframe tbody tr th:only-of-type {\n",
       "        vertical-align: middle;\n",
       "    }\n",
       "\n",
       "    .dataframe tbody tr th {\n",
       "        vertical-align: top;\n",
       "    }\n",
       "\n",
       "    .dataframe thead th {\n",
       "        text-align: right;\n",
       "    }\n",
       "</style>\n",
       "<table border=\"1\" class=\"dataframe\">\n",
       "  <thead>\n",
       "    <tr style=\"text-align: right;\">\n",
       "      <th></th>\n",
       "      <th>ΔS</th>\n",
       "      <th>ΔL</th>\n",
       "      <th>ΔY</th>\n",
       "      <th>ΔE</th>\n",
       "    </tr>\n",
       "  </thead>\n",
       "  <tbody>\n",
       "    <tr>\n",
       "      <th>1999–2009</th>\n",
       "      <td>-2.736488e+09</td>\n",
       "      <td>1.279420e+09</td>\n",
       "      <td>3.770047e+09</td>\n",
       "      <td>2.312978e+09</td>\n",
       "    </tr>\n",
       "    <tr>\n",
       "      <th>2009–2019</th>\n",
       "      <td>1.194501e+11</td>\n",
       "      <td>-1.235365e+11</td>\n",
       "      <td>7.274743e+09</td>\n",
       "      <td>3.188308e+09</td>\n",
       "    </tr>\n",
       "  </tbody>\n",
       "</table>\n",
       "</div>"
      ],
      "text/plain": [
       "                     ΔS            ΔL            ΔY            ΔE\n",
       "1999–2009 -2.736488e+09  1.279420e+09  3.770047e+09  2.312978e+09\n",
       "2009–2019  1.194501e+11 -1.235365e+11  7.274743e+09  3.188308e+09"
      ]
     },
     "execution_count": 58,
     "metadata": {},
     "output_type": "execute_result"
    }
   ],
   "source": [
    "fig_data[ind_CO2]"
   ]
  },
  {
   "cell_type": "code",
   "execution_count": 60,
   "id": "8f47a15c-a8fe-469e-a1bc-d6897df6c0fd",
   "metadata": {
    "tags": []
   },
   "outputs": [
    {
     "data": {
      "image/png": "[encoded data removed]",
      "text/plain": [
       "<Figure size 1000x800 with 3 Axes>"
      ]
     },
     "metadata": {},
     "output_type": "display_data"
    }
   ],
   "source": [
    "fig, axes = plt.subplots(1,3,figsize=(10,8))\n",
    "\n",
    "for i,substance in enumerate(ind_GHG):\n",
    "    ax=axes[i]\n",
    "    fig_data[substance].iloc[:,:-1].plot(kind='bar',stacked=True, ax=ax)\n",
    "    ax.plot(fig_data[substance]['ΔE'])\n",
    "    ax.grid(True, axis='y', which='both', alpha=0.5)\n",
    "    ax.set_title(substance)"
   ]
  },
  {
   "cell_type": "code",
   "execution_count": null,
   "id": "18b9d5c2-33e3-48be-bac5-d87cb7db46fd",
   "metadata": {},
   "outputs": [],
   "source": []
  }
 ],
 "metadata": {
  "kernelspec": {
   "display_name": "Python 3 (ipykernel)",
   "language": "python",
   "name": "python3"
  },
  "language_info": {
   "codemirror_mode": {
    "name": "ipython",
    "version": 3
   },
   "file_extension": ".py",
   "mimetype": "text/x-python",
   "name": "python",
   "nbconvert_exporter": "python",
   "pygments_lexer": "ipython3",
   "version": "3.11.0"
  }
 },
 "nbformat": 4,
 "nbformat_minor": 5
}
