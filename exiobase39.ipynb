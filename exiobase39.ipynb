{
 "cells": [
  {
   "cell_type": "markdown",
   "id": "6554e74a-2514-477d-82bc-da1bdbaceb29",
   "metadata": {},
   "source": [
    "# Parsing EXIOBASE 3.9"
   ]
  },
  {
   "cell_type": "code",
   "execution_count": 1,
   "id": "c5ec8164-a847-4f6f-905d-da2efdf63aad",
   "metadata": {
    "tags": []
   },
   "outputs": [],
   "source": [
    "import pymrio as mr\n",
    "import scipy as sp\n",
    "import pandas as pd\n",
    "import pickle"
   ]
  },
  {
   "cell_type": "markdown",
   "id": "fecb14e4-2827-4fd0-8f1b-0f8467b22d24",
   "metadata": {
    "tags": []
   },
   "source": [
    "## Download the source files\n",
    "Available at https://ntnu.app.box.com/s/gtxfosa7k7rj8stkp16rlj9pyp8nyem3/folder/193929480617"
   ]
  },
  {
   "cell_type": "code",
   "execution_count": 2,
   "id": "9a5ecf4e-547c-4623-9a59-a256c1c6d57e",
   "metadata": {
    "tags": []
   },
   "outputs": [],
   "source": [
    "year = 2019\n",
    "EXIOBASE_PATH = '../EXIOBASE/'"
   ]
  },
  {
   "cell_type": "code",
   "execution_count": 3,
   "id": "99775241-1a3d-4441-b566-403047233723",
   "metadata": {
    "tags": []
   },
   "outputs": [],
   "source": [
    "# Load the .mat data\n",
    "io39mat           = sp.io.loadmat(EXIOBASE_PATH + 'EX_v3_9_mat/IOT_2019_ixi.mat')\n",
    "emissions_fuel    = sp.io.loadmat(EXIOBASE_PATH + 'EX_v3_9_mat/EnergyEmis/Extensions_2019_ixi.mat')\n",
    "emissions_nonfuel = sp.io.loadmat(EXIOBASE_PATH + 'EX_v3_9_mat/AirEmisNonFuel/Extensions_2019_ixi.mat')"
   ]
  },
  {
   "cell_type": "code",
   "execution_count": 4,
   "id": "9f5432dd-0ef7-45b1-b77e-34a53b5e6b1d",
   "metadata": {
    "tags": []
   },
   "outputs": [
    {
     "data": {
      "text/plain": [
       "('S', 'A', 'Z', 'V', 'Y', 'x', 'FY', 'F', 'F_hh')"
      ]
     },
     "execution_count": 4,
     "metadata": {},
     "output_type": "execute_result"
    }
   ],
   "source": [
    "io_vars = io39mat['IO'].dtype.names\n",
    "io_vars"
   ]
  },
  {
   "cell_type": "code",
   "execution_count": 5,
   "id": "aa067dfb-6d47-4f07-a6f3-6367dcd59b98",
   "metadata": {
    "tags": []
   },
   "outputs": [],
   "source": [
    "meta = io39mat['meta']"
   ]
  },
  {
   "cell_type": "code",
   "execution_count": 6,
   "id": "1cb7593a-87b9-4a2f-a4da-49d2e03ad1eb",
   "metadata": {
    "tags": []
   },
   "outputs": [],
   "source": [
    "# For comparison with a 3.8.2 matrix\n",
    "with open(f'EXIOBASE/IOT_{year}_ixi.pickle', 'rb') as handle:\n",
    "    io38 = pickle.load(handle)"
   ]
  },
  {
   "cell_type": "markdown",
   "id": "7e4cd609-48cc-49e7-81d5-136b54b2eb55",
   "metadata": {},
   "source": [
    "## Create the IO system by hand"
   ]
  },
  {
   "cell_type": "markdown",
   "id": "2e5b0b98-69ca-418b-b5e2-f4ec84ec8d29",
   "metadata": {},
   "source": [
    "First we declare the new IO system."
   ]
  },
  {
   "cell_type": "code",
   "execution_count": 7,
   "id": "18eef89c-1aa9-48c6-b69f-0465e9fee7db",
   "metadata": {
    "tags": []
   },
   "outputs": [],
   "source": [
    "io39 = mr.IOSystem()"
   ]
  },
  {
   "cell_type": "markdown",
   "id": "9853bbd9-442c-48b3-b0e5-09927477ca24",
   "metadata": {},
   "source": [
    "We need the labels to create the dataframes."
   ]
  },
  {
   "cell_type": "code",
   "execution_count": 8,
   "id": "56beef9a-aa21-4c63-8e60-e47846013457",
   "metadata": {
    "tags": []
   },
   "outputs": [],
   "source": [
    "Z_index = pd.MultiIndex.from_tuples([(a[0],b[0]) for a,b in meta['labsZ'][0,0]])\n",
    "Z_index.names = ['region', 'sector']\n",
    "\n",
    "F_index = pd.MultiIndex.from_tuples([a[0] for a in meta['labsF'][0,0]])\n",
    "F_index.names = ['stressor']\n",
    "\n",
    "V_index = pd.MultiIndex.from_tuples([(a[0,0],b[0],c[0],d[0]) for a,b,c,d in meta['labsV'][0,0]])\n",
    "V_index\n",
    "\n",
    "Y_index = pd.MultiIndex.from_tuples([(a[0],b[0]) for a,b in meta['labsY'][0,0]])\n",
    "Y_index.names = ['region', 'category']"
   ]
  },
  {
   "cell_type": "markdown",
   "id": "723bb44c-a646-49c0-89ea-e07661717750",
   "metadata": {},
   "source": [
    "### Core system\n",
    "The following matrices are absolutely necessary for the full calculation: Z, Y, F.\n",
    "\n",
    "This means that importing the rest of the data is optional.\n",
    "\n",
    "Let us import Z and Y."
   ]
  },
  {
   "cell_type": "code",
   "execution_count": 9,
   "id": "2cb44c5b-7cd6-4e7d-b20e-6b6b8caa49b4",
   "metadata": {
    "tags": []
   },
   "outputs": [],
   "source": [
    "io39.Z = pd.DataFrame(data=io39mat['IO']['Z'][0,0].todense()*1e-6,\n",
    "             index=Z_index,\n",
    "             columns=Z_index)\n",
    "\n",
    "io39.Y = pd.DataFrame(data=io39mat['IO']['Y'][0,0].todense()*1e-6,\n",
    "                      index=Z_index,\n",
    "                      columns=Y_index)\n",
    "\n",
    "# Can be recalculated: x, A\n",
    "# io39.x = pd.DataFrame(data=io39mat['IO']['A'][0,0].todense()*1e-6)\n",
    "\n",
    "# io39.A = pd.DataFrame(data=io39mat['IO']['A'][0,0].todense()*1e-6,\n",
    "#                       index=Z_index,\n",
    "#                       columns=Z_index)\n"
   ]
  },
  {
   "cell_type": "markdown",
   "id": "d6447720-3310-454b-a250-35a9232d0f07",
   "metadata": {
    "tags": []
   },
   "source": [
    "### Satellite accounts\n",
    "In 3.9, the satellite accounts are organized in three separate blocks:\n",
    "1. economic extensions,\n",
    "2. emissions from energy use (fuel combustion),\n",
    "3. emissions from non-energy use."
   ]
  },
  {
   "cell_type": "code",
   "execution_count": 10,
   "id": "621b0df3-f317-4aa2-9171-99688c8d6b11",
   "metadata": {
    "tags": []
   },
   "outputs": [],
   "source": [
    "io39.satellite = mr.Extension('Satellite Accounts')"
   ]
  },
  {
   "cell_type": "markdown",
   "id": "e63883c2-4689-49c1-99a4-63541b29829d",
   "metadata": {
    "tags": []
   },
   "source": [
    "Let us import the various F matrices corresponding to these three categories."
   ]
  },
  {
   "cell_type": "code",
   "execution_count": 11,
   "id": "379459a5-fc9c-4d27-8c42-a1c53d0f0307",
   "metadata": {
    "tags": []
   },
   "outputs": [],
   "source": [
    "F_econ    = io39mat['IO']['F'][0,0].todense()*1e-6\n",
    "F_fuel    = emissions_fuel['Extensions']['F'][0,0]*1e-6\n",
    "F_nonfuel = emissions_nonfuel['Extensions']['F'][0,0]*1e-6\n",
    "\n",
    "FY_econ    = io39mat['IO']['F_hh'][0,0].todense()*1e-6 # This matrix has no meaning, but, if the matrices are consistently built, it exists as an array of zeros\n",
    "FY_fuel    = emissions_fuel['Extensions']['FY'][0,0]*1e-6\n",
    "FY_nonfuel = emissions_nonfuel['Extensions']['FY'][0,0]*1e-6"
   ]
  },
  {
   "cell_type": "code",
   "execution_count": 12,
   "id": "a7ea9439-5ff0-4c9e-a513-10ff7dc085da",
   "metadata": {
    "tags": []
   },
   "outputs": [
    {
     "data": {
      "text/plain": [
       "((9, 7987), (3507, 7987), (396, 7987))"
      ]
     },
     "execution_count": 12,
     "metadata": {},
     "output_type": "execute_result"
    }
   ],
   "source": [
    "F_econ.shape, F_fuel.shape, F_nonfuel.shape"
   ]
  },
  {
   "cell_type": "code",
   "execution_count": 13,
   "id": "fd29a468-476c-4584-ac82-713cc529925d",
   "metadata": {
    "tags": []
   },
   "outputs": [
    {
     "data": {
      "text/plain": [
       "((9, 343), (3507, 343), (396, 343))"
      ]
     },
     "execution_count": 13,
     "metadata": {},
     "output_type": "execute_result"
    }
   ],
   "source": [
    "FY_econ.shape, FY_fuel.shape, FY_nonfuel.shape"
   ]
  },
  {
   "cell_type": "markdown",
   "id": "2ccf62cd-1b63-494e-a851-06f664b9e404",
   "metadata": {},
   "source": [
    "Get the labels"
   ]
  },
  {
   "cell_type": "code",
   "execution_count": 14,
   "id": "cbc1e4ff-c1b1-4c83-9c00-d298f29c1b16",
   "metadata": {
    "tags": []
   },
   "outputs": [],
   "source": [
    "F_econ_index    = pd.Series([a[0][0] for a in meta['labsF'][0,0]], name='stressor')\n",
    "F_fuel_index    = pd.Series([a[0][0] for a in emissions_fuel['meta_Extensions']['labsF'][0,0]], name='stressor')\n",
    "F_nonfuel_index = pd.Series([a[0][0] for a in emissions_nonfuel['meta_Extensions']['labsF'][0,0]], name='stressor')"
   ]
  },
  {
   "cell_type": "code",
   "execution_count": 15,
   "id": "854deeb8-f185-4288-b6ae-7ae3cf2a0dfc",
   "metadata": {
    "tags": []
   },
   "outputs": [
    {
     "data": {
      "text/plain": [
       "((9,), (3507,), (1707,))"
      ]
     },
     "execution_count": 15,
     "metadata": {},
     "output_type": "execute_result"
    }
   ],
   "source": [
    "F_econ_index.shape, F_fuel_index.shape, F_nonfuel_index.shape"
   ]
  },
  {
   "cell_type": "markdown",
   "id": "09cdc14b-8c76-4e2c-b583-0384859dc21f",
   "metadata": {},
   "source": [
    "There is an issue with the F_nonfuel labels, the length doesn't match that of the F_nonfuel matrix."
   ]
  },
  {
   "cell_type": "code",
   "execution_count": 16,
   "id": "e604fdb8-3462-476d-a86f-ac7d10d2f0b0",
   "metadata": {
    "tags": []
   },
   "outputs": [],
   "source": [
    "F_all  = sp.sparse.vstack([F_econ, F_fuel, F_nonfuel])\n",
    "FY_all = sp.sparse.vstack([FY_econ, FY_fuel, FY_nonfuel])"
   ]
  },
  {
   "cell_type": "markdown",
   "id": "94c0d786-4029-4f17-9b6c-cfbe481bacbc",
   "metadata": {
    "tags": []
   },
   "source": [
    "### Characterization\n",
    "Characterization factors are provided as text files (tab-separated values)."
   ]
  },
  {
   "cell_type": "code",
   "execution_count": 17,
   "id": "7296b8c6-c6b2-412c-9850-46ab2ef90241",
   "metadata": {
    "tags": []
   },
   "outputs": [],
   "source": [
    "C_nonfuel = pd.read_csv(EXIOBASE_PATH + 'EX_v3_9_mat/AirEmisNonFuel/EXIOBASE_AirEmisNonFuel_CC500f.txt', encoding = 'ISO-8859-1', sep='\\t', index_col=0)\n",
    "C_fuel    = pd.read_csv(EXIOBASE_PATH + 'EX_v3_9_mat/EnergyEmis/EXIOBASE_EnergyEmis_CC14f.txt', encoding = 'ISO-8859-1', sep='\\t', index_col=0)"
   ]
  },
  {
   "cell_type": "markdown",
   "id": "ce80540b-0636-4772-a559-bc91fa0ad5f6",
   "metadata": {},
   "source": [
    "There is a bit of cleaning to do..."
   ]
  },
  {
   "cell_type": "code",
   "execution_count": 18,
   "id": "cd1b17fc-3733-44d4-bcff-757dc5f99b29",
   "metadata": {
    "tags": []
   },
   "outputs": [],
   "source": [
    "C_fuel_columns    = C_fuel.columns.to_frame()[0].str.split('|', expand=True)\n",
    "C_nonfuel_columns = C_nonfuel.columns.to_frame()[0].str.split('|', expand=True)\n",
    "\n",
    "C_fuel_columns.columns = C_nonfuel_columns.columns = ['stressor', 'unit', 'comment', 'source']\n",
    "\n",
    "C_fuel.columns    = pd.MultiIndex.from_frame(C_fuel_columns)\n",
    "C_nonfuel.columns = pd.MultiIndex.from_frame(C_nonfuel_columns)\n",
    "\n",
    "C_fuel.index.name = C_nonfuel.index.name = 'stressor'"
   ]
  },
  {
   "cell_type": "markdown",
   "id": "88a1c01b-8416-4b67-8d09-9c10365db000",
   "metadata": {},
   "source": [
    "C_econ is missing, we have to create it by hand."
   ]
  },
  {
   "cell_type": "code",
   "execution_count": 19,
   "id": "3197b0a8-78e2-4050-a05d-759f27841809",
   "metadata": {
    "tags": []
   },
   "outputs": [
    {
     "data": {
      "text/plain": [
       "MultiIndex([(    'Value Added',   'M.EUR', '', ''),\n",
       "            (     'Employment', '1000 p.', '', ''),\n",
       "            ('Employment hour',      'hr', '', '')],\n",
       "           names=['stressor', 'unit', 'comment', 'source'])"
      ]
     },
     "execution_count": 19,
     "metadata": {},
     "output_type": "execute_result"
    }
   ],
   "source": [
    "C_fuel.columns[:3]"
   ]
  },
  {
   "cell_type": "code",
   "execution_count": 20,
   "id": "df06fc4a-cace-4af0-ad27-41d8680fcbc0",
   "metadata": {
    "tags": []
   },
   "outputs": [
    {
     "name": "stderr",
     "output_type": "stream",
     "text": [
      "C:\\Users\\Gibon\\AppData\\Local\\Temp\\ipykernel_9944\\583420677.py:1: FutureWarning: Downcasting object dtype arrays on .fillna, .ffill, .bfill is deprecated and will change in a future version. Call result.infer_objects(copy=False) instead. To opt-in to the future behavior, set `pd.set_option('future.no_silent_downcasting', True)`\n",
      "  C_econ = pd.DataFrame(index=F_econ_index, columns=C_fuel.columns[:3]).fillna(0)\n"
     ]
    },
    {
     "data": {
      "text/html": [
       "<div>\n",
       "<style scoped>\n",
       "    .dataframe tbody tr th:only-of-type {\n",
       "        vertical-align: middle;\n",
       "    }\n",
       "\n",
       "    .dataframe tbody tr th {\n",
       "        vertical-align: top;\n",
       "    }\n",
       "\n",
       "    .dataframe thead tr th {\n",
       "        text-align: left;\n",
       "    }\n",
       "\n",
       "    .dataframe thead tr:last-of-type th {\n",
       "        text-align: right;\n",
       "    }\n",
       "</style>\n",
       "<table border=\"1\" class=\"dataframe\">\n",
       "  <thead>\n",
       "    <tr>\n",
       "      <th>stressor</th>\n",
       "      <th>Value Added</th>\n",
       "      <th>Employment</th>\n",
       "      <th>Employment hour</th>\n",
       "    </tr>\n",
       "    <tr>\n",
       "      <th>unit</th>\n",
       "      <th>M.EUR</th>\n",
       "      <th>1000 p.</th>\n",
       "      <th>hr</th>\n",
       "    </tr>\n",
       "    <tr>\n",
       "      <th>comment</th>\n",
       "      <th></th>\n",
       "      <th></th>\n",
       "      <th></th>\n",
       "    </tr>\n",
       "    <tr>\n",
       "      <th>source</th>\n",
       "      <th></th>\n",
       "      <th></th>\n",
       "      <th></th>\n",
       "    </tr>\n",
       "    <tr>\n",
       "      <th>stressor</th>\n",
       "      <th></th>\n",
       "      <th></th>\n",
       "      <th></th>\n",
       "    </tr>\n",
       "  </thead>\n",
       "  <tbody>\n",
       "    <tr>\n",
       "      <th>Taxes less subsidies on products purchased: Total</th>\n",
       "      <td>1</td>\n",
       "      <td>0</td>\n",
       "      <td>0</td>\n",
       "    </tr>\n",
       "    <tr>\n",
       "      <th>Other net taxes on production</th>\n",
       "      <td>1</td>\n",
       "      <td>0</td>\n",
       "      <td>0</td>\n",
       "    </tr>\n",
       "    <tr>\n",
       "      <th>Compensation of employees; wages, salaries, &amp; employers' social contributions: Low-skilled</th>\n",
       "      <td>1</td>\n",
       "      <td>0</td>\n",
       "      <td>0</td>\n",
       "    </tr>\n",
       "    <tr>\n",
       "      <th>Compensation of employees; wages, salaries, &amp; employers' social contributions: Medium-skilled</th>\n",
       "      <td>1</td>\n",
       "      <td>0</td>\n",
       "      <td>0</td>\n",
       "    </tr>\n",
       "    <tr>\n",
       "      <th>Compensation of employees; wages, salaries, &amp; employers' social contributions: High-skilled</th>\n",
       "      <td>1</td>\n",
       "      <td>0</td>\n",
       "      <td>0</td>\n",
       "    </tr>\n",
       "    <tr>\n",
       "      <th>Operating surplus: Consumption of fixed capital</th>\n",
       "      <td>1</td>\n",
       "      <td>0</td>\n",
       "      <td>0</td>\n",
       "    </tr>\n",
       "    <tr>\n",
       "      <th>Operating surplus: Rents on land</th>\n",
       "      <td>1</td>\n",
       "      <td>0</td>\n",
       "      <td>0</td>\n",
       "    </tr>\n",
       "    <tr>\n",
       "      <th>Operating surplus: Royalties on resources</th>\n",
       "      <td>1</td>\n",
       "      <td>0</td>\n",
       "      <td>0</td>\n",
       "    </tr>\n",
       "    <tr>\n",
       "      <th>Operating surplus: Remaining net operating surplus</th>\n",
       "      <td>1</td>\n",
       "      <td>0</td>\n",
       "      <td>0</td>\n",
       "    </tr>\n",
       "  </tbody>\n",
       "</table>\n",
       "</div>"
      ],
      "text/plain": [
       "stressor                                           Value Added Employment  \\\n",
       "unit                                                     M.EUR    1000 p.   \n",
       "comment                                                                     \n",
       "source                                                                      \n",
       "stressor                                                                    \n",
       "Taxes less subsidies on products purchased: Total            1          0   \n",
       "Other net taxes on production                                1          0   \n",
       "Compensation of employees; wages, salaries, & e...           1          0   \n",
       "Compensation of employees; wages, salaries, & e...           1          0   \n",
       "Compensation of employees; wages, salaries, & e...           1          0   \n",
       "Operating surplus: Consumption of fixed capital              1          0   \n",
       "Operating surplus: Rents on land                             1          0   \n",
       "Operating surplus: Royalties on resources                    1          0   \n",
       "Operating surplus: Remaining net operating surplus           1          0   \n",
       "\n",
       "stressor                                           Employment hour  \n",
       "unit                                                            hr  \n",
       "comment                                                             \n",
       "source                                                              \n",
       "stressor                                                            \n",
       "Taxes less subsidies on products purchased: Total                0  \n",
       "Other net taxes on production                                    0  \n",
       "Compensation of employees; wages, salaries, & e...               0  \n",
       "Compensation of employees; wages, salaries, & e...               0  \n",
       "Compensation of employees; wages, salaries, & e...               0  \n",
       "Operating surplus: Consumption of fixed capital                  0  \n",
       "Operating surplus: Rents on land                                 0  \n",
       "Operating surplus: Royalties on resources                        0  \n",
       "Operating surplus: Remaining net operating surplus               0  "
      ]
     },
     "execution_count": 20,
     "metadata": {},
     "output_type": "execute_result"
    }
   ],
   "source": [
    "C_econ = pd.DataFrame(index=F_econ_index, columns=C_fuel.columns[:3]).fillna(0)\n",
    "C_econ[(    'Value Added',   'M.EUR', '', '')] = 1\n",
    "C_econ"
   ]
  },
  {
   "cell_type": "code",
   "execution_count": 21,
   "id": "a030cdce-36e1-42e4-8d81-e112ffb47b5d",
   "metadata": {
    "tags": []
   },
   "outputs": [],
   "source": [
    "# C_fuel = C_fuel.fillna(0)"
   ]
  },
  {
   "cell_type": "code",
   "execution_count": 22,
   "id": "a69c2d8d-985c-4377-a6c1-67fcaf212a4c",
   "metadata": {
    "tags": []
   },
   "outputs": [
    {
     "data": {
      "text/plain": [
       "stressor\n",
       "N2O      265\n",
       "CH4       28\n",
       "CO2        1\n",
       "As         0\n",
       "B(a)P      0\n",
       "Name: (GHG emissions AR5 (GWP100), kg CO2 eq., , GWP100 (IPCC, 2010)), dtype: int64"
      ]
     },
     "execution_count": 22,
     "metadata": {},
     "output_type": "execute_result"
    }
   ],
   "source": [
    "C_fuel[('GHG emissions AR5 (GWP100)', 'kg CO2 eq.', '', 'GWP100 (IPCC, 2010)')].nlargest()"
   ]
  },
  {
   "cell_type": "code",
   "execution_count": 23,
   "id": "80f443ae-6e71-4348-b57b-1cf5925d25f7",
   "metadata": {
    "tags": []
   },
   "outputs": [
    {
     "data": {
      "text/plain": [
       "(3912, 499)"
      ]
     },
     "execution_count": 23,
     "metadata": {},
     "output_type": "execute_result"
    }
   ],
   "source": [
    "C_all = pd.concat([C_econ, C_fuel, C_nonfuel], axis=0).fillna(0)\n",
    "C_all.shape"
   ]
  },
  {
   "cell_type": "markdown",
   "id": "53ff8929-8696-4d5e-b53b-dad713c736e0",
   "metadata": {
    "tags": []
   },
   "source": [
    "### Labelling extensions properly"
   ]
  },
  {
   "cell_type": "code",
   "execution_count": 24,
   "id": "e60f1f26-896d-47d7-a345-7055eda1b099",
   "metadata": {
    "tags": []
   },
   "outputs": [],
   "source": [
    "F_all_index = pd.concat([F_econ_index,\n",
    "                         F_fuel_index,\n",
    "                         C_nonfuel.index.to_series()], axis=0)"
   ]
  },
  {
   "cell_type": "code",
   "execution_count": 25,
   "id": "66683728-17f9-429f-82c5-6a6df726b5db",
   "metadata": {
    "tags": []
   },
   "outputs": [],
   "source": [
    "io39.satellite.F = pd.DataFrame(data=F_all.todense(),\n",
    "                      index=F_all_index,\n",
    "                      columns=Z_index)\n",
    "\n",
    "io39.satellite.FY = pd.DataFrame(data=FY_all.todense(),\n",
    "                      index=F_all_index,\n",
    "                      columns=Y_index)"
   ]
  },
  {
   "cell_type": "code",
   "execution_count": 26,
   "id": "0c6bb0ac-718c-4094-9e85-b42cf535f9ad",
   "metadata": {
    "tags": []
   },
   "outputs": [
    {
     "name": "stderr",
     "output_type": "stream",
     "text": [
      "C:\\Users\\Gibon\\.conda\\envs\\io\\Lib\\site-packages\\pymrio\\core\\mriosystem.py:890: FutureWarning: DataFrame.groupby with axis=1 is deprecated. Do `frame.T.groupby(...)` without axis instead.\n",
      "  Y_agg = Y.groupby(level=\"region\", axis=1, sort=False).sum()\n",
      "C:\\Users\\Gibon\\.conda\\envs\\io\\Lib\\site-packages\\pymrio\\core\\mriosystem.py:963: FutureWarning: DataFrame.groupby with axis=1 is deprecated. Do `frame.T.groupby(...)` without axis instead.\n",
      "  self.D_cba.groupby(level=\"region\", axis=1, sort=False).sum()\n",
      "C:\\Users\\Gibon\\.conda\\envs\\io\\Lib\\site-packages\\pymrio\\core\\mriosystem.py:972: FutureWarning: DataFrame.groupby with axis=1 is deprecated. Do `frame.T.groupby(...)` without axis instead.\n",
      "  self.D_pba.groupby(level=\"region\", axis=1, sort=False).sum()\n",
      "C:\\Users\\Gibon\\.conda\\envs\\io\\Lib\\site-packages\\pymrio\\core\\mriosystem.py:980: FutureWarning: DataFrame.groupby with axis=1 is deprecated. Do `frame.T.groupby(...)` without axis instead.\n",
      "  self.D_imp_reg = self.D_imp.groupby(\n",
      "C:\\Users\\Gibon\\.conda\\envs\\io\\Lib\\site-packages\\pymrio\\core\\mriosystem.py:986: FutureWarning: DataFrame.groupby with axis=1 is deprecated. Do `frame.T.groupby(...)` without axis instead.\n",
      "  self.D_exp_reg = self.D_exp.groupby(\n"
     ]
    },
    {
     "data": {
      "text/plain": [
       "<pymrio.core.mriosystem.IOSystem at 0x2764f5c4450>"
      ]
     },
     "execution_count": 26,
     "metadata": {},
     "output_type": "execute_result"
    }
   ],
   "source": [
    "io39.calc_all()"
   ]
  },
  {
   "cell_type": "code",
   "execution_count": 27,
   "id": "778833b1-5712-459f-93cf-094b1e43e5f6",
   "metadata": {
    "tags": []
   },
   "outputs": [],
   "source": [
    "comparison_x = pd.concat([io39.x,io38.x], axis=1, keys=['io39', 'io38'])"
   ]
  },
  {
   "cell_type": "code",
   "execution_count": 28,
   "id": "015d9735-73ac-4039-a54a-2145e3d7c3c2",
   "metadata": {
    "tags": []
   },
   "outputs": [
    {
     "data": {
      "text/html": [
       "<div>\n",
       "<style scoped>\n",
       "    .dataframe tbody tr th:only-of-type {\n",
       "        vertical-align: middle;\n",
       "    }\n",
       "\n",
       "    .dataframe tbody tr th {\n",
       "        vertical-align: top;\n",
       "    }\n",
       "\n",
       "    .dataframe thead tr th {\n",
       "        text-align: left;\n",
       "    }\n",
       "\n",
       "    .dataframe thead tr:last-of-type th {\n",
       "        text-align: right;\n",
       "    }\n",
       "</style>\n",
       "<table border=\"1\" class=\"dataframe\">\n",
       "  <thead>\n",
       "    <tr>\n",
       "      <th></th>\n",
       "      <th></th>\n",
       "      <th>io39</th>\n",
       "      <th>io38</th>\n",
       "    </tr>\n",
       "    <tr>\n",
       "      <th></th>\n",
       "      <th></th>\n",
       "      <th>indout</th>\n",
       "      <th>indout</th>\n",
       "    </tr>\n",
       "    <tr>\n",
       "      <th>region</th>\n",
       "      <th>sector</th>\n",
       "      <th></th>\n",
       "      <th></th>\n",
       "    </tr>\n",
       "  </thead>\n",
       "  <tbody>\n",
       "    <tr>\n",
       "      <th rowspan=\"5\" valign=\"top\">AT</th>\n",
       "      <th>Cultivation of paddy rice</th>\n",
       "      <td>0.000000</td>\n",
       "      <td>0.000000</td>\n",
       "    </tr>\n",
       "    <tr>\n",
       "      <th>Cultivation of wheat</th>\n",
       "      <td>339.520138</td>\n",
       "      <td>378.272102</td>\n",
       "    </tr>\n",
       "    <tr>\n",
       "      <th>Cultivation of cereal grains nec</th>\n",
       "      <td>1164.650232</td>\n",
       "      <td>894.025172</td>\n",
       "    </tr>\n",
       "    <tr>\n",
       "      <th>Cultivation of vegetables, fruit, nuts</th>\n",
       "      <td>1829.872278</td>\n",
       "      <td>1665.261806</td>\n",
       "    </tr>\n",
       "    <tr>\n",
       "      <th>Cultivation of oil seeds</th>\n",
       "      <td>243.015922</td>\n",
       "      <td>175.855935</td>\n",
       "    </tr>\n",
       "    <tr>\n",
       "      <th>...</th>\n",
       "      <th>...</th>\n",
       "      <td>...</td>\n",
       "      <td>...</td>\n",
       "    </tr>\n",
       "    <tr>\n",
       "      <th rowspan=\"5\" valign=\"top\">WM</th>\n",
       "      <th>Activities of membership organisation n.e.c. (91)</th>\n",
       "      <td>8762.299672</td>\n",
       "      <td>22761.213885</td>\n",
       "    </tr>\n",
       "    <tr>\n",
       "      <th>Recreational, cultural and sporting activities (92)</th>\n",
       "      <td>36368.596005</td>\n",
       "      <td>54138.374081</td>\n",
       "    </tr>\n",
       "    <tr>\n",
       "      <th>Other service activities (93)</th>\n",
       "      <td>42144.210384</td>\n",
       "      <td>31620.402676</td>\n",
       "    </tr>\n",
       "    <tr>\n",
       "      <th>Private households with employed persons (95)</th>\n",
       "      <td>20060.994497</td>\n",
       "      <td>7096.152986</td>\n",
       "    </tr>\n",
       "    <tr>\n",
       "      <th>Extra-territorial organizations and bodies</th>\n",
       "      <td>0.000000</td>\n",
       "      <td>0.000000</td>\n",
       "    </tr>\n",
       "  </tbody>\n",
       "</table>\n",
       "<p>7987 rows × 2 columns</p>\n",
       "</div>"
      ],
      "text/plain": [
       "                                                                   io39  \\\n",
       "                                                                 indout   \n",
       "region sector                                                             \n",
       "AT     Cultivation of paddy rice                               0.000000   \n",
       "       Cultivation of wheat                                  339.520138   \n",
       "       Cultivation of cereal grains nec                     1164.650232   \n",
       "       Cultivation of vegetables, fruit, nuts               1829.872278   \n",
       "       Cultivation of oil seeds                              243.015922   \n",
       "...                                                                 ...   \n",
       "WM     Activities of membership organisation n.e.c. (91)    8762.299672   \n",
       "       Recreational, cultural and sporting activities ...  36368.596005   \n",
       "       Other service activities (93)                       42144.210384   \n",
       "       Private households with employed persons (95)       20060.994497   \n",
       "       Extra-territorial organizations and bodies              0.000000   \n",
       "\n",
       "                                                                   io38  \n",
       "                                                                 indout  \n",
       "region sector                                                            \n",
       "AT     Cultivation of paddy rice                               0.000000  \n",
       "       Cultivation of wheat                                  378.272102  \n",
       "       Cultivation of cereal grains nec                      894.025172  \n",
       "       Cultivation of vegetables, fruit, nuts               1665.261806  \n",
       "       Cultivation of oil seeds                              175.855935  \n",
       "...                                                                 ...  \n",
       "WM     Activities of membership organisation n.e.c. (91)   22761.213885  \n",
       "       Recreational, cultural and sporting activities ...  54138.374081  \n",
       "       Other service activities (93)                       31620.402676  \n",
       "       Private households with employed persons (95)        7096.152986  \n",
       "       Extra-territorial organizations and bodies              0.000000  \n",
       "\n",
       "[7987 rows x 2 columns]"
      ]
     },
     "execution_count": 28,
     "metadata": {},
     "output_type": "execute_result"
    }
   ],
   "source": [
    "comparison_x"
   ]
  },
  {
   "cell_type": "code",
   "execution_count": 29,
   "id": "d46bd8a9-3a8c-454c-949e-3d7e6a23d12a",
   "metadata": {
    "tags": []
   },
   "outputs": [
    {
     "data": {
      "text/plain": [
       "region  sector                                             \n",
       "AT      Cultivation of paddy rice                              0.000000\n",
       "        Cultivation of wheat                                   0.279717\n",
       "        Cultivation of cereal grains nec                       0.152510\n",
       "        Cultivation of vegetables, fruit, nuts                 0.061252\n",
       "        Cultivation of oil seeds                               0.107864\n",
       "                                                                 ...   \n",
       "WM      Activities of membership organisation n.e.c. (91)      0.085588\n",
       "        Recreational, cultural and sporting activities (92)    0.042228\n",
       "        Other service activities (93)                          0.156251\n",
       "        Private households with employed persons (95)          0.182767\n",
       "        Extra-territorial organizations and bodies             0.000000\n",
       "Name: CO2, Length: 7987, dtype: float64"
      ]
     },
     "execution_count": 29,
     "metadata": {},
     "output_type": "execute_result"
    }
   ],
   "source": [
    "io39.satellite.S.iloc[15]"
   ]
  },
  {
   "cell_type": "code",
   "execution_count": 30,
   "id": "c728b436-55d8-48a9-a33d-0ad8c53f7705",
   "metadata": {
    "tags": []
   },
   "outputs": [
    {
     "data": {
      "text/plain": [
       "region  sector                                             \n",
       "AT      Cultivation of paddy rice                                   0.000000\n",
       "        Cultivation of wheat                                   631799.002656\n",
       "        Cultivation of cereal grains nec                       261081.166377\n",
       "        Cultivation of vegetables, fruit, nuts                  63322.120128\n",
       "        Cultivation of oil seeds                               279931.683289\n",
       "                                                                   ...      \n",
       "WM      Activities of membership organisation n.e.c. (91)       12239.478385\n",
       "        Recreational, cultural and sporting activities (92)      9705.666463\n",
       "        Other service activities (93)                           12373.155200\n",
       "        Private households with employed persons (95)            9972.086685\n",
       "        Extra-territorial organizations and bodies                  0.000000\n",
       "Name: CO2 - combustion - air, Length: 7987, dtype: float64"
      ]
     },
     "execution_count": 30,
     "metadata": {},
     "output_type": "execute_result"
    }
   ],
   "source": [
    "io38.satellite.S.iloc[23]"
   ]
  },
  {
   "cell_type": "code",
   "execution_count": 31,
   "id": "9c8789ee-fdae-42c7-bf88-adbfda2418c4",
   "metadata": {
    "tags": []
   },
   "outputs": [
    {
     "data": {
      "text/html": [
       "<div>\n",
       "<style scoped>\n",
       "    .dataframe tbody tr th:only-of-type {\n",
       "        vertical-align: middle;\n",
       "    }\n",
       "\n",
       "    .dataframe tbody tr th {\n",
       "        vertical-align: top;\n",
       "    }\n",
       "\n",
       "    .dataframe thead tr th {\n",
       "        text-align: left;\n",
       "    }\n",
       "\n",
       "    .dataframe thead tr:last-of-type th {\n",
       "        text-align: right;\n",
       "    }\n",
       "</style>\n",
       "<table border=\"1\" class=\"dataframe\">\n",
       "  <thead>\n",
       "    <tr>\n",
       "      <th>region</th>\n",
       "      <th colspan=\"10\" halign=\"left\">AT</th>\n",
       "      <th>...</th>\n",
       "      <th colspan=\"10\" halign=\"left\">WM</th>\n",
       "    </tr>\n",
       "    <tr>\n",
       "      <th>sector</th>\n",
       "      <th>Cultivation of paddy rice</th>\n",
       "      <th>Cultivation of wheat</th>\n",
       "      <th>Cultivation of cereal grains nec</th>\n",
       "      <th>Cultivation of vegetables, fruit, nuts</th>\n",
       "      <th>Cultivation of oil seeds</th>\n",
       "      <th>Cultivation of sugar cane, sugar beet</th>\n",
       "      <th>Cultivation of plant-based fibers</th>\n",
       "      <th>Cultivation of crops nec</th>\n",
       "      <th>Cattle farming</th>\n",
       "      <th>Pigs farming</th>\n",
       "      <th>...</th>\n",
       "      <th>Landfill of waste: Paper</th>\n",
       "      <th>Landfill of waste: Plastic</th>\n",
       "      <th>Landfill of waste: Inert/metal/hazardous</th>\n",
       "      <th>Landfill of waste: Textiles</th>\n",
       "      <th>Landfill of waste: Wood</th>\n",
       "      <th>Activities of membership organisation n.e.c. (91)</th>\n",
       "      <th>Recreational, cultural and sporting activities (92)</th>\n",
       "      <th>Other service activities (93)</th>\n",
       "      <th>Private households with employed persons (95)</th>\n",
       "      <th>Extra-territorial organizations and bodies</th>\n",
       "    </tr>\n",
       "    <tr>\n",
       "      <th>stressor</th>\n",
       "      <th></th>\n",
       "      <th></th>\n",
       "      <th></th>\n",
       "      <th></th>\n",
       "      <th></th>\n",
       "      <th></th>\n",
       "      <th></th>\n",
       "      <th></th>\n",
       "      <th></th>\n",
       "      <th></th>\n",
       "      <th></th>\n",
       "      <th></th>\n",
       "      <th></th>\n",
       "      <th></th>\n",
       "      <th></th>\n",
       "      <th></th>\n",
       "      <th></th>\n",
       "      <th></th>\n",
       "      <th></th>\n",
       "      <th></th>\n",
       "      <th></th>\n",
       "    </tr>\n",
       "  </thead>\n",
       "  <tbody>\n",
       "    <tr>\n",
       "      <th>CO2</th>\n",
       "      <td>0.0</td>\n",
       "      <td>0.279717</td>\n",
       "      <td>0.152510</td>\n",
       "      <td>0.061252</td>\n",
       "      <td>0.107864</td>\n",
       "      <td>0.088008</td>\n",
       "      <td>0.004549</td>\n",
       "      <td>0.006396</td>\n",
       "      <td>0.360305</td>\n",
       "      <td>0.056170</td>\n",
       "      <td>...</td>\n",
       "      <td>0.000000</td>\n",
       "      <td>0.000000</td>\n",
       "      <td>0.000000</td>\n",
       "      <td>0.000000</td>\n",
       "      <td>0.000000</td>\n",
       "      <td>0.085588</td>\n",
       "      <td>4.222838e-02</td>\n",
       "      <td>1.562511e-01</td>\n",
       "      <td>0.182767</td>\n",
       "      <td>0.0</td>\n",
       "    </tr>\n",
       "    <tr>\n",
       "      <th>CO2_bio</th>\n",
       "      <td>0.0</td>\n",
       "      <td>0.048304</td>\n",
       "      <td>0.028091</td>\n",
       "      <td>0.073414</td>\n",
       "      <td>0.020755</td>\n",
       "      <td>0.034683</td>\n",
       "      <td>0.000025</td>\n",
       "      <td>0.001632</td>\n",
       "      <td>0.059574</td>\n",
       "      <td>0.063429</td>\n",
       "      <td>...</td>\n",
       "      <td>0.000000</td>\n",
       "      <td>0.000000</td>\n",
       "      <td>0.000000</td>\n",
       "      <td>0.000000</td>\n",
       "      <td>0.000000</td>\n",
       "      <td>0.001399</td>\n",
       "      <td>6.804145e-04</td>\n",
       "      <td>3.430511e-03</td>\n",
       "      <td>0.001530</td>\n",
       "      <td>0.0</td>\n",
       "    </tr>\n",
       "    <tr>\n",
       "      <th>CO2 - non combustion - Cement production - air</th>\n",
       "      <td>0.0</td>\n",
       "      <td>0.000000</td>\n",
       "      <td>0.000000</td>\n",
       "      <td>0.000000</td>\n",
       "      <td>0.000000</td>\n",
       "      <td>0.000000</td>\n",
       "      <td>0.000000</td>\n",
       "      <td>0.000146</td>\n",
       "      <td>0.000000</td>\n",
       "      <td>0.000000</td>\n",
       "      <td>...</td>\n",
       "      <td>140.185676</td>\n",
       "      <td>232.866730</td>\n",
       "      <td>143.803495</td>\n",
       "      <td>783.449477</td>\n",
       "      <td>849.983700</td>\n",
       "      <td>0.001933</td>\n",
       "      <td>4.390874e-10</td>\n",
       "      <td>1.615891e-08</td>\n",
       "      <td>0.000000</td>\n",
       "      <td>0.0</td>\n",
       "    </tr>\n",
       "    <tr>\n",
       "      <th>CO2 - non combustion - Lime production - air</th>\n",
       "      <td>0.0</td>\n",
       "      <td>0.000000</td>\n",
       "      <td>0.000000</td>\n",
       "      <td>0.000000</td>\n",
       "      <td>0.000000</td>\n",
       "      <td>0.000000</td>\n",
       "      <td>0.000000</td>\n",
       "      <td>0.000059</td>\n",
       "      <td>0.000000</td>\n",
       "      <td>0.000000</td>\n",
       "      <td>...</td>\n",
       "      <td>26.025798</td>\n",
       "      <td>43.232252</td>\n",
       "      <td>26.697454</td>\n",
       "      <td>145.449224</td>\n",
       "      <td>157.801457</td>\n",
       "      <td>0.000359</td>\n",
       "      <td>8.151759e-11</td>\n",
       "      <td>2.999940e-09</td>\n",
       "      <td>0.000000</td>\n",
       "      <td>0.0</td>\n",
       "    </tr>\n",
       "    <tr>\n",
       "      <th>CO2 - agriculture - peat decay - air</th>\n",
       "      <td>0.0</td>\n",
       "      <td>0.066802</td>\n",
       "      <td>0.030593</td>\n",
       "      <td>0.004950</td>\n",
       "      <td>0.046364</td>\n",
       "      <td>0.027236</td>\n",
       "      <td>0.045486</td>\n",
       "      <td>0.004987</td>\n",
       "      <td>0.059028</td>\n",
       "      <td>0.000000</td>\n",
       "      <td>...</td>\n",
       "      <td>0.000000</td>\n",
       "      <td>0.000000</td>\n",
       "      <td>0.000000</td>\n",
       "      <td>0.000000</td>\n",
       "      <td>0.000000</td>\n",
       "      <td>0.000000</td>\n",
       "      <td>0.000000e+00</td>\n",
       "      <td>0.000000e+00</td>\n",
       "      <td>0.000000</td>\n",
       "      <td>0.0</td>\n",
       "    </tr>\n",
       "    <tr>\n",
       "      <th>CO2 - waste - biogenic - air</th>\n",
       "      <td>0.0</td>\n",
       "      <td>0.000000</td>\n",
       "      <td>0.000000</td>\n",
       "      <td>0.000000</td>\n",
       "      <td>0.000000</td>\n",
       "      <td>0.000000</td>\n",
       "      <td>0.000000</td>\n",
       "      <td>0.000000</td>\n",
       "      <td>0.000000</td>\n",
       "      <td>0.000000</td>\n",
       "      <td>...</td>\n",
       "      <td>0.290796</td>\n",
       "      <td>0.000000</td>\n",
       "      <td>0.000000</td>\n",
       "      <td>0.000000</td>\n",
       "      <td>0.000000</td>\n",
       "      <td>0.000000</td>\n",
       "      <td>0.000000e+00</td>\n",
       "      <td>0.000000e+00</td>\n",
       "      <td>0.000000</td>\n",
       "      <td>0.0</td>\n",
       "    </tr>\n",
       "    <tr>\n",
       "      <th>CO2 - waste - fossil - air</th>\n",
       "      <td>0.0</td>\n",
       "      <td>0.000000</td>\n",
       "      <td>0.000000</td>\n",
       "      <td>0.000000</td>\n",
       "      <td>0.000000</td>\n",
       "      <td>0.000000</td>\n",
       "      <td>0.000000</td>\n",
       "      <td>0.000000</td>\n",
       "      <td>0.000000</td>\n",
       "      <td>0.000000</td>\n",
       "      <td>...</td>\n",
       "      <td>0.000000</td>\n",
       "      <td>0.020813</td>\n",
       "      <td>0.004621</td>\n",
       "      <td>0.240208</td>\n",
       "      <td>0.000000</td>\n",
       "      <td>0.000000</td>\n",
       "      <td>0.000000e+00</td>\n",
       "      <td>0.000000e+00</td>\n",
       "      <td>0.000000</td>\n",
       "      <td>0.0</td>\n",
       "    </tr>\n",
       "  </tbody>\n",
       "</table>\n",
       "<p>7 rows × 7987 columns</p>\n",
       "</div>"
      ],
      "text/plain": [
       "region                                                                AT  \\\n",
       "sector                                         Cultivation of paddy rice   \n",
       "stressor                                                                   \n",
       "CO2                                                                  0.0   \n",
       "CO2_bio                                                              0.0   \n",
       "CO2 - non combustion - Cement production - air                       0.0   \n",
       "CO2 - non combustion - Lime production - air                         0.0   \n",
       "CO2 - agriculture - peat decay - air                                 0.0   \n",
       "CO2 - waste - biogenic - air                                         0.0   \n",
       "CO2 - waste - fossil - air                                           0.0   \n",
       "\n",
       "region                                                               \\\n",
       "sector                                         Cultivation of wheat   \n",
       "stressor                                                              \n",
       "CO2                                                        0.279717   \n",
       "CO2_bio                                                    0.048304   \n",
       "CO2 - non combustion - Cement production - air             0.000000   \n",
       "CO2 - non combustion - Lime production - air               0.000000   \n",
       "CO2 - agriculture - peat decay - air                       0.066802   \n",
       "CO2 - waste - biogenic - air                               0.000000   \n",
       "CO2 - waste - fossil - air                                 0.000000   \n",
       "\n",
       "region                                                                           \\\n",
       "sector                                         Cultivation of cereal grains nec   \n",
       "stressor                                                                          \n",
       "CO2                                                                    0.152510   \n",
       "CO2_bio                                                                0.028091   \n",
       "CO2 - non combustion - Cement production - air                         0.000000   \n",
       "CO2 - non combustion - Lime production - air                           0.000000   \n",
       "CO2 - agriculture - peat decay - air                                   0.030593   \n",
       "CO2 - waste - biogenic - air                                           0.000000   \n",
       "CO2 - waste - fossil - air                                             0.000000   \n",
       "\n",
       "region                                                                                 \\\n",
       "sector                                         Cultivation of vegetables, fruit, nuts   \n",
       "stressor                                                                                \n",
       "CO2                                                                          0.061252   \n",
       "CO2_bio                                                                      0.073414   \n",
       "CO2 - non combustion - Cement production - air                               0.000000   \n",
       "CO2 - non combustion - Lime production - air                                 0.000000   \n",
       "CO2 - agriculture - peat decay - air                                         0.004950   \n",
       "CO2 - waste - biogenic - air                                                 0.000000   \n",
       "CO2 - waste - fossil - air                                                   0.000000   \n",
       "\n",
       "region                                                                   \\\n",
       "sector                                         Cultivation of oil seeds   \n",
       "stressor                                                                  \n",
       "CO2                                                            0.107864   \n",
       "CO2_bio                                                        0.020755   \n",
       "CO2 - non combustion - Cement production - air                 0.000000   \n",
       "CO2 - non combustion - Lime production - air                   0.000000   \n",
       "CO2 - agriculture - peat decay - air                           0.046364   \n",
       "CO2 - waste - biogenic - air                                   0.000000   \n",
       "CO2 - waste - fossil - air                                     0.000000   \n",
       "\n",
       "region                                                                                \\\n",
       "sector                                         Cultivation of sugar cane, sugar beet   \n",
       "stressor                                                                               \n",
       "CO2                                                                         0.088008   \n",
       "CO2_bio                                                                     0.034683   \n",
       "CO2 - non combustion - Cement production - air                              0.000000   \n",
       "CO2 - non combustion - Lime production - air                                0.000000   \n",
       "CO2 - agriculture - peat decay - air                                        0.027236   \n",
       "CO2 - waste - biogenic - air                                                0.000000   \n",
       "CO2 - waste - fossil - air                                                  0.000000   \n",
       "\n",
       "region                                                                            \\\n",
       "sector                                         Cultivation of plant-based fibers   \n",
       "stressor                                                                           \n",
       "CO2                                                                     0.004549   \n",
       "CO2_bio                                                                 0.000025   \n",
       "CO2 - non combustion - Cement production - air                          0.000000   \n",
       "CO2 - non combustion - Lime production - air                            0.000000   \n",
       "CO2 - agriculture - peat decay - air                                    0.045486   \n",
       "CO2 - waste - biogenic - air                                            0.000000   \n",
       "CO2 - waste - fossil - air                                              0.000000   \n",
       "\n",
       "region                                                                   \\\n",
       "sector                                         Cultivation of crops nec   \n",
       "stressor                                                                  \n",
       "CO2                                                            0.006396   \n",
       "CO2_bio                                                        0.001632   \n",
       "CO2 - non combustion - Cement production - air                 0.000146   \n",
       "CO2 - non combustion - Lime production - air                   0.000059   \n",
       "CO2 - agriculture - peat decay - air                           0.004987   \n",
       "CO2 - waste - biogenic - air                                   0.000000   \n",
       "CO2 - waste - fossil - air                                     0.000000   \n",
       "\n",
       "region                                                                      \\\n",
       "sector                                         Cattle farming Pigs farming   \n",
       "stressor                                                                     \n",
       "CO2                                                  0.360305     0.056170   \n",
       "CO2_bio                                              0.059574     0.063429   \n",
       "CO2 - non combustion - Cement production - air       0.000000     0.000000   \n",
       "CO2 - non combustion - Lime production - air         0.000000     0.000000   \n",
       "CO2 - agriculture - peat decay - air                 0.059028     0.000000   \n",
       "CO2 - waste - biogenic - air                         0.000000     0.000000   \n",
       "CO2 - waste - fossil - air                           0.000000     0.000000   \n",
       "\n",
       "region                                          ...                       WM  \\\n",
       "sector                                          ... Landfill of waste: Paper   \n",
       "stressor                                        ...                            \n",
       "CO2                                             ...                 0.000000   \n",
       "CO2_bio                                         ...                 0.000000   \n",
       "CO2 - non combustion - Cement production - air  ...               140.185676   \n",
       "CO2 - non combustion - Lime production - air    ...                26.025798   \n",
       "CO2 - agriculture - peat decay - air            ...                 0.000000   \n",
       "CO2 - waste - biogenic - air                    ...                 0.290796   \n",
       "CO2 - waste - fossil - air                      ...                 0.000000   \n",
       "\n",
       "region                                                                     \\\n",
       "sector                                         Landfill of waste: Plastic   \n",
       "stressor                                                                    \n",
       "CO2                                                              0.000000   \n",
       "CO2_bio                                                          0.000000   \n",
       "CO2 - non combustion - Cement production - air                 232.866730   \n",
       "CO2 - non combustion - Lime production - air                    43.232252   \n",
       "CO2 - agriculture - peat decay - air                             0.000000   \n",
       "CO2 - waste - biogenic - air                                     0.000000   \n",
       "CO2 - waste - fossil - air                                       0.020813   \n",
       "\n",
       "region                                                                                   \\\n",
       "sector                                         Landfill of waste: Inert/metal/hazardous   \n",
       "stressor                                                                                  \n",
       "CO2                                                                            0.000000   \n",
       "CO2_bio                                                                        0.000000   \n",
       "CO2 - non combustion - Cement production - air                               143.803495   \n",
       "CO2 - non combustion - Lime production - air                                  26.697454   \n",
       "CO2 - agriculture - peat decay - air                                           0.000000   \n",
       "CO2 - waste - biogenic - air                                                   0.000000   \n",
       "CO2 - waste - fossil - air                                                     0.004621   \n",
       "\n",
       "region                                                                      \\\n",
       "sector                                         Landfill of waste: Textiles   \n",
       "stressor                                                                     \n",
       "CO2                                                               0.000000   \n",
       "CO2_bio                                                           0.000000   \n",
       "CO2 - non combustion - Cement production - air                  783.449477   \n",
       "CO2 - non combustion - Lime production - air                    145.449224   \n",
       "CO2 - agriculture - peat decay - air                              0.000000   \n",
       "CO2 - waste - biogenic - air                                      0.000000   \n",
       "CO2 - waste - fossil - air                                        0.240208   \n",
       "\n",
       "region                                                                  \\\n",
       "sector                                         Landfill of waste: Wood   \n",
       "stressor                                                                 \n",
       "CO2                                                           0.000000   \n",
       "CO2_bio                                                       0.000000   \n",
       "CO2 - non combustion - Cement production - air              849.983700   \n",
       "CO2 - non combustion - Lime production - air                157.801457   \n",
       "CO2 - agriculture - peat decay - air                          0.000000   \n",
       "CO2 - waste - biogenic - air                                  0.000000   \n",
       "CO2 - waste - fossil - air                                    0.000000   \n",
       "\n",
       "region                                                                                            \\\n",
       "sector                                         Activities of membership organisation n.e.c. (91)   \n",
       "stressor                                                                                           \n",
       "CO2                                                                                     0.085588   \n",
       "CO2_bio                                                                                 0.001399   \n",
       "CO2 - non combustion - Cement production - air                                          0.001933   \n",
       "CO2 - non combustion - Lime production - air                                            0.000359   \n",
       "CO2 - agriculture - peat decay - air                                                    0.000000   \n",
       "CO2 - waste - biogenic - air                                                            0.000000   \n",
       "CO2 - waste - fossil - air                                                              0.000000   \n",
       "\n",
       "region                                                                                              \\\n",
       "sector                                         Recreational, cultural and sporting activities (92)   \n",
       "stressor                                                                                             \n",
       "CO2                                                                                  4.222838e-02    \n",
       "CO2_bio                                                                              6.804145e-04    \n",
       "CO2 - non combustion - Cement production - air                                       4.390874e-10    \n",
       "CO2 - non combustion - Lime production - air                                         8.151759e-11    \n",
       "CO2 - agriculture - peat decay - air                                                 0.000000e+00    \n",
       "CO2 - waste - biogenic - air                                                         0.000000e+00    \n",
       "CO2 - waste - fossil - air                                                           0.000000e+00    \n",
       "\n",
       "region                                                                        \\\n",
       "sector                                         Other service activities (93)   \n",
       "stressor                                                                       \n",
       "CO2                                                             1.562511e-01   \n",
       "CO2_bio                                                         3.430511e-03   \n",
       "CO2 - non combustion - Cement production - air                  1.615891e-08   \n",
       "CO2 - non combustion - Lime production - air                    2.999940e-09   \n",
       "CO2 - agriculture - peat decay - air                            0.000000e+00   \n",
       "CO2 - waste - biogenic - air                                    0.000000e+00   \n",
       "CO2 - waste - fossil - air                                      0.000000e+00   \n",
       "\n",
       "region                                                                                        \\\n",
       "sector                                         Private households with employed persons (95)   \n",
       "stressor                                                                                       \n",
       "CO2                                                                                 0.182767   \n",
       "CO2_bio                                                                             0.001530   \n",
       "CO2 - non combustion - Cement production - air                                      0.000000   \n",
       "CO2 - non combustion - Lime production - air                                        0.000000   \n",
       "CO2 - agriculture - peat decay - air                                                0.000000   \n",
       "CO2 - waste - biogenic - air                                                        0.000000   \n",
       "CO2 - waste - fossil - air                                                          0.000000   \n",
       "\n",
       "region                                                                                     \n",
       "sector                                         Extra-territorial organizations and bodies  \n",
       "stressor                                                                                   \n",
       "CO2                                                                                   0.0  \n",
       "CO2_bio                                                                               0.0  \n",
       "CO2 - non combustion - Cement production - air                                        0.0  \n",
       "CO2 - non combustion - Lime production - air                                          0.0  \n",
       "CO2 - agriculture - peat decay - air                                                  0.0  \n",
       "CO2 - waste - biogenic - air                                                          0.0  \n",
       "CO2 - waste - fossil - air                                                            0.0  \n",
       "\n",
       "[7 rows x 7987 columns]"
      ]
     },
     "execution_count": 31,
     "metadata": {},
     "output_type": "execute_result"
    }
   ],
   "source": [
    "io39.satellite.S[io39.satellite.S.index.str.contains('CO2')]"
   ]
  },
  {
   "cell_type": "markdown",
   "id": "598bbe60-7e19-4b38-9044-2a5436b2dab9",
   "metadata": {},
   "source": [
    "### Characterized impacts extension"
   ]
  },
  {
   "cell_type": "code",
   "execution_count": 32,
   "id": "1c525048-6691-47e2-b0bd-fc99bf47a9ae",
   "metadata": {
    "tags": []
   },
   "outputs": [],
   "source": [
    "io39.impacts = mr.Extension('impacts')"
   ]
  },
  {
   "cell_type": "code",
   "execution_count": 33,
   "id": "faee64c2-7105-4846-b6aa-b31981755179",
   "metadata": {
    "tags": []
   },
   "outputs": [],
   "source": [
    "io39.impacts.F  = C_all.T.dot(io39.satellite.F)\n",
    "io39.impacts.FY = C_all.T.dot(io39.satellite.FY)"
   ]
  },
  {
   "cell_type": "code",
   "execution_count": 34,
   "id": "c8d6c4c5-a96e-44a1-9656-715f42e5d2f5",
   "metadata": {
    "tags": []
   },
   "outputs": [
    {
     "data": {
      "text/html": [
       "<div>\n",
       "<style scoped>\n",
       "    .dataframe tbody tr th:only-of-type {\n",
       "        vertical-align: middle;\n",
       "    }\n",
       "\n",
       "    .dataframe tbody tr th {\n",
       "        vertical-align: top;\n",
       "    }\n",
       "\n",
       "    .dataframe thead tr th {\n",
       "        text-align: left;\n",
       "    }\n",
       "\n",
       "    .dataframe thead tr:last-of-type th {\n",
       "        text-align: right;\n",
       "    }\n",
       "</style>\n",
       "<table border=\"1\" class=\"dataframe\">\n",
       "  <thead>\n",
       "    <tr>\n",
       "      <th></th>\n",
       "      <th></th>\n",
       "      <th></th>\n",
       "      <th>region</th>\n",
       "      <th colspan=\"7\" halign=\"left\">AT</th>\n",
       "      <th colspan=\"3\" halign=\"left\">BE</th>\n",
       "      <th>...</th>\n",
       "      <th colspan=\"3\" halign=\"left\">WF</th>\n",
       "      <th colspan=\"7\" halign=\"left\">WM</th>\n",
       "    </tr>\n",
       "    <tr>\n",
       "      <th></th>\n",
       "      <th></th>\n",
       "      <th></th>\n",
       "      <th>category</th>\n",
       "      <th>Final consumption expenditure by households</th>\n",
       "      <th>Final consumption expenditure by non-profit organisations serving households (NPISH)</th>\n",
       "      <th>Final consumption expenditure by government</th>\n",
       "      <th>Gross fixed capital formation</th>\n",
       "      <th>Changes in inventories</th>\n",
       "      <th>Changes in valuables</th>\n",
       "      <th>Exports: Total (fob)</th>\n",
       "      <th>Final consumption expenditure by households</th>\n",
       "      <th>Final consumption expenditure by non-profit organisations serving households (NPISH)</th>\n",
       "      <th>Final consumption expenditure by government</th>\n",
       "      <th>...</th>\n",
       "      <th>Changes in inventories</th>\n",
       "      <th>Changes in valuables</th>\n",
       "      <th>Exports: Total (fob)</th>\n",
       "      <th>Final consumption expenditure by households</th>\n",
       "      <th>Final consumption expenditure by non-profit organisations serving households (NPISH)</th>\n",
       "      <th>Final consumption expenditure by government</th>\n",
       "      <th>Gross fixed capital formation</th>\n",
       "      <th>Changes in inventories</th>\n",
       "      <th>Changes in valuables</th>\n",
       "      <th>Exports: Total (fob)</th>\n",
       "    </tr>\n",
       "    <tr>\n",
       "      <th>stressor</th>\n",
       "      <th>unit</th>\n",
       "      <th>comment</th>\n",
       "      <th>source</th>\n",
       "      <th></th>\n",
       "      <th></th>\n",
       "      <th></th>\n",
       "      <th></th>\n",
       "      <th></th>\n",
       "      <th></th>\n",
       "      <th></th>\n",
       "      <th></th>\n",
       "      <th></th>\n",
       "      <th></th>\n",
       "      <th></th>\n",
       "      <th></th>\n",
       "      <th></th>\n",
       "      <th></th>\n",
       "      <th></th>\n",
       "      <th></th>\n",
       "      <th></th>\n",
       "      <th></th>\n",
       "      <th></th>\n",
       "      <th></th>\n",
       "      <th></th>\n",
       "    </tr>\n",
       "  </thead>\n",
       "  <tbody>\n",
       "    <tr>\n",
       "      <th>Value Added</th>\n",
       "      <th>M.EUR</th>\n",
       "      <th></th>\n",
       "      <th></th>\n",
       "      <td>0.000000</td>\n",
       "      <td>0.0</td>\n",
       "      <td>0.000000</td>\n",
       "      <td>0.0</td>\n",
       "      <td>0.000000e+00</td>\n",
       "      <td>0.0</td>\n",
       "      <td>0.0</td>\n",
       "      <td>0.000000</td>\n",
       "      <td>0.0</td>\n",
       "      <td>0.000000</td>\n",
       "      <td>...</td>\n",
       "      <td>0.0</td>\n",
       "      <td>0.0</td>\n",
       "      <td>0.0</td>\n",
       "      <td>0.000000</td>\n",
       "      <td>0.000000e+00</td>\n",
       "      <td>0.000000</td>\n",
       "      <td>0.0</td>\n",
       "      <td>0.0</td>\n",
       "      <td>0.0</td>\n",
       "      <td>0.0</td>\n",
       "    </tr>\n",
       "    <tr>\n",
       "      <th>Employment</th>\n",
       "      <th>1000 p.</th>\n",
       "      <th></th>\n",
       "      <th></th>\n",
       "      <td>0.000000</td>\n",
       "      <td>0.0</td>\n",
       "      <td>0.000000</td>\n",
       "      <td>0.0</td>\n",
       "      <td>0.000000e+00</td>\n",
       "      <td>0.0</td>\n",
       "      <td>0.0</td>\n",
       "      <td>0.000000</td>\n",
       "      <td>0.0</td>\n",
       "      <td>0.000000</td>\n",
       "      <td>...</td>\n",
       "      <td>0.0</td>\n",
       "      <td>0.0</td>\n",
       "      <td>0.0</td>\n",
       "      <td>0.000000</td>\n",
       "      <td>0.000000e+00</td>\n",
       "      <td>0.000000</td>\n",
       "      <td>0.0</td>\n",
       "      <td>0.0</td>\n",
       "      <td>0.0</td>\n",
       "      <td>0.0</td>\n",
       "    </tr>\n",
       "    <tr>\n",
       "      <th>Employment hour</th>\n",
       "      <th>hr</th>\n",
       "      <th></th>\n",
       "      <th></th>\n",
       "      <td>0.000000</td>\n",
       "      <td>0.0</td>\n",
       "      <td>0.000000</td>\n",
       "      <td>0.0</td>\n",
       "      <td>0.000000e+00</td>\n",
       "      <td>0.0</td>\n",
       "      <td>0.0</td>\n",
       "      <td>0.000000</td>\n",
       "      <td>0.0</td>\n",
       "      <td>0.000000</td>\n",
       "      <td>...</td>\n",
       "      <td>0.0</td>\n",
       "      <td>0.0</td>\n",
       "      <td>0.0</td>\n",
       "      <td>0.000000</td>\n",
       "      <td>0.000000e+00</td>\n",
       "      <td>0.000000</td>\n",
       "      <td>0.0</td>\n",
       "      <td>0.0</td>\n",
       "      <td>0.0</td>\n",
       "      <td>0.0</td>\n",
       "    </tr>\n",
       "    <tr>\n",
       "      <th>Total Emission relevant energy use</th>\n",
       "      <th>TJ</th>\n",
       "      <th></th>\n",
       "      <th></th>\n",
       "      <td>0.000000</td>\n",
       "      <td>0.0</td>\n",
       "      <td>0.000000</td>\n",
       "      <td>0.0</td>\n",
       "      <td>0.000000e+00</td>\n",
       "      <td>0.0</td>\n",
       "      <td>0.0</td>\n",
       "      <td>0.000000</td>\n",
       "      <td>0.0</td>\n",
       "      <td>0.000000</td>\n",
       "      <td>...</td>\n",
       "      <td>0.0</td>\n",
       "      <td>0.0</td>\n",
       "      <td>0.0</td>\n",
       "      <td>0.000000</td>\n",
       "      <td>0.000000e+00</td>\n",
       "      <td>0.000000</td>\n",
       "      <td>0.0</td>\n",
       "      <td>0.0</td>\n",
       "      <td>0.0</td>\n",
       "      <td>0.0</td>\n",
       "    </tr>\n",
       "    <tr>\n",
       "      <th>Carbon dioxide (CO2) IPCC categories 1 to 4 and 6 to 7 (excl land use, land use change and forestry)</th>\n",
       "      <th>Gg</th>\n",
       "      <th></th>\n",
       "      <th></th>\n",
       "      <td>0.018515</td>\n",
       "      <td>0.0</td>\n",
       "      <td>0.000175</td>\n",
       "      <td>0.0</td>\n",
       "      <td>4.518248e-09</td>\n",
       "      <td>0.0</td>\n",
       "      <td>0.0</td>\n",
       "      <td>0.025884</td>\n",
       "      <td>0.0</td>\n",
       "      <td>0.000008</td>\n",
       "      <td>...</td>\n",
       "      <td>0.0</td>\n",
       "      <td>0.0</td>\n",
       "      <td>0.0</td>\n",
       "      <td>0.322291</td>\n",
       "      <td>8.513818e-08</td>\n",
       "      <td>0.000155</td>\n",
       "      <td>0.0</td>\n",
       "      <td>0.0</td>\n",
       "      <td>0.0</td>\n",
       "      <td>0.0</td>\n",
       "    </tr>\n",
       "    <tr>\n",
       "      <th>...</th>\n",
       "      <th>...</th>\n",
       "      <th>...</th>\n",
       "      <th>...</th>\n",
       "      <td>...</td>\n",
       "      <td>...</td>\n",
       "      <td>...</td>\n",
       "      <td>...</td>\n",
       "      <td>...</td>\n",
       "      <td>...</td>\n",
       "      <td>...</td>\n",
       "      <td>...</td>\n",
       "      <td>...</td>\n",
       "      <td>...</td>\n",
       "      <td>...</td>\n",
       "      <td>...</td>\n",
       "      <td>...</td>\n",
       "      <td>...</td>\n",
       "      <td>...</td>\n",
       "      <td>...</td>\n",
       "      <td>...</td>\n",
       "      <td>...</td>\n",
       "      <td>...</td>\n",
       "      <td>...</td>\n",
       "      <td>...</td>\n",
       "    </tr>\n",
       "    <tr>\n",
       "      <th rowspan=\"5\" valign=\"top\">currently blank</th>\n",
       "      <th rowspan=\"5\" valign=\"top\">no_unit</th>\n",
       "      <th rowspan=\"5\" valign=\"top\"></th>\n",
       "      <th>.244</th>\n",
       "      <td>0.000000</td>\n",
       "      <td>0.0</td>\n",
       "      <td>0.000000</td>\n",
       "      <td>0.0</td>\n",
       "      <td>0.000000e+00</td>\n",
       "      <td>0.0</td>\n",
       "      <td>0.0</td>\n",
       "      <td>0.000000</td>\n",
       "      <td>0.0</td>\n",
       "      <td>0.000000</td>\n",
       "      <td>...</td>\n",
       "      <td>0.0</td>\n",
       "      <td>0.0</td>\n",
       "      <td>0.0</td>\n",
       "      <td>0.000000</td>\n",
       "      <td>0.000000e+00</td>\n",
       "      <td>0.000000</td>\n",
       "      <td>0.0</td>\n",
       "      <td>0.0</td>\n",
       "      <td>0.0</td>\n",
       "      <td>0.0</td>\n",
       "    </tr>\n",
       "    <tr>\n",
       "      <th>.245</th>\n",
       "      <td>0.000000</td>\n",
       "      <td>0.0</td>\n",
       "      <td>0.000000</td>\n",
       "      <td>0.0</td>\n",
       "      <td>0.000000e+00</td>\n",
       "      <td>0.0</td>\n",
       "      <td>0.0</td>\n",
       "      <td>0.000000</td>\n",
       "      <td>0.0</td>\n",
       "      <td>0.000000</td>\n",
       "      <td>...</td>\n",
       "      <td>0.0</td>\n",
       "      <td>0.0</td>\n",
       "      <td>0.0</td>\n",
       "      <td>0.000000</td>\n",
       "      <td>0.000000e+00</td>\n",
       "      <td>0.000000</td>\n",
       "      <td>0.0</td>\n",
       "      <td>0.0</td>\n",
       "      <td>0.0</td>\n",
       "      <td>0.0</td>\n",
       "    </tr>\n",
       "    <tr>\n",
       "      <th>.246</th>\n",
       "      <td>0.000000</td>\n",
       "      <td>0.0</td>\n",
       "      <td>0.000000</td>\n",
       "      <td>0.0</td>\n",
       "      <td>0.000000e+00</td>\n",
       "      <td>0.0</td>\n",
       "      <td>0.0</td>\n",
       "      <td>0.000000</td>\n",
       "      <td>0.0</td>\n",
       "      <td>0.000000</td>\n",
       "      <td>...</td>\n",
       "      <td>0.0</td>\n",
       "      <td>0.0</td>\n",
       "      <td>0.0</td>\n",
       "      <td>0.000000</td>\n",
       "      <td>0.000000e+00</td>\n",
       "      <td>0.000000</td>\n",
       "      <td>0.0</td>\n",
       "      <td>0.0</td>\n",
       "      <td>0.0</td>\n",
       "      <td>0.0</td>\n",
       "    </tr>\n",
       "    <tr>\n",
       "      <th>.247</th>\n",
       "      <td>0.000000</td>\n",
       "      <td>0.0</td>\n",
       "      <td>0.000000</td>\n",
       "      <td>0.0</td>\n",
       "      <td>0.000000e+00</td>\n",
       "      <td>0.0</td>\n",
       "      <td>0.0</td>\n",
       "      <td>0.000000</td>\n",
       "      <td>0.0</td>\n",
       "      <td>0.000000</td>\n",
       "      <td>...</td>\n",
       "      <td>0.0</td>\n",
       "      <td>0.0</td>\n",
       "      <td>0.0</td>\n",
       "      <td>0.000000</td>\n",
       "      <td>0.000000e+00</td>\n",
       "      <td>0.000000</td>\n",
       "      <td>0.0</td>\n",
       "      <td>0.0</td>\n",
       "      <td>0.0</td>\n",
       "      <td>0.0</td>\n",
       "    </tr>\n",
       "    <tr>\n",
       "      <th>.248</th>\n",
       "      <td>0.000000</td>\n",
       "      <td>0.0</td>\n",
       "      <td>0.000000</td>\n",
       "      <td>0.0</td>\n",
       "      <td>0.000000e+00</td>\n",
       "      <td>0.0</td>\n",
       "      <td>0.0</td>\n",
       "      <td>0.000000</td>\n",
       "      <td>0.0</td>\n",
       "      <td>0.000000</td>\n",
       "      <td>...</td>\n",
       "      <td>0.0</td>\n",
       "      <td>0.0</td>\n",
       "      <td>0.0</td>\n",
       "      <td>0.000000</td>\n",
       "      <td>0.000000e+00</td>\n",
       "      <td>0.000000</td>\n",
       "      <td>0.0</td>\n",
       "      <td>0.0</td>\n",
       "      <td>0.0</td>\n",
       "      <td>0.0</td>\n",
       "    </tr>\n",
       "  </tbody>\n",
       "</table>\n",
       "<p>499 rows × 343 columns</p>\n",
       "</div>"
      ],
      "text/plain": [
       "region                                                                                                             AT  \\\n",
       "category                                                                  Final consumption expenditure by households   \n",
       "stressor                                           unit    comment source                                               \n",
       "Value Added                                        M.EUR                                                     0.000000   \n",
       "Employment                                         1000 p.                                                   0.000000   \n",
       "Employment hour                                    hr                                                        0.000000   \n",
       "Total Emission relevant energy use                 TJ                                                        0.000000   \n",
       "Carbon dioxide (CO2) IPCC categories 1 to 4 and... Gg                                                        0.018515   \n",
       "...                                                                                                               ...   \n",
       "currently blank                                    no_unit         .244                                      0.000000   \n",
       "                                                                   .245                                      0.000000   \n",
       "                                                                   .246                                      0.000000   \n",
       "                                                                   .247                                      0.000000   \n",
       "                                                                   .248                                      0.000000   \n",
       "\n",
       "region                                                                                                                                                          \\\n",
       "category                                                                  Final consumption expenditure by non-profit organisations serving households (NPISH)   \n",
       "stressor                                           unit    comment source                                                                                        \n",
       "Value Added                                        M.EUR                                                                 0.0                                     \n",
       "Employment                                         1000 p.                                                               0.0                                     \n",
       "Employment hour                                    hr                                                                    0.0                                     \n",
       "Total Emission relevant energy use                 TJ                                                                    0.0                                     \n",
       "Carbon dioxide (CO2) IPCC categories 1 to 4 and... Gg                                                                    0.0                                     \n",
       "...                                                                                                                      ...                                     \n",
       "currently blank                                    no_unit         .244                                                  0.0                                     \n",
       "                                                                   .245                                                  0.0                                     \n",
       "                                                                   .246                                                  0.0                                     \n",
       "                                                                   .247                                                  0.0                                     \n",
       "                                                                   .248                                                  0.0                                     \n",
       "\n",
       "region                                                                                                                 \\\n",
       "category                                                                  Final consumption expenditure by government   \n",
       "stressor                                           unit    comment source                                               \n",
       "Value Added                                        M.EUR                                                     0.000000   \n",
       "Employment                                         1000 p.                                                   0.000000   \n",
       "Employment hour                                    hr                                                        0.000000   \n",
       "Total Emission relevant energy use                 TJ                                                        0.000000   \n",
       "Carbon dioxide (CO2) IPCC categories 1 to 4 and... Gg                                                        0.000175   \n",
       "...                                                                                                               ...   \n",
       "currently blank                                    no_unit         .244                                      0.000000   \n",
       "                                                                   .245                                      0.000000   \n",
       "                                                                   .246                                      0.000000   \n",
       "                                                                   .247                                      0.000000   \n",
       "                                                                   .248                                      0.000000   \n",
       "\n",
       "region                                                                                                   \\\n",
       "category                                                                  Gross fixed capital formation   \n",
       "stressor                                           unit    comment source                                 \n",
       "Value Added                                        M.EUR                                            0.0   \n",
       "Employment                                         1000 p.                                          0.0   \n",
       "Employment hour                                    hr                                               0.0   \n",
       "Total Emission relevant energy use                 TJ                                               0.0   \n",
       "Carbon dioxide (CO2) IPCC categories 1 to 4 and... Gg                                               0.0   \n",
       "...                                                                                                 ...   \n",
       "currently blank                                    no_unit         .244                             0.0   \n",
       "                                                                   .245                             0.0   \n",
       "                                                                   .246                             0.0   \n",
       "                                                                   .247                             0.0   \n",
       "                                                                   .248                             0.0   \n",
       "\n",
       "region                                                                                            \\\n",
       "category                                                                  Changes in inventories   \n",
       "stressor                                           unit    comment source                          \n",
       "Value Added                                        M.EUR                            0.000000e+00   \n",
       "Employment                                         1000 p.                          0.000000e+00   \n",
       "Employment hour                                    hr                               0.000000e+00   \n",
       "Total Emission relevant energy use                 TJ                               0.000000e+00   \n",
       "Carbon dioxide (CO2) IPCC categories 1 to 4 and... Gg                               4.518248e-09   \n",
       "...                                                                                          ...   \n",
       "currently blank                                    no_unit         .244             0.000000e+00   \n",
       "                                                                   .245             0.000000e+00   \n",
       "                                                                   .246             0.000000e+00   \n",
       "                                                                   .247             0.000000e+00   \n",
       "                                                                   .248             0.000000e+00   \n",
       "\n",
       "region                                                                                          \\\n",
       "category                                                                  Changes in valuables   \n",
       "stressor                                           unit    comment source                        \n",
       "Value Added                                        M.EUR                                   0.0   \n",
       "Employment                                         1000 p.                                 0.0   \n",
       "Employment hour                                    hr                                      0.0   \n",
       "Total Emission relevant energy use                 TJ                                      0.0   \n",
       "Carbon dioxide (CO2) IPCC categories 1 to 4 and... Gg                                      0.0   \n",
       "...                                                                                        ...   \n",
       "currently blank                                    no_unit         .244                    0.0   \n",
       "                                                                   .245                    0.0   \n",
       "                                                                   .246                    0.0   \n",
       "                                                                   .247                    0.0   \n",
       "                                                                   .248                    0.0   \n",
       "\n",
       "region                                                                                          \\\n",
       "category                                                                  Exports: Total (fob)   \n",
       "stressor                                           unit    comment source                        \n",
       "Value Added                                        M.EUR                                   0.0   \n",
       "Employment                                         1000 p.                                 0.0   \n",
       "Employment hour                                    hr                                      0.0   \n",
       "Total Emission relevant energy use                 TJ                                      0.0   \n",
       "Carbon dioxide (CO2) IPCC categories 1 to 4 and... Gg                                      0.0   \n",
       "...                                                                                        ...   \n",
       "currently blank                                    no_unit         .244                    0.0   \n",
       "                                                                   .245                    0.0   \n",
       "                                                                   .246                    0.0   \n",
       "                                                                   .247                    0.0   \n",
       "                                                                   .248                    0.0   \n",
       "\n",
       "region                                                                                                             BE  \\\n",
       "category                                                                  Final consumption expenditure by households   \n",
       "stressor                                           unit    comment source                                               \n",
       "Value Added                                        M.EUR                                                     0.000000   \n",
       "Employment                                         1000 p.                                                   0.000000   \n",
       "Employment hour                                    hr                                                        0.000000   \n",
       "Total Emission relevant energy use                 TJ                                                        0.000000   \n",
       "Carbon dioxide (CO2) IPCC categories 1 to 4 and... Gg                                                        0.025884   \n",
       "...                                                                                                               ...   \n",
       "currently blank                                    no_unit         .244                                      0.000000   \n",
       "                                                                   .245                                      0.000000   \n",
       "                                                                   .246                                      0.000000   \n",
       "                                                                   .247                                      0.000000   \n",
       "                                                                   .248                                      0.000000   \n",
       "\n",
       "region                                                                                                                                                          \\\n",
       "category                                                                  Final consumption expenditure by non-profit organisations serving households (NPISH)   \n",
       "stressor                                           unit    comment source                                                                                        \n",
       "Value Added                                        M.EUR                                                                 0.0                                     \n",
       "Employment                                         1000 p.                                                               0.0                                     \n",
       "Employment hour                                    hr                                                                    0.0                                     \n",
       "Total Emission relevant energy use                 TJ                                                                    0.0                                     \n",
       "Carbon dioxide (CO2) IPCC categories 1 to 4 and... Gg                                                                    0.0                                     \n",
       "...                                                                                                                      ...                                     \n",
       "currently blank                                    no_unit         .244                                                  0.0                                     \n",
       "                                                                   .245                                                  0.0                                     \n",
       "                                                                   .246                                                  0.0                                     \n",
       "                                                                   .247                                                  0.0                                     \n",
       "                                                                   .248                                                  0.0                                     \n",
       "\n",
       "region                                                                                                                 \\\n",
       "category                                                                  Final consumption expenditure by government   \n",
       "stressor                                           unit    comment source                                               \n",
       "Value Added                                        M.EUR                                                     0.000000   \n",
       "Employment                                         1000 p.                                                   0.000000   \n",
       "Employment hour                                    hr                                                        0.000000   \n",
       "Total Emission relevant energy use                 TJ                                                        0.000000   \n",
       "Carbon dioxide (CO2) IPCC categories 1 to 4 and... Gg                                                        0.000008   \n",
       "...                                                                                                               ...   \n",
       "currently blank                                    no_unit         .244                                      0.000000   \n",
       "                                                                   .245                                      0.000000   \n",
       "                                                                   .246                                      0.000000   \n",
       "                                                                   .247                                      0.000000   \n",
       "                                                                   .248                                      0.000000   \n",
       "\n",
       "region                                                                     ...  \\\n",
       "category                                                                   ...   \n",
       "stressor                                           unit    comment source  ...   \n",
       "Value Added                                        M.EUR                   ...   \n",
       "Employment                                         1000 p.                 ...   \n",
       "Employment hour                                    hr                      ...   \n",
       "Total Emission relevant energy use                 TJ                      ...   \n",
       "Carbon dioxide (CO2) IPCC categories 1 to 4 and... Gg                      ...   \n",
       "...                                                                        ...   \n",
       "currently blank                                    no_unit         .244    ...   \n",
       "                                                                   .245    ...   \n",
       "                                                                   .246    ...   \n",
       "                                                                   .247    ...   \n",
       "                                                                   .248    ...   \n",
       "\n",
       "region                                                                                        WF  \\\n",
       "category                                                                  Changes in inventories   \n",
       "stressor                                           unit    comment source                          \n",
       "Value Added                                        M.EUR                                     0.0   \n",
       "Employment                                         1000 p.                                   0.0   \n",
       "Employment hour                                    hr                                        0.0   \n",
       "Total Emission relevant energy use                 TJ                                        0.0   \n",
       "Carbon dioxide (CO2) IPCC categories 1 to 4 and... Gg                                        0.0   \n",
       "...                                                                                          ...   \n",
       "currently blank                                    no_unit         .244                      0.0   \n",
       "                                                                   .245                      0.0   \n",
       "                                                                   .246                      0.0   \n",
       "                                                                   .247                      0.0   \n",
       "                                                                   .248                      0.0   \n",
       "\n",
       "region                                                                                          \\\n",
       "category                                                                  Changes in valuables   \n",
       "stressor                                           unit    comment source                        \n",
       "Value Added                                        M.EUR                                   0.0   \n",
       "Employment                                         1000 p.                                 0.0   \n",
       "Employment hour                                    hr                                      0.0   \n",
       "Total Emission relevant energy use                 TJ                                      0.0   \n",
       "Carbon dioxide (CO2) IPCC categories 1 to 4 and... Gg                                      0.0   \n",
       "...                                                                                        ...   \n",
       "currently blank                                    no_unit         .244                    0.0   \n",
       "                                                                   .245                    0.0   \n",
       "                                                                   .246                    0.0   \n",
       "                                                                   .247                    0.0   \n",
       "                                                                   .248                    0.0   \n",
       "\n",
       "region                                                                                          \\\n",
       "category                                                                  Exports: Total (fob)   \n",
       "stressor                                           unit    comment source                        \n",
       "Value Added                                        M.EUR                                   0.0   \n",
       "Employment                                         1000 p.                                 0.0   \n",
       "Employment hour                                    hr                                      0.0   \n",
       "Total Emission relevant energy use                 TJ                                      0.0   \n",
       "Carbon dioxide (CO2) IPCC categories 1 to 4 and... Gg                                      0.0   \n",
       "...                                                                                        ...   \n",
       "currently blank                                    no_unit         .244                    0.0   \n",
       "                                                                   .245                    0.0   \n",
       "                                                                   .246                    0.0   \n",
       "                                                                   .247                    0.0   \n",
       "                                                                   .248                    0.0   \n",
       "\n",
       "region                                                                                                             WM  \\\n",
       "category                                                                  Final consumption expenditure by households   \n",
       "stressor                                           unit    comment source                                               \n",
       "Value Added                                        M.EUR                                                     0.000000   \n",
       "Employment                                         1000 p.                                                   0.000000   \n",
       "Employment hour                                    hr                                                        0.000000   \n",
       "Total Emission relevant energy use                 TJ                                                        0.000000   \n",
       "Carbon dioxide (CO2) IPCC categories 1 to 4 and... Gg                                                        0.322291   \n",
       "...                                                                                                               ...   \n",
       "currently blank                                    no_unit         .244                                      0.000000   \n",
       "                                                                   .245                                      0.000000   \n",
       "                                                                   .246                                      0.000000   \n",
       "                                                                   .247                                      0.000000   \n",
       "                                                                   .248                                      0.000000   \n",
       "\n",
       "region                                                                                                                                                          \\\n",
       "category                                                                  Final consumption expenditure by non-profit organisations serving households (NPISH)   \n",
       "stressor                                           unit    comment source                                                                                        \n",
       "Value Added                                        M.EUR                                                        0.000000e+00                                     \n",
       "Employment                                         1000 p.                                                      0.000000e+00                                     \n",
       "Employment hour                                    hr                                                           0.000000e+00                                     \n",
       "Total Emission relevant energy use                 TJ                                                           0.000000e+00                                     \n",
       "Carbon dioxide (CO2) IPCC categories 1 to 4 and... Gg                                                           8.513818e-08                                     \n",
       "...                                                                                                                      ...                                     \n",
       "currently blank                                    no_unit         .244                                         0.000000e+00                                     \n",
       "                                                                   .245                                         0.000000e+00                                     \n",
       "                                                                   .246                                         0.000000e+00                                     \n",
       "                                                                   .247                                         0.000000e+00                                     \n",
       "                                                                   .248                                         0.000000e+00                                     \n",
       "\n",
       "region                                                                                                                 \\\n",
       "category                                                                  Final consumption expenditure by government   \n",
       "stressor                                           unit    comment source                                               \n",
       "Value Added                                        M.EUR                                                     0.000000   \n",
       "Employment                                         1000 p.                                                   0.000000   \n",
       "Employment hour                                    hr                                                        0.000000   \n",
       "Total Emission relevant energy use                 TJ                                                        0.000000   \n",
       "Carbon dioxide (CO2) IPCC categories 1 to 4 and... Gg                                                        0.000155   \n",
       "...                                                                                                               ...   \n",
       "currently blank                                    no_unit         .244                                      0.000000   \n",
       "                                                                   .245                                      0.000000   \n",
       "                                                                   .246                                      0.000000   \n",
       "                                                                   .247                                      0.000000   \n",
       "                                                                   .248                                      0.000000   \n",
       "\n",
       "region                                                                                                   \\\n",
       "category                                                                  Gross fixed capital formation   \n",
       "stressor                                           unit    comment source                                 \n",
       "Value Added                                        M.EUR                                            0.0   \n",
       "Employment                                         1000 p.                                          0.0   \n",
       "Employment hour                                    hr                                               0.0   \n",
       "Total Emission relevant energy use                 TJ                                               0.0   \n",
       "Carbon dioxide (CO2) IPCC categories 1 to 4 and... Gg                                               0.0   \n",
       "...                                                                                                 ...   \n",
       "currently blank                                    no_unit         .244                             0.0   \n",
       "                                                                   .245                             0.0   \n",
       "                                                                   .246                             0.0   \n",
       "                                                                   .247                             0.0   \n",
       "                                                                   .248                             0.0   \n",
       "\n",
       "region                                                                                            \\\n",
       "category                                                                  Changes in inventories   \n",
       "stressor                                           unit    comment source                          \n",
       "Value Added                                        M.EUR                                     0.0   \n",
       "Employment                                         1000 p.                                   0.0   \n",
       "Employment hour                                    hr                                        0.0   \n",
       "Total Emission relevant energy use                 TJ                                        0.0   \n",
       "Carbon dioxide (CO2) IPCC categories 1 to 4 and... Gg                                        0.0   \n",
       "...                                                                                          ...   \n",
       "currently blank                                    no_unit         .244                      0.0   \n",
       "                                                                   .245                      0.0   \n",
       "                                                                   .246                      0.0   \n",
       "                                                                   .247                      0.0   \n",
       "                                                                   .248                      0.0   \n",
       "\n",
       "region                                                                                          \\\n",
       "category                                                                  Changes in valuables   \n",
       "stressor                                           unit    comment source                        \n",
       "Value Added                                        M.EUR                                   0.0   \n",
       "Employment                                         1000 p.                                 0.0   \n",
       "Employment hour                                    hr                                      0.0   \n",
       "Total Emission relevant energy use                 TJ                                      0.0   \n",
       "Carbon dioxide (CO2) IPCC categories 1 to 4 and... Gg                                      0.0   \n",
       "...                                                                                        ...   \n",
       "currently blank                                    no_unit         .244                    0.0   \n",
       "                                                                   .245                    0.0   \n",
       "                                                                   .246                    0.0   \n",
       "                                                                   .247                    0.0   \n",
       "                                                                   .248                    0.0   \n",
       "\n",
       "region                                                                                          \n",
       "category                                                                  Exports: Total (fob)  \n",
       "stressor                                           unit    comment source                       \n",
       "Value Added                                        M.EUR                                   0.0  \n",
       "Employment                                         1000 p.                                 0.0  \n",
       "Employment hour                                    hr                                      0.0  \n",
       "Total Emission relevant energy use                 TJ                                      0.0  \n",
       "Carbon dioxide (CO2) IPCC categories 1 to 4 and... Gg                                      0.0  \n",
       "...                                                                                        ...  \n",
       "currently blank                                    no_unit         .244                    0.0  \n",
       "                                                                   .245                    0.0  \n",
       "                                                                   .246                    0.0  \n",
       "                                                                   .247                    0.0  \n",
       "                                                                   .248                    0.0  \n",
       "\n",
       "[499 rows x 343 columns]"
      ]
     },
     "execution_count": 34,
     "metadata": {},
     "output_type": "execute_result"
    }
   ],
   "source": [
    "io39.impacts.FY"
   ]
  },
  {
   "cell_type": "code",
   "execution_count": 35,
   "id": "beefdcf5-a0be-439b-a3b3-cbe5bbcc7ce2",
   "metadata": {},
   "outputs": [
    {
     "name": "stderr",
     "output_type": "stream",
     "text": [
      "C:\\Users\\Gibon\\.conda\\envs\\io\\Lib\\site-packages\\pymrio\\core\\mriosystem.py:890: FutureWarning: DataFrame.groupby with axis=1 is deprecated. Do `frame.T.groupby(...)` without axis instead.\n",
      "  Y_agg = Y.groupby(level=\"region\", axis=1, sort=False).sum()\n",
      "C:\\Users\\Gibon\\.conda\\envs\\io\\Lib\\site-packages\\pymrio\\core\\mriosystem.py:890: FutureWarning: DataFrame.groupby with axis=1 is deprecated. Do `frame.T.groupby(...)` without axis instead.\n",
      "  Y_agg = Y.groupby(level=\"region\", axis=1, sort=False).sum()\n",
      "C:\\Users\\Gibon\\.conda\\envs\\io\\Lib\\site-packages\\pymrio\\core\\mriosystem.py:963: FutureWarning: DataFrame.groupby with axis=1 is deprecated. Do `frame.T.groupby(...)` without axis instead.\n",
      "  self.D_cba.groupby(level=\"region\", axis=1, sort=False).sum()\n",
      "C:\\Users\\Gibon\\.conda\\envs\\io\\Lib\\site-packages\\pymrio\\core\\mriosystem.py:972: FutureWarning: DataFrame.groupby with axis=1 is deprecated. Do `frame.T.groupby(...)` without axis instead.\n",
      "  self.D_pba.groupby(level=\"region\", axis=1, sort=False).sum()\n",
      "C:\\Users\\Gibon\\.conda\\envs\\io\\Lib\\site-packages\\pymrio\\core\\mriosystem.py:980: FutureWarning: DataFrame.groupby with axis=1 is deprecated. Do `frame.T.groupby(...)` without axis instead.\n",
      "  self.D_imp_reg = self.D_imp.groupby(\n",
      "C:\\Users\\Gibon\\.conda\\envs\\io\\Lib\\site-packages\\pymrio\\core\\mriosystem.py:986: FutureWarning: DataFrame.groupby with axis=1 is deprecated. Do `frame.T.groupby(...)` without axis instead.\n",
      "  self.D_exp_reg = self.D_exp.groupby(\n"
     ]
    },
    {
     "data": {
      "text/plain": [
       "<pymrio.core.mriosystem.IOSystem at 0x2764f5c4450>"
      ]
     },
     "execution_count": 35,
     "metadata": {},
     "output_type": "execute_result"
    }
   ],
   "source": [
    "io39.calc_all()"
   ]
  },
  {
   "cell_type": "markdown",
   "id": "f819261c-1794-48b5-aab6-914c7b874bcc",
   "metadata": {
    "tags": []
   },
   "source": [
    "## Results"
   ]
  },
  {
   "cell_type": "code",
   "execution_count": 52,
   "id": "2374a98c-a86a-4966-b8ea-d1ac0fef142f",
   "metadata": {
    "tags": []
   },
   "outputs": [
    {
     "data": {
      "text/plain": [
       "region\n",
       "MT    6.422396e+03\n",
       "CY    9.450328e+03\n",
       "LV    1.570616e+04\n",
       "EE    1.737270e+04\n",
       "SI    2.171353e+04\n",
       "LU    2.278982e+04\n",
       "LT    2.649721e+04\n",
       "HR    2.679116e+04\n",
       "SK    4.658899e+04\n",
       "BG    5.879439e+04\n",
       "HU    7.540524e+04\n",
       "PT    7.956531e+04\n",
       "NO    8.288842e+04\n",
       "DK    8.402005e+04\n",
       "FI    8.457341e+04\n",
       "GR    8.813153e+04\n",
       "AT    1.035044e+05\n",
       "SE    1.062530e+05\n",
       "RO    1.105728e+05\n",
       "CZ    1.270904e+05\n",
       "BE    1.770337e+05\n",
       "CH    1.801231e+05\n",
       "ZA    1.859636e+05\n",
       "IE    2.472702e+05\n",
       "NL    2.620046e+05\n",
       "PL    3.027319e+05\n",
       "ES    3.571264e+05\n",
       "WE    4.472480e+05\n",
       "TR    4.564087e+05\n",
       "AU    4.576126e+05\n",
       "IT    4.965688e+05\n",
       "CA    5.349844e+05\n",
       "MX    5.662176e+05\n",
       "FR    5.939281e+05\n",
       "TW    6.302619e+05\n",
       "GB    7.470241e+05\n",
       "ID    9.144697e+05\n",
       "BR    9.500267e+05\n",
       "DE    1.006991e+06\n",
       "KR    1.050013e+06\n",
       "RU    1.310738e+06\n",
       "WL    1.320370e+06\n",
       "JP    1.703902e+06\n",
       "WF    2.305544e+06\n",
       "WM    2.497201e+06\n",
       "IN    3.276958e+06\n",
       "WA    5.268582e+06\n",
       "US    6.199745e+06\n",
       "CN    1.003807e+07\n",
       "Name: (GHG emissions AR5 (GWP100), kg CO2 eq., , GWP100 (IPCC, 2010)), dtype: float64"
      ]
     },
     "execution_count": 52,
     "metadata": {},
     "output_type": "execute_result"
    }
   ],
   "source": [
    "GHG39 = io39.impacts.D_cba_reg.loc[('GHG emissions AR5 (GWP100)', 'kg CO2 eq.', '', 'GWP100 (IPCC, 2010)')].sort_values()\n",
    "GHG39"
   ]
  },
  {
   "cell_type": "code",
   "execution_count": 53,
   "id": "bbde7fe6-7833-469b-87ee-d4a3d43fd072",
   "metadata": {
    "tags": []
   },
   "outputs": [
    {
     "data": {
      "text/plain": [
       "<Axes: ylabel='region'>"
      ]
     },
     "execution_count": 53,
     "metadata": {},
     "output_type": "execute_result"
    },
    {
     "data": {
      "image/png": "[encoded data removed]",
      "text/plain": [
       "<Figure size 640x480 with 1 Axes>"
      ]
     },
     "metadata": {},
     "output_type": "display_data"
    }
   ],
   "source": [
    "GHG39.plot.barh()"
   ]
  },
  {
   "cell_type": "code",
   "execution_count": 54,
   "id": "ff76f93f-a40d-4ee4-babb-852e3ef3bf31",
   "metadata": {
    "tags": []
   },
   "outputs": [],
   "source": [
    "GHG38 = io38.impacts.D_cba_reg.loc['GHG emissions (GWP100) | Problem oriented approach: baseline (CML, 2001) | GWP100 (IPCC, 2007)']*1e-6"
   ]
  },
  {
   "cell_type": "code",
   "execution_count": 57,
   "id": "ed604ffc-3d14-4d92-9e84-48599bc3ccfd",
   "metadata": {
    "tags": []
   },
   "outputs": [
    {
     "data": {
      "text/plain": [
       "<Axes: >"
      ]
     },
     "execution_count": 57,
     "metadata": {},
     "output_type": "execute_result"
    },
    {
     "data": {
      "image/png": "[encoded data removed]",
      "text/plain": [
       "<Figure size 640x480 with 1 Axes>"
      ]
     },
     "metadata": {},
     "output_type": "display_data"
    }
   ],
   "source": [
    "pd.concat([GHG38, GHG39], axis=1, keys=('GHG cba v3.8', 'GHG cba v3.9')).plot.bar()"
   ]
  },
  {
   "cell_type": "code",
   "execution_count": null,
   "id": "be294e40-a70c-4b2d-8a34-8df8a6b2cd3a",
   "metadata": {},
   "outputs": [],
   "source": []
  }
 ],
 "metadata": {
  "kernelspec": {
   "display_name": "Python 3 (ipykernel)",
   "language": "python",
   "name": "python3"
  },
  "language_info": {
   "codemirror_mode": {
    "name": "ipython",
    "version": 3
   },
   "file_extension": ".py",
   "mimetype": "text/x-python",
   "name": "python",
   "nbconvert_exporter": "python",
   "pygments_lexer": "ipython3",
   "version": "3.11.0"
  },
  "toc-autonumbering": true
 },
 "nbformat": 4,
 "nbformat_minor": 5
}
